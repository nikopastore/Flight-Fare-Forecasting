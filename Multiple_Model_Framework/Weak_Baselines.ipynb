{
  "cells": [
    {
      "cell_type": "markdown",
      "metadata": {
        "id": "9yymT4zVRTTU"
      },
      "source": [
        "# Data Load"
      ]
    },
    {
      "cell_type": "markdown",
      "metadata": {
        "id": "RXdFgw9ZXijn"
      },
      "source": [
        "## Procedure"
      ]
    },
    {
      "cell_type": "code",
      "execution_count": 1,
      "metadata": {
        "id": "tAI0dO1O5O_G"
      },
      "outputs": [],
      "source": [
        "import re\n",
        "import time\n",
        "import numpy as np\n",
        "import pandas as pd\n",
        "import matplotlib.pyplot as plt"
      ]
    },
    {
      "cell_type": "code",
      "execution_count": 2,
      "metadata": {
        "id": "eN7nBXCB9woQ"
      },
      "outputs": [],
      "source": [
        "runtime_log = []\n",
        "section_flag = 0\n",
        "def log_time():\n",
        "  t = time.time()\n",
        "  runtime_log.append(t)\n",
        "  return t\n",
        "def time_flag(note = 'Process complete!', frum = -2, to = -1, save_flag = False):\n",
        "  log_time()\n",
        "  print(f'\\n{note} ' +\n",
        "        f'({np.floor((runtime_log[to] - runtime_log[frum]) / 60)} minutes and {(runtime_log[to] - runtime_log[frum]) % 60} seconds)')\n",
        "  if save_flag:\n",
        "    return len(runtime_log) - 1"
      ]
    },
    {
      "cell_type": "code",
      "execution_count": 3,
      "metadata": {
        "colab": {
          "base_uri": "https://localhost:8080/"
        },
        "id": "uVCPTXrlYgqF",
        "outputId": "119b405e-a3d6-4b0f-ce21-1c9ef6345f68"
      },
      "outputs": [
        {
          "output_type": "stream",
          "name": "stdout",
          "text": [
            "Requirement already satisfied: kaggle in /usr/local/lib/python3.11/dist-packages (1.6.17)\n",
            "Requirement already satisfied: six>=1.10 in /usr/local/lib/python3.11/dist-packages (from kaggle) (1.17.0)\n",
            "Requirement already satisfied: certifi>=2023.7.22 in /usr/local/lib/python3.11/dist-packages (from kaggle) (2025.1.31)\n",
            "Requirement already satisfied: python-dateutil in /usr/local/lib/python3.11/dist-packages (from kaggle) (2.8.2)\n",
            "Requirement already satisfied: requests in /usr/local/lib/python3.11/dist-packages (from kaggle) (2.32.3)\n",
            "Requirement already satisfied: tqdm in /usr/local/lib/python3.11/dist-packages (from kaggle) (4.67.1)\n",
            "Requirement already satisfied: python-slugify in /usr/local/lib/python3.11/dist-packages (from kaggle) (8.0.4)\n",
            "Requirement already satisfied: urllib3 in /usr/local/lib/python3.11/dist-packages (from kaggle) (2.3.0)\n",
            "Requirement already satisfied: bleach in /usr/local/lib/python3.11/dist-packages (from kaggle) (6.2.0)\n",
            "Requirement already satisfied: webencodings in /usr/local/lib/python3.11/dist-packages (from bleach->kaggle) (0.5.1)\n",
            "Requirement already satisfied: text-unidecode>=1.3 in /usr/local/lib/python3.11/dist-packages (from python-slugify->kaggle) (1.3)\n",
            "Requirement already satisfied: charset-normalizer<4,>=2 in /usr/local/lib/python3.11/dist-packages (from requests->kaggle) (3.4.1)\n",
            "Requirement already satisfied: idna<4,>=2.5 in /usr/local/lib/python3.11/dist-packages (from requests->kaggle) (3.10)\n",
            "Warning: Looks like you're using an outdated API Version, please consider updating (server 1.7.4 / client 1.6.17)\n",
            "Dataset URL: https://www.kaggle.com/datasets/dilwong/flightprices\n",
            "License(s): Attribution 4.0 International (CC BY 4.0)\n",
            "flightprices.zip: Skipping, found more recently modified local copy (use --force to force download)\n",
            "\n",
            "Process complete! (0.0 minutes and 5.638140439987183 seconds)\n"
          ]
        }
      ],
      "source": [
        "log_time()\n",
        "!pip install kaggle\n",
        "!kaggle datasets download -d dilwong/flightprices\n",
        "time_flag()"
      ]
    },
    {
      "cell_type": "code",
      "execution_count": 4,
      "metadata": {
        "colab": {
          "base_uri": "https://localhost:8080/"
        },
        "id": "Ww_yO_q2cZyN",
        "outputId": "3e1479ec-2b40-4b67-9782-2aad11634799"
      },
      "outputs": [
        {
          "output_type": "stream",
          "name": "stdout",
          "text": [
            "Archive:  flightprices.zip\n",
            "\n",
            "Process complete! (0.0 minutes and 0.10419678688049316 seconds)\n"
          ]
        }
      ],
      "source": [
        "log_time()\n",
        "!unzip -n flightprices.zip\n",
        "time_flag()"
      ]
    },
    {
      "cell_type": "code",
      "execution_count": 5,
      "metadata": {
        "colab": {
          "base_uri": "https://localhost:8080/"
        },
        "id": "ECF7PIMN-aV6",
        "outputId": "92794975-d0b7-4020-e734-4649917f29d1"
      },
      "outputs": [
        {
          "output_type": "stream",
          "name": "stdout",
          "text": [
            "Requirement already satisfied: pyspark in /usr/local/lib/python3.11/dist-packages (3.5.5)\n",
            "Requirement already satisfied: py4j==0.10.9.7 in /usr/local/lib/python3.11/dist-packages (from pyspark) (0.10.9.7)\n",
            "\n",
            "Process complete! (0.0 minutes and 7.452688932418823 seconds)\n"
          ]
        }
      ],
      "source": [
        "log_time()\n",
        "!pip install pyspark\n",
        "time_flag()"
      ]
    },
    {
      "cell_type": "code",
      "execution_count": 6,
      "metadata": {
        "colab": {
          "base_uri": "https://localhost:8080/"
        },
        "id": "7i7Hn6G7ihyw",
        "outputId": "f09373ff-b2cb-46c9-9650-1918d131fa69"
      },
      "outputs": [
        {
          "output_type": "stream",
          "name": "stderr",
          "text": [
            "/usr/local/lib/python3.11/dist-packages/pyspark/sql/context.py:113: FutureWarning: Deprecated in 3.0.0. Use SparkSession.builder.getOrCreate() instead.\n",
            "  warnings.warn(\n"
          ]
        },
        {
          "output_type": "stream",
          "name": "stdout",
          "text": [
            "\n",
            "Process complete! (0.0 minutes and 19.468690156936646 seconds)\n"
          ]
        }
      ],
      "source": [
        "log_time()\n",
        "from pyspark import SparkContext\n",
        "from pyspark.sql import SparkSession\n",
        "from pyspark.sql import SQLContext\n",
        "from pyspark.sql.functions import *\n",
        "try:\n",
        "  sc.stop()\n",
        "except:\n",
        "  pass\n",
        "sc = SparkContext()\n",
        "sqlContext = SQLContext(sc)\n",
        "time_flag()"
      ]
    },
    {
      "cell_type": "code",
      "execution_count": 7,
      "metadata": {
        "colab": {
          "base_uri": "https://localhost:8080/"
        },
        "id": "Zvi4e_DM-bsg",
        "outputId": "c86782a2-735b-4839-f38c-cfbbe6df59ef"
      },
      "outputs": [
        {
          "output_type": "stream",
          "name": "stdout",
          "text": [
            "\n",
            "Process complete! (0.0 minutes and 0.010963678359985352 seconds)\n"
          ]
        }
      ],
      "source": [
        "log_time()\n",
        "ss = SparkSession.builder.getOrCreate()\n",
        "time_flag()"
      ]
    },
    {
      "cell_type": "code",
      "execution_count": 8,
      "metadata": {
        "colab": {
          "base_uri": "https://localhost:8080/"
        },
        "id": "G9iU0NybPOx2",
        "outputId": "0bfc6c65-04e9-4c5c-c8ad-5506a5338c7c"
      },
      "outputs": [
        {
          "output_type": "stream",
          "name": "stdout",
          "text": [
            "\n",
            "Process complete! (0.0 minutes and 24.004635334014893 seconds)\n"
          ]
        }
      ],
      "source": [
        "log_time()\n",
        "df = sqlContext.read.csv('itineraries.csv', header = True)\n",
        "time_flag()"
      ]
    },
    {
      "cell_type": "code",
      "execution_count": 9,
      "metadata": {
        "colab": {
          "base_uri": "https://localhost:8080/"
        },
        "id": "-bMIWBCaPeXK",
        "outputId": "ff69bdbb-4fbe-42e6-b879-9034665910d7"
      },
      "outputs": [
        {
          "output_type": "stream",
          "name": "stdout",
          "text": [
            "+--------------------+----------+----------+---------------+------------------+-------------+--------------+-----------+--------------+------------+---------+--------+---------+--------------+-------------------+---------------------------------+------------------------+-------------------------------+----------------------+--------------------------+----------------------------+--------------------+-------------------+----------------------------+-------------------------+----------------+-----------------+\n",
            "|               legId|searchDate|flightDate|startingAirport|destinationAirport|fareBasisCode|travelDuration|elapsedDays|isBasicEconomy|isRefundable|isNonStop|baseFare|totalFare|seatsRemaining|totalTravelDistance|segmentsDepartureTimeEpochSeconds|segmentsDepartureTimeRaw|segmentsArrivalTimeEpochSeconds|segmentsArrivalTimeRaw|segmentsArrivalAirportCode|segmentsDepartureAirportCode| segmentsAirlineName|segmentsAirlineCode|segmentsEquipmentDescription|segmentsDurationInSeconds|segmentsDistance|segmentsCabinCode|\n",
            "+--------------------+----------+----------+---------------+------------------+-------------+--------------+-----------+--------------+------------+---------+--------+---------+--------------+-------------------+---------------------------------+------------------------+-------------------------------+----------------------+--------------------------+----------------------------+--------------------+-------------------+----------------------------+-------------------------+----------------+-----------------+\n",
            "|9ca0e81111c683bec...|2022-04-16|2022-04-17|            ATL|               BOS|     LA0NX0MC|       PT2H29M|          0|         False|       False|     True|  217.67|   248.60|             9|                947|                       1650214620|    2022-04-17T12:57:...|                     1650223560|  2022-04-17T15:26:...|                       BOS|                         ATL|               Delta|                 DL|                 Airbus A321|                     8940|             947|            coach|\n",
            "|98685953630e772a0...|2022-04-16|2022-04-17|            ATL|               BOS|     LA0NX0MC|       PT2H30M|          0|         False|       False|     True|  217.67|   248.60|             4|                947|                       1650191400|    2022-04-17T06:30:...|                     1650200400|  2022-04-17T09:00:...|                       BOS|                         ATL|               Delta|                 DL|                 Airbus A321|                     9000|             947|            coach|\n",
            "|98d90cbc32bfbb05c...|2022-04-16|2022-04-17|            ATL|               BOS|     LA0NX0MC|       PT2H30M|          0|         False|       False|     True|  217.67|   248.60|             9|                947|                       1650209700|    2022-04-17T11:35:...|                     1650218700|  2022-04-17T14:05:...|                       BOS|                         ATL|               Delta|                 DL|              Boeing 757-200|                     9000|             947|            coach|\n",
            "|969a269d38eae583f...|2022-04-16|2022-04-17|            ATL|               BOS|     LA0NX0MC|       PT2H32M|          0|         False|       False|     True|  217.67|   248.60|             8|                947|                       1650218340|    2022-04-17T13:59:...|                     1650227460|  2022-04-17T16:31:...|                       BOS|                         ATL|               Delta|                 DL|                 Airbus A321|                     9120|             947|            coach|\n",
            "|980370cf27c89b40d...|2022-04-16|2022-04-17|            ATL|               BOS|     LA0NX0MC|       PT2H34M|          0|         False|       False|     True|  217.67|   248.60|             9|                947|                       1650203940|    2022-04-17T09:59:...|                     1650213180|  2022-04-17T12:33:...|                       BOS|                         ATL|               Delta|                 DL|                 Airbus A321|                     9240|             947|            coach|\n",
            "|79eda9f841e226a1e...|2022-04-16|2022-04-17|            ATL|               BOS|     VH0AUEL1|       PT2H38M|          0|         False|       False|     True|  217.67|   248.60|             7|                947|                       1650206700|    2022-04-17T10:45:...|                     1650216180|  2022-04-17T13:23:...|                       BOS|                         ATL|     JetBlue Airways|                 B6|                        NULL|                     9480|             947|            coach|\n",
            "|9335fae376c38bb61...|2022-04-16|2022-04-17|            ATL|               BOS|     V0AJZNN1|       PT4H12M|          0|         False|       False|    False|  213.02|   251.10|             3|                956|             1650198000||16502...|    2022-04-17T08:20:...|           1650203400||16502...|  2022-04-17T09:50:...|                  CLT||BOS|                    ATL||CLT|American Airlines...|             AA||AA|        Airbus A320||Airb...|               5400||7500|        228||728|     coach||coach|\n",
            "|3904bf87f2d1daf33...|2022-04-16|2022-04-17|            ATL|               BOS|     V0AJZNN1|       PT5H18M|          0|         False|       False|    False|  213.02|   251.10|             3|                956|             1650198000||16502...|    2022-04-17T08:20:...|           1650203400||16502...|  2022-04-17T09:50:...|                  CLT||BOS|                    ATL||CLT|American Airlines...|             AA||AA|        Airbus A320||Boei...|               5400||8280|        228||728|     coach||coach|\n",
            "|d93988734c44a3c07...|2022-04-16|2022-04-17|            ATL|               BOS|     V0AJZNN1|       PT5H32M|          0|         False|       False|    False|  213.02|   251.10|             7|                956|             1650193200||16502...|    2022-04-17T07:00:...|           1650198060||16502...|  2022-04-17T08:21:...|                  CLT||BOS|                    ATL||CLT|American Airlines...|             AA||AA|        Airbus A319||Airb...|               4860||7500|        228||728|     coach||coach|\n",
            "|562e7d5dd6ecbf150...|2022-04-16|2022-04-17|            ATL|               BOS|     V0AJZNN1|       PT6H38M|          0|         False|       False|    False|  213.02|   251.10|             7|                956|             1650193200||16502...|    2022-04-17T07:00:...|           1650198060||16502...|  2022-04-17T08:21:...|                  CLT||BOS|                    ATL||CLT|American Airlines...|             AA||AA|        Airbus A319||Boei...|               4860||8280|        228||728|     coach||coach|\n",
            "|c38a6e4b807d15541...|2022-04-16|2022-04-17|            ATL|               BOS|     VAA0AKEN|       PT4H46M|          0|         False|       False|    False|  213.02|   252.60|             1|                947|             1650187800||16501...|    2022-04-17T05:30:...|           1650194280||16502...|  2022-04-17T07:18:...|                  IAD||BOS|                    ATL||IAD|      United||United|             UA||UA|        Airbus A319||Boei...|               6480||5940|        541||406|     coach||coach|\n",
            "|f66d72ba3a5265766...|2022-04-16|2022-04-17|            ATL|               BOS|     V0AJZNN1|       PT5H45M|          0|         False|       False|    False|  213.02|   252.60|             3|               1462|             1650220740||16502...|    2022-04-17T14:39:...|           1650228840||16502...|  2022-04-17T15:54:...|                  ORD||BOS|                    ATL||ORD|American Airlines...|             AA||AA|        Embraer 175||Boei...|               8100||8340|        600||862|     coach||coach|\n",
            "|e7c4054e85cca9bc7...|2022-04-16|2022-04-17|            ATL|               BOS|     V0AJZNN1|       PT5H59M|          0|         False|       False|    False|  213.02|   252.60|             5|               1462|             1650232800||16502...|    2022-04-17T18:00:...|           1650240660||16502...|  2022-04-17T19:11:...|                  ORD||BOS|                    ATL||ORD|American Airlines...|             AA||AA|        Embraer 175||Boei...|               7860||8640|        600||862|     coach||coach|\n",
            "|5fa8c0f8b25eb24bf...|2022-04-16|2022-04-17|            ATL|               BOS|     V0AJZNN1|       PT7H18M|          0|         False|       False|    False|  213.02|   252.60|             3|               1462|             1650220740||16502...|    2022-04-17T14:39:...|           1650228840||16502...|  2022-04-17T15:54:...|                  ORD||BOS|                    ATL||ORD|American Airlines...|             AA||AA|        Embraer 175||Airb...|               8100||7920|        600||862|     coach||coach|\n",
            "|948d26b3e5658762c...|2022-04-16|2022-04-17|            ATL|               BOS|     VAA0AKEN|       PT8H10M|          0|         False|       False|    False|  213.02|   252.60|             2|               1462|             1650190200||16502...|    2022-04-17T06:10:...|           1650198000||16502...|  2022-04-17T07:20:...|                  ORD||BOS|                    ATL||ORD|      United||United|             UA||UA|        Embraer 175 (Enha...|               7800||8640|        600||862|     coach||coach|\n",
            "|cb345693479e84838...|2022-04-16|2022-04-17|            ATL|               BOS|          VNR|       PT5H39M|          0|         False|       False|    False|  183.00|   290.58|             0|               NULL|             1650187560||16501...|    2022-04-17T05:26:...|           1650194400||16502...|  2022-04-17T07:20:...|                  FLL||BOS|                    ATL||FLL|Spirit Airlines||...|             NK||NK|        AIRBUS INDUSTRIE ...|              6840||11100|      None||None|     coach||coach|\n",
            "|e1b95e4e6c997517f...|2022-04-16|2022-04-17|            ATL|               BOS|     KH0AUEY5|       PT2H38M|          0|         False|       False|     True|  265.58|   300.10|             7|                947|                       1650206700|    2022-04-17T10:45:...|                     1650216180|  2022-04-17T13:23:...|                       BOS|                         ATL|   American Airlines|                 AA|                        NULL|                     9480|             947|            coach|\n",
            "|eaf033a044596f0a7...|2022-04-16|2022-04-17|            ATL|               BOS|     L0AJZNN1|       PT4H17M|          0|         False|       False|    False|  260.47|   302.11|             1|                956|             1650233700||16502...|    2022-04-17T18:15:...|           1650238620||16502...|  2022-04-17T19:37:...|                  CLT||BOS|                    ATL||CLT|American Airlines...|             AA||AA|        Canadian Regional...|               4920||7620|        228||728|     coach||coach|\n",
            "|721d9a2f66fe479e7...|2022-04-16|2022-04-17|            ATL|               BOS|     L0AJZNN1|       PT4H36M|          0|         False|       False|    False|  260.47|   302.11|             1|                956|             1650207720||16502...|    2022-04-17T11:02:...|           1650212880||16502...|  2022-04-17T12:28:...|                  CLT||BOS|                    ATL||CLT|American Airlines...|             AA||AA|        Canadair Regional...|               5160||7860|        228||728|     coach||coach|\n",
            "|a9f012defb9227f69...|2022-04-16|2022-04-17|            ATL|               BOS|     L0AJZNN1|       PT4H45M|          0|         False|       False|    False|  260.47|   302.11|             1|                956|             1650226680||16502...|    2022-04-17T16:18:...|           1650230760||16502...|  2022-04-17T17:26:...|                  CLT||BOS|                    ATL||CLT|American Airlines...|             AA||AA|        Airbus A319||Boei...|               4080||7860|        228||728|     coach||coach|\n",
            "+--------------------+----------+----------+---------------+------------------+-------------+--------------+-----------+--------------+------------+---------+--------+---------+--------------+-------------------+---------------------------------+------------------------+-------------------------------+----------------------+--------------------------+----------------------------+--------------------+-------------------+----------------------------+-------------------------+----------------+-----------------+\n",
            "only showing top 20 rows\n",
            "\n",
            "\n",
            "Process complete! (0.0 minutes and 1.8124029636383057 seconds)\n"
          ]
        }
      ],
      "source": [
        "log_time()\n",
        "df.show()\n",
        "time_flag()"
      ]
    },
    {
      "cell_type": "markdown",
      "metadata": {
        "id": "hDPuZNYLPh6u"
      },
      "source": [
        "## Summary\n",
        "(View runtime of procedure following execution)"
      ]
    },
    {
      "cell_type": "code",
      "execution_count": 10,
      "metadata": {
        "colab": {
          "base_uri": "https://localhost:8080/"
        },
        "id": "3ph5kkDMPHYA",
        "outputId": "a8e8e700-3929-4459-a80f-8981be5a0822"
      },
      "outputs": [
        {
          "output_type": "stream",
          "name": "stdout",
          "text": [
            "\n",
            "Data Load Complete! (0.0 minutes and 58.58775448799133 seconds)\n"
          ]
        }
      ],
      "source": [
        "section_flag = time_flag(note = 'Data Load Complete!', frum = section_flag, save_flag = True)"
      ]
    },
    {
      "cell_type": "markdown",
      "metadata": {
        "id": "Sb2VC-HGPkJO"
      },
      "source": [
        "# Data Partitioning/Preprocessing\n",
        "\n",
        "New approach: begin by first grouping by the number of flight legs. Since this implicitly partitions the data by feature space dimension, an intuitive next step would be to train one model per partition. One must be careful to check that the distribution of partition sizes is appropriately balanced when employing this strategy."
      ]
    },
    {
      "cell_type": "markdown",
      "metadata": {
        "id": "v4MuUN57XOAh"
      },
      "source": [
        "## Procedure"
      ]
    },
    {
      "cell_type": "code",
      "execution_count": 11,
      "metadata": {
        "colab": {
          "base_uri": "https://localhost:8080/"
        },
        "id": "aTGXLBgcc9xq",
        "outputId": "6d4e3d35-a778-4871-b6db-03e43a8004ae"
      },
      "outputs": [
        {
          "output_type": "stream",
          "name": "stdout",
          "text": [
            "\n",
            "Process complete! (0.0 minutes and 0.4747164249420166 seconds)\n"
          ]
        }
      ],
      "source": [
        "log_time()\n",
        "from pyspark.ml import Pipeline, PipelineModel\n",
        "from pyspark.ml.tuning import TrainValidationSplit\n",
        "from pyspark.ml.regression import *\n",
        "from pyspark.ml.feature import *\n",
        "time_flag()"
      ]
    },
    {
      "cell_type": "code",
      "execution_count": 12,
      "metadata": {
        "colab": {
          "base_uri": "https://localhost:8080/"
        },
        "id": "1q0QPqNEBCKD",
        "outputId": "3a5fa702-3b6a-4048-9e2b-a4d6e2eebfaa"
      },
      "outputs": [
        {
          "output_type": "stream",
          "name": "stdout",
          "text": [
            "+----+--------+\n",
            "|legs|   count|\n",
            "+----+--------+\n",
            "|   1|22066888|\n",
            "|   3| 7586488|\n",
            "|   4|  199812|\n",
            "|   2|52285467|\n",
            "|   5|      98|\n",
            "+----+--------+\n",
            "\n",
            "\n",
            "Process complete! (11.0 minutes and 12.030950784683228 seconds)\n"
          ]
        }
      ],
      "source": [
        "log_time()\n",
        "# Count flight legs per entry.\n",
        "nL = udf(lambda x: len(x.split('||')))\n",
        "qcols = ['\"' + c + '\"' for c in df.columns]\n",
        "flights_w_legs = eval(f\"df.select({', '.join(qcols)}, nL('segmentsDistance').cast('int').alias('legs'))\")\n",
        "per_leg_stats = flights_w_legs.groupby('legs').count()\n",
        "per_leg_stats.show()\n",
        "time_flag()"
      ]
    },
    {
      "cell_type": "code",
      "execution_count": 13,
      "metadata": {
        "colab": {
          "base_uri": "https://localhost:8080/"
        },
        "id": "-4ZZ4y_Rilai",
        "outputId": "1e71ea3c-2a27-47e9-ded8-051da3846230"
      },
      "outputs": [
        {
          "output_type": "stream",
          "name": "stdout",
          "text": [
            "\n",
            "Process complete! (24.0 minutes and 23.339475393295288 seconds)\n"
          ]
        }
      ],
      "source": [
        "log_time()\n",
        "# Only interested in flights that are not incredibly rare with respect to number\n",
        "# of legs. Given the extensive bulk of our dataset, we can use a relatively\n",
        "# generous threshold, e.g., 0.05 * df.count() / (per_leg_stats.count() - 1)\n",
        "\n",
        "thresh = 0.05 * df.count() / (per_leg_stats.count() - 1)\n",
        "common_wrt_legs = list(per_leg_stats.where(col('count') > thresh).select('legs').toPandas()['legs'])\n",
        "time_flag()"
      ]
    },
    {
      "cell_type": "code",
      "execution_count": 14,
      "metadata": {
        "colab": {
          "base_uri": "https://localhost:8080/"
        },
        "id": "dOBpw2Zy3h7p",
        "outputId": "3376c5ad-9ef9-44ae-85a9-3606d62cdcf0"
      },
      "outputs": [
        {
          "output_type": "stream",
          "name": "stdout",
          "text": [
            "\n",
            "Process complete! (0.0 minutes and 0.07444262504577637 seconds)\n"
          ]
        }
      ],
      "source": [
        "log_time()\n",
        "# Train-test split\n",
        "train_df, test_df = df.randomSplit([0.75, 0.25], 42)\n",
        "time_flag()"
      ]
    },
    {
      "cell_type": "code",
      "execution_count": 15,
      "metadata": {
        "colab": {
          "base_uri": "https://localhost:8080/"
        },
        "id": "igSu0aaUz_Ak",
        "outputId": "6a2976e2-df19-46d9-c745-2603dd98cd0c"
      },
      "outputs": [
        {
          "output_type": "stream",
          "name": "stdout",
          "text": [
            "\n",
            "Process complete! (0.0 minutes and 0.4627115726470947 seconds)\n"
          ]
        }
      ],
      "source": [
        "log_time()\n",
        "# Get leg-based partitions for train/test sets...\n",
        "lbp_train = {}\n",
        "lbp_test = {}\n",
        "\n",
        "flights_w_legs_train = eval(f\"train_df.select({', '.join(qcols)}, nL('segmentsDistance').cast('int').alias('legs'))\")\n",
        "flights_w_legs_test = eval(f\"test_df.select({', '.join(qcols)}, nL('segmentsDistance').cast('int').alias('legs'))\")\n",
        "\n",
        "for i in common_wrt_legs:\n",
        "  lbp_train[i] = flights_w_legs_train.where(col('legs') == i)\n",
        "  lbp_test[i] = flights_w_legs_test.where(col('legs') == i)\n",
        "\n",
        "# Data has now been officially partitioned/filtered!\n",
        "time_flag()"
      ]
    },
    {
      "cell_type": "code",
      "execution_count": 16,
      "metadata": {
        "colab": {
          "base_uri": "https://localhost:8080/"
        },
        "id": "1dGw4KLsRYJi",
        "outputId": "d9c432c9-bdf4-44b8-a5c8-0a781bc66ef6"
      },
      "outputs": [
        {
          "output_type": "stream",
          "name": "stdout",
          "text": [
            "\n",
            "Process complete! (0.0 minutes and 2.58178448677063 seconds)\n"
          ]
        }
      ],
      "source": [
        "log_time()\n",
        "# Define abbreviations for the leg-based features.\n",
        "feat_abbs = dict(zip(['segmentsDepartureTimeRaw', 'segmentsArrivalTimeRaw',\n",
        "                      'segmentsArrivalAirportCode', 'segmentsDepartureAirportCode',\n",
        "                     'segmentsAirlineCode', 'segmentsDurationInSeconds', 'segmentsDistance'],\n",
        "                      ['sDTR_', 'sATR_', 'sAAC_', 'sDAC_', 'sAC_', 'sDIS_', 'sD_']))\n",
        "feat_others = ['searchDate', 'flightDate', 'isBasicEconomy', 'seatsRemaining']\n",
        "targets = ['baseFare', 'totalFare']\n",
        "\n",
        "def leg_breaker_maker(delim, n):\n",
        "  return udf(lambda x: x.split(delim)[n])\n",
        "\n",
        "plc_train = {}\n",
        "plc_test = {}\n",
        "for i in common_wrt_legs:\n",
        "  tmp = []\n",
        "  for j in feat_abbs:\n",
        "    tmp.append(\", \".join([f'leg_breaker_maker(\"||\", {k})(col(\"{j}\").alias(str({k})))' for k in range(i)]))\n",
        "  plc_train[i] = (eval(f'lbp_train[{i}].select([{\", \".join(tmp)}] + feat_others + targets)'))\n",
        "  plc_train[i] = eval(f'plc_train[{i}].withColumnsRenamed(dict(zip(plc_train[{i}].columns, ' +\n",
        "                      f'np.concatenate([[feat_abbs[a] + str(k + 1) for k in range({i})] for a in feat_abbs]))))')\n",
        "  plc_test[i] = (eval(f'lbp_test[{i}].select([{\", \".join(tmp)}] + feat_others + targets)'))\n",
        "  plc_test[i] = eval(f'plc_test[{i}].withColumnsRenamed(dict(zip(plc_test[{i}].columns, ' +\n",
        "                      f'np.concatenate([[feat_abbs[a] + str(k + 1) for k in range({i})] for a in feat_abbs]))))')\n",
        "time_flag()"
      ]
    },
    {
      "cell_type": "code",
      "execution_count": 17,
      "metadata": {
        "colab": {
          "base_uri": "https://localhost:8080/"
        },
        "id": "JaU5_-RQ59Af",
        "outputId": "14179686-83a4-4165-9c2e-1a087e0c5613"
      },
      "outputs": [
        {
          "output_type": "stream",
          "name": "stdout",
          "text": [
            "+--------------------+--------------------+------+------+-----+------+----+----------+----------+--------------+--------------+--------+---------+\n",
            "|              sDTR_1|              sATR_1|sAAC_1|sDAC_1|sAC_1|sDIS_1|sD_1|searchDate|flightDate|isBasicEconomy|seatsRemaining|baseFare|totalFare|\n",
            "+--------------------+--------------------+------+------+-----+------+----+----------+----------+--------------+--------------+--------+---------+\n",
            "|2022-05-16T18:08:...|2022-05-16T20:00:...|   JFK|   CLT|   B6|  6720| 545|2022-04-17|2022-05-16|         False|             7|  143.26|   167.11|\n",
            "|2022-05-05T09:00:...|2022-05-05T10:57:...|   DTW|   ATL|   F9|  7020| 604|2022-04-17|2022-05-05|         False|             4|   70.12|    89.98|\n",
            "|2022-04-20T08:00:...|2022-04-20T09:34:...|   LGA|   BOS|   DL|  5640| 185|2022-04-16|2022-04-20|         False|             5|  591.63|   650.60|\n",
            "|2022-04-21T11:00:...|2022-04-21T12:13:...|   CLT|   ATL|   DL|  4380| 228|2022-04-17|2022-04-21|         False|             9|  357.21|   398.60|\n",
            "|2022-05-17T12:05:...|2022-05-17T14:05:...|   PHL|   ATL|   AA|  7200| 667|2022-04-17|2022-05-17|         False|             7|  115.35|   138.60|\n",
            "|2022-04-20T12:54:...|2022-04-20T14:35:...|   DEN|   ORD|   UA|  9660| 903|2022-04-16|2022-04-20|         False|             4|  264.19|   298.60|\n",
            "|2022-04-20T12:54:...|2022-04-20T14:35:...|   DEN|   ORD|   UA|  9660| 903|2022-04-17|2022-04-20|         False|             4|  264.19|   298.60|\n",
            "|2022-05-11T17:05:...|2022-05-11T20:10:...|   ATL|   DAL|   DL|  7500| 725|2022-04-17|2022-05-11|         False|             1|  161.86|   188.60|\n",
            "|2022-05-09T22:30:...|2022-05-10T00:49:...|   DFW|   MIA|   AA| 11940|1115|2022-04-17|2022-05-09|         False|             7|  124.65|   148.60|\n",
            "|2022-05-07T15:34:...|2022-05-07T17:07:...|   LAX|   SFO|   AA|  5580| 339|2022-04-17|2022-05-07|         False|             5|  217.67|   248.60|\n",
            "|2022-05-02T23:29:...|2022-05-03T07:53:...|   JFK|   LAX|   DL| 19440|2458|2022-04-17|2022-05-02|         False|             9|  338.60|   378.60|\n",
            "|2022-04-27T07:45:...|2022-04-27T16:09:...|   JFK|   LAX|   DL| 19440|2458|2022-04-17|2022-04-27|         False|             9|  338.60|   378.60|\n",
            "|2022-05-10T08:00:...|2022-05-10T10:22:...|   CLT|   BOS|   AA|  8520| 728|2022-04-17|2022-05-10|         False|             7|   82.79|   103.60|\n",
            "|2022-05-11T10:25:...|2022-05-11T17:35:...|   ATL|   LAX|   DL| 15000|1943|2022-04-17|2022-05-11|         False|             9|  413.02|   458.60|\n",
            "|2022-04-26T17:00:...|2022-04-26T20:03:...|   DFW|   LGA|   B6| 14580|1380|2022-04-16|2022-04-26|         False|             7|   73.49|    93.60|\n",
            "|2022-04-26T17:00:...|2022-04-26T20:03:...|   DFW|   LGA|   B6| 14580|1380|2022-04-17|2022-04-26|         False|             7|   73.49|    93.60|\n",
            "|2022-05-07T14:30:...|2022-05-07T16:30:...|   ATL|   DTW|   DL|  7200| 604|2022-04-17|2022-05-07|         False|             9|  217.67|   248.60|\n",
            "|2022-05-11T12:59:...|2022-05-11T14:57:...|   DTW|   LGA|   NK|  7080|None|2022-04-17|2022-05-11|         False|             0|   11.20|    48.79|\n",
            "|2022-05-02T12:16:...|2022-05-02T14:41:...|   ORD|   DFW|   UA|  8700| 799|2022-04-17|2022-05-02|         False|             6|  171.16|   198.60|\n",
            "|2022-05-07T11:29:...|2022-05-07T13:18:...|   PHL|   CLT|   AA|  6540| 449|2022-04-17|2022-05-07|         False|             7|  221.40|   251.11|\n",
            "+--------------------+--------------------+------+------+-----+------+----+----------+----------+--------------+--------------+--------+---------+\n",
            "only showing top 20 rows\n",
            "\n",
            "+--------------------+--------------------+--------------------+--------------------+--------------------+--------------------+------+------+------+------+------+------+-----+-----+-----+------+------+------+----+----+----+----------+----------+--------------+--------------+--------+---------+\n",
            "|              sDTR_1|              sDTR_2|              sDTR_3|              sATR_1|              sATR_2|              sATR_3|sAAC_1|sAAC_2|sAAC_3|sDAC_1|sDAC_2|sDAC_3|sAC_1|sAC_2|sAC_3|sDIS_1|sDIS_2|sDIS_3|sD_1|sD_2|sD_3|searchDate|flightDate|isBasicEconomy|seatsRemaining|baseFare|totalFare|\n",
            "+--------------------+--------------------+--------------------+--------------------+--------------------+--------------------+------+------+------+------+------+------+-----+-----+-----+------+------+------+----+----+----+----------+----------+--------------+--------------+--------+---------+\n",
            "|2022-04-21T09:10:...|2022-04-21T11:17:...|2022-04-21T16:15:...|2022-04-21T10:35:...|2022-04-21T13:19:...|2022-04-21T18:19:...|   DEN|   SEA|   OAK|   DTW|   DEN|   SEA|   UA|   UA|   AS| 12300| 10920|  7440|1142|1017| 672|2022-04-17|2022-04-21|         False|             1|  526.51|   594.10|\n",
            "|2022-04-21T11:45:...|2022-04-21T14:56:...|2022-04-21T20:10:...|2022-04-21T12:07:...|2022-04-21T17:48:...|2022-04-21T22:55:...|   ORD|   DCA|   MIA|   DTW|   ORD|   DCA|   AA|   AA|   AA|  4920|  6720|  9900| 240| 594| 923|2022-04-16|2022-04-21|         False|             1|  334.89|   388.11|\n",
            "|2022-04-21T11:45:...|2022-04-21T14:56:...|2022-04-21T20:10:...|2022-04-21T12:07:...|2022-04-21T17:48:...|2022-04-21T22:55:...|   ORD|   DCA|   MIA|   DTW|   ORD|   DCA|   AA|   AA|   AA|  4920|  6720|  9900| 240| 594| 923|2022-04-17|2022-04-21|         False|             1|  334.89|   388.11|\n",
            "|2022-04-25T17:15:...|2022-04-25T20:10:...|2022-04-25T22:15:...|2022-04-25T18:17:...|2022-04-25T21:31:...|2022-04-25T23:41:...|   AUS|   LAX|   SFO|   DFW|   AUS|   LAX|   AA|   AA|   AA|  3720| 12060|  5160| 183|1236| 339|2022-04-17|2022-04-25|         False|             5|  280.93|   330.10|\n",
            "|2022-05-01T09:26:...|2022-05-01T13:19:...|2022-05-01T20:22:...|2022-05-01T11:06:...|2022-05-01T19:15:...|2022-05-01T23:38:...|   SNA|   ORD|   LGA|   SFO|   SNA|   ORD|   UA|   AS|   UA|  6000| 14160|  8160| 373|1726| 720|2022-04-17|2022-05-01|         False|             7| 2282.80|  2482.11|\n",
            "|2022-05-17T14:01:...|2022-05-17T18:35:...|2022-05-17T22:51:...|2022-05-17T15:27:...|2022-05-17T20:53:...|2022-05-17T23:50:...|   IAH|   SLC|   OAK|   ATL|   IAH|   SLC|   UA|   UA|   DL|  8760| 11880|  7140| 691|1204| 588|2022-04-17|2022-05-17|         False|             3|  638.14|   714.10|\n",
            "|2022-05-03T16:03:...|2022-05-03T18:32:...|2022-05-04T06:10:...|2022-05-03T17:25:...|2022-05-03T23:26:...|2022-05-04T10:33:...|   LAX|   DFW|   LGA|   OAK|   LAX|   DFW|   DL|   DL|   DL|  4920| 10440| 12180| 338|1238|1380|2022-04-17|2022-05-03|          True|             9|  165.58|   211.70|\n",
            "|2022-04-27T20:30:...|2022-04-28T06:00:...|2022-04-28T09:50:...|2022-04-27T22:27:...|2022-04-28T08:30:...|2022-04-28T12:01:...|   ORD|   SEA|   OAK|   LGA|   ORD|   SEA|   DL|   AS|   AS| 10620| 16200|  7860| 720|1723| 672|2022-04-17|2022-04-27|         False|             7|  559.42|   635.08|\n",
            "|2022-05-11T08:33:...|2022-05-11T12:25:...|2022-05-11T20:39:...|2022-05-11T10:30:...|2022-05-11T14:15:...|2022-05-11T22:43:...|   DEN|   SEA|   OAK|   IAD|   DEN|   SEA|   UA|   AS|   AS| 14220| 10200|  7440|1473|1017| 672|2022-04-17|2022-05-11|         False|             4|  466.97|   535.69|\n",
            "|2022-04-26T20:35:...|2022-04-26T23:45:...|2022-04-27T11:00:...|2022-04-26T22:15:...|2022-04-27T05:50:...|2022-04-27T14:18:...|   PDX|   ORD|   LGA|   OAK|   PDX|   ORD|   AS|   AS|   UA|  6000| 14700|  8280| 543|1742| 720|2022-04-17|2022-04-26|         False|             3|  463.61|   532.08|\n",
            "|2022-04-27T08:50:...|2022-04-27T15:00:...|2022-04-27T20:06:...|2022-04-27T10:10:...|2022-04-27T15:30:...|2022-04-27T21:34:...|   CEZ|   PHX|   LAX|   DEN|   CEZ|   PHX|   4B|   4B|   AA|  4800|  5400|  5280| 265| 329| 370|2022-04-17|2022-04-27|         False|             1|  354.70|   407.10|\n",
            "|2022-04-25T22:30:...|2022-04-26T10:33:...|2022-04-26T12:30:...|2022-04-26T06:17:...|2022-04-26T11:50:...|2022-04-26T13:57:...|   RDU|   IAD|   LGA|   LAX|   RDU|   IAD|   AS|   UA|   UA| 17220|  4620|  5220|2235| 226| 221|2022-04-17|2022-04-25|         False|             7| 2303.26|  2509.71|\n",
            "|2022-04-17T07:59:...|2022-04-17T10:55:...|2022-04-17T14:20:...|2022-04-17T09:12:...|2022-04-17T13:22:...|2022-04-17T15:28:...|   BOS|   CLT|   ATL|   JFK|   BOS|   CLT|   AA|   AA|   AA|  4380|  8820|  4080| 185| 728| 228|2022-04-16|2022-04-17|         False|             1| 1533.95|  1677.10|\n",
            "|2022-04-18T09:00:...|2022-04-18T11:15:...|2022-04-18T15:35:...|2022-04-18T10:21:...|2022-04-18T12:54:...|2022-04-18T16:30:...|   DEN|   SLC|   OAK|   ATL|   DEN|   SLC|   UA|   UA|   DL| 12060|  5940|  6900|1207| 380| 588|2022-04-16|2022-04-18|         False|             1|  678.14|   757.10|\n",
            "|2022-04-18T09:00:...|2022-04-18T11:15:...|2022-04-18T15:35:...|2022-04-18T10:21:...|2022-04-18T12:54:...|2022-04-18T16:30:...|   DEN|   SLC|   OAK|   ATL|   DEN|   SLC|   UA|   UA|   DL| 12060|  5940|  6900|1207| 380| 588|2022-04-17|2022-04-18|         False|             1|  678.14|   757.10|\n",
            "|2022-04-20T16:10:...|2022-04-20T18:53:...|2022-04-20T22:00:...|2022-04-20T17:25:...|2022-04-20T20:20:...|2022-04-21T00:16:...|   JAX|   MIA|   ATL|   CLT|   JAX|   MIA|   AA|   AA|   AA|  4500|  5220|  8160| 334| 330| 596|2022-04-17|2022-04-20|         False|             1|  230.70|   274.60|\n",
            "|2022-04-18T22:15:...|2022-04-19T06:25:...|2022-04-19T13:21:...|2022-04-18T23:35:...|2022-04-19T07:15:...|2022-04-19T14:39:...|   DUJ|   PIT|   PHL|   IAD|   DUJ|   PIT|   9X|   9X|   AA|  4800|  3000|  4680| 181|  84| 268|2022-04-16|2022-04-18|         False|             2|  406.79|   476.60|\n",
            "|2022-04-18T22:15:...|2022-04-19T06:25:...|2022-04-19T13:21:...|2022-04-18T23:35:...|2022-04-19T07:15:...|2022-04-19T14:39:...|   DUJ|   PIT|   PHL|   IAD|   DUJ|   PIT|   9X|   9X|   AA|  4800|  3000|  4680| 181|  84| 268|2022-04-17|2022-04-18|         False|             2|  406.79|   476.60|\n",
            "|2022-04-19T06:15:...|2022-04-19T11:54:...|2022-04-19T15:50:...|2022-04-19T09:44:...|2022-04-19T14:44:...|2022-04-19T18:42:...|   ORD|   DCA|   MIA|   DEN|   ORD|   DCA|   AA|   AA|   AA|  8940|  6600| 10320| 903| 594| 923|2022-04-16|2022-04-19|         False|             7|  364.65|   420.10|\n",
            "|2022-04-23T10:17:...|2022-04-23T12:45:...|2022-04-23T17:48:...|2022-04-23T11:50:...|2022-04-23T14:50:...|2022-04-23T19:39:...|   IAD|   ATL|   LAX|   LGA|   IAD|   ATL|   UA|   UA|   AS|  5580|  7500| 17460| 221| 541|1943|2022-04-16|2022-04-23|         False|             6| 1418.60|  1553.10|\n",
            "+--------------------+--------------------+--------------------+--------------------+--------------------+--------------------+------+------+------+------+------+------+-----+-----+-----+------+------+------+----+----+----+----------+----------+--------------+--------------+--------+---------+\n",
            "only showing top 20 rows\n",
            "\n",
            "+--------------------+--------------------+--------------------+--------------------+------+------+------+------+-----+-----+------+------+----+----+----------+----------+--------------+--------------+--------+---------+\n",
            "|              sDTR_1|              sDTR_2|              sATR_1|              sATR_2|sAAC_1|sAAC_2|sDAC_1|sDAC_2|sAC_1|sAC_2|sDIS_1|sDIS_2|sD_1|sD_2|searchDate|flightDate|isBasicEconomy|seatsRemaining|baseFare|totalFare|\n",
            "+--------------------+--------------------+--------------------+--------------------+------+------+------+------+-----+-----+------+------+----+----+----------+----------+--------------+--------------+--------+---------+\n",
            "|2022-04-28T10:21:...|2022-04-28T15:44:...|2022-04-28T11:44:...|2022-04-28T17:25:...|   JFK|   ORD|   BOS|   JFK|   B6|   B6|  4980|  9660| 185| 720|2022-04-17|2022-04-28|         False|             7|   69.77|    98.60|\n",
            "|2022-05-04T21:25:...|2022-05-05T06:10:...|2022-05-04T23:58:...|2022-05-05T07:41:...|   LAX|   SFO|   ORD|   LAX|   UA|   UA| 16380|  5460|1745| 339|2022-04-17|2022-05-04|         False|             9|  142.32|   182.19|\n",
            "|2022-05-09T12:45:...|2022-05-09T16:25:...|2022-05-09T15:25:...|2022-05-09T17:37:...|   IAH|   DFW|   ORD|   IAH|   UA|   UA|  9600|  4320| 933| 233|2022-04-17|2022-05-09|         False|             9|  202.79|   241.60|\n",
            "|2022-05-05T09:33:...|2022-05-05T16:35:...|2022-05-05T11:48:...|2022-05-05T18:34:...|   ATL|   DTW|   EWR|   ATL|   NK|   NK|  8100|  7140|None|None|2022-04-17|2022-05-05|         False|             0|  293.00|   400.58|\n",
            "|2022-05-09T07:29:...|2022-05-09T11:15:...|2022-05-09T09:46:...|2022-05-09T12:39:...|   DFW|   LAX|   MIA|   DFW|   AA|   AA| 11820| 12240|1115|1238|2022-04-17|2022-05-09|         False|             7|  538.60|   602.60|\n",
            "|2022-05-11T19:50:...|2022-05-11T22:25:...|2022-05-11T21:20:...|2022-05-12T06:01:...|   SAN|   CLT|   SFO|   SAN|   AS|   AS|  5400| 16560| 436|2072|2022-04-17|2022-05-11|         False|             4|  300.47|   346.61|\n",
            "|2022-04-27T10:21:...|2022-04-27T14:45:...|2022-04-27T11:44:...|2022-04-27T18:04:...|   JFK|   MIA|   BOS|   JFK|   B6|   B6|  4980| 11940| 185|1104|2022-04-17|2022-04-27|         False|             7|   82.79|   112.60|\n",
            "|2022-05-03T15:29:...|2022-05-03T21:50:...|2022-05-03T18:23:...|2022-05-03T23:06:...|   ATL|   DAL|   ORD|   ATL|   DL|   DL|  6840|  8160| 600| 725|2022-04-17|2022-05-03|          True|             9|  101.40|   132.61|\n",
            "|2022-05-06T09:55:...|2022-05-06T17:15:...|2022-05-06T13:11:...|2022-05-06T19:28:...|   FLL|   ORD|   BOS|   FLL|   NK|   NK| 11760| 11580|None|None|2022-04-17|2022-05-06|         False|             0|   62.00|   169.58|\n",
            "|2022-04-30T18:25:...|2022-04-30T21:05:...|2022-04-30T19:55:...|2022-04-30T22:13:...|   DFW|   DEN|   ATL|   DFW|   AA|   AA|  9000|  7680| 725| 650|2022-04-17|2022-04-30|         False|             3|  201.86|   240.60|\n",
            "|2022-04-25T15:41:...|2022-04-25T21:10:...|2022-04-25T19:10:...|2022-04-26T00:19:...|   ORD|   PHL|   DEN|   ORD|   UA|   UA|  8940|  7740| 903| 672|2022-04-16|2022-04-25|         False|             8|  375.81|   427.60|\n",
            "|2022-04-25T15:41:...|2022-04-25T21:10:...|2022-04-25T19:10:...|2022-04-26T00:19:...|   ORD|   PHL|   DEN|   ORD|   UA|   UA|  8940|  7740| 903| 672|2022-04-17|2022-04-25|         False|             1|  305.12|   351.60|\n",
            "|2022-04-30T10:55:...|2022-04-30T16:28:...|2022-04-30T13:22:...|2022-04-30T17:45:...|   CLT|   ATL|   BOS|   CLT|   AA|   AA|  8820|  4620| 728| 228|2022-04-17|2022-04-30|         False|             3|  120.00|   151.10|\n",
            "|2022-04-26T10:21:...|2022-04-26T14:59:...|2022-04-26T11:44:...|2022-04-26T18:14:...|   JFK|   MIA|   BOS|   JFK|   B6|   B6|  4980| 11700| 185|1104|2022-04-16|2022-04-26|         False|             7|   82.79|   112.60|\n",
            "|2022-04-23T06:00:...|2022-04-23T09:35:...|2022-04-23T08:10:...|2022-04-23T11:00:...|   CLT|   ORD|   LGA|   CLT|   AA|   AA|  7800|  8700| 545| 592|2022-04-16|2022-04-23|         False|             7|  120.93|   152.10|\n",
            "|2022-04-18T05:00:...|2022-04-18T13:05:...|2022-04-18T10:15:...|2022-04-18T15:07:...|   CLT|   MIA|   DEN|   CLT|   AA|   AA| 11700|  7320|1346| 652|2022-04-16|2022-04-18|         False|             7|  322.79|   369.10|\n",
            "|2022-04-18T05:00:...|2022-04-18T13:05:...|2022-04-18T10:15:...|2022-04-18T15:07:...|   CLT|   MIA|   DEN|   CLT|   AA|   AA| 11700|  7320|1346| 652|2022-04-17|2022-04-18|         False|             7|  322.79|   369.10|\n",
            "|2022-04-29T12:34:...|2022-04-29T15:44:...|2022-04-29T13:33:...|2022-04-29T17:09:...|   RIC|   LGA|   IAD|   RIC|   UA|   DL|  3540|  5100|  97| 295|2022-04-17|2022-04-29|         False|             9|  537.68|   601.61|\n",
            "|2022-04-19T06:20:...|2022-04-19T11:11:...|2022-04-19T08:17:...|2022-04-19T13:22:...|   MSP|   SFO|   PHL|   MSP|   DL|   DL| 10620| 15060| 978|1586|2022-04-16|2022-04-19|         False|             4|  268.84|   312.60|\n",
            "|2022-04-19T06:20:...|2022-04-19T11:11:...|2022-04-19T08:17:...|2022-04-19T13:22:...|   MSP|   SFO|   PHL|   MSP|   DL|   DL| 10620| 15060| 978|1586|2022-04-17|2022-04-19|         False|             4|  268.84|   312.60|\n",
            "+--------------------+--------------------+--------------------+--------------------+------+------+------+------+-----+-----+------+------+----+----+----------+----------+--------------+--------------+--------+---------+\n",
            "only showing top 20 rows\n",
            "\n",
            "\n",
            "Process complete! (0.0 minutes and 22.486963510513306 seconds)\n"
          ]
        }
      ],
      "source": [
        "log_time()\n",
        "for i in common_wrt_legs:\n",
        "  plc_train[i].show()\n",
        "time_flag()"
      ]
    },
    {
      "cell_type": "code",
      "execution_count": 18,
      "metadata": {
        "colab": {
          "base_uri": "https://localhost:8080/"
        },
        "id": "SwaijkYvRyie",
        "outputId": "09b9131f-aaff-4c40-d629-808378b82361"
      },
      "outputs": [
        {
          "output_type": "stream",
          "name": "stdout",
          "text": [
            "\n",
            "Process complete! (0.0 minutes and 0.7946422100067139 seconds)\n"
          ]
        }
      ],
      "source": [
        "log_time()\n",
        "# Upon preliminary preprocessing, we can make the following observations:\n",
        "\n",
        "# sAAC, sDAC, sAC, isBasicEconomy are categorical variables--these are all to be\n",
        "# one-hot encoded.\n",
        "\n",
        "# sDIS, sD, seatsRemaining are numerical variables--these are only to be cast to\n",
        "# numerical data types.\n",
        "\n",
        "# sDTR/sATR, searchDate, flightDate are date varibles--from these, we can\n",
        "# extract more nuanced features such as times of day (TOD) for\n",
        "# departures/arrivals, days till flight (DTF) between search and flight dates,\n",
        "# and days of weeks (DOY) and months (MOY) of flight dates.\n",
        "\n",
        "rp_train = {}\n",
        "rp_test = {}\n",
        "cat_feats = {}\n",
        "num_feats = {}\n",
        "date_feats = {}\n",
        "\n",
        "# Prepare lists of names for one-hot encoding of categorical features.\n",
        "cat_feats_si = {}\n",
        "cat_feats_ohe = {}\n",
        "\n",
        "for i in common_wrt_legs:\n",
        "  cat_feats[i] = ['isBasicEconomy'] + [c for c in plc_train[i].columns if c.startswith(('sAAC_', 'sDAC_', 'sAC_'))]\n",
        "  num_feats[i] = ['seatsRemaining'] + [c for c in plc_train[i].columns if c.startswith(('sDIS_', 'sD_'))]\n",
        "  date_feats[i] = ['searchDate', 'flightDate'] + [c for c in plc_train[i].columns if c.startswith(('sDTR_', 'sATR_'))]\n",
        "\n",
        "  # Fill lists of names for one-hot encoding of categorical features.\n",
        "  cat_feats_si[i] = [f + '_si' for f in cat_feats[i]]\n",
        "  cat_feats_ohe[i] = [f + '_ohe' for f in cat_feats[i]]\n",
        "\n",
        "  # Cast numerical features to numerical data types, and extract select\n",
        "  # date-based features (TOD will be forgone due to the ambiguity of timezones\n",
        "  # in the dataset).\n",
        "  rp_train[i] = plc_train[i].select(cat_feats[i] +\n",
        "   [plc_train[i][f].cast('float') for f in num_feats[i] + targets] +\n",
        "    [datediff('flightDate', 'searchDate').alias('DTF')] +\n",
        "     [dayofweek('flightDate').alias('DOW')] +\n",
        "      [month('flightDate').alias('MOY')])\n",
        "  rp_test[i] = plc_test[i].select(cat_feats[i] +\n",
        "   [plc_test[i][f].cast('float') for f in num_feats[i] + targets] +\n",
        "    [datediff('flightDate', 'searchDate').alias('DTF')] +\n",
        "     [dayofweek('flightDate').alias('DOW')] +\n",
        "      [month('flightDate').alias('MOY')])\n",
        "\n",
        "time_flag()"
      ]
    },
    {
      "cell_type": "markdown",
      "metadata": {
        "id": "3CIc1260RZis"
      },
      "source": [
        "## Summary\n",
        "(View runtime of procedure following execution)"
      ]
    },
    {
      "cell_type": "code",
      "execution_count": 19,
      "metadata": {
        "colab": {
          "base_uri": "https://localhost:8080/"
        },
        "id": "10axBtpzRfhC",
        "outputId": "808e33ae-8452-466f-d956-133d85cb5f9a"
      },
      "outputs": [
        {
          "output_type": "stream",
          "name": "stdout",
          "text": [
            "\n",
            "Data Partitioning Complete! (36.0 minutes and 2.506894826889038 seconds)\n"
          ]
        }
      ],
      "source": [
        "section_flag = time_flag(note = 'Data Partitioning Complete!', frum = section_flag, save_flag = True)"
      ]
    },
    {
      "cell_type": "markdown",
      "metadata": {
        "id": "OEgvSXZkE3O6"
      },
      "source": [
        "# Partition Selection\n",
        "For intricate model training, it is recommended to evaluate a small number of partitions (e.g., one or two) at a time due to computational constraints."
      ]
    },
    {
      "cell_type": "markdown",
      "metadata": {
        "id": "DLKgqziyFbmG"
      },
      "source": [
        "## Procedure"
      ]
    },
    {
      "cell_type": "code",
      "execution_count": 20,
      "metadata": {
        "id": "76C66kENEIGC"
      },
      "outputs": [],
      "source": [
        "# Select whichever partitions are desired for evaluation.\n",
        "pnos = [1, 2, 3]\n",
        "fp_train = dict(zip(pnos, [rp_train[p] for p in pnos]))\n",
        "fp_test = dict(zip(pnos, [rp_test[p] for p in pnos]))"
      ]
    },
    {
      "cell_type": "markdown",
      "metadata": {
        "id": "BSpAtFVtFdsi"
      },
      "source": [
        "## Summary\n",
        "(View runtime of procedure following execution)"
      ]
    },
    {
      "cell_type": "code",
      "execution_count": 21,
      "metadata": {
        "colab": {
          "base_uri": "https://localhost:8080/"
        },
        "id": "HAuPGZxkFnma",
        "outputId": "f18c4e9a-1c73-454a-aeed-d982b6432fd1"
      },
      "outputs": [
        {
          "output_type": "stream",
          "name": "stdout",
          "text": [
            "\n",
            "Partition Selection Complete! (0.0 minutes and 0.0448305606842041 seconds)\n"
          ]
        }
      ],
      "source": [
        "section_flag = time_flag(note = 'Partition Selection Complete!', frum = section_flag, save_flag = True)"
      ]
    },
    {
      "cell_type": "markdown",
      "metadata": {
        "id": "XgVQ0k9IrhKR"
      },
      "source": [
        "# Baseline Predictions\n",
        "Per partition, we evaluate the performance of the optimal trivial predictor relative to the MSE, which is simply the mean of the training labels."
      ]
    },
    {
      "cell_type": "markdown",
      "metadata": {
        "id": "HyD_ogP6W9ZU"
      },
      "source": [
        "## Procedure"
      ]
    },
    {
      "cell_type": "code",
      "source": [
        "target_choice = 'baseFare'"
      ],
      "metadata": {
        "id": "KS9ec9Ax2YEx"
      },
      "execution_count": 22,
      "outputs": []
    },
    {
      "cell_type": "code",
      "source": [
        "# Generate basline predictions, using the mean of the training labels as a\n",
        "train_tm = {}\n",
        "train_SE_tp = {}\n",
        "test_SE_tp = {}\n",
        "for j in pnos:\n",
        "  log_time()\n",
        "  print(f'Generating baseline performance for data partition {j}...')\n",
        "  train_tm[j] = fp_train[j].agg({target_choice: 'mean'}).first().asDict()[f'avg({target_choice})']\n",
        "  train_SE_tp[j] = fp_train[j].select(((fp_train[j][target_choice] - lit(train_tm[j])) ** 2).alias('SE'))\n",
        "  print(f'Baseline squared error stats for train set of data partition {j}:')\n",
        "  train_SE_tp[j].describe().show()\n",
        "  test_SE_tp[j] = fp_test[j].select(((fp_test[j][target_choice] - lit(train_tm[j])) ** 2).alias('SE'))\n",
        "  print(f'Baseline squared error stats for test set of data partition {j}:')\n",
        "  test_SE_tp[j].describe().show()\n",
        "  time_flag()\n",
        "time_flag(note = 'Baseline squared error stats generated across all data partitions', frum = section_flag)"
      ],
      "metadata": {
        "colab": {
          "base_uri": "https://localhost:8080/"
        },
        "id": "DLXsTyx71_X7",
        "outputId": "5e44bff0-8c57-4698-e7a1-da62a6f4c516"
      },
      "execution_count": 23,
      "outputs": [
        {
          "output_type": "stream",
          "name": "stdout",
          "text": [
            "Generating baseline performance for data partition 1...\n",
            "Baseline squared error stats for train set of data partition 1:\n",
            "+-------+--------------------+\n",
            "|summary|                  SE|\n",
            "+-------+--------------------+\n",
            "|  count|            16551316|\n",
            "|   mean|  23686.754970773836|\n",
            "| stddev|  165602.76281822217|\n",
            "|    min|0.002997716010358...|\n",
            "|    max|1.8899756398209155E7|\n",
            "+-------+--------------------+\n",
            "\n",
            "Baseline squared error stats for test set of data partition 1:\n",
            "+-------+--------------------+\n",
            "|summary|                  SE|\n",
            "+-------+--------------------+\n",
            "|  count|             5515572|\n",
            "|   mean|  23633.522259205434|\n",
            "| stddev|   162236.8093874404|\n",
            "|    min|0.002997716010358...|\n",
            "|    max|1.8899756398209155E7|\n",
            "+-------+--------------------+\n",
            "\n",
            "\n",
            "Process complete! (59.0 minutes and 21.833638429641724 seconds)\n",
            "Generating baseline performance for data partition 2...\n",
            "Baseline squared error stats for train set of data partition 2:\n",
            "+-------+--------------------+\n",
            "|summary|                  SE|\n",
            "+-------+--------------------+\n",
            "|  count|            39213805|\n",
            "|   mean|     28548.714636709|\n",
            "| stddev|  123478.40829889457|\n",
            "|    min|3.233124340475277E-6|\n",
            "|    max|   5.4273842384177E7|\n",
            "+-------+--------------------+\n",
            "\n",
            "Baseline squared error stats for test set of data partition 2:\n",
            "+-------+--------------------+\n",
            "|summary|                  SE|\n",
            "+-------+--------------------+\n",
            "|  count|            13071662|\n",
            "|   mean|  28545.788183379325|\n",
            "| stddev|  126661.17873050702|\n",
            "|    min|1.394254327400383...|\n",
            "|    max|   5.4273842384177E7|\n",
            "+-------+--------------------+\n",
            "\n",
            "\n",
            "Process complete! (58.0 minutes and 13.708840131759644 seconds)\n",
            "Generating baseline performance for data partition 3...\n",
            "Baseline squared error stats for train set of data partition 3:\n",
            "+-------+--------------------+\n",
            "|summary|                  SE|\n",
            "+-------+--------------------+\n",
            "|  count|             5690014|\n",
            "|   mean|   43731.10241260471|\n",
            "| stddev|  150251.25821338093|\n",
            "|    min|1.807517733687107E-5|\n",
            "|    max| 1.042001164466694E7|\n",
            "+-------+--------------------+\n",
            "\n",
            "Baseline squared error stats for test set of data partition 3:\n",
            "+-------+--------------------+\n",
            "|summary|                  SE|\n",
            "+-------+--------------------+\n",
            "|  count|             1896474|\n",
            "|   mean|   43744.88778614172|\n",
            "| stddev|   150937.0942437255|\n",
            "|    min|3.315772447118075E-5|\n",
            "|    max|1.0340238706577318E7|\n",
            "+-------+--------------------+\n",
            "\n",
            "\n",
            "Process complete! (58.0 minutes and 28.182316064834595 seconds)\n",
            "\n",
            "Baseline squared error stats generated across all data partitions (176.0 minutes and 3.9639692306518555 seconds)\n"
          ]
        }
      ]
    },
    {
      "cell_type": "markdown",
      "metadata": {
        "id": "nwaA2gLNRmG5"
      },
      "source": [
        "## Summary\n",
        "(View runtime of procedure following execution)"
      ]
    },
    {
      "cell_type": "code",
      "execution_count": 24,
      "metadata": {
        "id": "v5VP40yiSEcf",
        "colab": {
          "base_uri": "https://localhost:8080/"
        },
        "outputId": "cf912f7e-6e2d-456d-99af-c911c6951140"
      },
      "outputs": [
        {
          "output_type": "stream",
          "name": "stdout",
          "text": [
            "\n",
            "Baseline Prediction Generation Complete! (176.0 minutes and 3.9943594932556152 seconds)\n"
          ]
        }
      ],
      "source": [
        "section_flag = time_flag(note = 'Baseline Prediction Generation Complete!', frum = section_flag, save_flag = True)"
      ]
    },
    {
      "cell_type": "markdown",
      "metadata": {
        "id": "tQp_HWNsSHhP"
      },
      "source": [
        "# Notebook Summary: Total Runtime"
      ]
    },
    {
      "cell_type": "code",
      "execution_count": 25,
      "metadata": {
        "id": "Exi_v9oq2Wa1",
        "colab": {
          "base_uri": "https://localhost:8080/"
        },
        "outputId": "15414cd3-b533-4f41-bcbd-103ead15f1b9"
      },
      "outputs": [
        {
          "output_type": "stream",
          "name": "stdout",
          "text": [
            "\n",
            "ENTIRE NOTEBOOK EXECUTION COMPLETE!!!!! (213.0 minutes and 5.142282247543335 seconds)\n"
          ]
        }
      ],
      "source": [
        "time_flag(note = 'ENTIRE NOTEBOOK EXECUTION COMPLETE!!!!!', frum = 0)"
      ]
    },
    {
      "cell_type": "code",
      "execution_count": null,
      "metadata": {
        "id": "2iwdN3tuOBZD"
      },
      "outputs": [],
      "source": [
        "time.sleep(12 * 60 * 60)"
      ]
    },
    {
      "cell_type": "code",
      "source": [],
      "metadata": {
        "id": "sGzt2qFq1ByK"
      },
      "execution_count": null,
      "outputs": []
    }
  ],
  "metadata": {
    "colab": {
      "collapsed_sections": [
        "9yymT4zVRTTU",
        "RXdFgw9ZXijn",
        "hDPuZNYLPh6u",
        "Sb2VC-HGPkJO",
        "v4MuUN57XOAh",
        "3CIc1260RZis",
        "OEgvSXZkE3O6",
        "BSpAtFVtFdsi",
        "XgVQ0k9IrhKR",
        "HyD_ogP6W9ZU",
        "nwaA2gLNRmG5"
      ],
      "provenance": []
    },
    "kernelspec": {
      "display_name": "Python 3",
      "name": "python3"
    },
    "language_info": {
      "name": "python"
    }
  },
  "nbformat": 4,
  "nbformat_minor": 0
}
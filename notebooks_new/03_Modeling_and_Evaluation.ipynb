{
  "nbformat": 4,
  "nbformat_minor": 0,
  "metadata": {
    "colab": {
      "provenance": [],
      "machine_shape": "hm",
      "gpuType": "T4"
    },
    "kernelspec": {
      "name": "python3",
      "display_name": "Python 3"
    },
    "language_info": {
      "name": "python"
    },
    "accelerator": "GPU"
  },
  "cells": [
    {
      "cell_type": "markdown",
      "source": [
        "# Flight Prices Regression Modeling and Evaluation Notebook\n",
        "This notebook demonstrates the following:\n",
        " 1. Downloading and extracting the flight prices dataset from Kaggle.\n",
        " 2. Setting up PySpark and importing necessary libraries.\n",
        " 3. Loading the data using PySpark.\n",
        " 4. Creating a feature engineering pipeline that includes:\n",
        "    - Imputation using the median strategy.\n",
        "    - One-Hot Encoding for the day-of-week extracted from flight dates.\n",
        "    - Assembling features for model training.\n",
        " 5. Splitting the data into train and test sets.\n",
        " 6. Training and evaluating two regression models (Linear Regression and Random Forest Regressor) for predicting the flight base fare.\n",
        "\n",
        "**Note:** Some cells (such as dataset download/unzip) may require re-running only once.\n",
        "## Section 1: Download and Setup"
      ],
      "metadata": {
        "id": "O13aKpW3dMVu"
      }
    },
    {
      "cell_type": "code",
      "source": [
        "!pip install kaggle\n",
        "!kaggle datasets download -d dilwong/flightprices\n",
        "\n",
        "!unzip -n flightprices.zip\n",
        "\n",
        "!pip install pyspark"
      ],
      "metadata": {
        "id": "KMqxH4WpdfmO",
        "colab": {
          "base_uri": "https://localhost:8080/"
        },
        "outputId": "8724e29d-facc-4a9d-95de-e7eff82ee6a8"
      },
      "execution_count": 1,
      "outputs": [
        {
          "output_type": "stream",
          "name": "stdout",
          "text": [
            "Requirement already satisfied: kaggle in /usr/local/lib/python3.11/dist-packages (1.6.17)\n",
            "Requirement already satisfied: six>=1.10 in /usr/local/lib/python3.11/dist-packages (from kaggle) (1.17.0)\n",
            "Requirement already satisfied: certifi>=2023.7.22 in /usr/local/lib/python3.11/dist-packages (from kaggle) (2025.1.31)\n",
            "Requirement already satisfied: python-dateutil in /usr/local/lib/python3.11/dist-packages (from kaggle) (2.8.2)\n",
            "Requirement already satisfied: requests in /usr/local/lib/python3.11/dist-packages (from kaggle) (2.32.3)\n",
            "Requirement already satisfied: tqdm in /usr/local/lib/python3.11/dist-packages (from kaggle) (4.67.1)\n",
            "Requirement already satisfied: python-slugify in /usr/local/lib/python3.11/dist-packages (from kaggle) (8.0.4)\n",
            "Requirement already satisfied: urllib3 in /usr/local/lib/python3.11/dist-packages (from kaggle) (2.3.0)\n",
            "Requirement already satisfied: bleach in /usr/local/lib/python3.11/dist-packages (from kaggle) (6.2.0)\n",
            "Requirement already satisfied: webencodings in /usr/local/lib/python3.11/dist-packages (from bleach->kaggle) (0.5.1)\n",
            "Requirement already satisfied: text-unidecode>=1.3 in /usr/local/lib/python3.11/dist-packages (from python-slugify->kaggle) (1.3)\n",
            "Requirement already satisfied: charset-normalizer<4,>=2 in /usr/local/lib/python3.11/dist-packages (from requests->kaggle) (3.4.1)\n",
            "Requirement already satisfied: idna<4,>=2.5 in /usr/local/lib/python3.11/dist-packages (from requests->kaggle) (3.10)\n",
            "Dataset URL: https://www.kaggle.com/datasets/dilwong/flightprices\n",
            "License(s): Attribution 4.0 International (CC BY 4.0)\n",
            "Downloading flightprices.zip to /content\n",
            "100% 5.51G/5.51G [02:43<00:00, 37.6MB/s]\n",
            "100% 5.51G/5.51G [02:43<00:00, 36.2MB/s]\n",
            "Archive:  flightprices.zip\n",
            "  inflating: itineraries.csv         \n",
            "Requirement already satisfied: pyspark in /usr/local/lib/python3.11/dist-packages (3.5.4)\n",
            "Requirement already satisfied: py4j==0.10.9.7 in /usr/local/lib/python3.11/dist-packages (from pyspark) (0.10.9.7)\n"
          ]
        }
      ]
    },
    {
      "cell_type": "markdown",
      "source": [
        "## Section 2: Import Libraries and Initialize PySpark\n",
        "\n",
        "We import the required libraries for data manipulation, visualization, and modeling.\n",
        "We then initialize the Spark context and SQLContext."
      ],
      "metadata": {
        "id": "C4yv8Qvtdk4X"
      }
    },
    {
      "cell_type": "code",
      "source": [
        "import re\n",
        "import numpy as np\n",
        "import pandas as pd\n",
        "import matplotlib.pyplot as plt\n",
        "import seaborn as sns\n",
        "\n",
        "from pyspark import SparkContext\n",
        "from pyspark.sql import SparkSession, SQLContext\n",
        "import pyspark.sql.functions as F\n",
        "\n",
        "# Initialize SparkContext and related contexts once\n",
        "sc = SparkContext.getOrCreate()\n",
        "sqlContext = SQLContext(sc)\n",
        "ss = SparkSession.builder.getOrCreate()"
      ],
      "metadata": {
        "id": "YybLsfYCdsrp",
        "colab": {
          "base_uri": "https://localhost:8080/"
        },
        "outputId": "88b2e0b1-4d2c-44b9-be99-bc84fb0d6d3f"
      },
      "execution_count": 2,
      "outputs": [
        {
          "output_type": "stream",
          "name": "stderr",
          "text": [
            "/usr/local/lib/python3.11/dist-packages/pyspark/sql/context.py:113: FutureWarning: Deprecated in 3.0.0. Use SparkSession.builder.getOrCreate() instead.\n",
            "  warnings.warn(\n"
          ]
        }
      ]
    },
    {
      "cell_type": "markdown",
      "source": [
        "## Section 3: Load the Dataset\n",
        "\n",
        " We load the CSV file into a Spark DataFrame using SQLContext and display a sample of the data."
      ],
      "metadata": {
        "id": "UyMST-S3dv9R"
      }
    },
    {
      "cell_type": "code",
      "source": [
        "df = sqlContext.read.csv('itineraries.csv', header=True)\n",
        "df.show()\n",
        "print(\"Dataset columns:\", df.columns)"
      ],
      "metadata": {
        "id": "C5qm8dYJd0wQ",
        "colab": {
          "base_uri": "https://localhost:8080/"
        },
        "outputId": "3ef0584f-d613-42c8-b3cf-3b18ab0c3be8"
      },
      "execution_count": 3,
      "outputs": [
        {
          "output_type": "stream",
          "name": "stdout",
          "text": [
            "+--------------------+----------+----------+---------------+------------------+-------------+--------------+-----------+--------------+------------+---------+--------+---------+--------------+-------------------+---------------------------------+------------------------+-------------------------------+----------------------+--------------------------+----------------------------+--------------------+-------------------+----------------------------+-------------------------+----------------+-----------------+\n",
            "|               legId|searchDate|flightDate|startingAirport|destinationAirport|fareBasisCode|travelDuration|elapsedDays|isBasicEconomy|isRefundable|isNonStop|baseFare|totalFare|seatsRemaining|totalTravelDistance|segmentsDepartureTimeEpochSeconds|segmentsDepartureTimeRaw|segmentsArrivalTimeEpochSeconds|segmentsArrivalTimeRaw|segmentsArrivalAirportCode|segmentsDepartureAirportCode| segmentsAirlineName|segmentsAirlineCode|segmentsEquipmentDescription|segmentsDurationInSeconds|segmentsDistance|segmentsCabinCode|\n",
            "+--------------------+----------+----------+---------------+------------------+-------------+--------------+-----------+--------------+------------+---------+--------+---------+--------------+-------------------+---------------------------------+------------------------+-------------------------------+----------------------+--------------------------+----------------------------+--------------------+-------------------+----------------------------+-------------------------+----------------+-----------------+\n",
            "|9ca0e81111c683bec...|2022-04-16|2022-04-17|            ATL|               BOS|     LA0NX0MC|       PT2H29M|          0|         False|       False|     True|  217.67|   248.60|             9|                947|                       1650214620|    2022-04-17T12:57:...|                     1650223560|  2022-04-17T15:26:...|                       BOS|                         ATL|               Delta|                 DL|                 Airbus A321|                     8940|             947|            coach|\n",
            "|98685953630e772a0...|2022-04-16|2022-04-17|            ATL|               BOS|     LA0NX0MC|       PT2H30M|          0|         False|       False|     True|  217.67|   248.60|             4|                947|                       1650191400|    2022-04-17T06:30:...|                     1650200400|  2022-04-17T09:00:...|                       BOS|                         ATL|               Delta|                 DL|                 Airbus A321|                     9000|             947|            coach|\n",
            "|98d90cbc32bfbb05c...|2022-04-16|2022-04-17|            ATL|               BOS|     LA0NX0MC|       PT2H30M|          0|         False|       False|     True|  217.67|   248.60|             9|                947|                       1650209700|    2022-04-17T11:35:...|                     1650218700|  2022-04-17T14:05:...|                       BOS|                         ATL|               Delta|                 DL|              Boeing 757-200|                     9000|             947|            coach|\n",
            "|969a269d38eae583f...|2022-04-16|2022-04-17|            ATL|               BOS|     LA0NX0MC|       PT2H32M|          0|         False|       False|     True|  217.67|   248.60|             8|                947|                       1650218340|    2022-04-17T13:59:...|                     1650227460|  2022-04-17T16:31:...|                       BOS|                         ATL|               Delta|                 DL|                 Airbus A321|                     9120|             947|            coach|\n",
            "|980370cf27c89b40d...|2022-04-16|2022-04-17|            ATL|               BOS|     LA0NX0MC|       PT2H34M|          0|         False|       False|     True|  217.67|   248.60|             9|                947|                       1650203940|    2022-04-17T09:59:...|                     1650213180|  2022-04-17T12:33:...|                       BOS|                         ATL|               Delta|                 DL|                 Airbus A321|                     9240|             947|            coach|\n",
            "|79eda9f841e226a1e...|2022-04-16|2022-04-17|            ATL|               BOS|     VH0AUEL1|       PT2H38M|          0|         False|       False|     True|  217.67|   248.60|             7|                947|                       1650206700|    2022-04-17T10:45:...|                     1650216180|  2022-04-17T13:23:...|                       BOS|                         ATL|     JetBlue Airways|                 B6|                        NULL|                     9480|             947|            coach|\n",
            "|9335fae376c38bb61...|2022-04-16|2022-04-17|            ATL|               BOS|     V0AJZNN1|       PT4H12M|          0|         False|       False|    False|  213.02|   251.10|             3|                956|             1650198000||16502...|    2022-04-17T08:20:...|           1650203400||16502...|  2022-04-17T09:50:...|                  CLT||BOS|                    ATL||CLT|American Airlines...|             AA||AA|        Airbus A320||Airb...|               5400||7500|        228||728|     coach||coach|\n",
            "|3904bf87f2d1daf33...|2022-04-16|2022-04-17|            ATL|               BOS|     V0AJZNN1|       PT5H18M|          0|         False|       False|    False|  213.02|   251.10|             3|                956|             1650198000||16502...|    2022-04-17T08:20:...|           1650203400||16502...|  2022-04-17T09:50:...|                  CLT||BOS|                    ATL||CLT|American Airlines...|             AA||AA|        Airbus A320||Boei...|               5400||8280|        228||728|     coach||coach|\n",
            "|d93988734c44a3c07...|2022-04-16|2022-04-17|            ATL|               BOS|     V0AJZNN1|       PT5H32M|          0|         False|       False|    False|  213.02|   251.10|             7|                956|             1650193200||16502...|    2022-04-17T07:00:...|           1650198060||16502...|  2022-04-17T08:21:...|                  CLT||BOS|                    ATL||CLT|American Airlines...|             AA||AA|        Airbus A319||Airb...|               4860||7500|        228||728|     coach||coach|\n",
            "|562e7d5dd6ecbf150...|2022-04-16|2022-04-17|            ATL|               BOS|     V0AJZNN1|       PT6H38M|          0|         False|       False|    False|  213.02|   251.10|             7|                956|             1650193200||16502...|    2022-04-17T07:00:...|           1650198060||16502...|  2022-04-17T08:21:...|                  CLT||BOS|                    ATL||CLT|American Airlines...|             AA||AA|        Airbus A319||Boei...|               4860||8280|        228||728|     coach||coach|\n",
            "|c38a6e4b807d15541...|2022-04-16|2022-04-17|            ATL|               BOS|     VAA0AKEN|       PT4H46M|          0|         False|       False|    False|  213.02|   252.60|             1|                947|             1650187800||16501...|    2022-04-17T05:30:...|           1650194280||16502...|  2022-04-17T07:18:...|                  IAD||BOS|                    ATL||IAD|      United||United|             UA||UA|        Airbus A319||Boei...|               6480||5940|        541||406|     coach||coach|\n",
            "|f66d72ba3a5265766...|2022-04-16|2022-04-17|            ATL|               BOS|     V0AJZNN1|       PT5H45M|          0|         False|       False|    False|  213.02|   252.60|             3|               1462|             1650220740||16502...|    2022-04-17T14:39:...|           1650228840||16502...|  2022-04-17T15:54:...|                  ORD||BOS|                    ATL||ORD|American Airlines...|             AA||AA|        Embraer 175||Boei...|               8100||8340|        600||862|     coach||coach|\n",
            "|e7c4054e85cca9bc7...|2022-04-16|2022-04-17|            ATL|               BOS|     V0AJZNN1|       PT5H59M|          0|         False|       False|    False|  213.02|   252.60|             5|               1462|             1650232800||16502...|    2022-04-17T18:00:...|           1650240660||16502...|  2022-04-17T19:11:...|                  ORD||BOS|                    ATL||ORD|American Airlines...|             AA||AA|        Embraer 175||Boei...|               7860||8640|        600||862|     coach||coach|\n",
            "|5fa8c0f8b25eb24bf...|2022-04-16|2022-04-17|            ATL|               BOS|     V0AJZNN1|       PT7H18M|          0|         False|       False|    False|  213.02|   252.60|             3|               1462|             1650220740||16502...|    2022-04-17T14:39:...|           1650228840||16502...|  2022-04-17T15:54:...|                  ORD||BOS|                    ATL||ORD|American Airlines...|             AA||AA|        Embraer 175||Airb...|               8100||7920|        600||862|     coach||coach|\n",
            "|948d26b3e5658762c...|2022-04-16|2022-04-17|            ATL|               BOS|     VAA0AKEN|       PT8H10M|          0|         False|       False|    False|  213.02|   252.60|             2|               1462|             1650190200||16502...|    2022-04-17T06:10:...|           1650198000||16502...|  2022-04-17T07:20:...|                  ORD||BOS|                    ATL||ORD|      United||United|             UA||UA|        Embraer 175 (Enha...|               7800||8640|        600||862|     coach||coach|\n",
            "|cb345693479e84838...|2022-04-16|2022-04-17|            ATL|               BOS|          VNR|       PT5H39M|          0|         False|       False|    False|  183.00|   290.58|             0|               NULL|             1650187560||16501...|    2022-04-17T05:26:...|           1650194400||16502...|  2022-04-17T07:20:...|                  FLL||BOS|                    ATL||FLL|Spirit Airlines||...|             NK||NK|        AIRBUS INDUSTRIE ...|              6840||11100|      None||None|     coach||coach|\n",
            "|e1b95e4e6c997517f...|2022-04-16|2022-04-17|            ATL|               BOS|     KH0AUEY5|       PT2H38M|          0|         False|       False|     True|  265.58|   300.10|             7|                947|                       1650206700|    2022-04-17T10:45:...|                     1650216180|  2022-04-17T13:23:...|                       BOS|                         ATL|   American Airlines|                 AA|                        NULL|                     9480|             947|            coach|\n",
            "|eaf033a044596f0a7...|2022-04-16|2022-04-17|            ATL|               BOS|     L0AJZNN1|       PT4H17M|          0|         False|       False|    False|  260.47|   302.11|             1|                956|             1650233700||16502...|    2022-04-17T18:15:...|           1650238620||16502...|  2022-04-17T19:37:...|                  CLT||BOS|                    ATL||CLT|American Airlines...|             AA||AA|        Canadian Regional...|               4920||7620|        228||728|     coach||coach|\n",
            "|721d9a2f66fe479e7...|2022-04-16|2022-04-17|            ATL|               BOS|     L0AJZNN1|       PT4H36M|          0|         False|       False|    False|  260.47|   302.11|             1|                956|             1650207720||16502...|    2022-04-17T11:02:...|           1650212880||16502...|  2022-04-17T12:28:...|                  CLT||BOS|                    ATL||CLT|American Airlines...|             AA||AA|        Canadair Regional...|               5160||7860|        228||728|     coach||coach|\n",
            "|a9f012defb9227f69...|2022-04-16|2022-04-17|            ATL|               BOS|     L0AJZNN1|       PT4H45M|          0|         False|       False|    False|  260.47|   302.11|             1|                956|             1650226680||16502...|    2022-04-17T16:18:...|           1650230760||16502...|  2022-04-17T17:26:...|                  CLT||BOS|                    ATL||CLT|American Airlines...|             AA||AA|        Airbus A319||Boei...|               4080||7860|        228||728|     coach||coach|\n",
            "+--------------------+----------+----------+---------------+------------------+-------------+--------------+-----------+--------------+------------+---------+--------+---------+--------------+-------------------+---------------------------------+------------------------+-------------------------------+----------------------+--------------------------+----------------------------+--------------------+-------------------+----------------------------+-------------------------+----------------+-----------------+\n",
            "only showing top 20 rows\n",
            "\n",
            "Dataset columns: ['legId', 'searchDate', 'flightDate', 'startingAirport', 'destinationAirport', 'fareBasisCode', 'travelDuration', 'elapsedDays', 'isBasicEconomy', 'isRefundable', 'isNonStop', 'baseFare', 'totalFare', 'seatsRemaining', 'totalTravelDistance', 'segmentsDepartureTimeEpochSeconds', 'segmentsDepartureTimeRaw', 'segmentsArrivalTimeEpochSeconds', 'segmentsArrivalTimeRaw', 'segmentsArrivalAirportCode', 'segmentsDepartureAirportCode', 'segmentsAirlineName', 'segmentsAirlineCode', 'segmentsEquipmentDescription', 'segmentsDurationInSeconds', 'segmentsDistance', 'segmentsCabinCode']\n"
          ]
        }
      ]
    },
    {
      "cell_type": "markdown",
      "source": [
        " ## Section 4: Feature Engineering and Data Preparation\n",
        "\n",
        " We filter out rows where `flightDate` is null (to ensure the day-of-week can be computed),\n",
        " define our feature and target variables, and create a new DataFrame with the required casts.\n",
        " We extract the day-of-week (DOW) from `flightDate` and cast it to an integer."
      ],
      "metadata": {
        "id": "ni_x0YaKd3HZ"
      }
    },
    {
      "cell_type": "code",
      "source": [
        "# Filter out rows where flightDate is null\n",
        "df = df.filter(F.col('flightDate').isNotNull())\n",
        "\n",
        "# Define features and target variables\n",
        "features = ['elapsedDays', 'totalTravelDistance', 'seatsRemaining']\n",
        "targets = ['baseFare', 'totalFare']\n",
        "\n",
        "# Create a new DataFrame:\n",
        "# - Cast features and targets to float\n",
        "# - Compute DOW from flightDate and cast to integer\n",
        "fNt = df.select(\n",
        "    *[df[c].cast('float') for c in features + targets],\n",
        "    F.dayofweek(df['flightDate']).cast('int').alias('DOW')\n",
        ")\n",
        "\n",
        "# Train-test split (75% train, 25% test)\n",
        "train_df, test_df = fNt.randomSplit([0.75, 0.25], seed=42)"
      ],
      "metadata": {
        "id": "5goF58PNeDf_"
      },
      "execution_count": 4,
      "outputs": []
    },
    {
      "cell_type": "markdown",
      "source": [
        " ## Section 5: Build the Feature Engineering Pipeline\n",
        "\n",
        " We construct a pipeline that:\n",
        " - Imputes missing values for the feature columns (using the median strategy).\n",
        " - One-Hot Encodes the DOW column.\n",
        " - Assembles the features into a single vector."
      ],
      "metadata": {
        "id": "RhYscmhfeIfA"
      }
    },
    {
      "cell_type": "code",
      "source": [
        "from pyspark.ml.feature import Imputer, OneHotEncoder, VectorAssembler\n",
        "from pyspark.ml import Pipeline\n",
        "\n",
        "pipeline = Pipeline(stages=[\n",
        "    # Impute only the feature columns (exclude targets)\n",
        "    Imputer(strategy='median', inputCols=features, outputCols=features),\n",
        "    # OneHotEncode the DOW column\n",
        "    OneHotEncoder(inputCol='DOW', outputCol='DOW_ohe'),\n",
        "    # Assemble features and the one-hot encoded DOW into a vector\n",
        "    VectorAssembler(inputCols=features + ['DOW_ohe'], outputCol='features')\n",
        "])\n",
        "\n",
        "# Fit the pipeline on the training data\n",
        "fe_pipeline = pipeline.fit(train_df)\n",
        "\n",
        "# Transform the training and test datasets\n",
        "train_fe = fe_pipeline.transform(train_df)\n",
        "train_fe.show()\n",
        "\n",
        "test_fe = fe_pipeline.transform(test_df)\n",
        "test_fe.show()"
      ],
      "metadata": {
        "id": "3EEr2qOieOj5",
        "colab": {
          "base_uri": "https://localhost:8080/"
        },
        "outputId": "c853a436-f675-4c6c-dfbd-c3e9fc5b3c9b"
      },
      "execution_count": 5,
      "outputs": [
        {
          "output_type": "stream",
          "name": "stdout",
          "text": [
            "+-----------+-------------------+--------------+--------+---------+---+-------------+--------------------+\n",
            "|elapsedDays|totalTravelDistance|seatsRemaining|baseFare|totalFare|DOW|      DOW_ohe|            features|\n",
            "+-----------+-------------------+--------------+--------+---------+---+-------------+--------------------+\n",
            "|        0.0|             1464.0|           0.0|     5.1|    30.69|  1|(7,[1],[1.0])|(10,[1,4],[1464.0...|\n",
            "|        0.0|             1464.0|           0.0|     5.1|    30.69|  1|(7,[1],[1.0])|(10,[1,4],[1464.0...|\n",
            "|        0.0|             1464.0|           0.0|     5.1|    30.69|  1|(7,[1],[1.0])|(10,[1,4],[1464.0...|\n",
            "|        0.0|             1464.0|           0.0|     5.1|    30.69|  1|(7,[1],[1.0])|(10,[1,4],[1464.0...|\n",
            "|        0.0|             1464.0|           0.0|     5.1|    30.69|  1|(7,[1],[1.0])|(10,[1,4],[1464.0...|\n",
            "|        0.0|             1464.0|           0.0|     5.1|    30.69|  1|(7,[1],[1.0])|(10,[1,4],[1464.0...|\n",
            "|        0.0|             1464.0|           0.0|     5.1|    30.69|  1|(7,[1],[1.0])|(10,[1,4],[1464.0...|\n",
            "|        0.0|             1464.0|           0.0|     5.1|    30.69|  1|(7,[1],[1.0])|(10,[1,4],[1464.0...|\n",
            "|        0.0|             1464.0|           0.0|     5.1|    30.69|  1|(7,[1],[1.0])|(10,[1,4],[1464.0...|\n",
            "|        0.0|             1464.0|           0.0|     5.1|    30.69|  1|(7,[1],[1.0])|(10,[1,4],[1464.0...|\n",
            "|        0.0|             1464.0|           0.0|     5.1|    30.69|  1|(7,[1],[1.0])|(10,[1,4],[1464.0...|\n",
            "|        0.0|             1464.0|           0.0|     5.1|    30.69|  2|(7,[2],[1.0])|(10,[1,5],[1464.0...|\n",
            "|        0.0|             1464.0|           0.0|     5.1|    30.69|  2|(7,[2],[1.0])|(10,[1,5],[1464.0...|\n",
            "|        0.0|             1464.0|           0.0|     5.1|    30.69|  2|(7,[2],[1.0])|(10,[1,5],[1464.0...|\n",
            "|        0.0|             1464.0|           0.0|     5.1|    30.69|  2|(7,[2],[1.0])|(10,[1,5],[1464.0...|\n",
            "|        0.0|             1464.0|           0.0|     5.1|    30.69|  2|(7,[2],[1.0])|(10,[1,5],[1464.0...|\n",
            "|        0.0|             1464.0|           0.0|     5.1|    30.69|  2|(7,[2],[1.0])|(10,[1,5],[1464.0...|\n",
            "|        0.0|             1464.0|           0.0|     5.1|    30.69|  2|(7,[2],[1.0])|(10,[1,5],[1464.0...|\n",
            "|        0.0|             1464.0|           0.0|     5.1|    30.69|  2|(7,[2],[1.0])|(10,[1,5],[1464.0...|\n",
            "|        0.0|             1464.0|           0.0|     5.1|    30.69|  2|(7,[2],[1.0])|(10,[1,5],[1464.0...|\n",
            "+-----------+-------------------+--------------+--------+---------+---+-------------+--------------------+\n",
            "only showing top 20 rows\n",
            "\n",
            "+-----------+-------------------+--------------+--------+---------+---+-------------+--------------------+\n",
            "|elapsedDays|totalTravelDistance|seatsRemaining|baseFare|totalFare|DOW|      DOW_ohe|            features|\n",
            "+-----------+-------------------+--------------+--------+---------+---+-------------+--------------------+\n",
            "|        0.0|             1464.0|           0.0|     5.1|    30.69|  1|(7,[1],[1.0])|(10,[1,4],[1464.0...|\n",
            "|        0.0|             1464.0|           0.0|     5.1|    30.69|  1|(7,[1],[1.0])|(10,[1,4],[1464.0...|\n",
            "|        0.0|             1464.0|           0.0|     5.1|    30.69|  1|(7,[1],[1.0])|(10,[1,4],[1464.0...|\n",
            "|        0.0|             1464.0|           0.0|     5.1|    30.69|  1|(7,[1],[1.0])|(10,[1,4],[1464.0...|\n",
            "|        0.0|             1464.0|           0.0|     5.1|    30.69|  1|(7,[1],[1.0])|(10,[1,4],[1464.0...|\n",
            "|        0.0|             1464.0|           0.0|     5.1|    30.69|  2|(7,[2],[1.0])|(10,[1,5],[1464.0...|\n",
            "|        0.0|             1464.0|           0.0|     5.1|    30.69|  2|(7,[2],[1.0])|(10,[1,5],[1464.0...|\n",
            "|        0.0|             1464.0|           0.0|     5.1|    30.69|  2|(7,[2],[1.0])|(10,[1,5],[1464.0...|\n",
            "|        0.0|             1464.0|           0.0|     5.1|    30.69|  2|(7,[2],[1.0])|(10,[1,5],[1464.0...|\n",
            "|        0.0|             1464.0|           0.0|     5.1|    30.69|  2|(7,[2],[1.0])|(10,[1,5],[1464.0...|\n",
            "|        0.0|             1464.0|           0.0|     5.1|    30.69|  2|(7,[2],[1.0])|(10,[1,5],[1464.0...|\n",
            "|        0.0|             1464.0|           0.0|     5.1|    30.69|  2|(7,[2],[1.0])|(10,[1,5],[1464.0...|\n",
            "|        0.0|             1464.0|           0.0|     5.1|    30.69|  3|(7,[3],[1.0])|(10,[1,6],[1464.0...|\n",
            "|        0.0|             1464.0|           0.0|     5.1|    30.69|  3|(7,[3],[1.0])|(10,[1,6],[1464.0...|\n",
            "|        0.0|             1464.0|           0.0|     5.1|    30.69|  3|(7,[3],[1.0])|(10,[1,6],[1464.0...|\n",
            "|        0.0|             1464.0|           0.0|     5.1|    30.69|  3|(7,[3],[1.0])|(10,[1,6],[1464.0...|\n",
            "|        0.0|             1464.0|           0.0|     5.1|    30.69|  3|(7,[3],[1.0])|(10,[1,6],[1464.0...|\n",
            "|        0.0|             1464.0|           0.0|     5.1|    30.69|  3|(7,[3],[1.0])|(10,[1,6],[1464.0...|\n",
            "|        0.0|             1464.0|           0.0|     5.1|    30.69|  3|(7,[3],[1.0])|(10,[1,6],[1464.0...|\n",
            "|        0.0|             1464.0|           0.0|     5.1|    30.69|  3|(7,[3],[1.0])|(10,[1,6],[1464.0...|\n",
            "+-----------+-------------------+--------------+--------+---------+---+-------------+--------------------+\n",
            "only showing top 20 rows\n",
            "\n"
          ]
        }
      ]
    },
    {
      "cell_type": "markdown",
      "source": [
        " ## Section 6: Modeling – Linear Regression\n",
        "\n",
        " We select a target variable (here, `baseFare`) and train a Linear Regression model.\n",
        " We then calculate the Mean Squared Error (MSE) for both the training and test datasets."
      ],
      "metadata": {
        "id": "MuHQ3AUqeSX2"
      }
    },
    {
      "cell_type": "code",
      "source": [
        "from pyspark.ml.regression import LinearRegression\n",
        "\n",
        "target_choice = 'baseFare'\n",
        "lr = LinearRegression(featuresCol='features', labelCol=target_choice).fit(train_fe)\n",
        "\n",
        "# Predictions on the training set\n",
        "train_lr = lr.transform(train_fe)\n",
        "train_lr.show()\n",
        "\n",
        "# Calculate MSE for training set\n",
        "train_SE_lr = train_lr.select(((train_lr[target_choice] - train_lr['prediction']) ** 2).alias('SE'))\n",
        "train_MSE_lr = train_SE_lr.agg({'SE': 'mean'}).first()\n",
        "print(\"Training MSE (Linear Regression):\", train_MSE_lr)\n",
        "\n",
        "# Predictions and MSE for test set\n",
        "test_lr = lr.transform(test_fe)\n",
        "test_SE_lr = test_lr.select(((test_lr[target_choice] - test_lr['prediction']) ** 2).alias('SE'))\n",
        "test_MSE_lr = test_SE_lr.agg({'SE': 'mean'}).first()\n",
        "print(\"Test MSE (Linear Regression):\", test_MSE_lr)"
      ],
      "metadata": {
        "id": "tL0QsczpeWjA",
        "colab": {
          "base_uri": "https://localhost:8080/"
        },
        "outputId": "9f73c6cf-a0a6-4ef2-92b9-b1fcf32f25a2"
      },
      "execution_count": 6,
      "outputs": [
        {
          "output_type": "stream",
          "name": "stdout",
          "text": [
            "+-----------+-------------------+--------------+--------+---------+---+-------------+--------------------+------------------+\n",
            "|elapsedDays|totalTravelDistance|seatsRemaining|baseFare|totalFare|DOW|      DOW_ohe|            features|        prediction|\n",
            "+-----------+-------------------+--------------+--------+---------+---+-------------+--------------------+------------------+\n",
            "|        0.0|             1464.0|           0.0|     5.1|    30.69|  1|(7,[1],[1.0])|(10,[1,4],[1464.0...|307.26290005477256|\n",
            "|        0.0|             1464.0|           0.0|     5.1|    30.69|  1|(7,[1],[1.0])|(10,[1,4],[1464.0...|307.26290005477256|\n",
            "|        0.0|             1464.0|           0.0|     5.1|    30.69|  1|(7,[1],[1.0])|(10,[1,4],[1464.0...|307.26290005477256|\n",
            "|        0.0|             1464.0|           0.0|     5.1|    30.69|  1|(7,[1],[1.0])|(10,[1,4],[1464.0...|307.26290005477256|\n",
            "|        0.0|             1464.0|           0.0|     5.1|    30.69|  1|(7,[1],[1.0])|(10,[1,4],[1464.0...|307.26290005477256|\n",
            "|        0.0|             1464.0|           0.0|     5.1|    30.69|  1|(7,[1],[1.0])|(10,[1,4],[1464.0...|307.26290005477256|\n",
            "|        0.0|             1464.0|           0.0|     5.1|    30.69|  1|(7,[1],[1.0])|(10,[1,4],[1464.0...|307.26290005477256|\n",
            "|        0.0|             1464.0|           0.0|     5.1|    30.69|  1|(7,[1],[1.0])|(10,[1,4],[1464.0...|307.26290005477256|\n",
            "|        0.0|             1464.0|           0.0|     5.1|    30.69|  1|(7,[1],[1.0])|(10,[1,4],[1464.0...|307.26290005477256|\n",
            "|        0.0|             1464.0|           0.0|     5.1|    30.69|  1|(7,[1],[1.0])|(10,[1,4],[1464.0...|307.26290005477256|\n",
            "|        0.0|             1464.0|           0.0|     5.1|    30.69|  1|(7,[1],[1.0])|(10,[1,4],[1464.0...|307.26290005477256|\n",
            "|        0.0|             1464.0|           0.0|     5.1|    30.69|  2|(7,[2],[1.0])|(10,[1,5],[1464.0...|258.50581149295135|\n",
            "|        0.0|             1464.0|           0.0|     5.1|    30.69|  2|(7,[2],[1.0])|(10,[1,5],[1464.0...|258.50581149295135|\n",
            "|        0.0|             1464.0|           0.0|     5.1|    30.69|  2|(7,[2],[1.0])|(10,[1,5],[1464.0...|258.50581149295135|\n",
            "|        0.0|             1464.0|           0.0|     5.1|    30.69|  2|(7,[2],[1.0])|(10,[1,5],[1464.0...|258.50581149295135|\n",
            "|        0.0|             1464.0|           0.0|     5.1|    30.69|  2|(7,[2],[1.0])|(10,[1,5],[1464.0...|258.50581149295135|\n",
            "|        0.0|             1464.0|           0.0|     5.1|    30.69|  2|(7,[2],[1.0])|(10,[1,5],[1464.0...|258.50581149295135|\n",
            "|        0.0|             1464.0|           0.0|     5.1|    30.69|  2|(7,[2],[1.0])|(10,[1,5],[1464.0...|258.50581149295135|\n",
            "|        0.0|             1464.0|           0.0|     5.1|    30.69|  2|(7,[2],[1.0])|(10,[1,5],[1464.0...|258.50581149295135|\n",
            "|        0.0|             1464.0|           0.0|     5.1|    30.69|  2|(7,[2],[1.0])|(10,[1,5],[1464.0...|258.50581149295135|\n",
            "+-----------+-------------------+--------------+--------+---------+---+-------------+--------------------+------------------+\n",
            "only showing top 20 rows\n",
            "\n",
            "Training MSE (Linear Regression): Row(avg(SE)=24883.32504461785)\n",
            "Test MSE (Linear Regression): Row(avg(SE)=24863.318243102847)\n"
          ]
        }
      ]
    },
    {
      "cell_type": "markdown",
      "source": [
        " ## Section 7: Modeling – Random Forest Regression\n",
        "\n",
        " We train a Random Forest Regressor using the same features and target.\n",
        " We then compute the MSE for both the training and test datasets."
      ],
      "metadata": {
        "id": "1lACE8-2ecEN"
      }
    },
    {
      "cell_type": "code",
      "source": [
        "from pyspark.ml.regression import RandomForestRegressor\n",
        "\n",
        "# Train the Random Forest Regressor\n",
        "rfr = RandomForestRegressor(featuresCol='features', labelCol=target_choice).fit(train_fe)\n",
        "\n",
        "# Predictions on the training set\n",
        "train_rfr = rfr.transform(train_fe)\n",
        "train_rfr.show()\n",
        "\n",
        "# Calculate squared error on the training set and aggregate MSE\n",
        "train_SE_rfr = train_rfr.select(((train_rfr[target_choice] - train_rfr['prediction']) ** 2).alias('SE'))\n",
        "MSE_rfr = train_SE_rfr.agg({'SE': 'mean'}).first()\n",
        "print(\"Training MSE (Random Forest):\", MSE_rfr)\n",
        "\n",
        "# Predictions on the test set\n",
        "test_rfr = rfr.transform(test_fe)\n",
        "test_rfr.show()\n",
        "\n",
        "# Calculate squared error on the test set and aggregate MSE\n",
        "test_SE_rfr = test_rfr.select(((test_rfr[target_choice] - test_rfr['prediction']) ** 2).alias('SE'))\n",
        "test_MSE_rfr = test_SE_rfr.agg({'SE': 'mean'}).first()\n",
        "print(\"Test MSE (Random Forest):\", test_MSE_rfr)"
      ],
      "metadata": {
        "id": "9YcWcjgxeh48",
        "colab": {
          "base_uri": "https://localhost:8080/"
        },
        "outputId": "55d43826-f437-4e2c-dc60-17c15fcdc443"
      },
      "execution_count": 8,
      "outputs": [
        {
          "output_type": "stream",
          "name": "stdout",
          "text": [
            "+-----------+-------------------+--------------+--------+---------+---+-------------+--------------------+------------------+\n",
            "|elapsedDays|totalTravelDistance|seatsRemaining|baseFare|totalFare|DOW|      DOW_ohe|            features|        prediction|\n",
            "+-----------+-------------------+--------------+--------+---------+---+-------------+--------------------+------------------+\n",
            "|        0.0|             1464.0|           0.0|     5.1|    30.69|  1|(7,[1],[1.0])|(10,[1,4],[1464.0...| 163.3220882049678|\n",
            "|        0.0|             1464.0|           0.0|     5.1|    30.69|  1|(7,[1],[1.0])|(10,[1,4],[1464.0...| 163.3220882049678|\n",
            "|        0.0|             1464.0|           0.0|     5.1|    30.69|  1|(7,[1],[1.0])|(10,[1,4],[1464.0...| 163.3220882049678|\n",
            "|        0.0|             1464.0|           0.0|     5.1|    30.69|  1|(7,[1],[1.0])|(10,[1,4],[1464.0...| 163.3220882049678|\n",
            "|        0.0|             1464.0|           0.0|     5.1|    30.69|  1|(7,[1],[1.0])|(10,[1,4],[1464.0...| 163.3220882049678|\n",
            "|        0.0|             1464.0|           0.0|     5.1|    30.69|  1|(7,[1],[1.0])|(10,[1,4],[1464.0...| 163.3220882049678|\n",
            "|        0.0|             1464.0|           0.0|     5.1|    30.69|  1|(7,[1],[1.0])|(10,[1,4],[1464.0...| 163.3220882049678|\n",
            "|        0.0|             1464.0|           0.0|     5.1|    30.69|  1|(7,[1],[1.0])|(10,[1,4],[1464.0...| 163.3220882049678|\n",
            "|        0.0|             1464.0|           0.0|     5.1|    30.69|  1|(7,[1],[1.0])|(10,[1,4],[1464.0...| 163.3220882049678|\n",
            "|        0.0|             1464.0|           0.0|     5.1|    30.69|  1|(7,[1],[1.0])|(10,[1,4],[1464.0...| 163.3220882049678|\n",
            "|        0.0|             1464.0|           0.0|     5.1|    30.69|  1|(7,[1],[1.0])|(10,[1,4],[1464.0...| 163.3220882049678|\n",
            "|        0.0|             1464.0|           0.0|     5.1|    30.69|  2|(7,[2],[1.0])|(10,[1,5],[1464.0...|124.10081871673258|\n",
            "|        0.0|             1464.0|           0.0|     5.1|    30.69|  2|(7,[2],[1.0])|(10,[1,5],[1464.0...|124.10081871673258|\n",
            "|        0.0|             1464.0|           0.0|     5.1|    30.69|  2|(7,[2],[1.0])|(10,[1,5],[1464.0...|124.10081871673258|\n",
            "|        0.0|             1464.0|           0.0|     5.1|    30.69|  2|(7,[2],[1.0])|(10,[1,5],[1464.0...|124.10081871673258|\n",
            "|        0.0|             1464.0|           0.0|     5.1|    30.69|  2|(7,[2],[1.0])|(10,[1,5],[1464.0...|124.10081871673258|\n",
            "|        0.0|             1464.0|           0.0|     5.1|    30.69|  2|(7,[2],[1.0])|(10,[1,5],[1464.0...|124.10081871673258|\n",
            "|        0.0|             1464.0|           0.0|     5.1|    30.69|  2|(7,[2],[1.0])|(10,[1,5],[1464.0...|124.10081871673258|\n",
            "|        0.0|             1464.0|           0.0|     5.1|    30.69|  2|(7,[2],[1.0])|(10,[1,5],[1464.0...|124.10081871673258|\n",
            "|        0.0|             1464.0|           0.0|     5.1|    30.69|  2|(7,[2],[1.0])|(10,[1,5],[1464.0...|124.10081871673258|\n",
            "+-----------+-------------------+--------------+--------+---------+---+-------------+--------------------+------------------+\n",
            "only showing top 20 rows\n",
            "\n",
            "Training MSE (Random Forest): Row(avg(SE)=23850.847473799153)\n",
            "+-----------+-------------------+--------------+--------+---------+---+-------------+--------------------+------------------+\n",
            "|elapsedDays|totalTravelDistance|seatsRemaining|baseFare|totalFare|DOW|      DOW_ohe|            features|        prediction|\n",
            "+-----------+-------------------+--------------+--------+---------+---+-------------+--------------------+------------------+\n",
            "|        0.0|             1464.0|           0.0|     5.1|    30.69|  1|(7,[1],[1.0])|(10,[1,4],[1464.0...| 163.3220882049678|\n",
            "|        0.0|             1464.0|           0.0|     5.1|    30.69|  1|(7,[1],[1.0])|(10,[1,4],[1464.0...| 163.3220882049678|\n",
            "|        0.0|             1464.0|           0.0|     5.1|    30.69|  1|(7,[1],[1.0])|(10,[1,4],[1464.0...| 163.3220882049678|\n",
            "|        0.0|             1464.0|           0.0|     5.1|    30.69|  1|(7,[1],[1.0])|(10,[1,4],[1464.0...| 163.3220882049678|\n",
            "|        0.0|             1464.0|           0.0|     5.1|    30.69|  1|(7,[1],[1.0])|(10,[1,4],[1464.0...| 163.3220882049678|\n",
            "|        0.0|             1464.0|           0.0|     5.1|    30.69|  2|(7,[2],[1.0])|(10,[1,5],[1464.0...|124.10081871673258|\n",
            "|        0.0|             1464.0|           0.0|     5.1|    30.69|  2|(7,[2],[1.0])|(10,[1,5],[1464.0...|124.10081871673258|\n",
            "|        0.0|             1464.0|           0.0|     5.1|    30.69|  2|(7,[2],[1.0])|(10,[1,5],[1464.0...|124.10081871673258|\n",
            "|        0.0|             1464.0|           0.0|     5.1|    30.69|  2|(7,[2],[1.0])|(10,[1,5],[1464.0...|124.10081871673258|\n",
            "|        0.0|             1464.0|           0.0|     5.1|    30.69|  2|(7,[2],[1.0])|(10,[1,5],[1464.0...|124.10081871673258|\n",
            "|        0.0|             1464.0|           0.0|     5.1|    30.69|  2|(7,[2],[1.0])|(10,[1,5],[1464.0...|124.10081871673258|\n",
            "|        0.0|             1464.0|           0.0|     5.1|    30.69|  2|(7,[2],[1.0])|(10,[1,5],[1464.0...|124.10081871673258|\n",
            "|        0.0|             1464.0|           0.0|     5.1|    30.69|  3|(7,[3],[1.0])|(10,[1,6],[1464.0...|111.09919781678846|\n",
            "|        0.0|             1464.0|           0.0|     5.1|    30.69|  3|(7,[3],[1.0])|(10,[1,6],[1464.0...|111.09919781678846|\n",
            "|        0.0|             1464.0|           0.0|     5.1|    30.69|  3|(7,[3],[1.0])|(10,[1,6],[1464.0...|111.09919781678846|\n",
            "|        0.0|             1464.0|           0.0|     5.1|    30.69|  3|(7,[3],[1.0])|(10,[1,6],[1464.0...|111.09919781678846|\n",
            "|        0.0|             1464.0|           0.0|     5.1|    30.69|  3|(7,[3],[1.0])|(10,[1,6],[1464.0...|111.09919781678846|\n",
            "|        0.0|             1464.0|           0.0|     5.1|    30.69|  3|(7,[3],[1.0])|(10,[1,6],[1464.0...|111.09919781678846|\n",
            "|        0.0|             1464.0|           0.0|     5.1|    30.69|  3|(7,[3],[1.0])|(10,[1,6],[1464.0...|111.09919781678846|\n",
            "|        0.0|             1464.0|           0.0|     5.1|    30.69|  3|(7,[3],[1.0])|(10,[1,6],[1464.0...|111.09919781678846|\n",
            "+-----------+-------------------+--------------+--------+---------+---+-------------+--------------------+------------------+\n",
            "only showing top 20 rows\n",
            "\n",
            "Test MSE (Random Forest): Row(avg(SE)=23829.521057660957)\n"
          ]
        }
      ]
    },
    {
      "cell_type": "markdown",
      "source": [
        "## End of Notebook\n",
        " In this notebook, we:\n",
        " - Loaded the flight itineraries data.\n",
        " - Created a feature engineering pipeline including imputation, one-hot encoding, and feature assembly.\n",
        " - Split the data into training and testing sets.\n",
        " - Trained both a Linear Regression and a Random Forest Regression model on the training set.\n",
        " - Evaluated the models using mean squared error (MSE) on both training and test sets."
      ],
      "metadata": {
        "id": "i9xUkBQQekb9"
      }
    }
  ]
}
{
  "cells": [
    {
      "cell_type": "markdown",
      "metadata": {
        "id": "7yAGXgbOmIq-"
      },
      "source": [
        "# CatBoost Model and Model Comparison\n",
        "\n",
        "This notebook implements an end-to-end pipeline to:\n",
        "1. Ingest and preprocess the flight prices dataset.\n",
        "2. Engineer features (including converting ISO 8601 travel durations to minutes,\n",
        "   extracting day-of-week, month, and date difference features).\n",
        "3. Train a baseline predictor, a Linear Regression model, a Random Forest Regressor,\n",
        "   and a CatBoost regressor.\n",
        "4. Compare their performance (using Mean Squared Error) on the training and test sets."
      ]
    },
    {
      "cell_type": "markdown",
      "metadata": {
        "id": "XEZQi53RmOG6"
      },
      "source": [
        "## Section 1: Setup and Data Ingestion\n",
        "\n",
        "Install required packages, download the dataset from Kaggle, unzip it, and create a Spark session."
      ]
    },
    {
      "cell_type": "code",
      "execution_count": null,
      "metadata": {
        "colab": {
          "base_uri": "https://localhost:8080/"
        },
        "id": "AFQcXjcEmWBH",
        "outputId": "27cccfc7-24f9-41d6-abc1-b3e4fb4c277c"
      },
      "outputs": [
        {
          "name": "stdout",
          "output_type": "stream",
          "text": [
            "Requirement already satisfied: kaggle in /usr/local/lib/python3.11/dist-packages (1.6.17)\n",
            "Requirement already satisfied: pyspark in /usr/local/lib/python3.11/dist-packages (3.5.5)\n",
            "Requirement already satisfied: catboost in /usr/local/lib/python3.11/dist-packages (1.2.7)\n",
            "Requirement already satisfied: six>=1.10 in /usr/local/lib/python3.11/dist-packages (from kaggle) (1.17.0)\n",
            "Requirement already satisfied: certifi>=2023.7.22 in /usr/local/lib/python3.11/dist-packages (from kaggle) (2025.1.31)\n",
            "Requirement already satisfied: python-dateutil in /usr/local/lib/python3.11/dist-packages (from kaggle) (2.9.0.post0)\n",
            "Requirement already satisfied: requests in /usr/local/lib/python3.11/dist-packages (from kaggle) (2.32.3)\n",
            "Requirement already satisfied: tqdm in /usr/local/lib/python3.11/dist-packages (from kaggle) (4.67.1)\n",
            "Requirement already satisfied: python-slugify in /usr/local/lib/python3.11/dist-packages (from kaggle) (8.0.4)\n",
            "Requirement already satisfied: urllib3 in /usr/local/lib/python3.11/dist-packages (from kaggle) (2.3.0)\n",
            "Requirement already satisfied: bleach in /usr/local/lib/python3.11/dist-packages (from kaggle) (6.2.0)\n",
            "Requirement already satisfied: py4j==0.10.9.7 in /usr/local/lib/python3.11/dist-packages (from pyspark) (0.10.9.7)\n",
            "Requirement already satisfied: graphviz in /usr/local/lib/python3.11/dist-packages (from catboost) (0.20.3)\n",
            "Requirement already satisfied: matplotlib in /usr/local/lib/python3.11/dist-packages (from catboost) (3.10.0)\n",
            "Requirement already satisfied: numpy<2.0,>=1.16.0 in /usr/local/lib/python3.11/dist-packages (from catboost) (1.26.4)\n",
            "Requirement already satisfied: pandas>=0.24 in /usr/local/lib/python3.11/dist-packages (from catboost) (2.2.2)\n",
            "Requirement already satisfied: scipy in /usr/local/lib/python3.11/dist-packages (from catboost) (1.13.1)\n",
            "Requirement already satisfied: plotly in /usr/local/lib/python3.11/dist-packages (from catboost) (5.24.1)\n",
            "Requirement already satisfied: pytz>=2020.1 in /usr/local/lib/python3.11/dist-packages (from pandas>=0.24->catboost) (2025.1)\n",
            "Requirement already satisfied: tzdata>=2022.7 in /usr/local/lib/python3.11/dist-packages (from pandas>=0.24->catboost) (2025.1)\n",
            "Requirement already satisfied: webencodings in /usr/local/lib/python3.11/dist-packages (from bleach->kaggle) (0.5.1)\n",
            "Requirement already satisfied: contourpy>=1.0.1 in /usr/local/lib/python3.11/dist-packages (from matplotlib->catboost) (1.3.1)\n",
            "Requirement already satisfied: cycler>=0.10 in /usr/local/lib/python3.11/dist-packages (from matplotlib->catboost) (0.12.1)\n",
            "Requirement already satisfied: fonttools>=4.22.0 in /usr/local/lib/python3.11/dist-packages (from matplotlib->catboost) (4.56.0)\n",
            "Requirement already satisfied: kiwisolver>=1.3.1 in /usr/local/lib/python3.11/dist-packages (from matplotlib->catboost) (1.4.8)\n",
            "Requirement already satisfied: packaging>=20.0 in /usr/local/lib/python3.11/dist-packages (from matplotlib->catboost) (24.2)\n",
            "Requirement already satisfied: pillow>=8 in /usr/local/lib/python3.11/dist-packages (from matplotlib->catboost) (11.1.0)\n",
            "Requirement already satisfied: pyparsing>=2.3.1 in /usr/local/lib/python3.11/dist-packages (from matplotlib->catboost) (3.2.1)\n",
            "Requirement already satisfied: tenacity>=6.2.0 in /usr/local/lib/python3.11/dist-packages (from plotly->catboost) (9.0.0)\n",
            "Requirement already satisfied: text-unidecode>=1.3 in /usr/local/lib/python3.11/dist-packages (from python-slugify->kaggle) (1.3)\n",
            "Requirement already satisfied: charset-normalizer<4,>=2 in /usr/local/lib/python3.11/dist-packages (from requests->kaggle) (3.4.1)\n",
            "Requirement already satisfied: idna<4,>=2.5 in /usr/local/lib/python3.11/dist-packages (from requests->kaggle) (3.10)\n"
          ]
        }
      ],
      "source": [
        "# Install necessary packages (uncomment if running for the first time)\n",
        "# !pip install kaggle pyspark catboost"
      ]
    },
    {
      "cell_type": "code",
      "execution_count": null,
      "metadata": {
        "colab": {
          "base_uri": "https://localhost:8080/"
        },
        "id": "PTT0r5eJmeL1",
        "outputId": "bd6372e8-e051-4a99-aa43-1288ee44737d"
      },
      "outputs": [
        {
          "name": "stdout",
          "output_type": "stream",
          "text": [
            "Dataset URL: https://www.kaggle.com/datasets/dilwong/flightprices\n",
            "License(s): Attribution 4.0 International (CC BY 4.0)\n",
            "flightprices.zip: Skipping, found more recently modified local copy (use --force to force download)\n",
            "Archive:  flightprices.zip\n"
          ]
        }
      ],
      "source": [
        "# Download and unzip the dataset (uncomment if running for the first time)\n",
        "!kaggle datasets download -d dilwong/flightprices\n",
        "!unzip -n flightprices.zip"
      ]
    },
    {
      "cell_type": "code",
      "execution_count": null,
      "metadata": {
        "colab": {
          "base_uri": "https://localhost:8080/"
        },
        "id": "_6zF2lgbmk9-",
        "outputId": "2a281c36-48f6-4644-e46a-5bf3bcce6cfa"
      },
      "outputs": [
        {
          "name": "stderr",
          "output_type": "stream",
          "text": [
            "/usr/local/lib/python3.11/dist-packages/pyspark/sql/context.py:113: FutureWarning: Deprecated in 3.0.0. Use SparkSession.builder.getOrCreate() instead.\n",
            "  warnings.warn(\n"
          ]
        },
        {
          "name": "stdout",
          "output_type": "stream",
          "text": [
            "Sample of raw data:\n",
            "+--------------------+----------+----------+---------------+------------------+-------------+--------------+-----------+--------------+------------+---------+--------+---------+--------------+-------------------+---------------------------------+------------------------+-------------------------------+----------------------+--------------------------+----------------------------+-------------------+-------------------+----------------------------+-------------------------+----------------+-----------------+\n",
            "|               legId|searchDate|flightDate|startingAirport|destinationAirport|fareBasisCode|travelDuration|elapsedDays|isBasicEconomy|isRefundable|isNonStop|baseFare|totalFare|seatsRemaining|totalTravelDistance|segmentsDepartureTimeEpochSeconds|segmentsDepartureTimeRaw|segmentsArrivalTimeEpochSeconds|segmentsArrivalTimeRaw|segmentsArrivalAirportCode|segmentsDepartureAirportCode|segmentsAirlineName|segmentsAirlineCode|segmentsEquipmentDescription|segmentsDurationInSeconds|segmentsDistance|segmentsCabinCode|\n",
            "+--------------------+----------+----------+---------------+------------------+-------------+--------------+-----------+--------------+------------+---------+--------+---------+--------------+-------------------+---------------------------------+------------------------+-------------------------------+----------------------+--------------------------+----------------------------+-------------------+-------------------+----------------------------+-------------------------+----------------+-----------------+\n",
            "|9ca0e81111c683bec...|2022-04-16|2022-04-17|            ATL|               BOS|     LA0NX0MC|       PT2H29M|          0|         False|       False|     True|  217.67|   248.60|             9|                947|                       1650214620|    2022-04-17T12:57:...|                     1650223560|  2022-04-17T15:26:...|                       BOS|                         ATL|              Delta|                 DL|                 Airbus A321|                     8940|             947|            coach|\n",
            "|98685953630e772a0...|2022-04-16|2022-04-17|            ATL|               BOS|     LA0NX0MC|       PT2H30M|          0|         False|       False|     True|  217.67|   248.60|             4|                947|                       1650191400|    2022-04-17T06:30:...|                     1650200400|  2022-04-17T09:00:...|                       BOS|                         ATL|              Delta|                 DL|                 Airbus A321|                     9000|             947|            coach|\n",
            "|98d90cbc32bfbb05c...|2022-04-16|2022-04-17|            ATL|               BOS|     LA0NX0MC|       PT2H30M|          0|         False|       False|     True|  217.67|   248.60|             9|                947|                       1650209700|    2022-04-17T11:35:...|                     1650218700|  2022-04-17T14:05:...|                       BOS|                         ATL|              Delta|                 DL|              Boeing 757-200|                     9000|             947|            coach|\n",
            "|969a269d38eae583f...|2022-04-16|2022-04-17|            ATL|               BOS|     LA0NX0MC|       PT2H32M|          0|         False|       False|     True|  217.67|   248.60|             8|                947|                       1650218340|    2022-04-17T13:59:...|                     1650227460|  2022-04-17T16:31:...|                       BOS|                         ATL|              Delta|                 DL|                 Airbus A321|                     9120|             947|            coach|\n",
            "|980370cf27c89b40d...|2022-04-16|2022-04-17|            ATL|               BOS|     LA0NX0MC|       PT2H34M|          0|         False|       False|     True|  217.67|   248.60|             9|                947|                       1650203940|    2022-04-17T09:59:...|                     1650213180|  2022-04-17T12:33:...|                       BOS|                         ATL|              Delta|                 DL|                 Airbus A321|                     9240|             947|            coach|\n",
            "+--------------------+----------+----------+---------------+------------------+-------------+--------------+-----------+--------------+------------+---------+--------+---------+--------------+-------------------+---------------------------------+------------------------+-------------------------------+----------------------+--------------------------+----------------------------+-------------------+-------------------+----------------------------+-------------------------+----------------+-----------------+\n",
            "only showing top 5 rows\n",
            "\n"
          ]
        }
      ],
      "source": [
        "# Import standard libraries\n",
        "import re\n",
        "import numpy as np\n",
        "import pandas as pd\n",
        "import matplotlib.pyplot as plt\n",
        "import seaborn as sns\n",
        "\n",
        "# Import PySpark modules\n",
        "from pyspark import SparkContext\n",
        "from pyspark.sql import SparkSession, SQLContext\n",
        "import pyspark.sql.functions as F\n",
        "\n",
        "# Stop any existing SparkContext and initialize a new one\n",
        "try:\n",
        "    sc.stop()\n",
        "except Exception as e:\n",
        "    pass\n",
        "sc = SparkContext()\n",
        "sqlContext = SQLContext(sc)\n",
        "ss = SparkSession.builder.getOrCreate()\n",
        "\n",
        "# Read the CSV file into a Spark DataFrame\n",
        "df = sqlContext.read.csv('itineraries.csv', header=True)\n",
        "print(\"Sample of raw data:\")\n",
        "df.show(5)"
      ]
    },
    {
      "cell_type": "markdown",
      "metadata": {
        "id": "UxzQPMV9mn2W"
      },
      "source": [
        "## Section 2: Feature Engineering\n",
        "\n",
        "Define a UDF to convert the travel duration (e.g., 'PT2H29M') into minutes.\n",
        "Extract additional features: day-of-week (DOW), month-of-year (MOY), date difference between flight and search dates (DTF).\n",
        "Select numerical and categorical features."
      ]
    },
    {
      "cell_type": "code",
      "execution_count": null,
      "metadata": {
        "colab": {
          "base_uri": "https://localhost:8080/"
        },
        "id": "x6NQ30-Fmt0s",
        "outputId": "b4fc9061-ab0e-48dc-a97a-8016516777ee"
      },
      "outputs": [
        {
          "name": "stdout",
          "output_type": "stream",
          "text": [
            "Data after feature extraction:\n",
            "+-----------+-------------------+--------------+--------+---------+---------------+------------------+--------------+---------+---+---+---+-----+\n",
            "|elapsedDays|totalTravelDistance|seatsRemaining|baseFare|totalFare|startingAirport|destinationAirport|isBasicEconomy|isNonstop|DOW|MOY|DTF| tD_p|\n",
            "+-----------+-------------------+--------------+--------+---------+---------------+------------------+--------------+---------+---+---+---+-----+\n",
            "|        0.0|              947.0|           9.0|  217.67|    248.6|            ATL|               BOS|         False|     True|  1|  4|  1|149.0|\n",
            "|        0.0|              947.0|           4.0|  217.67|    248.6|            ATL|               BOS|         False|     True|  1|  4|  1|150.0|\n",
            "|        0.0|              947.0|           9.0|  217.67|    248.6|            ATL|               BOS|         False|     True|  1|  4|  1|150.0|\n",
            "|        0.0|              947.0|           8.0|  217.67|    248.6|            ATL|               BOS|         False|     True|  1|  4|  1|152.0|\n",
            "|        0.0|              947.0|           9.0|  217.67|    248.6|            ATL|               BOS|         False|     True|  1|  4|  1|154.0|\n",
            "+-----------+-------------------+--------------+--------+---------+---------------+------------------+--------------+---------+---+---+---+-----+\n",
            "only showing top 5 rows\n",
            "\n"
          ]
        }
      ],
      "source": [
        "# Define UDF to process travel duration strings and convert them to minutes\n",
        "def tD_proc(entry):\n",
        "    # Remove 'P' and 'T' characters\n",
        "    wo_PT = ''.join(re.split('[PT]', entry))\n",
        "    # Split based on days, hours, and minutes\n",
        "    daysplit = re.split('D', wo_PT)\n",
        "    hoursplit = re.split('H', daysplit[-1])\n",
        "    minsplit = re.split('M', hoursplit[-1])\n",
        "    totalmins = 0\n",
        "    try:\n",
        "        totalmins += 24 * 60 * int(daysplit[0])\n",
        "    except:\n",
        "        pass\n",
        "    try:\n",
        "        totalmins += 60 * int(hoursplit[0])\n",
        "    except:\n",
        "        pass\n",
        "    try:\n",
        "        totalmins += int(minsplit[0])\n",
        "    except:\n",
        "        pass\n",
        "    return totalmins\n",
        "\n",
        "# Register the UDF with Spark\n",
        "tD_p = F.udf(lambda x: tD_proc(x))\n",
        "\n",
        "# Define lists of features\n",
        "num_feats = ['elapsedDays', 'totalTravelDistance', 'seatsRemaining']\n",
        "cat_feats = ['startingAirport', 'destinationAirport', 'isBasicEconomy', 'isNonstop']\n",
        "targets = ['baseFare', 'totalFare']\n",
        "\n",
        "# Extract features from the DataFrame and cast numerical columns to float.\n",
        "# Also extract date-based features: DOW, MOY, DTF; and convert travelDuration using our UDF.\n",
        "fdf = df.select(\n",
        "    *[df[f].cast('float') for f in num_feats + targets],\n",
        "    *cat_feats,\n",
        "    F.dayofweek(df['flightDate']).alias('DOW'),\n",
        "    F.month(df['flightDate']).alias('MOY'),\n",
        "    F.datediff(df['flightDate'], df['searchDate']).alias('DTF'),\n",
        "    tD_p('travelDuration').alias('tD_p').cast('float')\n",
        ")\n",
        "print(\"Data after feature extraction:\")\n",
        "fdf.show(5)"
      ]
    },
    {
      "cell_type": "markdown",
      "metadata": {
        "id": "oHguoiEVmzSQ"
      },
      "source": [
        "## Section 3: Preprocessing Pipeline and Train-Test Split\n",
        "\n",
        "Build an ML pipeline that:\n",
        "- Imputes missing values in numerical features (using the median),\n",
        "- Encodes categorical features (including the extracted DOW and MOY) with StringIndexer and OneHotEncoder,\n",
        "- Assembles all features into a single feature vector.\n",
        "\n",
        "Then, split the data into training (75%) and test (25%) sets."
      ]
    },
    {
      "cell_type": "code",
      "execution_count": null,
      "metadata": {
        "colab": {
          "base_uri": "https://localhost:8080/"
        },
        "id": "XHYfVhQIm4v9",
        "outputId": "44ad2509-7cde-48f5-dfb6-8536234bf0f0"
      },
      "outputs": [
        {
          "name": "stdout",
          "output_type": "stream",
          "text": [
            "Total rows in fdf: 82138753\n",
            "Sample of training features:\n",
            "+--------------------+--------+\n",
            "|            features|baseFare|\n",
            "+--------------------+--------+\n",
            "|(56,[1,3,4,12,34,...|    0.41|\n",
            "|(56,[1,3,4,6,29,3...|    0.41|\n",
            "|(56,[1,3,4,12,34,...|     1.0|\n",
            "|(56,[1,3,4,12,25,...|     1.0|\n",
            "|(56,[1,3,4,18,29,...|     1.0|\n",
            "+--------------------+--------+\n",
            "only showing top 5 rows\n",
            "\n"
          ]
        }
      ],
      "source": [
        "from pyspark.sql import SparkSession, SQLContext\n",
        "from pyspark.ml.feature import Imputer, StringIndexer, OneHotEncoder, VectorAssembler\n",
        "from pyspark.ml import Pipeline\n",
        "import pyspark.sql.functions as F\n",
        "\n",
        "# Stop any existing SparkContext.\n",
        "try:\n",
        "    sc.stop()\n",
        "except Exception:\n",
        "    pass\n",
        "\n",
        "# Reinitialize SparkSession with increased memory and additional configurations.\n",
        "spark = SparkSession.builder \\\n",
        "    .master(\"local[*]\") \\\n",
        "    .config(\"spark.driver.memory\", \"200g\") \\\n",
        "    .config(\"spark.executor.memory\", \"200g\") \\\n",
        "    .config(\"spark.driver.maxResultSize\", \"0\") \\\n",
        "    .config(\"spark.memory.offHeap.enabled\", \"true\") \\\n",
        "    .config(\"spark.memory.offHeap.size\", \"100g\") \\\n",
        "    .getOrCreate()\n",
        "sqlContext = SQLContext(spark)\n",
        "\n",
        "# Re-read the dataset.\n",
        "df = sqlContext.read.csv('itineraries.csv', header=True)\n",
        "\n",
        "# Define feature lists.\n",
        "num_feats = ['elapsedDays', 'totalTravelDistance', 'seatsRemaining']\n",
        "cat_feats = ['startingAirport', 'destinationAirport', 'isBasicEconomy', 'isNonstop']\n",
        "targets = ['baseFare', 'totalFare']\n",
        "\n",
        "# Assume the UDF tD_p (for processing travelDuration) is already defined.\n",
        "# Create a feature DataFrame by extracting and casting necessary columns,\n",
        "# including date-based features and processed travel duration.\n",
        "fdf = df.select(\n",
        "    *[df[f].cast('float') for f in num_feats + targets],\n",
        "    *cat_feats,\n",
        "    F.dayofweek(df['flightDate']).alias('DOW'),\n",
        "    F.month(df['flightDate']).alias('MOY'),\n",
        "    F.datediff(df['flightDate'], df['searchDate']).alias('DTF'),\n",
        "    tD_p('travelDuration').alias('tD_p').cast('float')\n",
        ")\n",
        "\n",
        "# Repartition the DataFrame to distribute the load.\n",
        "fdf = fdf.repartition(1000)\n",
        "\n",
        "print(\"Total rows in fdf:\", fdf.count())\n",
        "\n",
        "# Extend categorical features to include DOW and MOY.\n",
        "cat_feats_extended = cat_feats + ['DOW', 'MOY']\n",
        "# Numeric features to impute include original numeric features plus DTF and processed travel duration.\n",
        "num_feats_extended = num_feats + ['DTF', 'tD_p']\n",
        "\n",
        "# Pipeline stages:\n",
        "# 1. Impute missing numerical features using the median.\n",
        "imputer = Imputer(inputCols=num_feats_extended, outputCols=num_feats_extended, strategy='median')\n",
        "# 2. StringIndexers for each categorical feature.\n",
        "cat_indexers = [StringIndexer(inputCol=c, outputCol=c + '_si', handleInvalid='keep') for c in cat_feats_extended]\n",
        "# 3. OneHotEncoder for each indexed categorical feature.\n",
        "cat_ohe = [OneHotEncoder(inputCol=c + '_si', outputCol=c + '_ohe') for c in cat_feats_extended]\n",
        "# 4. Assemble numerical and one-hot encoded features into a single feature vector.\n",
        "assembler_inputs = num_feats_extended + [c + '_ohe' for c in cat_feats_extended]\n",
        "assembler = VectorAssembler(inputCols=assembler_inputs, outputCol='features')\n",
        "\n",
        "# Build the pipeline.\n",
        "pipeline_stages = [imputer] + cat_indexers + cat_ohe + [assembler]\n",
        "pipeline = Pipeline(stages=pipeline_stages)\n",
        "\n",
        "# Split the data into training (75%) and testing (25%) sets.\n",
        "train_df, test_df = fdf.randomSplit([0.75, 0.25], seed=42)\n",
        "\n",
        "# Fit the pipeline on the training data.\n",
        "fe_pipeline = pipeline.fit(train_df)\n",
        "train_fe = fe_pipeline.transform(train_df)\n",
        "test_fe = fe_pipeline.transform(test_df)\n",
        "\n",
        "print(\"Sample of training features:\")\n",
        "train_fe.select('features', targets[0]).show(5)"
      ]
    },
    {
      "cell_type": "markdown",
      "metadata": {
        "id": "Gjr_thnxm84I"
      },
      "source": [
        "## Section 4: Baseline and Spark Model Training\n",
        "\n",
        "Train three models using Spark ML:\n",
        "1. **Baseline Predictor:** Always predict the training mean.\n",
        "2. **Linear Regression**\n",
        "3. **Random Forest Regressor**\n",
        "\n",
        "We compute Mean Squared Error (MSE) on both training and test sets."
      ]
    },
    {
      "cell_type": "code",
      "execution_count": null,
      "metadata": {
        "colab": {
          "base_uri": "https://localhost:8080/"
        },
        "id": "2iSMWBdknDyU",
        "outputId": "74e87483-173e-4cf0-b902-785d9533839e"
      },
      "outputs": [
        {
          "name": "stdout",
          "output_type": "stream",
          "text": [
            "Baseline Train MSE: 33567.460553085315\n",
            "Baseline Test MSE: 33530.13767433946\n",
            "Linear Regression Train MSE: 18380.367399595474\n",
            "Linear Regression Test MSE: 18364.11137657671\n",
            "Random Forest Train MSE: 18515.464805115404\n",
            "Random Forest Test MSE: 18490.75501672059\n"
          ]
        }
      ],
      "source": [
        "from pyspark.ml.regression import LinearRegression, RandomForestRegressor\n",
        "\n",
        "# Choose the target variable for prediction\n",
        "target_choice = 'baseFare'\n",
        "\n",
        "# Function to compute MSE from a DataFrame (Spark)\n",
        "def compute_mse(df, target, prediction_col):\n",
        "    mse_df = df.select(((df[target] - df[prediction_col])**2).alias('SE'))\n",
        "    mse = mse_df.agg({'SE': 'mean'}).first()[0]\n",
        "    return mse\n",
        "\n",
        "# Baseline predictor: use the mean of the target from training data\n",
        "train_mean = train_fe.agg({target_choice: 'mean'}).first()['avg(' + target_choice + ')']\n",
        "train_fe = train_fe.withColumn('baseline_pred', F.lit(train_mean))\n",
        "test_fe = test_fe.withColumn('baseline_pred', F.lit(train_mean))\n",
        "baseline_train_mse = compute_mse(train_fe, target_choice, 'baseline_pred')\n",
        "baseline_test_mse = compute_mse(test_fe, target_choice, 'baseline_pred')\n",
        "print(\"Baseline Train MSE:\", baseline_train_mse)\n",
        "print(\"Baseline Test MSE:\", baseline_test_mse)\n",
        "\n",
        "# Linear Regression Model\n",
        "lr = LinearRegression(featuresCol='features', labelCol=target_choice)\n",
        "lr_model = lr.fit(train_fe)\n",
        "train_lr = lr_model.transform(train_fe)\n",
        "test_lr = lr_model.transform(test_fe)\n",
        "lr_train_mse = compute_mse(train_lr, target_choice, 'prediction')\n",
        "lr_test_mse = compute_mse(test_lr, target_choice, 'prediction')\n",
        "print(\"Linear Regression Train MSE:\", lr_train_mse)\n",
        "print(\"Linear Regression Test MSE:\", lr_test_mse)\n",
        "\n",
        "# Random Forest Regressor\n",
        "rfr = RandomForestRegressor(featuresCol='features', labelCol=target_choice, seed=42)\n",
        "rfr_model = rfr.fit(train_fe)\n",
        "train_rfr = rfr_model.transform(train_fe)\n",
        "test_rfr = rfr_model.transform(test_fe)\n",
        "rfr_train_mse = compute_mse(train_rfr, target_choice, 'prediction')\n",
        "rfr_test_mse = compute_mse(test_rfr, target_choice, 'prediction')\n",
        "print(\"Random Forest Train MSE:\", rfr_train_mse)\n",
        "print(\"Random Forest Test MSE:\", rfr_test_mse)"
      ]
    },
    {
      "cell_type": "markdown",
      "metadata": {
        "id": "ga0pAipmnHyk"
      },
      "source": [
        "## Section 5: File-Based CatBoost Training Using Pools\n",
        "\n",
        "In this section, we:\n",
        "1. Convert the assembled features (in a vector column) into separate numeric columns.\n",
        "2. Write the training and test DataFrames to CSV files.\n",
        "3. Create column description files (for CatBoost) that mark the first column as the target and the remaining as numeric features.\n",
        "4. Create CatBoost Pool objects from these CSV files.\n",
        "5. Iterate over a parameter grid to train CatBoost models and compute MSE for training and test sets."
      ]
    },
    {
      "cell_type": "code",
      "execution_count": null,
      "metadata": {
        "colab": {
          "base_uri": "https://localhost:8080/"
        },
        "id": "buiCzpeVnP3j",
        "outputId": "adb74830-b67f-42e2-936e-f2f44c02a5a8"
      },
      "outputs": [
        {
          "name": "stdout",
          "output_type": "stream",
          "text": [
            "Feature vector dimension: 56\n",
            "Generated CSV files and column description files.\n",
            "Training with parameters: {'iterations': 100, 'depth': 4, 'learning_rate': 0.1, 'loss_function': 'RMSE', 'random_seed': 42}\n",
            "0:\tlearn: 176.5874318\ttotal: 982ms\tremaining: 1m 37s\n",
            "10:\tlearn: 146.2220105\ttotal: 9.25s\tremaining: 1m 14s\n",
            "20:\tlearn: 137.3719892\ttotal: 17.2s\tremaining: 1m 4s\n",
            "30:\tlearn: 133.3950700\ttotal: 25.1s\tremaining: 56s\n",
            "40:\tlearn: 130.9893641\ttotal: 33.1s\tremaining: 47.6s\n",
            "50:\tlearn: 129.2123444\ttotal: 41.1s\tremaining: 39.5s\n",
            "60:\tlearn: 127.8684886\ttotal: 49s\tremaining: 31.4s\n",
            "70:\tlearn: 126.8325843\ttotal: 57s\tremaining: 23.3s\n",
            "80:\tlearn: 126.0535800\ttotal: 1m 4s\tremaining: 15.2s\n",
            "90:\tlearn: 125.3799259\ttotal: 1m 12s\tremaining: 7.21s\n",
            "99:\tlearn: 124.8320014\ttotal: 1m 20s\tremaining: 0us\n",
            "Train MSE: 15583.028510448317\n",
            "Test MSE: 15561.656021438213\n",
            "--------------------------------------------------\n",
            "Training with parameters: {'iterations': 100, 'depth': 6, 'learning_rate': 0.1, 'loss_function': 'RMSE', 'random_seed': 42}\n",
            "0:\tlearn: 175.8882999\ttotal: 1.08s\tremaining: 1m 47s\n",
            "10:\tlearn: 141.9188699\ttotal: 10.8s\tremaining: 1m 27s\n",
            "20:\tlearn: 133.0340932\ttotal: 20.3s\tremaining: 1m 16s\n",
            "30:\tlearn: 129.3422395\ttotal: 29.9s\tremaining: 1m 6s\n",
            "40:\tlearn: 127.0181740\ttotal: 39.7s\tremaining: 57.1s\n",
            "50:\tlearn: 125.4815579\ttotal: 49.3s\tremaining: 47.3s\n",
            "60:\tlearn: 124.2246546\ttotal: 58.7s\tremaining: 37.5s\n",
            "70:\tlearn: 123.2369524\ttotal: 1m 8s\tremaining: 27.9s\n",
            "80:\tlearn: 122.3962715\ttotal: 1m 17s\tremaining: 18.2s\n",
            "90:\tlearn: 121.6663387\ttotal: 1m 27s\tremaining: 8.61s\n",
            "99:\tlearn: 121.1077217\ttotal: 1m 35s\tremaining: 0us\n",
            "Train MSE: 14667.08019398704\n",
            "Test MSE: 14645.860657686528\n",
            "--------------------------------------------------\n",
            "Training with parameters: {'iterations': 100, 'depth': 8, 'learning_rate': 0.1, 'loss_function': 'RMSE', 'random_seed': 42}\n",
            "0:\tlearn: 175.3679381\ttotal: 1.25s\tremaining: 2m 3s\n",
            "10:\tlearn: 138.7859748\ttotal: 12.3s\tremaining: 1m 39s\n",
            "20:\tlearn: 129.9109726\ttotal: 23.3s\tremaining: 1m 27s\n",
            "30:\tlearn: 126.3280172\ttotal: 34.1s\tremaining: 1m 15s\n",
            "40:\tlearn: 124.1467879\ttotal: 45.1s\tremaining: 1m 4s\n",
            "50:\tlearn: 122.4105200\ttotal: 56.1s\tremaining: 53.9s\n",
            "60:\tlearn: 121.1602369\ttotal: 1m 7s\tremaining: 43s\n",
            "70:\tlearn: 120.0425040\ttotal: 1m 18s\tremaining: 32s\n",
            "80:\tlearn: 119.1796357\ttotal: 1m 29s\tremaining: 20.9s\n",
            "90:\tlearn: 118.3981132\ttotal: 1m 39s\tremaining: 9.87s\n",
            "99:\tlearn: 117.7373643\ttotal: 1m 49s\tremaining: 0us\n",
            "Train MSE: 13862.086911088234\n",
            "Test MSE: 13841.205473736962\n",
            "--------------------------------------------------\n",
            "Parameter Tuning Results:\n",
            "   iterations  depth  learning_rate loss_function  random_seed     train_mse  \\\n",
            "0         100      4            0.1          RMSE           42  15583.028510   \n",
            "1         100      6            0.1          RMSE           42  14667.080194   \n",
            "2         100      8            0.1          RMSE           42  13862.086911   \n",
            "\n",
            "       test_mse  \n",
            "0  15561.656021  \n",
            "1  14645.860658  \n",
            "2  13841.205474  \n"
          ]
        }
      ],
      "source": [
        "import pyspark.sql.functions as F\n",
        "from pyspark.ml.functions import vector_to_array\n",
        "import glob, os\n",
        "import numpy as np\n",
        "import pandas as pd\n",
        "from catboost import CatBoostRegressor, Pool\n",
        "\n",
        "# Determine the dimension of the features vector.\n",
        "first_row = train_fe.select(\"features\").head()\n",
        "dim = len(first_row[\"features\"].toArray())\n",
        "print(\"Feature vector dimension:\", dim)\n",
        "\n",
        "# Convert the \"features\" column into an array column.\n",
        "train_fe = train_fe.withColumn(\"features_array\", vector_to_array(\"features\"))\n",
        "test_fe = test_fe.withColumn(\"features_array\", vector_to_array(\"features\"))\n",
        "\n",
        "# Convert the \"features_array\" into separate columns (f0, f1, ..., f{dim-1}).\n",
        "for i in range(dim):\n",
        "    train_fe = train_fe.withColumn(f\"f{i}\", F.col(\"features_array\").getItem(i))\n",
        "    test_fe = test_fe.withColumn(f\"f{i}\", F.col(\"features_array\").getItem(i))\n",
        "\n",
        "# Create flat DataFrames containing the target and individual feature columns.\n",
        "target_col = \"baseFare\"  # Adjust if your target variable name is different.\n",
        "train_flat = train_fe.select(target_col, *[f\"f{i}\" for i in range(dim)])\n",
        "test_flat = test_fe.select(target_col, *[f\"f{i}\" for i in range(dim)])\n",
        "\n",
        "# Write these DataFrames to CSV files.\n",
        "# We coalesce to 1 partition to produce a single CSV file.\n",
        "train_output_dir = \"train_catboost_tmp\"\n",
        "test_output_dir = \"test_catboost_tmp\"\n",
        "\n",
        "train_flat.coalesce(1).write.option(\"header\", \"true\").mode(\"overwrite\").csv(train_output_dir)\n",
        "test_flat.coalesce(1).write.option(\"header\", \"true\").mode(\"overwrite\").csv(test_output_dir)\n",
        "\n",
        "# Function to locate the generated CSV part file and rename it.\n",
        "def get_single_csv_file(tmp_dir, output_file):\n",
        "    files = glob.glob(tmp_dir + \"/part-*.csv\")\n",
        "    if files:\n",
        "        os.rename(files[0], output_file)\n",
        "        os.system(\"rm -rf \" + tmp_dir)\n",
        "    else:\n",
        "        print(\"No CSV file found in\", tmp_dir)\n",
        "\n",
        "get_single_csv_file(train_output_dir, \"train_catboost.csv\")\n",
        "get_single_csv_file(test_output_dir, \"test_catboost.csv\")\n",
        "\n",
        "# Generate column description files.\n",
        "# The CSV files have header: target_col, f0, f1, ..., f{dim-1}.\n",
        "with open(\"train_cd.txt\", \"w\") as f:\n",
        "    f.write(\"0\\tTarget\\n\")\n",
        "    for i in range(1, dim+1):\n",
        "        f.write(f\"{i}\\tNum\\n\")\n",
        "with open(\"test_cd.txt\", \"w\") as f:\n",
        "    f.write(\"0\\tTarget\\n\")\n",
        "    for i in range(1, dim+1):\n",
        "        f.write(f\"{i}\\tNum\\n\")\n",
        "\n",
        "print(\"Generated CSV files and column description files.\")\n",
        "\n",
        "# Create CatBoost Pool objects for training and testing.\n",
        "# Set has_header=True so that CatBoost skips the header row.\n",
        "train_pool = Pool(data=\"train_catboost.csv\", column_description=\"train_cd.txt\", delimiter=\",\", has_header=True)\n",
        "test_pool  = Pool(data=\"test_catboost.csv\", column_description=\"test_cd.txt\", delimiter=\",\", has_header=True)\n",
        "\n",
        "# Define a grid of parameters to test.\n",
        "param_grid = [\n",
        "    {'iterations': 100, 'depth': 4, 'learning_rate': 0.1, 'loss_function': 'RMSE', 'random_seed': 42},\n",
        "    {'iterations': 100, 'depth': 6, 'learning_rate': 0.1, 'loss_function': 'RMSE', 'random_seed': 42},\n",
        "    {'iterations': 100, 'depth': 8, 'learning_rate': 0.1, 'loss_function': 'RMSE', 'random_seed': 42},\n",
        "    # {'iterations': 200, 'depth': 6, 'learning_rate': 0.05, 'loss_function': 'RMSE', 'random_seed': 42},\n",
        "    # {'iterations': 200, 'depth': 6, 'learning_rate': 0.1, 'loss_function': 'RMSE', 'random_seed': 42},\n",
        "    # {'iterations': 200, 'depth': 8, 'learning_rate': 0.05, 'loss_function': 'RMSE', 'random_seed': 42},\n",
        "]\n",
        "\n",
        "results = []\n",
        "for params in param_grid:\n",
        "    print(\"Training with parameters:\", params)\n",
        "    cat_model = CatBoostRegressor(**params, verbose=10)\n",
        "    cat_model.fit(train_pool)\n",
        "\n",
        "    # Get predictions on train and test pools.\n",
        "    train_pred = cat_model.predict(train_pool)\n",
        "    test_pred = cat_model.predict(test_pool)\n",
        "\n",
        "    # Retrieve true labels from the Pool objects and convert to float.\n",
        "    y_train = np.array(train_pool.get_label(), dtype=float)\n",
        "    y_test = np.array(test_pool.get_label(), dtype=float)\n",
        "\n",
        "    # Compute Mean Squared Error (MSE).\n",
        "    train_mse = np.mean((y_train - train_pred) ** 2)\n",
        "    test_mse = np.mean((y_test - test_pred) ** 2)\n",
        "\n",
        "    print(\"Train MSE:\", train_mse)\n",
        "    print(\"Test MSE:\", test_mse)\n",
        "    print(\"-\" * 50)\n",
        "\n",
        "    result = params.copy()\n",
        "    result.update({'train_mse': train_mse, 'test_mse': test_mse})\n",
        "    results.append(result)\n",
        "\n",
        "results_df = pd.DataFrame(results)\n",
        "print(\"Parameter Tuning Results:\")\n",
        "print(results_df)\n"
      ]
    },
    {
      "cell_type": "markdown",
      "metadata": {
        "id": "VvhZoXANnSMx"
      },
      "source": [
        "## Section 6: Model Comparison\n",
        "\n",
        "Create a summary table comparing the MSE (Mean Squared Error) of the baseline, Linear Regression, Random Forest, and CatBoost models on both training and test sets."
      ]
    },
    {
      "cell_type": "code",
      "execution_count": null,
      "metadata": {
        "colab": {
          "base_uri": "https://localhost:8080/",
          "height": 735
        },
        "id": "Y5b-2NpVmANd",
        "outputId": "f7ae0abd-d861-4665-ebd5-0e09bd73b2f6"
      },
      "outputs": [
        {
          "name": "stdout",
          "output_type": "stream",
          "text": [
            "\n",
            "Model Comparison:\n",
            "               Model     Train MSE      Test MSE\n",
            "0           Baseline  33567.460553  33530.137674\n",
            "1  Linear Regression  18380.367400  18364.111377\n",
            "2      Random Forest  18515.464805  18490.755017\n",
            "3           CatBoost  13862.086911  13841.205474\n"
          ]
        },
        {
          "name": "stderr",
          "output_type": "stream",
          "text": [
            "<ipython-input-8-b827dde7e5a4>:27: FutureWarning: \n",
            "\n",
            "Passing `palette` without assigning `hue` is deprecated and will be removed in v0.14.0. Assign the `x` variable to `hue` and set `legend=False` for the same effect.\n",
            "\n",
            "  sns.barplot(x='Model', y='Test MSE', data=results, palette=\"viridis\")\n"
          ]
        },
        {
          "data": {
            "image/png": "[encoded data removed]",
            "text/plain": [
              "<Figure size 800x500 with 1 Axes>"
            ]
          },
          "metadata": {},
          "output_type": "display_data"
        }
      ],
      "source": [
        "import pandas as pd\n",
        "import matplotlib.pyplot as plt\n",
        "import seaborn as sns\n",
        "\n",
        "# If catboost variables aren't defined directly, try to extract the best configuration from results_df.\n",
        "try:\n",
        "    cat_train_mse\n",
        "except NameError:\n",
        "    if 'results_df' in globals() and not results_df.empty:\n",
        "        best_cat = results_df.loc[results_df['test_mse'].idxmin()]\n",
        "        cat_train_mse = best_cat['train_mse']\n",
        "        cat_test_mse = best_cat['test_mse']\n",
        "    else:\n",
        "        raise ValueError(\"CatBoost results not found. Ensure that Section 5 has been executed properly.\")\n",
        "\n",
        "# Create a DataFrame for model comparison.\n",
        "results = pd.DataFrame({\n",
        "    'Model': ['Baseline', 'Linear Regression', 'Random Forest', 'CatBoost'],\n",
        "    'Train MSE': [baseline_train_mse, lr_train_mse, rfr_train_mse, cat_train_mse],\n",
        "    'Test MSE': [baseline_test_mse, lr_test_mse, rfr_test_mse, cat_test_mse]\n",
        "})\n",
        "print(\"\\nModel Comparison:\")\n",
        "print(results)\n",
        "\n",
        "# Plot the Test MSE values for visual comparison.\n",
        "plt.figure(figsize=(8, 5))\n",
        "sns.barplot(x='Model', y='Test MSE', data=results, palette=\"viridis\")\n",
        "plt.title('Test MSE Comparison Across Models')\n",
        "plt.ylabel('Test MSE')\n",
        "plt.xlabel('Model')\n",
        "plt.tight_layout()\n",
        "plt.show()\n"
      ]
    }
  ],
  "metadata": {
    "accelerator": "TPU",
    "colab": {
      "gpuType": "V28",
      "machine_shape": "hm",
      "provenance": []
    },
    "kernelspec": {
      "display_name": "Python 3",
      "name": "python3"
    },
    "language_info": {
      "name": "python"
    }
  },
  "nbformat": 4,
  "nbformat_minor": 0
}

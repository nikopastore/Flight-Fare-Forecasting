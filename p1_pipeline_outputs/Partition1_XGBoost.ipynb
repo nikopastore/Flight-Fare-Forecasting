{
  "cells": [
    {
      "cell_type": "markdown",
      "metadata": {
        "id": "9yymT4zVRTTU"
      },
      "source": [
        "# Data Load"
      ]
    },
    {
      "cell_type": "markdown",
      "metadata": {
        "id": "RXdFgw9ZXijn"
      },
      "source": [
        "## Procedure"
      ]
    },
    {
      "cell_type": "code",
      "execution_count": 1,
      "metadata": {
        "id": "tAI0dO1O5O_G"
      },
      "outputs": [],
      "source": [
        "import re\n",
        "import time\n",
        "import numpy as np\n",
        "import pandas as pd\n",
        "import matplotlib.pyplot as plt\n",
        "import seaborn as sns"
      ]
    },
    {
      "cell_type": "code",
      "execution_count": 2,
      "metadata": {
        "id": "eN7nBXCB9woQ"
      },
      "outputs": [],
      "source": [
        "runtime_log = []\n",
        "section_flag = 0\n",
        "def log_time():\n",
        "  t = time.time()\n",
        "  runtime_log.append(t)\n",
        "  return t\n",
        "def time_flag(note = 'Process complete!', frum = -2, to = -1, save_flag = False):\n",
        "  log_time()\n",
        "  print(f'\\n{note} ' +\n",
        "        f'({np.floor((runtime_log[to] - runtime_log[frum]) / 60)} minutes and {(runtime_log[to] - runtime_log[frum]) % 60} seconds)')\n",
        "  if save_flag:\n",
        "    return len(runtime_log) - 1"
      ]
    },
    {
      "cell_type": "code",
      "execution_count": 3,
      "metadata": {
        "colab": {
          "base_uri": "https://localhost:8080/"
        },
        "id": "uVCPTXrlYgqF",
        "outputId": "37f71293-e75c-4fe9-f6a8-ffb5c5b36148"
      },
      "outputs": [
        {
          "output_type": "stream",
          "name": "stdout",
          "text": [
            "Requirement already satisfied: kaggle in /usr/local/lib/python3.11/dist-packages (1.6.17)\n",
            "Requirement already satisfied: six>=1.10 in /usr/local/lib/python3.11/dist-packages (from kaggle) (1.17.0)\n",
            "Requirement already satisfied: certifi>=2023.7.22 in /usr/local/lib/python3.11/dist-packages (from kaggle) (2025.1.31)\n",
            "Requirement already satisfied: python-dateutil in /usr/local/lib/python3.11/dist-packages (from kaggle) (2.8.2)\n",
            "Requirement already satisfied: requests in /usr/local/lib/python3.11/dist-packages (from kaggle) (2.32.3)\n",
            "Requirement already satisfied: tqdm in /usr/local/lib/python3.11/dist-packages (from kaggle) (4.67.1)\n",
            "Requirement already satisfied: python-slugify in /usr/local/lib/python3.11/dist-packages (from kaggle) (8.0.4)\n",
            "Requirement already satisfied: urllib3 in /usr/local/lib/python3.11/dist-packages (from kaggle) (2.3.0)\n",
            "Requirement already satisfied: bleach in /usr/local/lib/python3.11/dist-packages (from kaggle) (6.2.0)\n",
            "Requirement already satisfied: webencodings in /usr/local/lib/python3.11/dist-packages (from bleach->kaggle) (0.5.1)\n",
            "Requirement already satisfied: text-unidecode>=1.3 in /usr/local/lib/python3.11/dist-packages (from python-slugify->kaggle) (1.3)\n",
            "Requirement already satisfied: charset-normalizer<4,>=2 in /usr/local/lib/python3.11/dist-packages (from requests->kaggle) (3.4.1)\n",
            "Requirement already satisfied: idna<4,>=2.5 in /usr/local/lib/python3.11/dist-packages (from requests->kaggle) (3.10)\n",
            "Dataset URL: https://www.kaggle.com/datasets/dilwong/flightprices\n",
            "License(s): Attribution 4.0 International (CC BY 4.0)\n",
            "Downloading flightprices.zip to /content\n",
            "100% 5.51G/5.51G [02:25<00:00, 45.4MB/s]\n",
            "100% 5.51G/5.51G [02:25<00:00, 40.7MB/s]\n",
            "\n",
            "Process complete! (2.0 minutes and 35.344008684158325 seconds)\n"
          ]
        }
      ],
      "source": [
        "log_time()\n",
        "!pip install kaggle\n",
        "!kaggle datasets download -d dilwong/flightprices\n",
        "time_flag()"
      ]
    },
    {
      "cell_type": "code",
      "execution_count": 4,
      "metadata": {
        "colab": {
          "base_uri": "https://localhost:8080/"
        },
        "id": "Ww_yO_q2cZyN",
        "outputId": "000ead09-744f-44ba-a1eb-5c75fd708068"
      },
      "outputs": [
        {
          "output_type": "stream",
          "name": "stdout",
          "text": [
            "Archive:  flightprices.zip\n",
            "  inflating: itineraries.csv         \n",
            "\n",
            "Process complete! (6.0 minutes and 21.258015871047974 seconds)\n"
          ]
        }
      ],
      "source": [
        "log_time()\n",
        "!unzip -n flightprices.zip\n",
        "time_flag()"
      ]
    },
    {
      "cell_type": "code",
      "execution_count": 5,
      "metadata": {
        "colab": {
          "base_uri": "https://localhost:8080/"
        },
        "id": "ECF7PIMN-aV6",
        "outputId": "54af10c0-c0ca-466f-c082-49144909d173"
      },
      "outputs": [
        {
          "output_type": "stream",
          "name": "stdout",
          "text": [
            "Requirement already satisfied: pyspark in /usr/local/lib/python3.11/dist-packages (3.5.5)\n",
            "Requirement already satisfied: py4j==0.10.9.7 in /usr/local/lib/python3.11/dist-packages (from pyspark) (0.10.9.7)\n",
            "\n",
            "Process complete! (0.0 minutes and 6.2746641635894775 seconds)\n"
          ]
        }
      ],
      "source": [
        "log_time()\n",
        "!pip install pyspark\n",
        "time_flag()"
      ]
    },
    {
      "cell_type": "code",
      "execution_count": 6,
      "metadata": {
        "colab": {
          "base_uri": "https://localhost:8080/"
        },
        "id": "7i7Hn6G7ihyw",
        "outputId": "238e9b07-7ada-483e-8e59-6d552eae141e"
      },
      "outputs": [
        {
          "output_type": "stream",
          "name": "stderr",
          "text": [
            "/usr/local/lib/python3.11/dist-packages/pyspark/sql/context.py:113: FutureWarning: Deprecated in 3.0.0. Use SparkSession.builder.getOrCreate() instead.\n",
            "  warnings.warn(\n"
          ]
        },
        {
          "output_type": "stream",
          "name": "stdout",
          "text": [
            "\n",
            "Process complete! (0.0 minutes and 18.824759006500244 seconds)\n"
          ]
        }
      ],
      "source": [
        "log_time()\n",
        "from pyspark import SparkContext\n",
        "from pyspark.sql import SparkSession\n",
        "from pyspark.sql import SQLContext\n",
        "from pyspark.sql.functions import *\n",
        "try:\n",
        "  sc.stop()\n",
        "except:\n",
        "  pass\n",
        "sc = SparkContext()\n",
        "sqlContext = SQLContext(sc)\n",
        "time_flag()"
      ]
    },
    {
      "cell_type": "code",
      "execution_count": 7,
      "metadata": {
        "colab": {
          "base_uri": "https://localhost:8080/"
        },
        "id": "Zvi4e_DM-bsg",
        "outputId": "40d11b2b-0ecc-474c-cb2b-c195e04828c5"
      },
      "outputs": [
        {
          "output_type": "stream",
          "name": "stdout",
          "text": [
            "\n",
            "Process complete! (0.0 minutes and 0.06793665885925293 seconds)\n"
          ]
        }
      ],
      "source": [
        "log_time()\n",
        "ss = SparkSession.builder.getOrCreate()\n",
        "time_flag()"
      ]
    },
    {
      "cell_type": "code",
      "execution_count": 8,
      "metadata": {
        "colab": {
          "base_uri": "https://localhost:8080/"
        },
        "id": "G9iU0NybPOx2",
        "outputId": "4772e7ea-7b6e-4abe-a03b-3f77f2b75d2f"
      },
      "outputs": [
        {
          "output_type": "stream",
          "name": "stdout",
          "text": [
            "\n",
            "Process complete! (0.0 minutes and 28.551556825637817 seconds)\n"
          ]
        }
      ],
      "source": [
        "log_time()\n",
        "df = sqlContext.read.csv('itineraries.csv', header = True)\n",
        "time_flag()"
      ]
    },
    {
      "cell_type": "code",
      "execution_count": 9,
      "metadata": {
        "colab": {
          "base_uri": "https://localhost:8080/"
        },
        "id": "-bMIWBCaPeXK",
        "outputId": "f1c79ef8-abb1-481a-c762-e14220c1a23f"
      },
      "outputs": [
        {
          "output_type": "stream",
          "name": "stdout",
          "text": [
            "+--------------------+----------+----------+---------------+------------------+-------------+--------------+-----------+--------------+------------+---------+--------+---------+--------------+-------------------+---------------------------------+------------------------+-------------------------------+----------------------+--------------------------+----------------------------+--------------------+-------------------+----------------------------+-------------------------+----------------+-----------------+\n",
            "|               legId|searchDate|flightDate|startingAirport|destinationAirport|fareBasisCode|travelDuration|elapsedDays|isBasicEconomy|isRefundable|isNonStop|baseFare|totalFare|seatsRemaining|totalTravelDistance|segmentsDepartureTimeEpochSeconds|segmentsDepartureTimeRaw|segmentsArrivalTimeEpochSeconds|segmentsArrivalTimeRaw|segmentsArrivalAirportCode|segmentsDepartureAirportCode| segmentsAirlineName|segmentsAirlineCode|segmentsEquipmentDescription|segmentsDurationInSeconds|segmentsDistance|segmentsCabinCode|\n",
            "+--------------------+----------+----------+---------------+------------------+-------------+--------------+-----------+--------------+------------+---------+--------+---------+--------------+-------------------+---------------------------------+------------------------+-------------------------------+----------------------+--------------------------+----------------------------+--------------------+-------------------+----------------------------+-------------------------+----------------+-----------------+\n",
            "|9ca0e81111c683bec...|2022-04-16|2022-04-17|            ATL|               BOS|     LA0NX0MC|       PT2H29M|          0|         False|       False|     True|  217.67|   248.60|             9|                947|                       1650214620|    2022-04-17T12:57:...|                     1650223560|  2022-04-17T15:26:...|                       BOS|                         ATL|               Delta|                 DL|                 Airbus A321|                     8940|             947|            coach|\n",
            "|98685953630e772a0...|2022-04-16|2022-04-17|            ATL|               BOS|     LA0NX0MC|       PT2H30M|          0|         False|       False|     True|  217.67|   248.60|             4|                947|                       1650191400|    2022-04-17T06:30:...|                     1650200400|  2022-04-17T09:00:...|                       BOS|                         ATL|               Delta|                 DL|                 Airbus A321|                     9000|             947|            coach|\n",
            "|98d90cbc32bfbb05c...|2022-04-16|2022-04-17|            ATL|               BOS|     LA0NX0MC|       PT2H30M|          0|         False|       False|     True|  217.67|   248.60|             9|                947|                       1650209700|    2022-04-17T11:35:...|                     1650218700|  2022-04-17T14:05:...|                       BOS|                         ATL|               Delta|                 DL|              Boeing 757-200|                     9000|             947|            coach|\n",
            "|969a269d38eae583f...|2022-04-16|2022-04-17|            ATL|               BOS|     LA0NX0MC|       PT2H32M|          0|         False|       False|     True|  217.67|   248.60|             8|                947|                       1650218340|    2022-04-17T13:59:...|                     1650227460|  2022-04-17T16:31:...|                       BOS|                         ATL|               Delta|                 DL|                 Airbus A321|                     9120|             947|            coach|\n",
            "|980370cf27c89b40d...|2022-04-16|2022-04-17|            ATL|               BOS|     LA0NX0MC|       PT2H34M|          0|         False|       False|     True|  217.67|   248.60|             9|                947|                       1650203940|    2022-04-17T09:59:...|                     1650213180|  2022-04-17T12:33:...|                       BOS|                         ATL|               Delta|                 DL|                 Airbus A321|                     9240|             947|            coach|\n",
            "|79eda9f841e226a1e...|2022-04-16|2022-04-17|            ATL|               BOS|     VH0AUEL1|       PT2H38M|          0|         False|       False|     True|  217.67|   248.60|             7|                947|                       1650206700|    2022-04-17T10:45:...|                     1650216180|  2022-04-17T13:23:...|                       BOS|                         ATL|     JetBlue Airways|                 B6|                        NULL|                     9480|             947|            coach|\n",
            "|9335fae376c38bb61...|2022-04-16|2022-04-17|            ATL|               BOS|     V0AJZNN1|       PT4H12M|          0|         False|       False|    False|  213.02|   251.10|             3|                956|             1650198000||16502...|    2022-04-17T08:20:...|           1650203400||16502...|  2022-04-17T09:50:...|                  CLT||BOS|                    ATL||CLT|American Airlines...|             AA||AA|        Airbus A320||Airb...|               5400||7500|        228||728|     coach||coach|\n",
            "|3904bf87f2d1daf33...|2022-04-16|2022-04-17|            ATL|               BOS|     V0AJZNN1|       PT5H18M|          0|         False|       False|    False|  213.02|   251.10|             3|                956|             1650198000||16502...|    2022-04-17T08:20:...|           1650203400||16502...|  2022-04-17T09:50:...|                  CLT||BOS|                    ATL||CLT|American Airlines...|             AA||AA|        Airbus A320||Boei...|               5400||8280|        228||728|     coach||coach|\n",
            "|d93988734c44a3c07...|2022-04-16|2022-04-17|            ATL|               BOS|     V0AJZNN1|       PT5H32M|          0|         False|       False|    False|  213.02|   251.10|             7|                956|             1650193200||16502...|    2022-04-17T07:00:...|           1650198060||16502...|  2022-04-17T08:21:...|                  CLT||BOS|                    ATL||CLT|American Airlines...|             AA||AA|        Airbus A319||Airb...|               4860||7500|        228||728|     coach||coach|\n",
            "|562e7d5dd6ecbf150...|2022-04-16|2022-04-17|            ATL|               BOS|     V0AJZNN1|       PT6H38M|          0|         False|       False|    False|  213.02|   251.10|             7|                956|             1650193200||16502...|    2022-04-17T07:00:...|           1650198060||16502...|  2022-04-17T08:21:...|                  CLT||BOS|                    ATL||CLT|American Airlines...|             AA||AA|        Airbus A319||Boei...|               4860||8280|        228||728|     coach||coach|\n",
            "|c38a6e4b807d15541...|2022-04-16|2022-04-17|            ATL|               BOS|     VAA0AKEN|       PT4H46M|          0|         False|       False|    False|  213.02|   252.60|             1|                947|             1650187800||16501...|    2022-04-17T05:30:...|           1650194280||16502...|  2022-04-17T07:18:...|                  IAD||BOS|                    ATL||IAD|      United||United|             UA||UA|        Airbus A319||Boei...|               6480||5940|        541||406|     coach||coach|\n",
            "|f66d72ba3a5265766...|2022-04-16|2022-04-17|            ATL|               BOS|     V0AJZNN1|       PT5H45M|          0|         False|       False|    False|  213.02|   252.60|             3|               1462|             1650220740||16502...|    2022-04-17T14:39:...|           1650228840||16502...|  2022-04-17T15:54:...|                  ORD||BOS|                    ATL||ORD|American Airlines...|             AA||AA|        Embraer 175||Boei...|               8100||8340|        600||862|     coach||coach|\n",
            "|e7c4054e85cca9bc7...|2022-04-16|2022-04-17|            ATL|               BOS|     V0AJZNN1|       PT5H59M|          0|         False|       False|    False|  213.02|   252.60|             5|               1462|             1650232800||16502...|    2022-04-17T18:00:...|           1650240660||16502...|  2022-04-17T19:11:...|                  ORD||BOS|                    ATL||ORD|American Airlines...|             AA||AA|        Embraer 175||Boei...|               7860||8640|        600||862|     coach||coach|\n",
            "|5fa8c0f8b25eb24bf...|2022-04-16|2022-04-17|            ATL|               BOS|     V0AJZNN1|       PT7H18M|          0|         False|       False|    False|  213.02|   252.60|             3|               1462|             1650220740||16502...|    2022-04-17T14:39:...|           1650228840||16502...|  2022-04-17T15:54:...|                  ORD||BOS|                    ATL||ORD|American Airlines...|             AA||AA|        Embraer 175||Airb...|               8100||7920|        600||862|     coach||coach|\n",
            "|948d26b3e5658762c...|2022-04-16|2022-04-17|            ATL|               BOS|     VAA0AKEN|       PT8H10M|          0|         False|       False|    False|  213.02|   252.60|             2|               1462|             1650190200||16502...|    2022-04-17T06:10:...|           1650198000||16502...|  2022-04-17T07:20:...|                  ORD||BOS|                    ATL||ORD|      United||United|             UA||UA|        Embraer 175 (Enha...|               7800||8640|        600||862|     coach||coach|\n",
            "|cb345693479e84838...|2022-04-16|2022-04-17|            ATL|               BOS|          VNR|       PT5H39M|          0|         False|       False|    False|  183.00|   290.58|             0|               NULL|             1650187560||16501...|    2022-04-17T05:26:...|           1650194400||16502...|  2022-04-17T07:20:...|                  FLL||BOS|                    ATL||FLL|Spirit Airlines||...|             NK||NK|        AIRBUS INDUSTRIE ...|              6840||11100|      None||None|     coach||coach|\n",
            "|e1b95e4e6c997517f...|2022-04-16|2022-04-17|            ATL|               BOS|     KH0AUEY5|       PT2H38M|          0|         False|       False|     True|  265.58|   300.10|             7|                947|                       1650206700|    2022-04-17T10:45:...|                     1650216180|  2022-04-17T13:23:...|                       BOS|                         ATL|   American Airlines|                 AA|                        NULL|                     9480|             947|            coach|\n",
            "|eaf033a044596f0a7...|2022-04-16|2022-04-17|            ATL|               BOS|     L0AJZNN1|       PT4H17M|          0|         False|       False|    False|  260.47|   302.11|             1|                956|             1650233700||16502...|    2022-04-17T18:15:...|           1650238620||16502...|  2022-04-17T19:37:...|                  CLT||BOS|                    ATL||CLT|American Airlines...|             AA||AA|        Canadian Regional...|               4920||7620|        228||728|     coach||coach|\n",
            "|721d9a2f66fe479e7...|2022-04-16|2022-04-17|            ATL|               BOS|     L0AJZNN1|       PT4H36M|          0|         False|       False|    False|  260.47|   302.11|             1|                956|             1650207720||16502...|    2022-04-17T11:02:...|           1650212880||16502...|  2022-04-17T12:28:...|                  CLT||BOS|                    ATL||CLT|American Airlines...|             AA||AA|        Canadair Regional...|               5160||7860|        228||728|     coach||coach|\n",
            "|a9f012defb9227f69...|2022-04-16|2022-04-17|            ATL|               BOS|     L0AJZNN1|       PT4H45M|          0|         False|       False|    False|  260.47|   302.11|             1|                956|             1650226680||16502...|    2022-04-17T16:18:...|           1650230760||16502...|  2022-04-17T17:26:...|                  CLT||BOS|                    ATL||CLT|American Airlines...|             AA||AA|        Airbus A319||Boei...|               4080||7860|        228||728|     coach||coach|\n",
            "+--------------------+----------+----------+---------------+------------------+-------------+--------------+-----------+--------------+------------+---------+--------+---------+--------------+-------------------+---------------------------------+------------------------+-------------------------------+----------------------+--------------------------+----------------------------+--------------------+-------------------+----------------------------+-------------------------+----------------+-----------------+\n",
            "only showing top 20 rows\n",
            "\n",
            "\n",
            "Process complete! (0.0 minutes and 1.8043804168701172 seconds)\n"
          ]
        }
      ],
      "source": [
        "log_time()\n",
        "df.show()\n",
        "time_flag()"
      ]
    },
    {
      "cell_type": "markdown",
      "metadata": {
        "id": "hDPuZNYLPh6u"
      },
      "source": [
        "## Summary\n",
        "(View runtime of procedure following execution)"
      ]
    },
    {
      "cell_type": "code",
      "execution_count": 10,
      "metadata": {
        "colab": {
          "base_uri": "https://localhost:8080/"
        },
        "id": "3ph5kkDMPHYA",
        "outputId": "6169c09a-03a7-450a-adb5-1520c5f6e084"
      },
      "outputs": [
        {
          "output_type": "stream",
          "name": "stdout",
          "text": [
            "\n",
            "Data Load Complete! (9.0 minutes and 52.26051378250122 seconds)\n"
          ]
        }
      ],
      "source": [
        "section_flag = time_flag(note = 'Data Load Complete!', frum = section_flag, save_flag = True)"
      ]
    },
    {
      "cell_type": "markdown",
      "metadata": {
        "id": "Sb2VC-HGPkJO"
      },
      "source": [
        "# Data Partitioning/Preprocessing\n",
        "\n",
        "New approach: begin by first grouping by the number of flight legs. Since this implicitly partitions the data by feature space dimension, an intuitive next step would be to train one model per partition. One must be careful to check that the distribution of partition sizes is appropriately balanced when employing this strategy."
      ]
    },
    {
      "cell_type": "markdown",
      "metadata": {
        "id": "v4MuUN57XOAh"
      },
      "source": [
        "## Procedure"
      ]
    },
    {
      "cell_type": "code",
      "execution_count": 11,
      "metadata": {
        "colab": {
          "base_uri": "https://localhost:8080/"
        },
        "id": "aTGXLBgcc9xq",
        "outputId": "dd65b7e6-bd3d-4e2e-fab3-c313a88a8a04"
      },
      "outputs": [
        {
          "output_type": "stream",
          "name": "stdout",
          "text": [
            "\n",
            "Process complete! (0.0 minutes and 0.8046152591705322 seconds)\n"
          ]
        }
      ],
      "source": [
        "log_time()\n",
        "from pyspark.ml import Pipeline, PipelineModel\n",
        "from pyspark.ml.tuning import TrainValidationSplit\n",
        "from pyspark.ml.regression import *\n",
        "from pyspark.ml.feature import *\n",
        "time_flag()"
      ]
    },
    {
      "cell_type": "code",
      "execution_count": 12,
      "metadata": {
        "colab": {
          "base_uri": "https://localhost:8080/"
        },
        "id": "1q0QPqNEBCKD",
        "outputId": "0129671d-118f-4d60-9039-e1be789cc7dc"
      },
      "outputs": [
        {
          "output_type": "stream",
          "name": "stdout",
          "text": [
            "+----+--------+\n",
            "|legs|   count|\n",
            "+----+--------+\n",
            "|   1|22066888|\n",
            "|   3| 7586488|\n",
            "|   4|  199812|\n",
            "|   2|52285467|\n",
            "|   5|      98|\n",
            "+----+--------+\n",
            "\n",
            "\n",
            "Process complete! (11.0 minutes and 23.38756775856018 seconds)\n"
          ]
        }
      ],
      "source": [
        "log_time()\n",
        "# Count flight legs per entry.\n",
        "nL = udf(lambda x: len(x.split('||')))\n",
        "qcols = ['\"' + c + '\"' for c in df.columns]\n",
        "flights_w_legs = eval(f\"df.select({', '.join(qcols)}, nL('segmentsDistance').cast('int').alias('legs'))\")\n",
        "per_leg_stats = flights_w_legs.groupby('legs').count()\n",
        "per_leg_stats.show()\n",
        "time_flag()"
      ]
    },
    {
      "cell_type": "code",
      "execution_count": 13,
      "metadata": {
        "colab": {
          "base_uri": "https://localhost:8080/"
        },
        "id": "-4ZZ4y_Rilai",
        "outputId": "4712a7e7-a331-44eb-a8d2-8751507daeef"
      },
      "outputs": [
        {
          "output_type": "stream",
          "name": "stdout",
          "text": [
            "\n",
            "Process complete! (26.0 minutes and 3.4636456966400146 seconds)\n"
          ]
        }
      ],
      "source": [
        "log_time()\n",
        "# Only interested in flights that are not incredibly rare with respect to number\n",
        "# of legs. Given the extensive bulk of our dataset, we can use a relatively\n",
        "# generous threshold, e.g., 0.05 * df.count() / (per_leg_stats.count() - 1)\n",
        "\n",
        "thresh = 0.05 * df.count() / (per_leg_stats.count() - 1)\n",
        "common_wrt_legs = list(per_leg_stats.where(col('count') > thresh).select('legs').toPandas()['legs'])\n",
        "time_flag()"
      ]
    },
    {
      "cell_type": "code",
      "execution_count": 14,
      "metadata": {
        "colab": {
          "base_uri": "https://localhost:8080/"
        },
        "id": "dOBpw2Zy3h7p",
        "outputId": "54187894-9d5d-460d-a98d-1cb087f51c8e"
      },
      "outputs": [
        {
          "output_type": "stream",
          "name": "stdout",
          "text": [
            "\n",
            "Process complete! (0.0 minutes and 0.06395244598388672 seconds)\n"
          ]
        }
      ],
      "source": [
        "log_time()\n",
        "# Train-test split\n",
        "train_df, test_df = df.randomSplit([0.75, 0.25], 42)\n",
        "time_flag()"
      ]
    },
    {
      "cell_type": "code",
      "execution_count": 15,
      "metadata": {
        "colab": {
          "base_uri": "https://localhost:8080/"
        },
        "id": "igSu0aaUz_Ak",
        "outputId": "39f70d86-5aa3-4294-966d-a0584c28ddcc"
      },
      "outputs": [
        {
          "output_type": "stream",
          "name": "stdout",
          "text": [
            "\n",
            "Process complete! (0.0 minutes and 0.48276281356811523 seconds)\n"
          ]
        }
      ],
      "source": [
        "log_time()\n",
        "# Get leg-based partitions for train/test sets...\n",
        "lbp_train = {}\n",
        "lbp_test = {}\n",
        "\n",
        "flights_w_legs_train = eval(f\"train_df.select({', '.join(qcols)}, nL('segmentsDistance').cast('int').alias('legs'))\")\n",
        "flights_w_legs_test = eval(f\"test_df.select({', '.join(qcols)}, nL('segmentsDistance').cast('int').alias('legs'))\")\n",
        "\n",
        "for i in common_wrt_legs:\n",
        "  lbp_train[i] = flights_w_legs_train.where(col('legs') == i)\n",
        "  lbp_test[i] = flights_w_legs_test.where(col('legs') == i)\n",
        "\n",
        "# Data has now been officially partitioned/filtered!\n",
        "time_flag()"
      ]
    },
    {
      "cell_type": "code",
      "execution_count": 16,
      "metadata": {
        "colab": {
          "base_uri": "https://localhost:8080/"
        },
        "id": "1dGw4KLsRYJi",
        "outputId": "20192626-6d6f-4831-be01-9bb533d10bda"
      },
      "outputs": [
        {
          "output_type": "stream",
          "name": "stdout",
          "text": [
            "\n",
            "Process complete! (0.0 minutes and 2.614377737045288 seconds)\n"
          ]
        }
      ],
      "source": [
        "log_time()\n",
        "# Define abbreviations for the leg-based features.\n",
        "feat_abbs = dict(zip(['segmentsDepartureTimeRaw', 'segmentsArrivalTimeRaw',\n",
        "                      'segmentsArrivalAirportCode', 'segmentsDepartureAirportCode',\n",
        "                     'segmentsAirlineCode', 'segmentsDurationInSeconds', 'segmentsDistance'],\n",
        "                      ['sDTR_', 'sATR_', 'sAAC_', 'sDAC_', 'sAC_', 'sDIS_', 'sD_']))\n",
        "feat_others = ['searchDate', 'flightDate', 'isBasicEconomy', 'seatsRemaining']\n",
        "targets = ['baseFare', 'totalFare']\n",
        "\n",
        "def leg_breaker_maker(delim, n):\n",
        "  return udf(lambda x: x.split(delim)[n])\n",
        "\n",
        "plc_train = {}\n",
        "plc_test = {}\n",
        "for i in common_wrt_legs:\n",
        "  tmp = []\n",
        "  for j in feat_abbs:\n",
        "    tmp.append(\", \".join([f'leg_breaker_maker(\"||\", {k})(col(\"{j}\").alias(str({k})))' for k in range(i)]))\n",
        "  plc_train[i] = (eval(f'lbp_train[{i}].select([{\", \".join(tmp)}] + feat_others + targets)'))\n",
        "  plc_train[i] = eval(f'plc_train[{i}].withColumnsRenamed(dict(zip(plc_train[{i}].columns, ' +\n",
        "                      f'np.concatenate([[feat_abbs[a] + str(k + 1) for k in range({i})] for a in feat_abbs]))))')\n",
        "  plc_test[i] = (eval(f'lbp_test[{i}].select([{\", \".join(tmp)}] + feat_others + targets)'))\n",
        "  plc_test[i] = eval(f'plc_test[{i}].withColumnsRenamed(dict(zip(plc_test[{i}].columns, ' +\n",
        "                      f'np.concatenate([[feat_abbs[a] + str(k + 1) for k in range({i})] for a in feat_abbs]))))')\n",
        "time_flag()"
      ]
    },
    {
      "cell_type": "code",
      "execution_count": 17,
      "metadata": {
        "colab": {
          "base_uri": "https://localhost:8080/"
        },
        "id": "JaU5_-RQ59Af",
        "outputId": "d4a54f36-0db9-451d-a433-b9ec98f99807"
      },
      "outputs": [
        {
          "output_type": "stream",
          "name": "stdout",
          "text": [
            "+--------------------+--------------------+------+------+-----+------+----+----------+----------+--------------+--------------+--------+---------+\n",
            "|              sDTR_1|              sATR_1|sAAC_1|sDAC_1|sAC_1|sDIS_1|sD_1|searchDate|flightDate|isBasicEconomy|seatsRemaining|baseFare|totalFare|\n",
            "+--------------------+--------------------+------+------+-----+------+----+----------+----------+--------------+--------------+--------+---------+\n",
            "|2022-05-16T18:08:...|2022-05-16T20:00:...|   JFK|   CLT|   B6|  6720| 545|2022-04-17|2022-05-16|         False|             7|  143.26|   167.11|\n",
            "|2022-05-05T09:00:...|2022-05-05T10:57:...|   DTW|   ATL|   F9|  7020| 604|2022-04-17|2022-05-05|         False|             4|   70.12|    89.98|\n",
            "|2022-04-20T08:00:...|2022-04-20T09:34:...|   LGA|   BOS|   DL|  5640| 185|2022-04-16|2022-04-20|         False|             5|  591.63|   650.60|\n",
            "|2022-04-21T11:00:...|2022-04-21T12:13:...|   CLT|   ATL|   DL|  4380| 228|2022-04-17|2022-04-21|         False|             9|  357.21|   398.60|\n",
            "|2022-05-17T12:05:...|2022-05-17T14:05:...|   PHL|   ATL|   AA|  7200| 667|2022-04-17|2022-05-17|         False|             7|  115.35|   138.60|\n",
            "|2022-04-20T12:54:...|2022-04-20T14:35:...|   DEN|   ORD|   UA|  9660| 903|2022-04-16|2022-04-20|         False|             4|  264.19|   298.60|\n",
            "|2022-04-20T12:54:...|2022-04-20T14:35:...|   DEN|   ORD|   UA|  9660| 903|2022-04-17|2022-04-20|         False|             4|  264.19|   298.60|\n",
            "|2022-05-11T17:05:...|2022-05-11T20:10:...|   ATL|   DAL|   DL|  7500| 725|2022-04-17|2022-05-11|         False|             1|  161.86|   188.60|\n",
            "|2022-05-09T22:30:...|2022-05-10T00:49:...|   DFW|   MIA|   AA| 11940|1115|2022-04-17|2022-05-09|         False|             7|  124.65|   148.60|\n",
            "|2022-05-07T15:34:...|2022-05-07T17:07:...|   LAX|   SFO|   AA|  5580| 339|2022-04-17|2022-05-07|         False|             5|  217.67|   248.60|\n",
            "|2022-05-02T23:29:...|2022-05-03T07:53:...|   JFK|   LAX|   DL| 19440|2458|2022-04-17|2022-05-02|         False|             9|  338.60|   378.60|\n",
            "|2022-04-27T07:45:...|2022-04-27T16:09:...|   JFK|   LAX|   DL| 19440|2458|2022-04-17|2022-04-27|         False|             9|  338.60|   378.60|\n",
            "|2022-05-10T08:00:...|2022-05-10T10:22:...|   CLT|   BOS|   AA|  8520| 728|2022-04-17|2022-05-10|         False|             7|   82.79|   103.60|\n",
            "|2022-05-11T10:25:...|2022-05-11T17:35:...|   ATL|   LAX|   DL| 15000|1943|2022-04-17|2022-05-11|         False|             9|  413.02|   458.60|\n",
            "|2022-04-26T17:00:...|2022-04-26T20:03:...|   DFW|   LGA|   B6| 14580|1380|2022-04-16|2022-04-26|         False|             7|   73.49|    93.60|\n",
            "|2022-04-26T17:00:...|2022-04-26T20:03:...|   DFW|   LGA|   B6| 14580|1380|2022-04-17|2022-04-26|         False|             7|   73.49|    93.60|\n",
            "|2022-05-07T14:30:...|2022-05-07T16:30:...|   ATL|   DTW|   DL|  7200| 604|2022-04-17|2022-05-07|         False|             9|  217.67|   248.60|\n",
            "|2022-05-11T12:59:...|2022-05-11T14:57:...|   DTW|   LGA|   NK|  7080|None|2022-04-17|2022-05-11|         False|             0|   11.20|    48.79|\n",
            "|2022-05-02T12:16:...|2022-05-02T14:41:...|   ORD|   DFW|   UA|  8700| 799|2022-04-17|2022-05-02|         False|             6|  171.16|   198.60|\n",
            "|2022-05-07T11:29:...|2022-05-07T13:18:...|   PHL|   CLT|   AA|  6540| 449|2022-04-17|2022-05-07|         False|             7|  221.40|   251.11|\n",
            "+--------------------+--------------------+------+------+-----+------+----+----------+----------+--------------+--------------+--------+---------+\n",
            "only showing top 20 rows\n",
            "\n",
            "+--------------------+--------------------+--------------------+--------------------+--------------------+--------------------+------+------+------+------+------+------+-----+-----+-----+------+------+------+----+----+----+----------+----------+--------------+--------------+--------+---------+\n",
            "|              sDTR_1|              sDTR_2|              sDTR_3|              sATR_1|              sATR_2|              sATR_3|sAAC_1|sAAC_2|sAAC_3|sDAC_1|sDAC_2|sDAC_3|sAC_1|sAC_2|sAC_3|sDIS_1|sDIS_2|sDIS_3|sD_1|sD_2|sD_3|searchDate|flightDate|isBasicEconomy|seatsRemaining|baseFare|totalFare|\n",
            "+--------------------+--------------------+--------------------+--------------------+--------------------+--------------------+------+------+------+------+------+------+-----+-----+-----+------+------+------+----+----+----+----------+----------+--------------+--------------+--------+---------+\n",
            "|2022-04-21T09:10:...|2022-04-21T11:17:...|2022-04-21T16:15:...|2022-04-21T10:35:...|2022-04-21T13:19:...|2022-04-21T18:19:...|   DEN|   SEA|   OAK|   DTW|   DEN|   SEA|   UA|   UA|   AS| 12300| 10920|  7440|1142|1017| 672|2022-04-17|2022-04-21|         False|             1|  526.51|   594.10|\n",
            "|2022-04-21T11:45:...|2022-04-21T14:56:...|2022-04-21T20:10:...|2022-04-21T12:07:...|2022-04-21T17:48:...|2022-04-21T22:55:...|   ORD|   DCA|   MIA|   DTW|   ORD|   DCA|   AA|   AA|   AA|  4920|  6720|  9900| 240| 594| 923|2022-04-16|2022-04-21|         False|             1|  334.89|   388.11|\n",
            "|2022-04-21T11:45:...|2022-04-21T14:56:...|2022-04-21T20:10:...|2022-04-21T12:07:...|2022-04-21T17:48:...|2022-04-21T22:55:...|   ORD|   DCA|   MIA|   DTW|   ORD|   DCA|   AA|   AA|   AA|  4920|  6720|  9900| 240| 594| 923|2022-04-17|2022-04-21|         False|             1|  334.89|   388.11|\n",
            "|2022-04-25T17:15:...|2022-04-25T20:10:...|2022-04-25T22:15:...|2022-04-25T18:17:...|2022-04-25T21:31:...|2022-04-25T23:41:...|   AUS|   LAX|   SFO|   DFW|   AUS|   LAX|   AA|   AA|   AA|  3720| 12060|  5160| 183|1236| 339|2022-04-17|2022-04-25|         False|             5|  280.93|   330.10|\n",
            "|2022-05-01T09:26:...|2022-05-01T13:19:...|2022-05-01T20:22:...|2022-05-01T11:06:...|2022-05-01T19:15:...|2022-05-01T23:38:...|   SNA|   ORD|   LGA|   SFO|   SNA|   ORD|   UA|   AS|   UA|  6000| 14160|  8160| 373|1726| 720|2022-04-17|2022-05-01|         False|             7| 2282.80|  2482.11|\n",
            "|2022-05-17T14:01:...|2022-05-17T18:35:...|2022-05-17T22:51:...|2022-05-17T15:27:...|2022-05-17T20:53:...|2022-05-17T23:50:...|   IAH|   SLC|   OAK|   ATL|   IAH|   SLC|   UA|   UA|   DL|  8760| 11880|  7140| 691|1204| 588|2022-04-17|2022-05-17|         False|             3|  638.14|   714.10|\n",
            "|2022-05-03T16:03:...|2022-05-03T18:32:...|2022-05-04T06:10:...|2022-05-03T17:25:...|2022-05-03T23:26:...|2022-05-04T10:33:...|   LAX|   DFW|   LGA|   OAK|   LAX|   DFW|   DL|   DL|   DL|  4920| 10440| 12180| 338|1238|1380|2022-04-17|2022-05-03|          True|             9|  165.58|   211.70|\n",
            "|2022-04-27T20:30:...|2022-04-28T06:00:...|2022-04-28T09:50:...|2022-04-27T22:27:...|2022-04-28T08:30:...|2022-04-28T12:01:...|   ORD|   SEA|   OAK|   LGA|   ORD|   SEA|   DL|   AS|   AS| 10620| 16200|  7860| 720|1723| 672|2022-04-17|2022-04-27|         False|             7|  559.42|   635.08|\n",
            "|2022-05-11T08:33:...|2022-05-11T12:25:...|2022-05-11T20:39:...|2022-05-11T10:30:...|2022-05-11T14:15:...|2022-05-11T22:43:...|   DEN|   SEA|   OAK|   IAD|   DEN|   SEA|   UA|   AS|   AS| 14220| 10200|  7440|1473|1017| 672|2022-04-17|2022-05-11|         False|             4|  466.97|   535.69|\n",
            "|2022-04-26T20:35:...|2022-04-26T23:45:...|2022-04-27T11:00:...|2022-04-26T22:15:...|2022-04-27T05:50:...|2022-04-27T14:18:...|   PDX|   ORD|   LGA|   OAK|   PDX|   ORD|   AS|   AS|   UA|  6000| 14700|  8280| 543|1742| 720|2022-04-17|2022-04-26|         False|             3|  463.61|   532.08|\n",
            "|2022-04-27T08:50:...|2022-04-27T15:00:...|2022-04-27T20:06:...|2022-04-27T10:10:...|2022-04-27T15:30:...|2022-04-27T21:34:...|   CEZ|   PHX|   LAX|   DEN|   CEZ|   PHX|   4B|   4B|   AA|  4800|  5400|  5280| 265| 329| 370|2022-04-17|2022-04-27|         False|             1|  354.70|   407.10|\n",
            "|2022-04-25T22:30:...|2022-04-26T10:33:...|2022-04-26T12:30:...|2022-04-26T06:17:...|2022-04-26T11:50:...|2022-04-26T13:57:...|   RDU|   IAD|   LGA|   LAX|   RDU|   IAD|   AS|   UA|   UA| 17220|  4620|  5220|2235| 226| 221|2022-04-17|2022-04-25|         False|             7| 2303.26|  2509.71|\n",
            "|2022-04-17T07:59:...|2022-04-17T10:55:...|2022-04-17T14:20:...|2022-04-17T09:12:...|2022-04-17T13:22:...|2022-04-17T15:28:...|   BOS|   CLT|   ATL|   JFK|   BOS|   CLT|   AA|   AA|   AA|  4380|  8820|  4080| 185| 728| 228|2022-04-16|2022-04-17|         False|             1| 1533.95|  1677.10|\n",
            "|2022-04-18T09:00:...|2022-04-18T11:15:...|2022-04-18T15:35:...|2022-04-18T10:21:...|2022-04-18T12:54:...|2022-04-18T16:30:...|   DEN|   SLC|   OAK|   ATL|   DEN|   SLC|   UA|   UA|   DL| 12060|  5940|  6900|1207| 380| 588|2022-04-16|2022-04-18|         False|             1|  678.14|   757.10|\n",
            "|2022-04-18T09:00:...|2022-04-18T11:15:...|2022-04-18T15:35:...|2022-04-18T10:21:...|2022-04-18T12:54:...|2022-04-18T16:30:...|   DEN|   SLC|   OAK|   ATL|   DEN|   SLC|   UA|   UA|   DL| 12060|  5940|  6900|1207| 380| 588|2022-04-17|2022-04-18|         False|             1|  678.14|   757.10|\n",
            "|2022-04-20T16:10:...|2022-04-20T18:53:...|2022-04-20T22:00:...|2022-04-20T17:25:...|2022-04-20T20:20:...|2022-04-21T00:16:...|   JAX|   MIA|   ATL|   CLT|   JAX|   MIA|   AA|   AA|   AA|  4500|  5220|  8160| 334| 330| 596|2022-04-17|2022-04-20|         False|             1|  230.70|   274.60|\n",
            "|2022-04-18T22:15:...|2022-04-19T06:25:...|2022-04-19T13:21:...|2022-04-18T23:35:...|2022-04-19T07:15:...|2022-04-19T14:39:...|   DUJ|   PIT|   PHL|   IAD|   DUJ|   PIT|   9X|   9X|   AA|  4800|  3000|  4680| 181|  84| 268|2022-04-16|2022-04-18|         False|             2|  406.79|   476.60|\n",
            "|2022-04-18T22:15:...|2022-04-19T06:25:...|2022-04-19T13:21:...|2022-04-18T23:35:...|2022-04-19T07:15:...|2022-04-19T14:39:...|   DUJ|   PIT|   PHL|   IAD|   DUJ|   PIT|   9X|   9X|   AA|  4800|  3000|  4680| 181|  84| 268|2022-04-17|2022-04-18|         False|             2|  406.79|   476.60|\n",
            "|2022-04-19T06:15:...|2022-04-19T11:54:...|2022-04-19T15:50:...|2022-04-19T09:44:...|2022-04-19T14:44:...|2022-04-19T18:42:...|   ORD|   DCA|   MIA|   DEN|   ORD|   DCA|   AA|   AA|   AA|  8940|  6600| 10320| 903| 594| 923|2022-04-16|2022-04-19|         False|             7|  364.65|   420.10|\n",
            "|2022-04-23T10:17:...|2022-04-23T12:45:...|2022-04-23T17:48:...|2022-04-23T11:50:...|2022-04-23T14:50:...|2022-04-23T19:39:...|   IAD|   ATL|   LAX|   LGA|   IAD|   ATL|   UA|   UA|   AS|  5580|  7500| 17460| 221| 541|1943|2022-04-16|2022-04-23|         False|             6| 1418.60|  1553.10|\n",
            "+--------------------+--------------------+--------------------+--------------------+--------------------+--------------------+------+------+------+------+------+------+-----+-----+-----+------+------+------+----+----+----+----------+----------+--------------+--------------+--------+---------+\n",
            "only showing top 20 rows\n",
            "\n",
            "+--------------------+--------------------+--------------------+--------------------+------+------+------+------+-----+-----+------+------+----+----+----------+----------+--------------+--------------+--------+---------+\n",
            "|              sDTR_1|              sDTR_2|              sATR_1|              sATR_2|sAAC_1|sAAC_2|sDAC_1|sDAC_2|sAC_1|sAC_2|sDIS_1|sDIS_2|sD_1|sD_2|searchDate|flightDate|isBasicEconomy|seatsRemaining|baseFare|totalFare|\n",
            "+--------------------+--------------------+--------------------+--------------------+------+------+------+------+-----+-----+------+------+----+----+----------+----------+--------------+--------------+--------+---------+\n",
            "|2022-04-28T10:21:...|2022-04-28T15:44:...|2022-04-28T11:44:...|2022-04-28T17:25:...|   JFK|   ORD|   BOS|   JFK|   B6|   B6|  4980|  9660| 185| 720|2022-04-17|2022-04-28|         False|             7|   69.77|    98.60|\n",
            "|2022-05-04T21:25:...|2022-05-05T06:10:...|2022-05-04T23:58:...|2022-05-05T07:41:...|   LAX|   SFO|   ORD|   LAX|   UA|   UA| 16380|  5460|1745| 339|2022-04-17|2022-05-04|         False|             9|  142.32|   182.19|\n",
            "|2022-05-09T12:45:...|2022-05-09T16:25:...|2022-05-09T15:25:...|2022-05-09T17:37:...|   IAH|   DFW|   ORD|   IAH|   UA|   UA|  9600|  4320| 933| 233|2022-04-17|2022-05-09|         False|             9|  202.79|   241.60|\n",
            "|2022-05-05T09:33:...|2022-05-05T16:35:...|2022-05-05T11:48:...|2022-05-05T18:34:...|   ATL|   DTW|   EWR|   ATL|   NK|   NK|  8100|  7140|None|None|2022-04-17|2022-05-05|         False|             0|  293.00|   400.58|\n",
            "|2022-05-09T07:29:...|2022-05-09T11:15:...|2022-05-09T09:46:...|2022-05-09T12:39:...|   DFW|   LAX|   MIA|   DFW|   AA|   AA| 11820| 12240|1115|1238|2022-04-17|2022-05-09|         False|             7|  538.60|   602.60|\n",
            "|2022-05-11T19:50:...|2022-05-11T22:25:...|2022-05-11T21:20:...|2022-05-12T06:01:...|   SAN|   CLT|   SFO|   SAN|   AS|   AS|  5400| 16560| 436|2072|2022-04-17|2022-05-11|         False|             4|  300.47|   346.61|\n",
            "|2022-04-27T10:21:...|2022-04-27T14:45:...|2022-04-27T11:44:...|2022-04-27T18:04:...|   JFK|   MIA|   BOS|   JFK|   B6|   B6|  4980| 11940| 185|1104|2022-04-17|2022-04-27|         False|             7|   82.79|   112.60|\n",
            "|2022-05-03T15:29:...|2022-05-03T21:50:...|2022-05-03T18:23:...|2022-05-03T23:06:...|   ATL|   DAL|   ORD|   ATL|   DL|   DL|  6840|  8160| 600| 725|2022-04-17|2022-05-03|          True|             9|  101.40|   132.61|\n",
            "|2022-05-06T09:55:...|2022-05-06T17:15:...|2022-05-06T13:11:...|2022-05-06T19:28:...|   FLL|   ORD|   BOS|   FLL|   NK|   NK| 11760| 11580|None|None|2022-04-17|2022-05-06|         False|             0|   62.00|   169.58|\n",
            "|2022-04-30T18:25:...|2022-04-30T21:05:...|2022-04-30T19:55:...|2022-04-30T22:13:...|   DFW|   DEN|   ATL|   DFW|   AA|   AA|  9000|  7680| 725| 650|2022-04-17|2022-04-30|         False|             3|  201.86|   240.60|\n",
            "|2022-04-25T15:41:...|2022-04-25T21:10:...|2022-04-25T19:10:...|2022-04-26T00:19:...|   ORD|   PHL|   DEN|   ORD|   UA|   UA|  8940|  7740| 903| 672|2022-04-16|2022-04-25|         False|             8|  375.81|   427.60|\n",
            "|2022-04-25T15:41:...|2022-04-25T21:10:...|2022-04-25T19:10:...|2022-04-26T00:19:...|   ORD|   PHL|   DEN|   ORD|   UA|   UA|  8940|  7740| 903| 672|2022-04-17|2022-04-25|         False|             1|  305.12|   351.60|\n",
            "|2022-04-30T10:55:...|2022-04-30T16:28:...|2022-04-30T13:22:...|2022-04-30T17:45:...|   CLT|   ATL|   BOS|   CLT|   AA|   AA|  8820|  4620| 728| 228|2022-04-17|2022-04-30|         False|             3|  120.00|   151.10|\n",
            "|2022-04-26T10:21:...|2022-04-26T14:59:...|2022-04-26T11:44:...|2022-04-26T18:14:...|   JFK|   MIA|   BOS|   JFK|   B6|   B6|  4980| 11700| 185|1104|2022-04-16|2022-04-26|         False|             7|   82.79|   112.60|\n",
            "|2022-04-23T06:00:...|2022-04-23T09:35:...|2022-04-23T08:10:...|2022-04-23T11:00:...|   CLT|   ORD|   LGA|   CLT|   AA|   AA|  7800|  8700| 545| 592|2022-04-16|2022-04-23|         False|             7|  120.93|   152.10|\n",
            "|2022-04-18T05:00:...|2022-04-18T13:05:...|2022-04-18T10:15:...|2022-04-18T15:07:...|   CLT|   MIA|   DEN|   CLT|   AA|   AA| 11700|  7320|1346| 652|2022-04-16|2022-04-18|         False|             7|  322.79|   369.10|\n",
            "|2022-04-18T05:00:...|2022-04-18T13:05:...|2022-04-18T10:15:...|2022-04-18T15:07:...|   CLT|   MIA|   DEN|   CLT|   AA|   AA| 11700|  7320|1346| 652|2022-04-17|2022-04-18|         False|             7|  322.79|   369.10|\n",
            "|2022-04-29T12:34:...|2022-04-29T15:44:...|2022-04-29T13:33:...|2022-04-29T17:09:...|   RIC|   LGA|   IAD|   RIC|   UA|   DL|  3540|  5100|  97| 295|2022-04-17|2022-04-29|         False|             9|  537.68|   601.61|\n",
            "|2022-04-19T06:20:...|2022-04-19T11:11:...|2022-04-19T08:17:...|2022-04-19T13:22:...|   MSP|   SFO|   PHL|   MSP|   DL|   DL| 10620| 15060| 978|1586|2022-04-16|2022-04-19|         False|             4|  268.84|   312.60|\n",
            "|2022-04-19T06:20:...|2022-04-19T11:11:...|2022-04-19T08:17:...|2022-04-19T13:22:...|   MSP|   SFO|   PHL|   MSP|   DL|   DL| 10620| 15060| 978|1586|2022-04-17|2022-04-19|         False|             4|  268.84|   312.60|\n",
            "+--------------------+--------------------+--------------------+--------------------+------+------+------+------+-----+-----+------+------+----+----+----------+----------+--------------+--------------+--------+---------+\n",
            "only showing top 20 rows\n",
            "\n",
            "\n",
            "Process complete! (0.0 minutes and 22.926104068756104 seconds)\n"
          ]
        }
      ],
      "source": [
        "log_time()\n",
        "for i in common_wrt_legs:\n",
        "  plc_train[i].show()\n",
        "time_flag()"
      ]
    },
    {
      "cell_type": "code",
      "execution_count": 18,
      "metadata": {
        "colab": {
          "base_uri": "https://localhost:8080/"
        },
        "id": "SwaijkYvRyie",
        "outputId": "ce5d8bf3-ab6b-4710-a6cc-dc12f0629baa"
      },
      "outputs": [
        {
          "output_type": "stream",
          "name": "stdout",
          "text": [
            "\n",
            "Process complete! (0.0 minutes and 0.8649418354034424 seconds)\n"
          ]
        }
      ],
      "source": [
        "log_time()\n",
        "# Upon preliminary preprocessing, we can make the following observations:\n",
        "\n",
        "# sAAC, sDAC, sAC, isBasicEconomy are categorical variables--these are all to be\n",
        "# one-hot encoded.\n",
        "\n",
        "# sDIS, sD, seatsRemaining are numerical variables--these are only to be cast to\n",
        "# numerical data types.\n",
        "\n",
        "# sDTR/sATR, searchDate, flightDate are date varibles--from these, we can\n",
        "# extract more nuanced features such as times of day (TOD) for\n",
        "# departures/arrivals, days till flight (DTF) between search and flight dates,\n",
        "# and days of weeks (DOY) and months (MOY) of flight dates.\n",
        "\n",
        "rp_train = {}\n",
        "rp_test = {}\n",
        "cat_feats = {}\n",
        "num_feats = {}\n",
        "date_feats = {}\n",
        "\n",
        "# Prepare lists of names for one-hot encoding of categorical features.\n",
        "cat_feats_si = {}\n",
        "cat_feats_ohe = {}\n",
        "\n",
        "for i in common_wrt_legs:\n",
        "  cat_feats[i] = ['isBasicEconomy'] + [c for c in plc_train[i].columns if c.startswith(('sAAC_', 'sDAC_', 'sAC_'))]\n",
        "  num_feats[i] = ['seatsRemaining'] + [c for c in plc_train[i].columns if c.startswith(('sDIS_', 'sD_'))]\n",
        "  date_feats[i] = ['searchDate', 'flightDate'] + [c for c in plc_train[i].columns if c.startswith(('sDTR_', 'sATR_'))]\n",
        "\n",
        "  # Fill lists of names for one-hot encoding of categorical features.\n",
        "  cat_feats_si[i] = [f + '_si' for f in cat_feats[i]]\n",
        "  cat_feats_ohe[i] = [f + '_ohe' for f in cat_feats[i]]\n",
        "\n",
        "  # Cast numerical features to numerical data types, and extract select\n",
        "  # date-based features (TOD will be forgone due to the ambiguity of timezones\n",
        "  # in the dataset).\n",
        "  rp_train[i] = plc_train[i].select(cat_feats[i] +\n",
        "   [plc_train[i][f].cast('float') for f in num_feats[i] + targets] +\n",
        "    [datediff('flightDate', 'searchDate').alias('DTF')] +\n",
        "     [dayofweek('flightDate').alias('DOW')] +\n",
        "      [month('flightDate').alias('MOY')])\n",
        "  rp_test[i] = plc_test[i].select(cat_feats[i] +\n",
        "   [plc_test[i][f].cast('float') for f in num_feats[i] + targets] +\n",
        "    [datediff('flightDate', 'searchDate').alias('DTF')] +\n",
        "     [dayofweek('flightDate').alias('DOW')] +\n",
        "      [month('flightDate').alias('MOY')])\n",
        "\n",
        "time_flag()"
      ]
    },
    {
      "cell_type": "markdown",
      "metadata": {
        "id": "3CIc1260RZis"
      },
      "source": [
        "## Summary\n",
        "(View runtime of procedure following execution)"
      ]
    },
    {
      "cell_type": "code",
      "execution_count": 19,
      "metadata": {
        "colab": {
          "base_uri": "https://localhost:8080/"
        },
        "id": "10axBtpzRfhC",
        "outputId": "7d0f4e0e-dc0e-4229-e316-254cdc8897e7"
      },
      "outputs": [
        {
          "output_type": "stream",
          "name": "stdout",
          "text": [
            "\n",
            "Data Partitioning Complete! (37.0 minutes and 54.93595838546753 seconds)\n"
          ]
        }
      ],
      "source": [
        "section_flag = time_flag(note = 'Data Partitioning Complete!', frum = section_flag, save_flag = True)"
      ]
    },
    {
      "cell_type": "markdown",
      "metadata": {
        "id": "OEgvSXZkE3O6"
      },
      "source": [
        "# Partition Selection\n",
        "It is recommended to evaluate a small number of partitions (e.g., one or two) at a time due to computational constraints."
      ]
    },
    {
      "cell_type": "markdown",
      "metadata": {
        "id": "DLKgqziyFbmG"
      },
      "source": [
        "## Procedure"
      ]
    },
    {
      "cell_type": "code",
      "execution_count": 20,
      "metadata": {
        "id": "76C66kENEIGC"
      },
      "outputs": [],
      "source": [
        "# Select whichever partitions are desired for evaluation.\n",
        "pnos = [1]\n",
        "fp_train = dict(zip(pnos, [rp_train[p] for p in pnos]))\n",
        "fp_test = dict(zip(pnos, [rp_test[p] for p in pnos]))"
      ]
    },
    {
      "cell_type": "markdown",
      "metadata": {
        "id": "BSpAtFVtFdsi"
      },
      "source": [
        "## Summary\n",
        "(View runtime of procedure following execution)"
      ]
    },
    {
      "cell_type": "code",
      "execution_count": 21,
      "metadata": {
        "colab": {
          "base_uri": "https://localhost:8080/"
        },
        "id": "HAuPGZxkFnma",
        "outputId": "d571404d-18c5-4688-a400-e77fb1f6f6a5"
      },
      "outputs": [
        {
          "output_type": "stream",
          "name": "stdout",
          "text": [
            "\n",
            "Partition Selection Complete! (0.0 minutes and 0.030663251876831055 seconds)\n"
          ]
        }
      ],
      "source": [
        "section_flag = time_flag(note = 'Partition Selection Complete!', frum = section_flag, save_flag = True)"
      ]
    },
    {
      "cell_type": "markdown",
      "metadata": {
        "id": "XgVQ0k9IrhKR"
      },
      "source": [
        "# Data Pipeline"
      ]
    },
    {
      "cell_type": "markdown",
      "metadata": {
        "id": "HyD_ogP6W9ZU"
      },
      "source": [
        "## Procedure"
      ]
    },
    {
      "cell_type": "code",
      "execution_count": 22,
      "metadata": {
        "colab": {
          "base_uri": "https://localhost:8080/"
        },
        "id": "ndqa9HXNrFjF",
        "outputId": "89a42afb-ced3-4f28-da67-0256131648f2"
      },
      "outputs": [
        {
          "output_type": "stream",
          "name": "stdout",
          "text": [
            "Fitting pipeline to data partition 1 of 1...\n",
            "\n",
            "Process complete! (80.0 minutes and 26.226526498794556 seconds)\n",
            "Running data partition 1 of 1 through pipeline...\n",
            "\n",
            "Successfully ran data partition 1 of 1 through pipeline! (0.0 minutes and 0.8586592674255371 seconds)\n",
            "\n",
            "ALL DATA PARTITIONS have been run through pipeline!!! (80.0 minutes and 27.48966693878174 seconds)\n"
          ]
        }
      ],
      "source": [
        "# Pre-PCA pipeline.\n",
        "fe_date_feats = ['DTF', 'DOW', 'MOY']\n",
        "\n",
        "success = True\n",
        "!mkdir -p PrePCA\n",
        "pipeline_prefs = {'new': True, 'load_paths': None, 'save_new': True,\n",
        "                  'save_paths': dict(zip(common_wrt_legs,\n",
        "                   [f'/content/PrePCA/pipeline_{i}' for i in common_wrt_legs]))}\n",
        "pre_pipelines = {}\n",
        "train_fes = {}\n",
        "test_fes = {}\n",
        "\n",
        "for i, j in enumerate(fp_train):\n",
        "  log_time()\n",
        "  if pipeline_prefs['new']:\n",
        "    print(f'Fitting pipeline to data partition {i + 1} of {len(fp_train)}...')\n",
        "    pre_pipelines[j] = Pipeline(stages = [Imputer(strategy = 'median',\n",
        "                                                  inputCols = num_feats[j],\n",
        "                                                  outputCols = num_feats[j]),\n",
        "                                          StringIndexer(inputCols = cat_feats[j],\n",
        "                                                        outputCols = cat_feats_si[j],\n",
        "                                                        handleInvalid = 'keep'),\n",
        "                                          OneHotEncoder(inputCols = cat_feats_si[j],\n",
        "                                                        outputCols = cat_feats_ohe[j],\n",
        "                                                        handleInvalid = 'keep'),\n",
        "                                          VectorAssembler(inputCols = num_feats[j] +\n",
        "                                                          cat_feats_ohe[j] +\n",
        "                                                          fe_date_feats,\n",
        "                                                          outputCol = 'vaf'),\n",
        "                                          StandardScaler(inputCol = 'vaf',\n",
        "                                                         outputCol = 'ssf')]).fit(fp_train[j])\n",
        "    if pipeline_prefs['save_new']:\n",
        "      pre_pipelines[j].write().overwrite().save(pipeline_prefs['save_paths'][j])\n",
        "      !tar czf prePCA_part_{j}.tar.gz {pipeline_prefs['save_paths'][j][9:]}\n",
        "  else:\n",
        "    try:\n",
        "      print(f'Retrieving previously fitted pipeline stored in {pipeline_prefs[\"load_paths\"]}...')\n",
        "      !tar xf prePCA_part_{j}.tar.gz\n",
        "      pre_pipelines[j] = PipelineModel.load(pipeline_prefs['load_paths'][j])\n",
        "    except:\n",
        "      print(f'Failed to retrieve pipeline from {pipeline_prefs[\"load_paths\"]}!')\n",
        "      success = False\n",
        "      break\n",
        "\n",
        "  time_flag()\n",
        "\n",
        "  print(f'Running data partition {i + 1} of {len(fp_train)} through pipeline...')\n",
        "  log_time()\n",
        "  train_fes[j] = pre_pipelines[j].transform(fp_train[j])\n",
        "  test_fes[j] = pre_pipelines[j].transform(fp_test[j])\n",
        "  time_flag(note = f'Successfully ran data partition {i + 1} of {len(fp_train)} through pipeline!')\n",
        "\n",
        "if success:\n",
        "  cell_flag = time_flag(note = 'ALL DATA PARTITIONS have been run through pipeline!!!',\n",
        "                        frum = section_flag, save_flag = True)"
      ]
    },
    {
      "cell_type": "code",
      "execution_count": 23,
      "metadata": {
        "id": "9SV-G4aW3VxW",
        "colab": {
          "base_uri": "https://localhost:8080/"
        },
        "outputId": "b9d9a0f8-d92d-44ff-bc34-c8dd5d080ce6"
      },
      "outputs": [
        {
          "output_type": "stream",
          "name": "stdout",
          "text": [
            "Verifying raw feature space dimension for data partition 1 of 1...\n",
            "\n",
            "Raw feature space dimension verified. (43.0 minutes and 49.59289503097534 seconds)\n",
            "Proceeding to generate PCA stats...\n",
            "\n",
            "PCA stats obtained for 1 / 1 of the data partitions... (86.0 minutes and 52.279377698898315 seconds)\n",
            "\n",
            "PCA stats generated for ALL DATA PARTITIONS!!! (130.0 minutes and 42.163208961486816 seconds)\n"
          ]
        }
      ],
      "source": [
        "# Generate PCA stats.\n",
        "success = True\n",
        "!mkdir -p PCA\n",
        "pca_stats_prefs = {'new': True, 'load_paths': None, 'save_new': True,\n",
        "                   'save_paths': dict(zip(common_wrt_legs,\n",
        "                    [f'/content/PCA/stats_{i}.npy' for i in common_wrt_legs]))}\n",
        "vecLen = udf(lambda x: len(x))\n",
        "raw_feat_space_dims = {}\n",
        "pca_stats = {}\n",
        "\n",
        "for i, j in enumerate(train_fes):\n",
        "  log_time()\n",
        "  if pca_stats_prefs['new']:\n",
        "    print(f'Verifying raw feature space dimension for data partition {i + 1} of {len(train_fes)}...')\n",
        "\n",
        "    # Get length of assembled vector for evaluation of PCA.\n",
        "    tmp_ssf_len = train_fes[j].select(vecLen('ssf').cast('float')).distinct().toPandas()\n",
        "    assert(tmp_ssf_len.size == 1)\n",
        "    raw_feat_space_dims[j] = list(tmp_ssf_len.iloc[0])[0]\n",
        "    time_flag(note = 'Raw feature space dimension verified.')\n",
        "\n",
        "    print('Proceeding to generate PCA stats...')\n",
        "    log_time()\n",
        "\n",
        "    # Now evaluate PCA.\n",
        "    pca_stats[j] = PCA(k = raw_feat_space_dims[j], inputCol = 'ssf',\n",
        "                       outputCol = 'pcf').fit(train_fes[j]).explainedVariance.values\n",
        "\n",
        "    if pca_stats_prefs['save_new']:\n",
        "      np.save(pca_stats_prefs['save_paths'][j], pca_stats[j])\n",
        "  else:\n",
        "    try:\n",
        "      print(f'Retrieving previously generated PCA stats stored in {pca_stats_prefs[\"load_paths\"]}...')\n",
        "      pca_stats[j] = np.load(pca_stats_prefs['load_paths'][j])\n",
        "    except:\n",
        "      print(f'Failed to retrieve PCA stats from {pca_stats_prefs[\"load_paths\"]}!')\n",
        "      success = False\n",
        "      break\n",
        "\n",
        "  time_flag(note = f'PCA stats obtained for {i + 1} / {len(train_fes)} of the data partitions...')\n",
        "\n",
        "if success:\n",
        "  cell_flag = time_flag(note = 'PCA stats generated for ALL DATA PARTITIONS!!!',\n",
        "                        frum = cell_flag, save_flag = True)"
      ]
    },
    {
      "cell_type": "code",
      "execution_count": 24,
      "metadata": {
        "id": "g5SvDGuzfq7w",
        "colab": {
          "base_uri": "https://localhost:8080/"
        },
        "outputId": "01fa9070-6f43-4a8c-e25a-3b97535d6786"
      },
      "outputs": [
        {
          "output_type": "stream",
          "name": "stdout",
          "text": [
            "\n",
            "Process complete! (0.0 minutes and 0.008893489837646484 seconds)\n"
          ]
        }
      ],
      "source": [
        "log_time()\n",
        "# Impose an arbitrary threshold on the minimum fraction of variance to be\n",
        "# preserved in the reduced-dimension space, and compute the corresponding\n",
        "# minimum reduced dimension.\n",
        "rds_var_thresh = 0.95\n",
        "\n",
        "pca_ks = {}\n",
        "for i, j in enumerate(pca_stats):\n",
        "  pca_ks[j] = np.argmax(np.cumsum(pca_stats[j]) > rds_var_thresh) + 1\n",
        "\n",
        "cell_flag = time_flag(save_flag = True)"
      ]
    },
    {
      "cell_type": "code",
      "execution_count": 25,
      "metadata": {
        "id": "NAtTnWfxyr8B",
        "colab": {
          "base_uri": "https://localhost:8080/"
        },
        "outputId": "a4f2efc3-bf1a-43bc-8858-f3527d300c5e"
      },
      "outputs": [
        {
          "output_type": "stream",
          "name": "stdout",
          "text": [
            "Generating PCA model for data partition 1 of 1...\n",
            "\n",
            "Process complete! (85.0 minutes and 50.04234719276428 seconds)\n",
            "Proceeding to reduce dimension associated with data partition 1 of 1...\n",
            "\n",
            "Successfully reduced dimension associated with data partition 1 of 1! (0.0 minutes and 0.15296530723571777 seconds)\n",
            "\n",
            "PCA performed on ALL DATA PARTITIONS!!! (85.0 minutes and 50.28396487236023 seconds)\n"
          ]
        }
      ],
      "source": [
        "# Proceed to perform the appropriate PCA.\n",
        "\n",
        "success = True\n",
        "pca_prefs = {'new': True, 'load_paths': None, 'save_new': True,\n",
        "             'save_paths': dict(zip(common_wrt_legs,\n",
        "              [f'/content/PCA/pipeline_{i}' for i in common_wrt_legs]))}\n",
        "pca_mods = {}\n",
        "train_pca = {}\n",
        "test_pca = {}\n",
        "for i, j in enumerate(pca_ks):\n",
        "  log_time()\n",
        "  if pca_prefs['new']:\n",
        "    print(f'Generating PCA model for data partition {i + 1} of {len(pca_ks)}...')\n",
        "    pca_mods[j] = PCA(k = pca_ks[j], inputCol = 'ssf', outputCol = 'pcf').fit(train_fes[j])\n",
        "    if pca_prefs['save_new']:\n",
        "      pca_mods[j].save(pca_prefs['save_paths'][j])\n",
        "      !tar czf PCA_part_{j}.tar.gz {pca_prefs['save_paths'][j][9:]}\n",
        "  else:\n",
        "    try:\n",
        "      print(f'Retrieving previously trained PCA model stored in {pca_prefs[\"load_paths\"]}...')\n",
        "      !tar xf PCA_part_{j}.tar.gz\n",
        "      pca_mods[j] = PCAModel.load(pca_prefs['load_paths'][j])\n",
        "    except:\n",
        "      print(f'Failed to retrieve PCA model from {pca_prefs[\"load_paths\"]}!')\n",
        "      success = False\n",
        "      break\n",
        "  time_flag()\n",
        "\n",
        "  print(f'Proceeding to reduce dimension associated with data partition {i + 1} of {len(pca_ks)}...')\n",
        "\n",
        "  log_time()\n",
        "  train_pca[j] = pca_mods[j].transform(train_fes[j])\n",
        "  test_pca[j] = pca_mods[j].transform(test_fes[j])\n",
        "  time_flag(f'Successfully reduced dimension associated with data partition {i + 1} of {len(pca_ks)}!')\n",
        "\n",
        "if success:\n",
        "  time_flag(note = 'PCA performed on ALL DATA PARTITIONS!!!', frum = cell_flag)"
      ]
    },
    {
      "cell_type": "markdown",
      "metadata": {
        "id": "nwaA2gLNRmG5"
      },
      "source": [
        "## Summary\n",
        "(View runtime of procedure following execution)"
      ]
    },
    {
      "cell_type": "code",
      "execution_count": 26,
      "metadata": {
        "id": "v5VP40yiSEcf",
        "colab": {
          "base_uri": "https://localhost:8080/"
        },
        "outputId": "67008a9f-871f-4c0d-8597-410d1e304563"
      },
      "outputs": [
        {
          "output_type": "stream",
          "name": "stdout",
          "text": [
            "\n",
            "Data Pipeline Fitting Complete! (297.0 minutes and 0.060181617736816406 seconds)\n"
          ]
        }
      ],
      "source": [
        "section_flag = time_flag(note = 'Data Pipeline Fitting Complete!', frum = section_flag, save_flag = True)"
      ]
    },
    {
      "cell_type": "markdown",
      "metadata": {
        "id": "M74AUReu9i8M"
      },
      "source": [
        "# Model Training"
      ]
    },
    {
      "cell_type": "markdown",
      "metadata": {
        "id": "lf3grmISVuwQ"
      },
      "source": [
        "## Procedure"
      ]
    },
    {
      "cell_type": "code",
      "execution_count": 39,
      "metadata": {
        "id": "f0zq3UDl95FH",
        "colab": {
          "base_uri": "https://localhost:8080/"
        },
        "outputId": "06d0e4d9-5fe4-43f2-afa9-e70b87e80210"
      },
      "outputs": [
        {
          "output_type": "stream",
          "name": "stdout",
          "text": [
            "\n",
            "Process complete! (0.0 minutes and 8.916854858398438e-05 seconds)\n"
          ]
        }
      ],
      "source": [
        "log_time()\n",
        "# Choose target: either baseFare or totalFare\n",
        "target_choice = 'baseFare'\n",
        "time_flag()"
      ]
    },
    {
      "cell_type": "code",
      "source": [
        "from xgboost.spark import *"
      ],
      "metadata": {
        "id": "KAZI6H3o5NSV"
      },
      "execution_count": 42,
      "outputs": []
    },
    {
      "cell_type": "code",
      "execution_count": 45,
      "metadata": {
        "id": "75siW2g_9k4_",
        "colab": {
          "base_uri": "https://localhost:8080/"
        },
        "outputId": "7e8327e1-4fc4-4320-910d-d3b0746cc09e"
      },
      "outputs": [
        {
          "output_type": "stream",
          "name": "stdout",
          "text": [
            "Training a XGB Regressor on data partition 1 of 1...\n"
          ]
        },
        {
          "output_type": "stream",
          "name": "stderr",
          "text": [
            "INFO:XGBoost-PySpark:Running xgboost-2.1.4 on 1 workers with\n",
            "\tbooster params: {'objective': 'reg:squarederror', 'device': 'cpu', 'nthread': 1}\n",
            "\ttrain_call_kwargs_params: {'verbose_eval': True, 'num_boost_round': 100}\n",
            "\tdmatrix_kwargs: {'nthread': 1, 'missing': nan}\n",
            "INFO:XGBoost-PySpark:Finished xgboost training!\n"
          ]
        },
        {
          "output_type": "stream",
          "name": "stdout",
          "text": [
            "\n",
            "Process complete! (41.0 minutes and 36.56788372993469 seconds)\n",
            "Proceeding to generate predictions for data partition 1 of 1...\n",
            "\n",
            "Predictions generated for data partition 1 of 1... (0.0 minutes and 1.2910025119781494 seconds)\n",
            "\n",
            "Model training/prediction generation complete for ALL DATA PARTITIONS!!! (65.0 minutes and 27.712190866470337 seconds)\n"
          ]
        }
      ],
      "source": [
        "# Train using a PySpark-compatible model class of choice.\n",
        "success = True\n",
        "mod_prefs = {'new': True, 'load_paths': None, 'save_new': False, 'save_paths': None}\n",
        "mod_class = {'name': 'XGB Regressor', 'class': SparkXGBRegressor, 'mod': SparkXGBRegressorModel}\n",
        "mods = {}\n",
        "train_res = {}\n",
        "test_res = {}\n",
        "for i, j in enumerate(train_pca):\n",
        "  log_time()\n",
        "  if mod_prefs['new']:\n",
        "    print(f'Training a {mod_class[\"name\"]} on data partition {i + 1} of {len(train_pca)}...')\n",
        "    mods[j] = mod_class['class'](features_col = 'pcf', label_col = target_choice).fit(train_pca[j])\n",
        "    if mod_prefs['save_new']:\n",
        "      mods[j].save(mod_prefs['save_paths'][j])\n",
        "      !tar czf Models_part_{j}.tar.gz {mod_prefs['save_paths'][j][9:]}\n",
        "  else:\n",
        "    try:\n",
        "      print(f'Retrieving previously trained model stored in {mod_prefs[\"load_paths\"]}...')\n",
        "      !tar xf Models_part_{j}.tar.gz\n",
        "      mods[j] = mod_class['mod'].load(mod_prefs['load_paths'][j])\n",
        "    except:\n",
        "      print(f'Failed to retrieve model from {mod_prefs[\"load_paths\"]}!')\n",
        "      success = False\n",
        "      break\n",
        "  time_flag()\n",
        "\n",
        "  print(f'Proceeding to generate predictions for data partition {i + 1} of {len(train_pca)}...')\n",
        "\n",
        "  log_time()\n",
        "  train_res[j] = mods[j].transform(train_pca[j])\n",
        "  test_res[j] = mods[j].transform(test_pca[j])\n",
        "  time_flag(note = f'Predictions generated for data partition {i + 1} of {len(train_pca)}...')\n",
        "\n",
        "if success:\n",
        "  cell_flag = time_flag(note = 'Model training/prediction generation complete for ALL DATA PARTITIONS!!!',\n",
        "                        frum = section_flag, save_flag = True)"
      ]
    },
    {
      "cell_type": "code",
      "execution_count": 46,
      "metadata": {
        "id": "lM8aq2WIYY2E",
        "colab": {
          "base_uri": "https://localhost:8080/"
        },
        "outputId": "9fd273e1-c950-497a-bc36-726d85521022"
      },
      "outputs": [
        {
          "output_type": "stream",
          "name": "stdout",
          "text": [
            "Evaluating model associated with data partition 1 of 1...\n",
            "+-------+-------------------+\n",
            "|summary|                 SE|\n",
            "+-------+-------------------+\n",
            "|  count|           16551316|\n",
            "|   mean|  9571.781258383819|\n",
            "| stddev| 114263.15222369383|\n",
            "|    min|                0.0|\n",
            "|    max|1.783867559357557E7|\n",
            "+-------+-------------------+\n",
            "\n",
            "+-------+--------------------+\n",
            "|summary|                  SE|\n",
            "+-------+--------------------+\n",
            "|  count|             5515572|\n",
            "|   mean|   9612.353169563714|\n",
            "| stddev|  113724.72872101783|\n",
            "|    min|1.455191522836685...|\n",
            "|    max| 1.814538582437755E7|\n",
            "+-------+--------------------+\n",
            "\n",
            "\n",
            "Process complete! (57.0 minutes and 18.67183518409729 seconds)\n",
            "\n",
            "Model evaluation complete for ALL DATA PARTITIONS!!! (57.0 minutes and 34.15929555892944 seconds)\n"
          ]
        }
      ],
      "source": [
        "# Retrieve/assess results.\n",
        "\n",
        "train_SE = {}\n",
        "test_SE = {}\n",
        "\n",
        "for i, j in enumerate(pnos):\n",
        "  print(f'Evaluating model associated with data partition {i + 1} of {len(pnos)}...')\n",
        "  log_time()\n",
        "\n",
        "  train_SE[j] = train_res[j].select(((train_res[j][target_choice] - train_res[j]['prediction']) ** 2).alias('SE'))\n",
        "  train_SE[j].describe().show()\n",
        "\n",
        "  test_SE[j] = test_res[j].select(((test_res[j][target_choice] - test_res[j]['prediction']) ** 2).alias('SE'))\n",
        "  test_SE[j].describe().show()\n",
        "\n",
        "  time_flag()\n",
        "\n",
        "time_flag(note = 'Model evaluation complete for ALL DATA PARTITIONS!!!', frum = cell_flag)"
      ]
    },
    {
      "cell_type": "markdown",
      "metadata": {
        "id": "gEFi6tlxSPR_"
      },
      "source": [
        "## Summary\n",
        "(View runtime of procedure following execution)"
      ]
    },
    {
      "cell_type": "code",
      "execution_count": 47,
      "metadata": {
        "id": "-wgyKYuvShet",
        "colab": {
          "base_uri": "https://localhost:8080/"
        },
        "outputId": "680b33b3-8669-480a-b40a-54bb33d69ef1"
      },
      "outputs": [
        {
          "output_type": "stream",
          "name": "stdout",
          "text": [
            "\n",
            "Model Training Complete! (123.0 minutes and 1.9470362663269043 seconds)\n"
          ]
        }
      ],
      "source": [
        "section_flag = time_flag(note = 'Model Training Complete!', frum = section_flag, save_flag = True)"
      ]
    },
    {
      "cell_type": "markdown",
      "metadata": {
        "id": "tQp_HWNsSHhP"
      },
      "source": [
        "# Notebook Summary: Total Runtime"
      ]
    },
    {
      "cell_type": "code",
      "execution_count": 48,
      "metadata": {
        "id": "Exi_v9oq2Wa1",
        "colab": {
          "base_uri": "https://localhost:8080/"
        },
        "outputId": "1e72a109-45c1-4da9-d354-6a2f5d7a7534"
      },
      "outputs": [
        {
          "output_type": "stream",
          "name": "stdout",
          "text": [
            "\n",
            "ENTIRE NOTEBOOK EXECUTION COMPLETE!!!!! (687.0 minutes and 44.43928790092468 seconds)\n"
          ]
        }
      ],
      "source": [
        "time_flag(note = 'ENTIRE NOTEBOOK EXECUTION COMPLETE!!!!!', frum = 0)"
      ]
    },
    {
      "cell_type": "code",
      "execution_count": null,
      "metadata": {
        "id": "2iwdN3tuOBZD"
      },
      "outputs": [],
      "source": [
        "time.sleep(12 * 60 * 60)"
      ]
    },
    {
      "cell_type": "code",
      "source": [],
      "metadata": {
        "id": "sGzt2qFq1ByK"
      },
      "execution_count": null,
      "outputs": []
    }
  ],
  "metadata": {
    "colab": {
      "collapsed_sections": [
        "9yymT4zVRTTU",
        "RXdFgw9ZXijn",
        "hDPuZNYLPh6u",
        "v4MuUN57XOAh",
        "3CIc1260RZis",
        "OEgvSXZkE3O6",
        "DLKgqziyFbmG",
        "BSpAtFVtFdsi",
        "XgVQ0k9IrhKR",
        "HyD_ogP6W9ZU",
        "nwaA2gLNRmG5",
        "M74AUReu9i8M",
        "lf3grmISVuwQ",
        "gEFi6tlxSPR_",
        "tQp_HWNsSHhP"
      ],
      "provenance": []
    },
    "kernelspec": {
      "display_name": "Python 3",
      "name": "python3"
    },
    "language_info": {
      "name": "python"
    }
  },
  "nbformat": 4,
  "nbformat_minor": 0
}
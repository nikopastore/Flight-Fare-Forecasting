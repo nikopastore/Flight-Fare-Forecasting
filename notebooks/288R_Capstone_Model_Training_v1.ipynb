{
  "cells": [
    {
      "cell_type": "markdown",
      "metadata": {
        "id": "9yymT4zVRTTU"
      },
      "source": [
        "## Data Load"
      ]
    },
    {
      "cell_type": "code",
      "execution_count": null,
      "metadata": {
        "colab": {
          "base_uri": "https://localhost:8080/"
        },
        "id": "uVCPTXrlYgqF",
        "outputId": "3d360edc-36f8-4123-cd63-98b9736d03fd"
      },
      "outputs": [
        {
          "name": "stdout",
          "output_type": "stream",
          "text": [
            "Requirement already satisfied: kaggle in /usr/local/lib/python3.11/dist-packages (1.6.17)\n",
            "Requirement already satisfied: six>=1.10 in /usr/local/lib/python3.11/dist-packages (from kaggle) (1.17.0)\n",
            "Requirement already satisfied: certifi>=2023.7.22 in /usr/local/lib/python3.11/dist-packages (from kaggle) (2025.1.31)\n",
            "Requirement already satisfied: python-dateutil in /usr/local/lib/python3.11/dist-packages (from kaggle) (2.8.2)\n",
            "Requirement already satisfied: requests in /usr/local/lib/python3.11/dist-packages (from kaggle) (2.32.3)\n",
            "Requirement already satisfied: tqdm in /usr/local/lib/python3.11/dist-packages (from kaggle) (4.67.1)\n",
            "Requirement already satisfied: python-slugify in /usr/local/lib/python3.11/dist-packages (from kaggle) (8.0.4)\n",
            "Requirement already satisfied: urllib3 in /usr/local/lib/python3.11/dist-packages (from kaggle) (2.3.0)\n",
            "Requirement already satisfied: bleach in /usr/local/lib/python3.11/dist-packages (from kaggle) (6.2.0)\n",
            "Requirement already satisfied: webencodings in /usr/local/lib/python3.11/dist-packages (from bleach->kaggle) (0.5.1)\n",
            "Requirement already satisfied: text-unidecode>=1.3 in /usr/local/lib/python3.11/dist-packages (from python-slugify->kaggle) (1.3)\n",
            "Requirement already satisfied: charset-normalizer<4,>=2 in /usr/local/lib/python3.11/dist-packages (from requests->kaggle) (3.4.1)\n",
            "Requirement already satisfied: idna<4,>=2.5 in /usr/local/lib/python3.11/dist-packages (from requests->kaggle) (3.10)\n",
            "Dataset URL: https://www.kaggle.com/datasets/dilwong/flightprices\n",
            "License(s): Attribution 4.0 International (CC BY 4.0)\n",
            "Downloading flightprices.zip to /content\n",
            "100% 5.50G/5.51G [01:05<00:00, 158MB/s]\n",
            "100% 5.51G/5.51G [01:05<00:00, 90.1MB/s]\n"
          ]
        }
      ],
      "source": [
        "!pip install kaggle\n",
        "!kaggle datasets download -d dilwong/flightprices"
      ]
    },
    {
      "cell_type": "code",
      "execution_count": null,
      "metadata": {
        "colab": {
          "base_uri": "https://localhost:8080/"
        },
        "id": "Ww_yO_q2cZyN",
        "outputId": "7d02d35e-16d8-434b-8018-bc0b205d78f0"
      },
      "outputs": [
        {
          "name": "stdout",
          "output_type": "stream",
          "text": [
            "Archive:  flightprices.zip\n",
            "  inflating: itineraries.csv         \n"
          ]
        }
      ],
      "source": [
        "!unzip -n flightprices.zip"
      ]
    },
    {
      "cell_type": "code",
      "execution_count": null,
      "metadata": {
        "colab": {
          "base_uri": "https://localhost:8080/"
        },
        "id": "ECF7PIMN-aV6",
        "outputId": "40e9ec29-07b8-4b55-cf5b-b040c8545706"
      },
      "outputs": [
        {
          "name": "stdout",
          "output_type": "stream",
          "text": [
            "Requirement already satisfied: pyspark in /usr/local/lib/python3.11/dist-packages (3.5.4)\n",
            "Requirement already satisfied: py4j==0.10.9.7 in /usr/local/lib/python3.11/dist-packages (from pyspark) (0.10.9.7)\n"
          ]
        }
      ],
      "source": [
        "!pip install pyspark"
      ]
    },
    {
      "cell_type": "code",
      "execution_count": null,
      "metadata": {
        "id": "tAI0dO1O5O_G"
      },
      "outputs": [],
      "source": [
        "import re\n",
        "import numpy as np\n",
        "import pandas as pd\n",
        "import matplotlib.pyplot as plt\n",
        "import seaborn as sns"
      ]
    },
    {
      "cell_type": "code",
      "execution_count": null,
      "metadata": {
        "colab": {
          "base_uri": "https://localhost:8080/"
        },
        "id": "7i7Hn6G7ihyw",
        "outputId": "177e8efe-fda0-4d6e-805e-6eec90160d1c"
      },
      "outputs": [
        {
          "name": "stderr",
          "output_type": "stream",
          "text": [
            "/usr/local/lib/python3.11/dist-packages/pyspark/sql/context.py:113: FutureWarning: Deprecated in 3.0.0. Use SparkSession.builder.getOrCreate() instead.\n",
            "  warnings.warn(\n"
          ]
        }
      ],
      "source": [
        "from pyspark import SparkContext\n",
        "from pyspark.sql import SparkSession\n",
        "from pyspark.sql import SQLContext\n",
        "import pyspark.sql.functions as F\n",
        "try:\n",
        "  sc.stop()\n",
        "except:\n",
        "  pass\n",
        "sc = SparkContext()\n",
        "sqlContext = SQLContext(sc)"
      ]
    },
    {
      "cell_type": "code",
      "execution_count": null,
      "metadata": {
        "id": "Zvi4e_DM-bsg"
      },
      "outputs": [],
      "source": [
        "ss = SparkSession.builder.getOrCreate()"
      ]
    },
    {
      "cell_type": "code",
      "execution_count": null,
      "metadata": {
        "id": "G9iU0NybPOx2"
      },
      "outputs": [],
      "source": [
        "df = sqlContext.read.csv('itineraries.csv', header = True)"
      ]
    },
    {
      "cell_type": "code",
      "execution_count": null,
      "metadata": {
        "colab": {
          "base_uri": "https://localhost:8080/"
        },
        "id": "-bMIWBCaPeXK",
        "outputId": "add6fb7e-9c8c-490a-a642-e3bd6ba1d79c"
      },
      "outputs": [
        {
          "name": "stdout",
          "output_type": "stream",
          "text": [
            "+--------------------+----------+----------+---------------+------------------+-------------+--------------+-----------+--------------+------------+---------+--------+---------+--------------+-------------------+---------------------------------+------------------------+-------------------------------+----------------------+--------------------------+----------------------------+--------------------+-------------------+----------------------------+-------------------------+----------------+-----------------+\n",
            "|               legId|searchDate|flightDate|startingAirport|destinationAirport|fareBasisCode|travelDuration|elapsedDays|isBasicEconomy|isRefundable|isNonStop|baseFare|totalFare|seatsRemaining|totalTravelDistance|segmentsDepartureTimeEpochSeconds|segmentsDepartureTimeRaw|segmentsArrivalTimeEpochSeconds|segmentsArrivalTimeRaw|segmentsArrivalAirportCode|segmentsDepartureAirportCode| segmentsAirlineName|segmentsAirlineCode|segmentsEquipmentDescription|segmentsDurationInSeconds|segmentsDistance|segmentsCabinCode|\n",
            "+--------------------+----------+----------+---------------+------------------+-------------+--------------+-----------+--------------+------------+---------+--------+---------+--------------+-------------------+---------------------------------+------------------------+-------------------------------+----------------------+--------------------------+----------------------------+--------------------+-------------------+----------------------------+-------------------------+----------------+-----------------+\n",
            "|9ca0e81111c683bec...|2022-04-16|2022-04-17|            ATL|               BOS|     LA0NX0MC|       PT2H29M|          0|         False|       False|     True|  217.67|   248.60|             9|                947|                       1650214620|    2022-04-17T12:57:...|                     1650223560|  2022-04-17T15:26:...|                       BOS|                         ATL|               Delta|                 DL|                 Airbus A321|                     8940|             947|            coach|\n",
            "|98685953630e772a0...|2022-04-16|2022-04-17|            ATL|               BOS|     LA0NX0MC|       PT2H30M|          0|         False|       False|     True|  217.67|   248.60|             4|                947|                       1650191400|    2022-04-17T06:30:...|                     1650200400|  2022-04-17T09:00:...|                       BOS|                         ATL|               Delta|                 DL|                 Airbus A321|                     9000|             947|            coach|\n",
            "|98d90cbc32bfbb05c...|2022-04-16|2022-04-17|            ATL|               BOS|     LA0NX0MC|       PT2H30M|          0|         False|       False|     True|  217.67|   248.60|             9|                947|                       1650209700|    2022-04-17T11:35:...|                     1650218700|  2022-04-17T14:05:...|                       BOS|                         ATL|               Delta|                 DL|              Boeing 757-200|                     9000|             947|            coach|\n",
            "|969a269d38eae583f...|2022-04-16|2022-04-17|            ATL|               BOS|     LA0NX0MC|       PT2H32M|          0|         False|       False|     True|  217.67|   248.60|             8|                947|                       1650218340|    2022-04-17T13:59:...|                     1650227460|  2022-04-17T16:31:...|                       BOS|                         ATL|               Delta|                 DL|                 Airbus A321|                     9120|             947|            coach|\n",
            "|980370cf27c89b40d...|2022-04-16|2022-04-17|            ATL|               BOS|     LA0NX0MC|       PT2H34M|          0|         False|       False|     True|  217.67|   248.60|             9|                947|                       1650203940|    2022-04-17T09:59:...|                     1650213180|  2022-04-17T12:33:...|                       BOS|                         ATL|               Delta|                 DL|                 Airbus A321|                     9240|             947|            coach|\n",
            "|79eda9f841e226a1e...|2022-04-16|2022-04-17|            ATL|               BOS|     VH0AUEL1|       PT2H38M|          0|         False|       False|     True|  217.67|   248.60|             7|                947|                       1650206700|    2022-04-17T10:45:...|                     1650216180|  2022-04-17T13:23:...|                       BOS|                         ATL|     JetBlue Airways|                 B6|                        NULL|                     9480|             947|            coach|\n",
            "|9335fae376c38bb61...|2022-04-16|2022-04-17|            ATL|               BOS|     V0AJZNN1|       PT4H12M|          0|         False|       False|    False|  213.02|   251.10|             3|                956|             1650198000||16502...|    2022-04-17T08:20:...|           1650203400||16502...|  2022-04-17T09:50:...|                  CLT||BOS|                    ATL||CLT|American Airlines...|             AA||AA|        Airbus A320||Airb...|               5400||7500|        228||728|     coach||coach|\n",
            "|3904bf87f2d1daf33...|2022-04-16|2022-04-17|            ATL|               BOS|     V0AJZNN1|       PT5H18M|          0|         False|       False|    False|  213.02|   251.10|             3|                956|             1650198000||16502...|    2022-04-17T08:20:...|           1650203400||16502...|  2022-04-17T09:50:...|                  CLT||BOS|                    ATL||CLT|American Airlines...|             AA||AA|        Airbus A320||Boei...|               5400||8280|        228||728|     coach||coach|\n",
            "|d93988734c44a3c07...|2022-04-16|2022-04-17|            ATL|               BOS|     V0AJZNN1|       PT5H32M|          0|         False|       False|    False|  213.02|   251.10|             7|                956|             1650193200||16502...|    2022-04-17T07:00:...|           1650198060||16502...|  2022-04-17T08:21:...|                  CLT||BOS|                    ATL||CLT|American Airlines...|             AA||AA|        Airbus A319||Airb...|               4860||7500|        228||728|     coach||coach|\n",
            "|562e7d5dd6ecbf150...|2022-04-16|2022-04-17|            ATL|               BOS|     V0AJZNN1|       PT6H38M|          0|         False|       False|    False|  213.02|   251.10|             7|                956|             1650193200||16502...|    2022-04-17T07:00:...|           1650198060||16502...|  2022-04-17T08:21:...|                  CLT||BOS|                    ATL||CLT|American Airlines...|             AA||AA|        Airbus A319||Boei...|               4860||8280|        228||728|     coach||coach|\n",
            "|c38a6e4b807d15541...|2022-04-16|2022-04-17|            ATL|               BOS|     VAA0AKEN|       PT4H46M|          0|         False|       False|    False|  213.02|   252.60|             1|                947|             1650187800||16501...|    2022-04-17T05:30:...|           1650194280||16502...|  2022-04-17T07:18:...|                  IAD||BOS|                    ATL||IAD|      United||United|             UA||UA|        Airbus A319||Boei...|               6480||5940|        541||406|     coach||coach|\n",
            "|f66d72ba3a5265766...|2022-04-16|2022-04-17|            ATL|               BOS|     V0AJZNN1|       PT5H45M|          0|         False|       False|    False|  213.02|   252.60|             3|               1462|             1650220740||16502...|    2022-04-17T14:39:...|           1650228840||16502...|  2022-04-17T15:54:...|                  ORD||BOS|                    ATL||ORD|American Airlines...|             AA||AA|        Embraer 175||Boei...|               8100||8340|        600||862|     coach||coach|\n",
            "|e7c4054e85cca9bc7...|2022-04-16|2022-04-17|            ATL|               BOS|     V0AJZNN1|       PT5H59M|          0|         False|       False|    False|  213.02|   252.60|             5|               1462|             1650232800||16502...|    2022-04-17T18:00:...|           1650240660||16502...|  2022-04-17T19:11:...|                  ORD||BOS|                    ATL||ORD|American Airlines...|             AA||AA|        Embraer 175||Boei...|               7860||8640|        600||862|     coach||coach|\n",
            "|5fa8c0f8b25eb24bf...|2022-04-16|2022-04-17|            ATL|               BOS|     V0AJZNN1|       PT7H18M|          0|         False|       False|    False|  213.02|   252.60|             3|               1462|             1650220740||16502...|    2022-04-17T14:39:...|           1650228840||16502...|  2022-04-17T15:54:...|                  ORD||BOS|                    ATL||ORD|American Airlines...|             AA||AA|        Embraer 175||Airb...|               8100||7920|        600||862|     coach||coach|\n",
            "|948d26b3e5658762c...|2022-04-16|2022-04-17|            ATL|               BOS|     VAA0AKEN|       PT8H10M|          0|         False|       False|    False|  213.02|   252.60|             2|               1462|             1650190200||16502...|    2022-04-17T06:10:...|           1650198000||16502...|  2022-04-17T07:20:...|                  ORD||BOS|                    ATL||ORD|      United||United|             UA||UA|        Embraer 175 (Enha...|               7800||8640|        600||862|     coach||coach|\n",
            "|cb345693479e84838...|2022-04-16|2022-04-17|            ATL|               BOS|          VNR|       PT5H39M|          0|         False|       False|    False|  183.00|   290.58|             0|               NULL|             1650187560||16501...|    2022-04-17T05:26:...|           1650194400||16502...|  2022-04-17T07:20:...|                  FLL||BOS|                    ATL||FLL|Spirit Airlines||...|             NK||NK|        AIRBUS INDUSTRIE ...|              6840||11100|      None||None|     coach||coach|\n",
            "|e1b95e4e6c997517f...|2022-04-16|2022-04-17|            ATL|               BOS|     KH0AUEY5|       PT2H38M|          0|         False|       False|     True|  265.58|   300.10|             7|                947|                       1650206700|    2022-04-17T10:45:...|                     1650216180|  2022-04-17T13:23:...|                       BOS|                         ATL|   American Airlines|                 AA|                        NULL|                     9480|             947|            coach|\n",
            "|eaf033a044596f0a7...|2022-04-16|2022-04-17|            ATL|               BOS|     L0AJZNN1|       PT4H17M|          0|         False|       False|    False|  260.47|   302.11|             1|                956|             1650233700||16502...|    2022-04-17T18:15:...|           1650238620||16502...|  2022-04-17T19:37:...|                  CLT||BOS|                    ATL||CLT|American Airlines...|             AA||AA|        Canadian Regional...|               4920||7620|        228||728|     coach||coach|\n",
            "|721d9a2f66fe479e7...|2022-04-16|2022-04-17|            ATL|               BOS|     L0AJZNN1|       PT4H36M|          0|         False|       False|    False|  260.47|   302.11|             1|                956|             1650207720||16502...|    2022-04-17T11:02:...|           1650212880||16502...|  2022-04-17T12:28:...|                  CLT||BOS|                    ATL||CLT|American Airlines...|             AA||AA|        Canadair Regional...|               5160||7860|        228||728|     coach||coach|\n",
            "|a9f012defb9227f69...|2022-04-16|2022-04-17|            ATL|               BOS|     L0AJZNN1|       PT4H45M|          0|         False|       False|    False|  260.47|   302.11|             1|                956|             1650226680||16502...|    2022-04-17T16:18:...|           1650230760||16502...|  2022-04-17T17:26:...|                  CLT||BOS|                    ATL||CLT|American Airlines...|             AA||AA|        Airbus A319||Boei...|               4080||7860|        228||728|     coach||coach|\n",
            "+--------------------+----------+----------+---------------+------------------+-------------+--------------+-----------+--------------+------------+---------+--------+---------+--------------+-------------------+---------------------------------+------------------------+-------------------------------+----------------------+--------------------------+----------------------------+--------------------+-------------------+----------------------------+-------------------------+----------------+-----------------+\n",
            "only showing top 20 rows\n",
            "\n"
          ]
        }
      ],
      "source": [
        "df.show()"
      ]
    },
    {
      "cell_type": "code",
      "execution_count": null,
      "metadata": {
        "id": "EEEH_0AOUNTD"
      },
      "outputs": [],
      "source": [
        "import pandas as pd\n",
        "from pyspark.ml.tuning import TrainValidationSplit\n",
        "from sklearn.metrics import mean_squared_error\n",
        "from pyspark.ml.feature import Imputer, VectorAssembler\n",
        "from pyspark.ml import Pipeline"
      ]
    },
    {
      "cell_type": "code",
      "execution_count": null,
      "metadata": {
        "id": "eQDkZcaFHaIa"
      },
      "outputs": [],
      "source": [
        "# -------- Define Features and Target -----\n",
        "features = ['elapsedDays', 'totalTravelDistance', 'seatsRemaining']\n",
        "targets = ['baseFare', 'totalFare']\n",
        "fNt = df.select([df[f].cast('float') for f in features + targets])"
      ]
    },
    {
      "cell_type": "code",
      "execution_count": null,
      "metadata": {
        "id": "RkW3lh9QQQZO"
      },
      "outputs": [],
      "source": [
        "from pyspark.ml.regression import LinearRegression, RandomForestRegressor"
      ]
    },
    {
      "cell_type": "code",
      "execution_count": null,
      "metadata": {
        "colab": {
          "background_save": true
        },
        "id": "_-kRflUkRGrR",
        "outputId": "f8ce0605-e8f6-4291-83a3-a02a299d3d0b"
      },
      "outputs": [
        {
          "name": "stdout",
          "output_type": "stream",
          "text": [
            "+-----------+-------------------+--------------+--------+---------+----------------+\n",
            "|elapsedDays|totalTravelDistance|seatsRemaining|baseFare|totalFare|        features|\n",
            "+-----------+-------------------+--------------+--------+---------+----------------+\n",
            "|        0.0|              947.0|           9.0|  217.67|    248.6| [0.0,947.0,9.0]|\n",
            "|        0.0|              947.0|           4.0|  217.67|    248.6| [0.0,947.0,4.0]|\n",
            "|        0.0|              947.0|           9.0|  217.67|    248.6| [0.0,947.0,9.0]|\n",
            "|        0.0|              947.0|           8.0|  217.67|    248.6| [0.0,947.0,8.0]|\n",
            "|        0.0|              947.0|           9.0|  217.67|    248.6| [0.0,947.0,9.0]|\n",
            "|        0.0|              947.0|           7.0|  217.67|    248.6| [0.0,947.0,7.0]|\n",
            "|        0.0|              956.0|           3.0|  213.02|    251.1| [0.0,956.0,3.0]|\n",
            "|        0.0|              956.0|           3.0|  213.02|    251.1| [0.0,956.0,3.0]|\n",
            "|        0.0|              956.0|           7.0|  213.02|    251.1| [0.0,956.0,7.0]|\n",
            "|        0.0|              956.0|           7.0|  213.02|    251.1| [0.0,956.0,7.0]|\n",
            "|        0.0|              947.0|           1.0|  213.02|    252.6| [0.0,947.0,1.0]|\n",
            "|        0.0|             1462.0|           3.0|  213.02|    252.6|[0.0,1462.0,3.0]|\n",
            "|        0.0|             1462.0|           5.0|  213.02|    252.6|[0.0,1462.0,5.0]|\n",
            "|        0.0|             1462.0|           3.0|  213.02|    252.6|[0.0,1462.0,3.0]|\n",
            "|        0.0|             1462.0|           2.0|  213.02|    252.6|[0.0,1462.0,2.0]|\n",
            "|        0.0|             1468.0|           0.0|   183.0|   290.58|[0.0,1468.0,0.0]|\n",
            "|        0.0|              947.0|           7.0|  265.58|    300.1| [0.0,947.0,7.0]|\n",
            "|        0.0|              956.0|           1.0|  260.47|   302.11| [0.0,956.0,1.0]|\n",
            "|        0.0|              956.0|           1.0|  260.47|   302.11| [0.0,956.0,1.0]|\n",
            "|        0.0|              956.0|           1.0|  260.47|   302.11| [0.0,956.0,1.0]|\n",
            "+-----------+-------------------+--------------+--------+---------+----------------+\n",
            "only showing top 20 rows\n",
            "\n"
          ]
        }
      ],
      "source": [
        "fe_pipeline = Pipeline(stages = [Imputer(strategy='median',\n",
        "                                         inputCols = features + targets,\n",
        "                                         outputCols = features + targets),\n",
        "                                 VectorAssembler(inputCols = features,\n",
        "                                                 outputCol = 'features')])\n",
        "\n",
        "fe_df = fe_pipeline.fit(fNt).transform(fNt)\n",
        "fe_df.show()"
      ]
    },
    {
      "cell_type": "code",
      "execution_count": 13,
      "metadata": {
        "id": "T2iYB8xPbBtG",
        "colab": {
          "base_uri": "https://localhost:8080/"
        },
        "outputId": "4f61dc4a-4bec-4a1c-e999-44594c922736"
      },
      "outputs": [
        {
          "output_type": "stream",
          "name": "stdout",
          "text": [
            "+-----------+-------------------+--------------+--------+---------+----------------+------------------+\n",
            "|elapsedDays|totalTravelDistance|seatsRemaining|baseFare|totalFare|        features|        prediction|\n",
            "+-----------+-------------------+--------------+--------+---------+----------------+------------------+\n",
            "|        0.0|              947.0|           9.0|  217.67|    248.6| [0.0,947.0,9.0]|237.18986311092758|\n",
            "|        0.0|              947.0|           4.0|  217.67|    248.6| [0.0,947.0,4.0]|215.19402961363704|\n",
            "|        0.0|              947.0|           9.0|  217.67|    248.6| [0.0,947.0,9.0]|237.18986311092758|\n",
            "|        0.0|              947.0|           8.0|  217.67|    248.6| [0.0,947.0,8.0]|232.79069641146947|\n",
            "|        0.0|              947.0|           9.0|  217.67|    248.6| [0.0,947.0,9.0]|237.18986311092758|\n",
            "|        0.0|              947.0|           7.0|  217.67|    248.6| [0.0,947.0,7.0]|228.39152971201136|\n",
            "|        0.0|              956.0|           3.0|  213.02|    251.1| [0.0,956.0,3.0]|   211.73964272621|\n",
            "|        0.0|              956.0|           3.0|  213.02|    251.1| [0.0,956.0,3.0]|   211.73964272621|\n",
            "|        0.0|              956.0|           7.0|  213.02|    251.1| [0.0,956.0,7.0]|229.33630952404243|\n",
            "|        0.0|              956.0|           7.0|  213.02|    251.1| [0.0,956.0,7.0]|229.33630952404243|\n",
            "|        0.0|              947.0|           1.0|  213.02|    252.6| [0.0,947.0,1.0]|201.99652951526272|\n",
            "|        0.0|             1462.0|           3.0|  213.02|    252.6|[0.0,1462.0,3.0]|264.85726326928994|\n",
            "|        0.0|             1462.0|           5.0|  213.02|    252.6|[0.0,1462.0,5.0]|273.65559666820616|\n",
            "|        0.0|             1462.0|           3.0|  213.02|    252.6|[0.0,1462.0,3.0]|264.85726326928994|\n",
            "|        0.0|             1462.0|           2.0|  213.02|    252.6|[0.0,1462.0,2.0]| 260.4580965698318|\n",
            "|        0.0|             1468.0|           0.0|   183.0|   290.58|[0.0,1468.0,0.0]|252.28961637893633|\n",
            "|        0.0|              947.0|           7.0|  265.58|    300.1| [0.0,947.0,7.0]|228.39152971201136|\n",
            "|        0.0|              956.0|           1.0|  260.47|   302.11| [0.0,956.0,1.0]| 202.9413093272938|\n",
            "|        0.0|              956.0|           1.0|  260.47|   302.11| [0.0,956.0,1.0]| 202.9413093272938|\n",
            "|        0.0|              956.0|           1.0|  260.47|   302.11| [0.0,956.0,1.0]| 202.9413093272938|\n",
            "+-----------+-------------------+--------------+--------+---------+----------------+------------------+\n",
            "only showing top 20 rows\n",
            "\n"
          ]
        }
      ],
      "source": [
        "lr = LinearRegression(featuresCol = 'features', labelCol = 'baseFare').fit(fe_df)\n",
        "lr_df = lr.transform(fe_df)\n",
        "lr_df.show()"
      ]
    },
    {
      "cell_type": "code",
      "execution_count": null,
      "metadata": {
        "id": "ajeDPOb3hBb0"
      },
      "outputs": [],
      "source": [
        "rfr = RandomForestRegressor(featuresCol = 'features', labelCol = 'baseFare').fit(fe_df)\n",
        "rfr_df = rfr.transform(fe_df)\n",
        "rfr_df.show()"
      ]
    }
  ],
  "metadata": {
    "colab": {
      "provenance": []
    },
    "kernelspec": {
      "display_name": "Python 3",
      "name": "python3"
    },
    "language_info": {
      "name": "python"
    }
  },
  "nbformat": 4,
  "nbformat_minor": 0
}
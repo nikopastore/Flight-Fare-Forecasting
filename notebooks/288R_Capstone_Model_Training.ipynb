{
  "cells": [
    {
      "cell_type": "markdown",
      "metadata": {
        "id": "9yymT4zVRTTU"
      },
      "source": [
        "## Data Load (~10 min)"
      ]
    },
    {
      "cell_type": "code",
      "execution_count": 1,
      "metadata": {
        "colab": {
          "base_uri": "https://localhost:8080/"
        },
        "id": "uVCPTXrlYgqF",
        "outputId": "eefc8c1b-ca3e-48ac-9356-b61a734c7236"
      },
      "outputs": [
        {
          "output_type": "stream",
          "name": "stdout",
          "text": [
            "Requirement already satisfied: kaggle in /usr/local/lib/python3.11/dist-packages (1.6.17)\n",
            "Requirement already satisfied: six>=1.10 in /usr/local/lib/python3.11/dist-packages (from kaggle) (1.17.0)\n",
            "Requirement already satisfied: certifi>=2023.7.22 in /usr/local/lib/python3.11/dist-packages (from kaggle) (2025.1.31)\n",
            "Requirement already satisfied: python-dateutil in /usr/local/lib/python3.11/dist-packages (from kaggle) (2.8.2)\n",
            "Requirement already satisfied: requests in /usr/local/lib/python3.11/dist-packages (from kaggle) (2.32.3)\n",
            "Requirement already satisfied: tqdm in /usr/local/lib/python3.11/dist-packages (from kaggle) (4.67.1)\n",
            "Requirement already satisfied: python-slugify in /usr/local/lib/python3.11/dist-packages (from kaggle) (8.0.4)\n",
            "Requirement already satisfied: urllib3 in /usr/local/lib/python3.11/dist-packages (from kaggle) (2.3.0)\n",
            "Requirement already satisfied: bleach in /usr/local/lib/python3.11/dist-packages (from kaggle) (6.2.0)\n",
            "Requirement already satisfied: webencodings in /usr/local/lib/python3.11/dist-packages (from bleach->kaggle) (0.5.1)\n",
            "Requirement already satisfied: text-unidecode>=1.3 in /usr/local/lib/python3.11/dist-packages (from python-slugify->kaggle) (1.3)\n",
            "Requirement already satisfied: charset-normalizer<4,>=2 in /usr/local/lib/python3.11/dist-packages (from requests->kaggle) (3.4.1)\n",
            "Requirement already satisfied: idna<4,>=2.5 in /usr/local/lib/python3.11/dist-packages (from requests->kaggle) (3.10)\n",
            "Dataset URL: https://www.kaggle.com/datasets/dilwong/flightprices\n",
            "License(s): Attribution 4.0 International (CC BY 4.0)\n",
            "flightprices.zip: Skipping, found more recently modified local copy (use --force to force download)\n"
          ]
        }
      ],
      "source": [
        "!pip install kaggle\n",
        "!kaggle datasets download -d dilwong/flightprices"
      ]
    },
    {
      "cell_type": "code",
      "execution_count": 2,
      "metadata": {
        "colab": {
          "base_uri": "https://localhost:8080/"
        },
        "id": "Ww_yO_q2cZyN",
        "outputId": "f3421bcf-56c2-48f4-84e8-e271fc5e900c"
      },
      "outputs": [
        {
          "output_type": "stream",
          "name": "stdout",
          "text": [
            "Archive:  flightprices.zip\n"
          ]
        }
      ],
      "source": [
        "!unzip -n flightprices.zip"
      ]
    },
    {
      "cell_type": "code",
      "execution_count": 3,
      "metadata": {
        "colab": {
          "base_uri": "https://localhost:8080/"
        },
        "id": "ECF7PIMN-aV6",
        "outputId": "379b6ce9-49b8-4334-d550-06d71ac6720e"
      },
      "outputs": [
        {
          "output_type": "stream",
          "name": "stdout",
          "text": [
            "Requirement already satisfied: pyspark in /usr/local/lib/python3.11/dist-packages (3.5.4)\n",
            "Requirement already satisfied: py4j==0.10.9.7 in /usr/local/lib/python3.11/dist-packages (from pyspark) (0.10.9.7)\n"
          ]
        }
      ],
      "source": [
        "!pip install pyspark"
      ]
    },
    {
      "cell_type": "code",
      "execution_count": 4,
      "metadata": {
        "id": "tAI0dO1O5O_G"
      },
      "outputs": [],
      "source": [
        "import re\n",
        "import numpy as np\n",
        "import pandas as pd\n",
        "import matplotlib.pyplot as plt\n",
        "import seaborn as sns"
      ]
    },
    {
      "cell_type": "code",
      "execution_count": 5,
      "metadata": {
        "colab": {
          "base_uri": "https://localhost:8080/"
        },
        "id": "7i7Hn6G7ihyw",
        "outputId": "494f7b4f-7512-4379-ae7e-3fe92ced2831"
      },
      "outputs": [
        {
          "output_type": "stream",
          "name": "stderr",
          "text": [
            "/usr/local/lib/python3.11/dist-packages/pyspark/sql/context.py:113: FutureWarning: Deprecated in 3.0.0. Use SparkSession.builder.getOrCreate() instead.\n",
            "  warnings.warn(\n"
          ]
        }
      ],
      "source": [
        "from pyspark import SparkContext\n",
        "from pyspark.sql import SparkSession\n",
        "from pyspark.sql import SQLContext\n",
        "import pyspark.sql.functions as F\n",
        "try:\n",
        "  sc.stop()\n",
        "except:\n",
        "  pass\n",
        "sc = SparkContext()\n",
        "sqlContext = SQLContext(sc)"
      ]
    },
    {
      "cell_type": "code",
      "execution_count": 6,
      "metadata": {
        "id": "Zvi4e_DM-bsg"
      },
      "outputs": [],
      "source": [
        "ss = SparkSession.builder.getOrCreate()"
      ]
    },
    {
      "cell_type": "code",
      "execution_count": 7,
      "metadata": {
        "id": "G9iU0NybPOx2"
      },
      "outputs": [],
      "source": [
        "df = sqlContext.read.csv('itineraries.csv', header = True)"
      ]
    },
    {
      "cell_type": "code",
      "execution_count": 8,
      "metadata": {
        "colab": {
          "base_uri": "https://localhost:8080/"
        },
        "id": "-bMIWBCaPeXK",
        "outputId": "4f764572-9b24-4929-babb-b0210e95ec7a"
      },
      "outputs": [
        {
          "output_type": "stream",
          "name": "stdout",
          "text": [
            "+--------------------+----------+----------+---------------+------------------+-------------+--------------+-----------+--------------+------------+---------+--------+---------+--------------+-------------------+---------------------------------+------------------------+-------------------------------+----------------------+--------------------------+----------------------------+--------------------+-------------------+----------------------------+-------------------------+----------------+-----------------+\n",
            "|               legId|searchDate|flightDate|startingAirport|destinationAirport|fareBasisCode|travelDuration|elapsedDays|isBasicEconomy|isRefundable|isNonStop|baseFare|totalFare|seatsRemaining|totalTravelDistance|segmentsDepartureTimeEpochSeconds|segmentsDepartureTimeRaw|segmentsArrivalTimeEpochSeconds|segmentsArrivalTimeRaw|segmentsArrivalAirportCode|segmentsDepartureAirportCode| segmentsAirlineName|segmentsAirlineCode|segmentsEquipmentDescription|segmentsDurationInSeconds|segmentsDistance|segmentsCabinCode|\n",
            "+--------------------+----------+----------+---------------+------------------+-------------+--------------+-----------+--------------+------------+---------+--------+---------+--------------+-------------------+---------------------------------+------------------------+-------------------------------+----------------------+--------------------------+----------------------------+--------------------+-------------------+----------------------------+-------------------------+----------------+-----------------+\n",
            "|9ca0e81111c683bec...|2022-04-16|2022-04-17|            ATL|               BOS|     LA0NX0MC|       PT2H29M|          0|         False|       False|     True|  217.67|   248.60|             9|                947|                       1650214620|    2022-04-17T12:57:...|                     1650223560|  2022-04-17T15:26:...|                       BOS|                         ATL|               Delta|                 DL|                 Airbus A321|                     8940|             947|            coach|\n",
            "|98685953630e772a0...|2022-04-16|2022-04-17|            ATL|               BOS|     LA0NX0MC|       PT2H30M|          0|         False|       False|     True|  217.67|   248.60|             4|                947|                       1650191400|    2022-04-17T06:30:...|                     1650200400|  2022-04-17T09:00:...|                       BOS|                         ATL|               Delta|                 DL|                 Airbus A321|                     9000|             947|            coach|\n",
            "|98d90cbc32bfbb05c...|2022-04-16|2022-04-17|            ATL|               BOS|     LA0NX0MC|       PT2H30M|          0|         False|       False|     True|  217.67|   248.60|             9|                947|                       1650209700|    2022-04-17T11:35:...|                     1650218700|  2022-04-17T14:05:...|                       BOS|                         ATL|               Delta|                 DL|              Boeing 757-200|                     9000|             947|            coach|\n",
            "|969a269d38eae583f...|2022-04-16|2022-04-17|            ATL|               BOS|     LA0NX0MC|       PT2H32M|          0|         False|       False|     True|  217.67|   248.60|             8|                947|                       1650218340|    2022-04-17T13:59:...|                     1650227460|  2022-04-17T16:31:...|                       BOS|                         ATL|               Delta|                 DL|                 Airbus A321|                     9120|             947|            coach|\n",
            "|980370cf27c89b40d...|2022-04-16|2022-04-17|            ATL|               BOS|     LA0NX0MC|       PT2H34M|          0|         False|       False|     True|  217.67|   248.60|             9|                947|                       1650203940|    2022-04-17T09:59:...|                     1650213180|  2022-04-17T12:33:...|                       BOS|                         ATL|               Delta|                 DL|                 Airbus A321|                     9240|             947|            coach|\n",
            "|79eda9f841e226a1e...|2022-04-16|2022-04-17|            ATL|               BOS|     VH0AUEL1|       PT2H38M|          0|         False|       False|     True|  217.67|   248.60|             7|                947|                       1650206700|    2022-04-17T10:45:...|                     1650216180|  2022-04-17T13:23:...|                       BOS|                         ATL|     JetBlue Airways|                 B6|                        NULL|                     9480|             947|            coach|\n",
            "|9335fae376c38bb61...|2022-04-16|2022-04-17|            ATL|               BOS|     V0AJZNN1|       PT4H12M|          0|         False|       False|    False|  213.02|   251.10|             3|                956|             1650198000||16502...|    2022-04-17T08:20:...|           1650203400||16502...|  2022-04-17T09:50:...|                  CLT||BOS|                    ATL||CLT|American Airlines...|             AA||AA|        Airbus A320||Airb...|               5400||7500|        228||728|     coach||coach|\n",
            "|3904bf87f2d1daf33...|2022-04-16|2022-04-17|            ATL|               BOS|     V0AJZNN1|       PT5H18M|          0|         False|       False|    False|  213.02|   251.10|             3|                956|             1650198000||16502...|    2022-04-17T08:20:...|           1650203400||16502...|  2022-04-17T09:50:...|                  CLT||BOS|                    ATL||CLT|American Airlines...|             AA||AA|        Airbus A320||Boei...|               5400||8280|        228||728|     coach||coach|\n",
            "|d93988734c44a3c07...|2022-04-16|2022-04-17|            ATL|               BOS|     V0AJZNN1|       PT5H32M|          0|         False|       False|    False|  213.02|   251.10|             7|                956|             1650193200||16502...|    2022-04-17T07:00:...|           1650198060||16502...|  2022-04-17T08:21:...|                  CLT||BOS|                    ATL||CLT|American Airlines...|             AA||AA|        Airbus A319||Airb...|               4860||7500|        228||728|     coach||coach|\n",
            "|562e7d5dd6ecbf150...|2022-04-16|2022-04-17|            ATL|               BOS|     V0AJZNN1|       PT6H38M|          0|         False|       False|    False|  213.02|   251.10|             7|                956|             1650193200||16502...|    2022-04-17T07:00:...|           1650198060||16502...|  2022-04-17T08:21:...|                  CLT||BOS|                    ATL||CLT|American Airlines...|             AA||AA|        Airbus A319||Boei...|               4860||8280|        228||728|     coach||coach|\n",
            "|c38a6e4b807d15541...|2022-04-16|2022-04-17|            ATL|               BOS|     VAA0AKEN|       PT4H46M|          0|         False|       False|    False|  213.02|   252.60|             1|                947|             1650187800||16501...|    2022-04-17T05:30:...|           1650194280||16502...|  2022-04-17T07:18:...|                  IAD||BOS|                    ATL||IAD|      United||United|             UA||UA|        Airbus A319||Boei...|               6480||5940|        541||406|     coach||coach|\n",
            "|f66d72ba3a5265766...|2022-04-16|2022-04-17|            ATL|               BOS|     V0AJZNN1|       PT5H45M|          0|         False|       False|    False|  213.02|   252.60|             3|               1462|             1650220740||16502...|    2022-04-17T14:39:...|           1650228840||16502...|  2022-04-17T15:54:...|                  ORD||BOS|                    ATL||ORD|American Airlines...|             AA||AA|        Embraer 175||Boei...|               8100||8340|        600||862|     coach||coach|\n",
            "|e7c4054e85cca9bc7...|2022-04-16|2022-04-17|            ATL|               BOS|     V0AJZNN1|       PT5H59M|          0|         False|       False|    False|  213.02|   252.60|             5|               1462|             1650232800||16502...|    2022-04-17T18:00:...|           1650240660||16502...|  2022-04-17T19:11:...|                  ORD||BOS|                    ATL||ORD|American Airlines...|             AA||AA|        Embraer 175||Boei...|               7860||8640|        600||862|     coach||coach|\n",
            "|5fa8c0f8b25eb24bf...|2022-04-16|2022-04-17|            ATL|               BOS|     V0AJZNN1|       PT7H18M|          0|         False|       False|    False|  213.02|   252.60|             3|               1462|             1650220740||16502...|    2022-04-17T14:39:...|           1650228840||16502...|  2022-04-17T15:54:...|                  ORD||BOS|                    ATL||ORD|American Airlines...|             AA||AA|        Embraer 175||Airb...|               8100||7920|        600||862|     coach||coach|\n",
            "|948d26b3e5658762c...|2022-04-16|2022-04-17|            ATL|               BOS|     VAA0AKEN|       PT8H10M|          0|         False|       False|    False|  213.02|   252.60|             2|               1462|             1650190200||16502...|    2022-04-17T06:10:...|           1650198000||16502...|  2022-04-17T07:20:...|                  ORD||BOS|                    ATL||ORD|      United||United|             UA||UA|        Embraer 175 (Enha...|               7800||8640|        600||862|     coach||coach|\n",
            "|cb345693479e84838...|2022-04-16|2022-04-17|            ATL|               BOS|          VNR|       PT5H39M|          0|         False|       False|    False|  183.00|   290.58|             0|               NULL|             1650187560||16501...|    2022-04-17T05:26:...|           1650194400||16502...|  2022-04-17T07:20:...|                  FLL||BOS|                    ATL||FLL|Spirit Airlines||...|             NK||NK|        AIRBUS INDUSTRIE ...|              6840||11100|      None||None|     coach||coach|\n",
            "|e1b95e4e6c997517f...|2022-04-16|2022-04-17|            ATL|               BOS|     KH0AUEY5|       PT2H38M|          0|         False|       False|     True|  265.58|   300.10|             7|                947|                       1650206700|    2022-04-17T10:45:...|                     1650216180|  2022-04-17T13:23:...|                       BOS|                         ATL|   American Airlines|                 AA|                        NULL|                     9480|             947|            coach|\n",
            "|eaf033a044596f0a7...|2022-04-16|2022-04-17|            ATL|               BOS|     L0AJZNN1|       PT4H17M|          0|         False|       False|    False|  260.47|   302.11|             1|                956|             1650233700||16502...|    2022-04-17T18:15:...|           1650238620||16502...|  2022-04-17T19:37:...|                  CLT||BOS|                    ATL||CLT|American Airlines...|             AA||AA|        Canadian Regional...|               4920||7620|        228||728|     coach||coach|\n",
            "|721d9a2f66fe479e7...|2022-04-16|2022-04-17|            ATL|               BOS|     L0AJZNN1|       PT4H36M|          0|         False|       False|    False|  260.47|   302.11|             1|                956|             1650207720||16502...|    2022-04-17T11:02:...|           1650212880||16502...|  2022-04-17T12:28:...|                  CLT||BOS|                    ATL||CLT|American Airlines...|             AA||AA|        Canadair Regional...|               5160||7860|        228||728|     coach||coach|\n",
            "|a9f012defb9227f69...|2022-04-16|2022-04-17|            ATL|               BOS|     L0AJZNN1|       PT4H45M|          0|         False|       False|    False|  260.47|   302.11|             1|                956|             1650226680||16502...|    2022-04-17T16:18:...|           1650230760||16502...|  2022-04-17T17:26:...|                  CLT||BOS|                    ATL||CLT|American Airlines...|             AA||AA|        Airbus A319||Boei...|               4080||7860|        228||728|     coach||coach|\n",
            "+--------------------+----------+----------+---------------+------------------+-------------+--------------+-----------+--------------+------------+---------+--------+---------+--------------+-------------------+---------------------------------+------------------------+-------------------------------+----------------------+--------------------------+----------------------------+--------------------+-------------------+----------------------------+-------------------------+----------------+-----------------+\n",
            "only showing top 20 rows\n",
            "\n"
          ]
        }
      ],
      "source": [
        "df.show()"
      ]
    },
    {
      "cell_type": "markdown",
      "source": [
        "## Pipeline (Imputer + OneHotEncoder + Vector Assembler) (~20 min)"
      ],
      "metadata": {
        "id": "exmbNRxRdy3S"
      }
    },
    {
      "cell_type": "code",
      "execution_count": 9,
      "metadata": {
        "id": "EEEH_0AOUNTD"
      },
      "outputs": [],
      "source": [
        "import pandas as pd\n",
        "from pyspark.ml.tuning import TrainValidationSplit\n",
        "from sklearn.metrics import mean_squared_error\n",
        "from pyspark.ml.feature import Imputer, OneHotEncoder, VectorAssembler\n",
        "from pyspark.ml import Pipeline"
      ]
    },
    {
      "cell_type": "code",
      "execution_count": 10,
      "metadata": {
        "id": "eQDkZcaFHaIa"
      },
      "outputs": [],
      "source": [
        "# -------- Define Features and Target -----\n",
        "features = ['elapsedDays', 'totalTravelDistance', 'seatsRemaining']\n",
        "targets = ['baseFare', 'totalFare']\n",
        "# Try out base features above along with day of week corresponding to flight\n",
        "# date (addition of more features to be attempted soon).\n",
        "fNt = df.select([df[f].cast('float') for f in features + targets] +\n",
        " [F.dayofweek(df['flightDate']).alias('DOW')])"
      ]
    },
    {
      "cell_type": "code",
      "source": [
        "# Train-test split\n",
        "train_df, test_df = fNt.randomSplit([0.75, 0.25], 42)"
      ],
      "metadata": {
        "id": "Ul4uqG-0zTuO"
      },
      "execution_count": 11,
      "outputs": []
    },
    {
      "cell_type": "code",
      "execution_count": 12,
      "metadata": {
        "id": "RkW3lh9QQQZO"
      },
      "outputs": [],
      "source": [
        "from pyspark.ml.regression import LinearRegression, RandomForestRegressor"
      ]
    },
    {
      "cell_type": "code",
      "execution_count": 13,
      "metadata": {
        "colab": {
          "base_uri": "https://localhost:8080/"
        },
        "id": "_-kRflUkRGrR",
        "outputId": "d170e19b-0f52-41c5-acb9-3eef9386fac9"
      },
      "outputs": [
        {
          "output_type": "stream",
          "name": "stdout",
          "text": [
            "+-----------+-------------------+--------------+--------+---------+---+-------------+--------------------+\n",
            "|elapsedDays|totalTravelDistance|seatsRemaining|baseFare|totalFare|DOW|      DOW_ohe|            features|\n",
            "+-----------+-------------------+--------------+--------+---------+---+-------------+--------------------+\n",
            "|        0.0|             1464.0|           0.0|     5.1|    30.69|  1|(7,[1],[1.0])|(10,[1,4],[1464.0...|\n",
            "|        0.0|             1464.0|           0.0|     5.1|    30.69|  1|(7,[1],[1.0])|(10,[1,4],[1464.0...|\n",
            "|        0.0|             1464.0|           0.0|     5.1|    30.69|  1|(7,[1],[1.0])|(10,[1,4],[1464.0...|\n",
            "|        0.0|             1464.0|           0.0|     5.1|    30.69|  1|(7,[1],[1.0])|(10,[1,4],[1464.0...|\n",
            "|        0.0|             1464.0|           0.0|     5.1|    30.69|  1|(7,[1],[1.0])|(10,[1,4],[1464.0...|\n",
            "|        0.0|             1464.0|           0.0|     5.1|    30.69|  1|(7,[1],[1.0])|(10,[1,4],[1464.0...|\n",
            "|        0.0|             1464.0|           0.0|     5.1|    30.69|  1|(7,[1],[1.0])|(10,[1,4],[1464.0...|\n",
            "|        0.0|             1464.0|           0.0|     5.1|    30.69|  1|(7,[1],[1.0])|(10,[1,4],[1464.0...|\n",
            "|        0.0|             1464.0|           0.0|     5.1|    30.69|  1|(7,[1],[1.0])|(10,[1,4],[1464.0...|\n",
            "|        0.0|             1464.0|           0.0|     5.1|    30.69|  1|(7,[1],[1.0])|(10,[1,4],[1464.0...|\n",
            "|        0.0|             1464.0|           0.0|     5.1|    30.69|  1|(7,[1],[1.0])|(10,[1,4],[1464.0...|\n",
            "|        0.0|             1464.0|           0.0|     5.1|    30.69|  2|(7,[2],[1.0])|(10,[1,5],[1464.0...|\n",
            "|        0.0|             1464.0|           0.0|     5.1|    30.69|  2|(7,[2],[1.0])|(10,[1,5],[1464.0...|\n",
            "|        0.0|             1464.0|           0.0|     5.1|    30.69|  2|(7,[2],[1.0])|(10,[1,5],[1464.0...|\n",
            "|        0.0|             1464.0|           0.0|     5.1|    30.69|  2|(7,[2],[1.0])|(10,[1,5],[1464.0...|\n",
            "|        0.0|             1464.0|           0.0|     5.1|    30.69|  2|(7,[2],[1.0])|(10,[1,5],[1464.0...|\n",
            "|        0.0|             1464.0|           0.0|     5.1|    30.69|  2|(7,[2],[1.0])|(10,[1,5],[1464.0...|\n",
            "|        0.0|             1464.0|           0.0|     5.1|    30.69|  2|(7,[2],[1.0])|(10,[1,5],[1464.0...|\n",
            "|        0.0|             1464.0|           0.0|     5.1|    30.69|  2|(7,[2],[1.0])|(10,[1,5],[1464.0...|\n",
            "|        0.0|             1464.0|           0.0|     5.1|    30.69|  2|(7,[2],[1.0])|(10,[1,5],[1464.0...|\n",
            "+-----------+-------------------+--------------+--------+---------+---+-------------+--------------------+\n",
            "only showing top 20 rows\n",
            "\n"
          ]
        }
      ],
      "source": [
        "# Fit the pipeline to the train set and run it through.\n",
        "fe_pipeline = Pipeline(stages = [Imputer(strategy = 'median',\n",
        "                                         inputCols = features + targets,\n",
        "                                         outputCols = features + targets),\n",
        "                                 OneHotEncoder(inputCol = 'DOW',\n",
        "                                               outputCol = 'DOW_ohe'),\n",
        "                                 VectorAssembler(inputCols = features + ['DOW_ohe'],\n",
        "                                                 outputCol = 'features')]).fit(train_df)\n",
        "\n",
        "train_fe = fe_pipeline.transform(train_df)\n",
        "train_fe.show()"
      ]
    },
    {
      "cell_type": "code",
      "source": [
        "# Run the test set through the pipeline.\n",
        "test_fe = fe_pipeline.transform(test_df)\n",
        "test_fe.show()"
      ],
      "metadata": {
        "colab": {
          "base_uri": "https://localhost:8080/"
        },
        "id": "MEUxGhRx8hZF",
        "outputId": "7d3373e4-e855-4fbf-f9eb-95cf3e96ca88"
      },
      "execution_count": 14,
      "outputs": [
        {
          "output_type": "stream",
          "name": "stdout",
          "text": [
            "+-----------+-------------------+--------------+--------+---------+---+-------------+--------------------+\n",
            "|elapsedDays|totalTravelDistance|seatsRemaining|baseFare|totalFare|DOW|      DOW_ohe|            features|\n",
            "+-----------+-------------------+--------------+--------+---------+---+-------------+--------------------+\n",
            "|        0.0|             1464.0|           0.0|     5.1|    30.69|  1|(7,[1],[1.0])|(10,[1,4],[1464.0...|\n",
            "|        0.0|             1464.0|           0.0|     5.1|    30.69|  1|(7,[1],[1.0])|(10,[1,4],[1464.0...|\n",
            "|        0.0|             1464.0|           0.0|     5.1|    30.69|  1|(7,[1],[1.0])|(10,[1,4],[1464.0...|\n",
            "|        0.0|             1464.0|           0.0|     5.1|    30.69|  1|(7,[1],[1.0])|(10,[1,4],[1464.0...|\n",
            "|        0.0|             1464.0|           0.0|     5.1|    30.69|  1|(7,[1],[1.0])|(10,[1,4],[1464.0...|\n",
            "|        0.0|             1464.0|           0.0|     5.1|    30.69|  2|(7,[2],[1.0])|(10,[1,5],[1464.0...|\n",
            "|        0.0|             1464.0|           0.0|     5.1|    30.69|  2|(7,[2],[1.0])|(10,[1,5],[1464.0...|\n",
            "|        0.0|             1464.0|           0.0|     5.1|    30.69|  2|(7,[2],[1.0])|(10,[1,5],[1464.0...|\n",
            "|        0.0|             1464.0|           0.0|     5.1|    30.69|  2|(7,[2],[1.0])|(10,[1,5],[1464.0...|\n",
            "|        0.0|             1464.0|           0.0|     5.1|    30.69|  2|(7,[2],[1.0])|(10,[1,5],[1464.0...|\n",
            "|        0.0|             1464.0|           0.0|     5.1|    30.69|  2|(7,[2],[1.0])|(10,[1,5],[1464.0...|\n",
            "|        0.0|             1464.0|           0.0|     5.1|    30.69|  2|(7,[2],[1.0])|(10,[1,5],[1464.0...|\n",
            "|        0.0|             1464.0|           0.0|     5.1|    30.69|  3|(7,[3],[1.0])|(10,[1,6],[1464.0...|\n",
            "|        0.0|             1464.0|           0.0|     5.1|    30.69|  3|(7,[3],[1.0])|(10,[1,6],[1464.0...|\n",
            "|        0.0|             1464.0|           0.0|     5.1|    30.69|  3|(7,[3],[1.0])|(10,[1,6],[1464.0...|\n",
            "|        0.0|             1464.0|           0.0|     5.1|    30.69|  3|(7,[3],[1.0])|(10,[1,6],[1464.0...|\n",
            "|        0.0|             1464.0|           0.0|     5.1|    30.69|  3|(7,[3],[1.0])|(10,[1,6],[1464.0...|\n",
            "|        0.0|             1464.0|           0.0|     5.1|    30.69|  3|(7,[3],[1.0])|(10,[1,6],[1464.0...|\n",
            "|        0.0|             1464.0|           0.0|     5.1|    30.69|  3|(7,[3],[1.0])|(10,[1,6],[1464.0...|\n",
            "|        0.0|             1464.0|           0.0|     5.1|    30.69|  3|(7,[3],[1.0])|(10,[1,6],[1464.0...|\n",
            "+-----------+-------------------+--------------+--------+---------+---+-------------+--------------------+\n",
            "only showing top 20 rows\n",
            "\n"
          ]
        }
      ]
    },
    {
      "cell_type": "markdown",
      "source": [
        "## Baseline: Optimal Trivial Predictor (Relative to MSE: Mean)\n",
        "## (~40 min)"
      ],
      "metadata": {
        "id": "gzjuxRv2PK7k"
      }
    },
    {
      "cell_type": "code",
      "source": [
        "# Choose target: either 'baseFare' or 'totalFare'.\n",
        "target_choice = 'baseFare'"
      ],
      "metadata": {
        "id": "1DweT-pRAI3Q"
      },
      "execution_count": 15,
      "outputs": []
    },
    {
      "cell_type": "code",
      "source": [
        "# Baseline train evaluation.\n",
        "train_tm = train_fe.agg({target_choice: 'mean'}).first().asDict()['avg(baseFare)']\n",
        "train_SE_tp = train_fe.select(((train_fe[target_choice] - F.lit(train_tm)) ** 2).alias('SE'))\n",
        "train_MSE_tp = train_SE_tp.agg({'SE': 'mean'}).first()\n",
        "train_MSE_tp"
      ],
      "metadata": {
        "colab": {
          "base_uri": "https://localhost:8080/"
        },
        "id": "qqsJME6DPN0f",
        "outputId": "489ddffe-f5be-4957-be48-d7b95dd23612"
      },
      "execution_count": 17,
      "outputs": [
        {
          "output_type": "execute_result",
          "data": {
            "text/plain": [
              "Row(avg(SE)=33563.405918473094)"
            ]
          },
          "metadata": {},
          "execution_count": 17
        }
      ]
    },
    {
      "cell_type": "code",
      "source": [
        "# Baseline test evaluation.\n",
        "test_SE_tp = test_fe.select(((test_fe[target_choice] - F.lit(train_tm)) ** 2).alias('SE'))\n",
        "test_MSE_tp = test_SE_tp.agg({'SE': 'mean'}).first()\n",
        "test_MSE_tp"
      ],
      "metadata": {
        "colab": {
          "base_uri": "https://localhost:8080/"
        },
        "id": "C0RquIpsdB3l",
        "outputId": "c0741322-0df2-4766-8b6a-13add4476e75"
      },
      "execution_count": 18,
      "outputs": [
        {
          "output_type": "execute_result",
          "data": {
            "text/plain": [
              "Row(avg(SE)=33542.30131842294)"
            ]
          },
          "metadata": {},
          "execution_count": 18
        }
      ]
    },
    {
      "cell_type": "markdown",
      "source": [
        "## Linear Regression (~1 hr)"
      ],
      "metadata": {
        "id": "uSp0CZHvd4zG"
      }
    },
    {
      "cell_type": "code",
      "execution_count": 25,
      "metadata": {
        "id": "T2iYB8xPbBtG",
        "colab": {
          "base_uri": "https://localhost:8080/"
        },
        "outputId": "6bd66d15-8f37-401a-9de5-49890909b6e7"
      },
      "outputs": [
        {
          "output_type": "stream",
          "name": "stdout",
          "text": [
            "+-----------+-------------------+--------------+--------+---------+---+-------------+--------------------+------------------+\n",
            "|elapsedDays|totalTravelDistance|seatsRemaining|baseFare|totalFare|DOW|      DOW_ohe|            features|        prediction|\n",
            "+-----------+-------------------+--------------+--------+---------+---+-------------+--------------------+------------------+\n",
            "|        0.0|             1464.0|           0.0|     5.1|    30.69|  1|(7,[1],[1.0])|(10,[1,4],[1464.0...|307.26290005477335|\n",
            "|        0.0|             1464.0|           0.0|     5.1|    30.69|  1|(7,[1],[1.0])|(10,[1,4],[1464.0...|307.26290005477335|\n",
            "|        0.0|             1464.0|           0.0|     5.1|    30.69|  1|(7,[1],[1.0])|(10,[1,4],[1464.0...|307.26290005477335|\n",
            "|        0.0|             1464.0|           0.0|     5.1|    30.69|  1|(7,[1],[1.0])|(10,[1,4],[1464.0...|307.26290005477335|\n",
            "|        0.0|             1464.0|           0.0|     5.1|    30.69|  1|(7,[1],[1.0])|(10,[1,4],[1464.0...|307.26290005477335|\n",
            "|        0.0|             1464.0|           0.0|     5.1|    30.69|  1|(7,[1],[1.0])|(10,[1,4],[1464.0...|307.26290005477335|\n",
            "|        0.0|             1464.0|           0.0|     5.1|    30.69|  1|(7,[1],[1.0])|(10,[1,4],[1464.0...|307.26290005477335|\n",
            "|        0.0|             1464.0|           0.0|     5.1|    30.69|  1|(7,[1],[1.0])|(10,[1,4],[1464.0...|307.26290005477335|\n",
            "|        0.0|             1464.0|           0.0|     5.1|    30.69|  1|(7,[1],[1.0])|(10,[1,4],[1464.0...|307.26290005477335|\n",
            "|        0.0|             1464.0|           0.0|     5.1|    30.69|  1|(7,[1],[1.0])|(10,[1,4],[1464.0...|307.26290005477335|\n",
            "|        0.0|             1464.0|           0.0|     5.1|    30.69|  1|(7,[1],[1.0])|(10,[1,4],[1464.0...|307.26290005477335|\n",
            "|        0.0|             1464.0|           0.0|     5.1|    30.69|  2|(7,[2],[1.0])|(10,[1,5],[1464.0...| 258.5058114929522|\n",
            "|        0.0|             1464.0|           0.0|     5.1|    30.69|  2|(7,[2],[1.0])|(10,[1,5],[1464.0...| 258.5058114929522|\n",
            "|        0.0|             1464.0|           0.0|     5.1|    30.69|  2|(7,[2],[1.0])|(10,[1,5],[1464.0...| 258.5058114929522|\n",
            "|        0.0|             1464.0|           0.0|     5.1|    30.69|  2|(7,[2],[1.0])|(10,[1,5],[1464.0...| 258.5058114929522|\n",
            "|        0.0|             1464.0|           0.0|     5.1|    30.69|  2|(7,[2],[1.0])|(10,[1,5],[1464.0...| 258.5058114929522|\n",
            "|        0.0|             1464.0|           0.0|     5.1|    30.69|  2|(7,[2],[1.0])|(10,[1,5],[1464.0...| 258.5058114929522|\n",
            "|        0.0|             1464.0|           0.0|     5.1|    30.69|  2|(7,[2],[1.0])|(10,[1,5],[1464.0...| 258.5058114929522|\n",
            "|        0.0|             1464.0|           0.0|     5.1|    30.69|  2|(7,[2],[1.0])|(10,[1,5],[1464.0...| 258.5058114929522|\n",
            "|        0.0|             1464.0|           0.0|     5.1|    30.69|  2|(7,[2],[1.0])|(10,[1,5],[1464.0...| 258.5058114929522|\n",
            "+-----------+-------------------+--------------+--------+---------+---+-------------+--------------------+------------------+\n",
            "only showing top 20 rows\n",
            "\n"
          ]
        }
      ],
      "source": [
        "lr = LinearRegression(featuresCol = 'features', labelCol = target_choice).fit(train_fe)\n",
        "train_lr = lr.transform(train_fe)\n",
        "train_lr.show()"
      ]
    },
    {
      "cell_type": "code",
      "source": [
        "train_SE_lr = train_lr.select(((train_lr[target_choice] - train_lr['prediction']) ** 2).alias('SE'))\n",
        "train_MSE_lr = train_SE_lr.agg({'SE': 'mean'}).first()\n",
        "train_MSE_lr"
      ],
      "metadata": {
        "colab": {
          "base_uri": "https://localhost:8080/"
        },
        "id": "70OHPIkemOGL",
        "outputId": "6fe6111a-940f-477b-c185-dbde4e54bcac"
      },
      "execution_count": 26,
      "outputs": [
        {
          "output_type": "execute_result",
          "data": {
            "text/plain": [
              "Row(avg(SE)=24883.32504461784)"
            ]
          },
          "metadata": {},
          "execution_count": 26
        }
      ]
    },
    {
      "cell_type": "code",
      "source": [
        "# Evaluate performance on test set.\n",
        "test_lr = lr.transform(test_fe)\n",
        "test_SE_lr = test_lr.select(((test_lr[target_choice] - test_lr['prediction']) ** 2).alias('SE'))\n",
        "test_MSE_lr = test_SE_lr.agg({'SE': 'mean'}).first()\n",
        "test_MSE_lr"
      ],
      "metadata": {
        "colab": {
          "base_uri": "https://localhost:8080/"
        },
        "id": "Jitknv_-3RX4",
        "outputId": "ed4457a0-b811-4a9d-8995-6d1fdb33f212"
      },
      "execution_count": 27,
      "outputs": [
        {
          "output_type": "execute_result",
          "data": {
            "text/plain": [
              "Row(avg(SE)=24863.31824310283)"
            ]
          },
          "metadata": {},
          "execution_count": 27
        }
      ]
    },
    {
      "cell_type": "markdown",
      "source": [
        "## Random Forest Regressor (? > 90 min)"
      ],
      "metadata": {
        "id": "5iR3oE7Hd8Y5"
      }
    },
    {
      "cell_type": "code",
      "execution_count": null,
      "metadata": {
        "id": "ajeDPOb3hBb0",
        "colab": {
          "base_uri": "https://localhost:8080/"
        },
        "outputId": "f4e07e2f-a264-4403-e07a-2c60d3e30696"
      },
      "outputs": [
        {
          "output_type": "stream",
          "name": "stdout",
          "text": [
            "+-----------+-------------------+--------------+--------+---------+----------------+------------------+\n",
            "|elapsedDays|totalTravelDistance|seatsRemaining|baseFare|totalFare|        features|        prediction|\n",
            "+-----------+-------------------+--------------+--------+---------+----------------+------------------+\n",
            "|        0.0|              947.0|           9.0|  217.67|    248.6| [0.0,947.0,9.0]| 253.1227368957738|\n",
            "|        0.0|              947.0|           4.0|  217.67|    248.6| [0.0,947.0,4.0]| 276.5514499623333|\n",
            "|        0.0|              947.0|           9.0|  217.67|    248.6| [0.0,947.0,9.0]| 253.1227368957738|\n",
            "|        0.0|              947.0|           8.0|  217.67|    248.6| [0.0,947.0,8.0]| 256.0551399557707|\n",
            "|        0.0|              947.0|           9.0|  217.67|    248.6| [0.0,947.0,9.0]| 253.1227368957738|\n",
            "|        0.0|              947.0|           7.0|  217.67|    248.6| [0.0,947.0,7.0]|246.56159468142215|\n",
            "|        0.0|              956.0|           3.0|  213.02|    251.1| [0.0,956.0,3.0]| 281.9221406368242|\n",
            "|        0.0|              956.0|           3.0|  213.02|    251.1| [0.0,956.0,3.0]| 281.9221406368242|\n",
            "|        0.0|              956.0|           7.0|  213.02|    251.1| [0.0,956.0,7.0]|246.56159468142215|\n",
            "|        0.0|              956.0|           7.0|  213.02|    251.1| [0.0,956.0,7.0]|246.56159468142215|\n",
            "|        0.0|              947.0|           1.0|  213.02|    252.6| [0.0,947.0,1.0]| 281.9221406368242|\n",
            "|        0.0|             1462.0|           3.0|  213.02|    252.6|[0.0,1462.0,3.0]| 283.8035335203491|\n",
            "|        0.0|             1462.0|           5.0|  213.02|    252.6|[0.0,1462.0,5.0]|278.43284284585815|\n",
            "|        0.0|             1462.0|           3.0|  213.02|    252.6|[0.0,1462.0,3.0]| 283.8035335203491|\n",
            "|        0.0|             1462.0|           2.0|  213.02|    252.6|[0.0,1462.0,2.0]| 283.8035335203491|\n",
            "|        0.0|             1468.0|           0.0|   183.0|   290.58|[0.0,1468.0,0.0]|165.55461829212322|\n",
            "|        0.0|              947.0|           7.0|  265.58|    300.1| [0.0,947.0,7.0]|246.56159468142215|\n",
            "|        0.0|              956.0|           1.0|  260.47|   302.11| [0.0,956.0,1.0]| 281.9221406368242|\n",
            "|        0.0|              956.0|           1.0|  260.47|   302.11| [0.0,956.0,1.0]| 281.9221406368242|\n",
            "|        0.0|              956.0|           1.0|  260.47|   302.11| [0.0,956.0,1.0]| 281.9221406368242|\n",
            "+-----------+-------------------+--------------+--------+---------+----------------+------------------+\n",
            "only showing top 20 rows\n",
            "\n"
          ]
        }
      ],
      "source": [
        "rfr = RandomForestRegressor(featuresCol = 'features', labelCol = target_choice).fit(train_fe)\n",
        "train_rfr = rfr.transform(train_fe)\n",
        "train_rfr.show()"
      ]
    },
    {
      "cell_type": "code",
      "source": [
        "train_SE_rfr = train_rfr.select(((train_rfr[target_choice] - train_rfr['prediction']) ** 2).alias('SE'))\n",
        "MSE_rfr = train_rfr.agg({'SE': 'mean'}).first()\n",
        "MSE_rfr"
      ],
      "metadata": {
        "id": "lcYoZZdT1o5H"
      },
      "execution_count": null,
      "outputs": []
    },
    {
      "cell_type": "code",
      "source": [
        "# Evaluate performance on test set.\n",
        "test_rfr = rfr.transform(test_fe)\n",
        "test_SE_rfr = test_rfr.select(((test_rfr[target_choice] - test_rfr['prediction']) ** 2).alias('SE'))\n",
        "test_MSE_rfr = test_SE_rfr.agg({'SE': 'mean'}).first()\n",
        "test_MSE_rfr"
      ],
      "metadata": {
        "id": "aHY0b2a3_9XS"
      },
      "execution_count": null,
      "outputs": []
    }
  ],
  "metadata": {
    "colab": {
      "provenance": []
    },
    "kernelspec": {
      "display_name": "Python 3",
      "name": "python3"
    },
    "language_info": {
      "name": "python"
    }
  },
  "nbformat": 4,
  "nbformat_minor": 0
}

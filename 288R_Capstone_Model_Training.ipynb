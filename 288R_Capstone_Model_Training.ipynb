{
  "cells": [
    {
      "cell_type": "markdown",
      "metadata": {
        "id": "9yymT4zVRTTU"
      },
      "source": [
        "## Data Load (~10 min)"
      ]
    },
    {
      "cell_type": "code",
      "execution_count": 1,
      "metadata": {
        "colab": {
          "base_uri": "https://localhost:8080/"
        },
        "id": "uVCPTXrlYgqF",
        "outputId": "32f3d93b-67a2-4dec-8b86-bbbdf5442fae"
      },
      "outputs": [
        {
          "output_type": "stream",
          "name": "stdout",
          "text": [
            "Requirement already satisfied: kaggle in /usr/local/lib/python3.11/dist-packages (1.6.17)\n",
            "Requirement already satisfied: six>=1.10 in /usr/local/lib/python3.11/dist-packages (from kaggle) (1.17.0)\n",
            "Requirement already satisfied: certifi>=2023.7.22 in /usr/local/lib/python3.11/dist-packages (from kaggle) (2025.1.31)\n",
            "Requirement already satisfied: python-dateutil in /usr/local/lib/python3.11/dist-packages (from kaggle) (2.8.2)\n",
            "Requirement already satisfied: requests in /usr/local/lib/python3.11/dist-packages (from kaggle) (2.32.3)\n",
            "Requirement already satisfied: tqdm in /usr/local/lib/python3.11/dist-packages (from kaggle) (4.67.1)\n",
            "Requirement already satisfied: python-slugify in /usr/local/lib/python3.11/dist-packages (from kaggle) (8.0.4)\n",
            "Requirement already satisfied: urllib3 in /usr/local/lib/python3.11/dist-packages (from kaggle) (2.3.0)\n",
            "Requirement already satisfied: bleach in /usr/local/lib/python3.11/dist-packages (from kaggle) (6.2.0)\n",
            "Requirement already satisfied: webencodings in /usr/local/lib/python3.11/dist-packages (from bleach->kaggle) (0.5.1)\n",
            "Requirement already satisfied: text-unidecode>=1.3 in /usr/local/lib/python3.11/dist-packages (from python-slugify->kaggle) (1.3)\n",
            "Requirement already satisfied: charset-normalizer<4,>=2 in /usr/local/lib/python3.11/dist-packages (from requests->kaggle) (3.4.1)\n",
            "Requirement already satisfied: idna<4,>=2.5 in /usr/local/lib/python3.11/dist-packages (from requests->kaggle) (3.10)\n",
            "Dataset URL: https://www.kaggle.com/datasets/dilwong/flightprices\n",
            "License(s): Attribution 4.0 International (CC BY 4.0)\n",
            "flightprices.zip: Skipping, found more recently modified local copy (use --force to force download)\n"
          ]
        }
      ],
      "source": [
        "!pip install kaggle\n",
        "!kaggle datasets download -d dilwong/flightprices"
      ]
    },
    {
      "cell_type": "code",
      "execution_count": 2,
      "metadata": {
        "colab": {
          "base_uri": "https://localhost:8080/"
        },
        "id": "Ww_yO_q2cZyN",
        "outputId": "b2cc917e-22ec-4c40-ba4e-de540197482c"
      },
      "outputs": [
        {
          "output_type": "stream",
          "name": "stdout",
          "text": [
            "Archive:  flightprices.zip\n"
          ]
        }
      ],
      "source": [
        "!unzip -n flightprices.zip"
      ]
    },
    {
      "cell_type": "code",
      "execution_count": 3,
      "metadata": {
        "colab": {
          "base_uri": "https://localhost:8080/"
        },
        "id": "ECF7PIMN-aV6",
        "outputId": "5b4d6b22-e9eb-4109-8627-fabb4a921178"
      },
      "outputs": [
        {
          "output_type": "stream",
          "name": "stdout",
          "text": [
            "Requirement already satisfied: pyspark in /usr/local/lib/python3.11/dist-packages (3.5.5)\n",
            "Requirement already satisfied: py4j==0.10.9.7 in /usr/local/lib/python3.11/dist-packages (from pyspark) (0.10.9.7)\n"
          ]
        }
      ],
      "source": [
        "!pip install pyspark"
      ]
    },
    {
      "cell_type": "code",
      "execution_count": 4,
      "metadata": {
        "id": "tAI0dO1O5O_G"
      },
      "outputs": [],
      "source": [
        "import re\n",
        "import numpy as np\n",
        "import pandas as pd\n",
        "import matplotlib.pyplot as plt\n",
        "import seaborn as sns"
      ]
    },
    {
      "cell_type": "code",
      "execution_count": 5,
      "metadata": {
        "colab": {
          "base_uri": "https://localhost:8080/"
        },
        "id": "7i7Hn6G7ihyw",
        "outputId": "4f2daf5e-2b18-47f9-e2be-3d94f5b40856"
      },
      "outputs": [
        {
          "output_type": "stream",
          "name": "stderr",
          "text": [
            "/usr/local/lib/python3.11/dist-packages/pyspark/sql/context.py:113: FutureWarning: Deprecated in 3.0.0. Use SparkSession.builder.getOrCreate() instead.\n",
            "  warnings.warn(\n"
          ]
        }
      ],
      "source": [
        "from pyspark import SparkContext\n",
        "from pyspark.sql import SparkSession\n",
        "from pyspark.sql import SQLContext\n",
        "import pyspark.sql.functions as F\n",
        "try:\n",
        "  sc.stop()\n",
        "except:\n",
        "  pass\n",
        "sc = SparkContext()\n",
        "sqlContext = SQLContext(sc)"
      ]
    },
    {
      "cell_type": "code",
      "execution_count": 6,
      "metadata": {
        "id": "Zvi4e_DM-bsg"
      },
      "outputs": [],
      "source": [
        "ss = SparkSession.builder.getOrCreate()"
      ]
    },
    {
      "cell_type": "code",
      "execution_count": 7,
      "metadata": {
        "id": "G9iU0NybPOx2"
      },
      "outputs": [],
      "source": [
        "df = sqlContext.read.csv('itineraries.csv', header = True)"
      ]
    },
    {
      "cell_type": "code",
      "execution_count": 8,
      "metadata": {
        "colab": {
          "base_uri": "https://localhost:8080/"
        },
        "id": "-bMIWBCaPeXK",
        "outputId": "b6fde89b-03e9-41ad-b576-c7de6946a609"
      },
      "outputs": [
        {
          "output_type": "stream",
          "name": "stdout",
          "text": [
            "+--------------------+----------+----------+---------------+------------------+-------------+--------------+-----------+--------------+------------+---------+--------+---------+--------------+-------------------+---------------------------------+------------------------+-------------------------------+----------------------+--------------------------+----------------------------+--------------------+-------------------+----------------------------+-------------------------+----------------+-----------------+\n",
            "|               legId|searchDate|flightDate|startingAirport|destinationAirport|fareBasisCode|travelDuration|elapsedDays|isBasicEconomy|isRefundable|isNonStop|baseFare|totalFare|seatsRemaining|totalTravelDistance|segmentsDepartureTimeEpochSeconds|segmentsDepartureTimeRaw|segmentsArrivalTimeEpochSeconds|segmentsArrivalTimeRaw|segmentsArrivalAirportCode|segmentsDepartureAirportCode| segmentsAirlineName|segmentsAirlineCode|segmentsEquipmentDescription|segmentsDurationInSeconds|segmentsDistance|segmentsCabinCode|\n",
            "+--------------------+----------+----------+---------------+------------------+-------------+--------------+-----------+--------------+------------+---------+--------+---------+--------------+-------------------+---------------------------------+------------------------+-------------------------------+----------------------+--------------------------+----------------------------+--------------------+-------------------+----------------------------+-------------------------+----------------+-----------------+\n",
            "|9ca0e81111c683bec...|2022-04-16|2022-04-17|            ATL|               BOS|     LA0NX0MC|       PT2H29M|          0|         False|       False|     True|  217.67|   248.60|             9|                947|                       1650214620|    2022-04-17T12:57:...|                     1650223560|  2022-04-17T15:26:...|                       BOS|                         ATL|               Delta|                 DL|                 Airbus A321|                     8940|             947|            coach|\n",
            "|98685953630e772a0...|2022-04-16|2022-04-17|            ATL|               BOS|     LA0NX0MC|       PT2H30M|          0|         False|       False|     True|  217.67|   248.60|             4|                947|                       1650191400|    2022-04-17T06:30:...|                     1650200400|  2022-04-17T09:00:...|                       BOS|                         ATL|               Delta|                 DL|                 Airbus A321|                     9000|             947|            coach|\n",
            "|98d90cbc32bfbb05c...|2022-04-16|2022-04-17|            ATL|               BOS|     LA0NX0MC|       PT2H30M|          0|         False|       False|     True|  217.67|   248.60|             9|                947|                       1650209700|    2022-04-17T11:35:...|                     1650218700|  2022-04-17T14:05:...|                       BOS|                         ATL|               Delta|                 DL|              Boeing 757-200|                     9000|             947|            coach|\n",
            "|969a269d38eae583f...|2022-04-16|2022-04-17|            ATL|               BOS|     LA0NX0MC|       PT2H32M|          0|         False|       False|     True|  217.67|   248.60|             8|                947|                       1650218340|    2022-04-17T13:59:...|                     1650227460|  2022-04-17T16:31:...|                       BOS|                         ATL|               Delta|                 DL|                 Airbus A321|                     9120|             947|            coach|\n",
            "|980370cf27c89b40d...|2022-04-16|2022-04-17|            ATL|               BOS|     LA0NX0MC|       PT2H34M|          0|         False|       False|     True|  217.67|   248.60|             9|                947|                       1650203940|    2022-04-17T09:59:...|                     1650213180|  2022-04-17T12:33:...|                       BOS|                         ATL|               Delta|                 DL|                 Airbus A321|                     9240|             947|            coach|\n",
            "|79eda9f841e226a1e...|2022-04-16|2022-04-17|            ATL|               BOS|     VH0AUEL1|       PT2H38M|          0|         False|       False|     True|  217.67|   248.60|             7|                947|                       1650206700|    2022-04-17T10:45:...|                     1650216180|  2022-04-17T13:23:...|                       BOS|                         ATL|     JetBlue Airways|                 B6|                        NULL|                     9480|             947|            coach|\n",
            "|9335fae376c38bb61...|2022-04-16|2022-04-17|            ATL|               BOS|     V0AJZNN1|       PT4H12M|          0|         False|       False|    False|  213.02|   251.10|             3|                956|             1650198000||16502...|    2022-04-17T08:20:...|           1650203400||16502...|  2022-04-17T09:50:...|                  CLT||BOS|                    ATL||CLT|American Airlines...|             AA||AA|        Airbus A320||Airb...|               5400||7500|        228||728|     coach||coach|\n",
            "|3904bf87f2d1daf33...|2022-04-16|2022-04-17|            ATL|               BOS|     V0AJZNN1|       PT5H18M|          0|         False|       False|    False|  213.02|   251.10|             3|                956|             1650198000||16502...|    2022-04-17T08:20:...|           1650203400||16502...|  2022-04-17T09:50:...|                  CLT||BOS|                    ATL||CLT|American Airlines...|             AA||AA|        Airbus A320||Boei...|               5400||8280|        228||728|     coach||coach|\n",
            "|d93988734c44a3c07...|2022-04-16|2022-04-17|            ATL|               BOS|     V0AJZNN1|       PT5H32M|          0|         False|       False|    False|  213.02|   251.10|             7|                956|             1650193200||16502...|    2022-04-17T07:00:...|           1650198060||16502...|  2022-04-17T08:21:...|                  CLT||BOS|                    ATL||CLT|American Airlines...|             AA||AA|        Airbus A319||Airb...|               4860||7500|        228||728|     coach||coach|\n",
            "|562e7d5dd6ecbf150...|2022-04-16|2022-04-17|            ATL|               BOS|     V0AJZNN1|       PT6H38M|          0|         False|       False|    False|  213.02|   251.10|             7|                956|             1650193200||16502...|    2022-04-17T07:00:...|           1650198060||16502...|  2022-04-17T08:21:...|                  CLT||BOS|                    ATL||CLT|American Airlines...|             AA||AA|        Airbus A319||Boei...|               4860||8280|        228||728|     coach||coach|\n",
            "|c38a6e4b807d15541...|2022-04-16|2022-04-17|            ATL|               BOS|     VAA0AKEN|       PT4H46M|          0|         False|       False|    False|  213.02|   252.60|             1|                947|             1650187800||16501...|    2022-04-17T05:30:...|           1650194280||16502...|  2022-04-17T07:18:...|                  IAD||BOS|                    ATL||IAD|      United||United|             UA||UA|        Airbus A319||Boei...|               6480||5940|        541||406|     coach||coach|\n",
            "|f66d72ba3a5265766...|2022-04-16|2022-04-17|            ATL|               BOS|     V0AJZNN1|       PT5H45M|          0|         False|       False|    False|  213.02|   252.60|             3|               1462|             1650220740||16502...|    2022-04-17T14:39:...|           1650228840||16502...|  2022-04-17T15:54:...|                  ORD||BOS|                    ATL||ORD|American Airlines...|             AA||AA|        Embraer 175||Boei...|               8100||8340|        600||862|     coach||coach|\n",
            "|e7c4054e85cca9bc7...|2022-04-16|2022-04-17|            ATL|               BOS|     V0AJZNN1|       PT5H59M|          0|         False|       False|    False|  213.02|   252.60|             5|               1462|             1650232800||16502...|    2022-04-17T18:00:...|           1650240660||16502...|  2022-04-17T19:11:...|                  ORD||BOS|                    ATL||ORD|American Airlines...|             AA||AA|        Embraer 175||Boei...|               7860||8640|        600||862|     coach||coach|\n",
            "|5fa8c0f8b25eb24bf...|2022-04-16|2022-04-17|            ATL|               BOS|     V0AJZNN1|       PT7H18M|          0|         False|       False|    False|  213.02|   252.60|             3|               1462|             1650220740||16502...|    2022-04-17T14:39:...|           1650228840||16502...|  2022-04-17T15:54:...|                  ORD||BOS|                    ATL||ORD|American Airlines...|             AA||AA|        Embraer 175||Airb...|               8100||7920|        600||862|     coach||coach|\n",
            "|948d26b3e5658762c...|2022-04-16|2022-04-17|            ATL|               BOS|     VAA0AKEN|       PT8H10M|          0|         False|       False|    False|  213.02|   252.60|             2|               1462|             1650190200||16502...|    2022-04-17T06:10:...|           1650198000||16502...|  2022-04-17T07:20:...|                  ORD||BOS|                    ATL||ORD|      United||United|             UA||UA|        Embraer 175 (Enha...|               7800||8640|        600||862|     coach||coach|\n",
            "|cb345693479e84838...|2022-04-16|2022-04-17|            ATL|               BOS|          VNR|       PT5H39M|          0|         False|       False|    False|  183.00|   290.58|             0|               NULL|             1650187560||16501...|    2022-04-17T05:26:...|           1650194400||16502...|  2022-04-17T07:20:...|                  FLL||BOS|                    ATL||FLL|Spirit Airlines||...|             NK||NK|        AIRBUS INDUSTRIE ...|              6840||11100|      None||None|     coach||coach|\n",
            "|e1b95e4e6c997517f...|2022-04-16|2022-04-17|            ATL|               BOS|     KH0AUEY5|       PT2H38M|          0|         False|       False|     True|  265.58|   300.10|             7|                947|                       1650206700|    2022-04-17T10:45:...|                     1650216180|  2022-04-17T13:23:...|                       BOS|                         ATL|   American Airlines|                 AA|                        NULL|                     9480|             947|            coach|\n",
            "|eaf033a044596f0a7...|2022-04-16|2022-04-17|            ATL|               BOS|     L0AJZNN1|       PT4H17M|          0|         False|       False|    False|  260.47|   302.11|             1|                956|             1650233700||16502...|    2022-04-17T18:15:...|           1650238620||16502...|  2022-04-17T19:37:...|                  CLT||BOS|                    ATL||CLT|American Airlines...|             AA||AA|        Canadian Regional...|               4920||7620|        228||728|     coach||coach|\n",
            "|721d9a2f66fe479e7...|2022-04-16|2022-04-17|            ATL|               BOS|     L0AJZNN1|       PT4H36M|          0|         False|       False|    False|  260.47|   302.11|             1|                956|             1650207720||16502...|    2022-04-17T11:02:...|           1650212880||16502...|  2022-04-17T12:28:...|                  CLT||BOS|                    ATL||CLT|American Airlines...|             AA||AA|        Canadair Regional...|               5160||7860|        228||728|     coach||coach|\n",
            "|a9f012defb9227f69...|2022-04-16|2022-04-17|            ATL|               BOS|     L0AJZNN1|       PT4H45M|          0|         False|       False|    False|  260.47|   302.11|             1|                956|             1650226680||16502...|    2022-04-17T16:18:...|           1650230760||16502...|  2022-04-17T17:26:...|                  CLT||BOS|                    ATL||CLT|American Airlines...|             AA||AA|        Airbus A319||Boei...|               4080||7860|        228||728|     coach||coach|\n",
            "+--------------------+----------+----------+---------------+------------------+-------------+--------------+-----------+--------------+------------+---------+--------+---------+--------------+-------------------+---------------------------------+------------------------+-------------------------------+----------------------+--------------------------+----------------------------+--------------------+-------------------+----------------------------+-------------------------+----------------+-----------------+\n",
            "only showing top 20 rows\n",
            "\n"
          ]
        }
      ],
      "source": [
        "df.show()"
      ]
    },
    {
      "cell_type": "markdown",
      "metadata": {
        "id": "exmbNRxRdy3S"
      },
      "source": [
        "## Pipeline (Imputer + OneHotEncoder + VectorAssembler) (~40 min)"
      ]
    },
    {
      "cell_type": "code",
      "execution_count": 9,
      "metadata": {
        "id": "YbdPs-7lySmn"
      },
      "outputs": [],
      "source": [
        "# Special handling for the travel duration variable:\n",
        "# Guaranteed to contain Python/tab regex chars (i.e., 'P'/'T').\n",
        "# Optionally contains day/hour/minute regex chars (i.e., 'D','H','M').\n",
        "\n",
        "def tD_proc(entry):\n",
        "  # Remove all Python/tab regex chars.\n",
        "  wo_PT = ''.join(re.split('[PT]', entry))\n",
        "\n",
        "  # Split on day/hour/minute:\n",
        "  daysplit = re.split('D', wo_PT)\n",
        "  hoursplit = re.split('H', daysplit[len(daysplit) - 1])\n",
        "  minsplit = re.split('M', hoursplit[len(hoursplit) - 1])\n",
        "\n",
        "  # Get consistent units (minutes).\n",
        "  totalmins = 0\n",
        "  try:\n",
        "    totalmins += 24 * 60 * int(daysplit[0])\n",
        "  except: pass\n",
        "  try:\n",
        "    totalmins += 60 * int(hoursplit[0])\n",
        "  except: pass\n",
        "  try:\n",
        "    totalmins += int(minsplit[0])\n",
        "  except: pass\n",
        "\n",
        "  return totalmins\n",
        "\n",
        "# Register udf.\n",
        "tD_p = F.udf(lambda x: tD_proc(x))"
      ]
    },
    {
      "cell_type": "code",
      "execution_count": 10,
      "metadata": {
        "id": "EEEH_0AOUNTD"
      },
      "outputs": [],
      "source": [
        "import pandas as pd\n",
        "from pyspark.ml.tuning import TrainValidationSplit\n",
        "from pyspark.ml.feature import Imputer, OneHotEncoder, StringIndexer, VectorAssembler\n",
        "from pyspark.ml import Pipeline\n",
        "from pyspark.ml.regression import LinearRegression, RandomForestRegressor"
      ]
    },
    {
      "cell_type": "code",
      "execution_count": 11,
      "metadata": {
        "id": "eQDkZcaFHaIa"
      },
      "outputs": [],
      "source": [
        "# -------- Define Features and Target -----\n",
        "num_feats = ['elapsedDays', 'totalTravelDistance', 'seatsRemaining']\n",
        "cat_feats = ['startingAirport', 'destinationAirport', 'isBasicEconomy',\n",
        "             'isNonstop']\n",
        "targets = ['baseFare', 'totalFare']\n",
        "\n",
        "# Extract flight duration & select date-based features.\n",
        "fNt = df.select([df[f].cast('float') for f in num_feats + targets] + cat_feats +\n",
        " [F.dayofweek(df['flightDate']).alias('DOW')] +\n",
        "  [F.month(df['flightDate']).alias('MOY')] +\n",
        "   [tD_p('travelDuration').alias('tD_p').cast('float')])"
      ]
    },
    {
      "cell_type": "code",
      "execution_count": 12,
      "metadata": {
        "id": "Ul4uqG-0zTuO"
      },
      "outputs": [],
      "source": [
        "# Train-test split\n",
        "train_df, test_df = fNt.randomSplit([0.01, 0.99], 42)"
      ]
    },
    {
      "cell_type": "code",
      "execution_count": 13,
      "metadata": {
        "colab": {
          "base_uri": "https://localhost:8080/"
        },
        "id": "_-kRflUkRGrR",
        "outputId": "d5ca1aa5-a159-4ca8-a0e9-7200f3a50a7d"
      },
      "outputs": [
        {
          "output_type": "stream",
          "name": "stdout",
          "text": [
            "+-----------+-------------------+--------------+--------+---------+---------------+------------------+--------------+---------+---+---+-----+------------------+---------------------+-----------------+------------+------+------+-------------------+----------------------+------------------+-------------+-------------+-------------+--------------------+\n",
            "|elapsedDays|totalTravelDistance|seatsRemaining|baseFare|totalFare|startingAirport|destinationAirport|isBasicEconomy|isNonstop|DOW|MOY| tD_p|startingAirport_si|destinationAirport_si|isBasicEconomy_si|isNonstop_si|DOW_si|MOY_si|startingAirport_ohe|destinationAirport_ohe|isBasicEconomy_ohe|isNonstop_ohe|      DOW_ohe|      MOY_ohe|            features|\n",
            "+-----------+-------------------+--------------+--------+---------+---------------+------------------+--------------+---------+---+---+-----+------------------+---------------------+-----------------+------------+------+------+-------------------+----------------------+------------------+-------------+-------------+-------------+--------------------+\n",
            "|        0.0|             1456.0|           0.0|     5.1|    50.68|            PHL|               MIA|         False|    False|  3|  5|366.0|               9.0|                  8.0|              0.0|         0.0|   0.0|   5.0|     (15,[9],[1.0])|        (15,[8],[1.0])|     (1,[0],[1.0])|(1,[0],[1.0])|(6,[0],[1.0])|(7,[5],[1.0])|(49,[1,3,13,27,34...|\n",
            "|        0.0|             1456.0|           0.0|     5.2|    42.79|            EWR|               ATL|         False|     True|  3|  4|135.0|              13.0|                  7.0|              0.0|         1.0|   0.0|   7.0|    (15,[13],[1.0])|        (15,[7],[1.0])|     (1,[0],[1.0])|    (1,[],[])|(6,[0],[1.0])|    (7,[],[])|(49,[1,3,17,26,34...|\n",
            "|        0.0|             1456.0|           0.0|     5.2|    42.79|            ORD|               MIA|         False|     True|  4|  5|189.0|               5.0|                  8.0|              0.0|         1.0|   1.0|   5.0|     (15,[5],[1.0])|        (15,[8],[1.0])|     (1,[0],[1.0])|    (1,[],[])|(6,[1],[1.0])|(7,[5],[1.0])|(49,[1,3,9,27,34,...|\n",
            "|        0.0|             1456.0|           0.0|    5.38|   112.96|            DTW|               MIA|         False|    False|  1|  5|542.0|              11.0|                  8.0|              0.0|         0.0|   6.0|   5.0|    (15,[11],[1.0])|        (15,[8],[1.0])|     (1,[0],[1.0])|(1,[0],[1.0])|    (6,[],[])|(7,[5],[1.0])|(49,[1,3,15,27,34...|\n",
            "|        0.0|             1456.0|           0.0|   17.38|   124.96|            BOS|               DTW|         False|    False|  3|  5|298.0|               1.0|                 11.0|              0.0|         0.0|   0.0|   5.0|     (15,[1],[1.0])|       (15,[11],[1.0])|     (1,[0],[1.0])|(1,[0],[1.0])|(6,[0],[1.0])|(7,[5],[1.0])|(49,[1,3,5,30,34,...|\n",
            "|        0.0|             1456.0|           0.0|   17.38|   124.96|            EWR|               DFW|         False|    False|  4|  5|765.0|              13.0|                  2.0|              0.0|         0.0|   1.0|   5.0|    (15,[13],[1.0])|        (15,[2],[1.0])|     (1,[0],[1.0])|(1,[0],[1.0])|(6,[1],[1.0])|(7,[5],[1.0])|(49,[1,3,17,21,34...|\n",
            "|        0.0|             1456.0|           0.0|    20.2|    65.78|            ATL|               LGA|         False|    False|  3|  5|357.0|               7.0|                  1.0|              0.0|         0.0|   0.0|   5.0|     (15,[7],[1.0])|        (15,[1],[1.0])|     (1,[0],[1.0])|(1,[0],[1.0])|(6,[0],[1.0])|(7,[5],[1.0])|(49,[1,3,11,20,34...|\n",
            "|        0.0|             1456.0|           0.0|    20.4|    89.98|            BOS|               PHL|         False|    False|  7|  5|689.0|               1.0|                  9.0|              0.0|         0.0|   5.0|   5.0|     (15,[1],[1.0])|        (15,[9],[1.0])|     (1,[0],[1.0])|(1,[0],[1.0])|(6,[5],[1.0])|(7,[5],[1.0])|(49,[1,3,5,28,34,...|\n",
            "|        0.0|             1456.0|           0.0|   20.48|    66.06|            ORD|               LGA|         False|    False|  5|  5|775.0|               5.0|                  1.0|              0.0|         0.0|   2.0|   5.0|     (15,[5],[1.0])|        (15,[1],[1.0])|     (1,[0],[1.0])|(1,[0],[1.0])|(6,[2],[1.0])|(7,[5],[1.0])|(49,[1,3,9,20,34,...|\n",
            "|        0.0|             1456.0|           0.0|   20.58|    90.16|            DEN|               LAX|         False|    False|  3|  4|238.0|              10.0|                  0.0|              0.0|         0.0|   0.0|   7.0|    (15,[10],[1.0])|        (15,[0],[1.0])|     (1,[0],[1.0])|(1,[0],[1.0])|(6,[0],[1.0])|    (7,[],[])|(49,[1,3,14,19,34...|\n",
            "|        0.0|             1456.0|           0.0|   20.58|    90.16|            DTW|               PHL|         False|    False|  3|  5|397.0|              11.0|                  9.0|              0.0|         0.0|   0.0|   5.0|    (15,[11],[1.0])|        (15,[9],[1.0])|     (1,[0],[1.0])|(1,[0],[1.0])|(6,[0],[1.0])|(7,[5],[1.0])|(49,[1,3,15,28,34...|\n",
            "|        0.0|             1456.0|           0.0|   20.58|    90.16|            PHL|               ATL|         False|    False|  4|  5|750.0|               9.0|                  7.0|              0.0|         0.0|   1.0|   5.0|     (15,[9],[1.0])|        (15,[7],[1.0])|     (1,[0],[1.0])|(1,[0],[1.0])|(6,[1],[1.0])|(7,[5],[1.0])|(49,[1,3,13,26,34...|\n",
            "|        0.0|             1456.0|           0.0|    21.0|   128.58|            LGA|               ATL|         False|    False|  2|  5|653.0|               2.0|                  7.0|              0.0|         0.0|   3.0|   5.0|     (15,[2],[1.0])|        (15,[7],[1.0])|     (1,[0],[1.0])|(1,[0],[1.0])|(6,[3],[1.0])|(7,[5],[1.0])|(49,[1,3,6,26,34,...|\n",
            "|        0.0|             1456.0|           0.0|    22.0|    78.59|            OAK|               LAX|         False|     True|  7|  4| 82.0|              14.0|                  0.0|              0.0|         1.0|   5.0|   7.0|    (15,[14],[1.0])|        (15,[0],[1.0])|     (1,[0],[1.0])|    (1,[],[])|(6,[5],[1.0])|    (7,[],[])|(49,[1,3,18,19,34...|\n",
            "|        0.0|             1456.0|           0.0|    23.1|    68.68|            PHL|               ATL|         False|    False|  1|  5|313.0|               9.0|                  7.0|              0.0|         0.0|   6.0|   5.0|     (15,[9],[1.0])|        (15,[7],[1.0])|     (1,[0],[1.0])|(1,[0],[1.0])|    (6,[],[])|(7,[5],[1.0])|(49,[1,3,13,26,34...|\n",
            "|        0.0|             1456.0|           0.0|    24.0|   131.58|            DTW|               BOS|         False|    False|  7|  5|284.0|              11.0|                  3.0|              0.0|         0.0|   5.0|   5.0|    (15,[11],[1.0])|        (15,[3],[1.0])|     (1,[0],[1.0])|(1,[0],[1.0])|(6,[5],[1.0])|(7,[5],[1.0])|(49,[1,3,15,22,34...|\n",
            "|        0.0|             1456.0|           0.0|    24.0|   131.58|            DTW|               BOS|         False|    False|  7|  5|656.0|              11.0|                  3.0|              0.0|         0.0|   5.0|   5.0|    (15,[11],[1.0])|        (15,[3],[1.0])|     (1,[0],[1.0])|(1,[0],[1.0])|(6,[5],[1.0])|(7,[5],[1.0])|(49,[1,3,15,22,34...|\n",
            "|        0.0|             1456.0|           0.0|   24.41|     81.0|            DFW|               ATL|         False|     True|  7|  4|128.0|               4.0|                  7.0|              0.0|         1.0|   5.0|   7.0|     (15,[4],[1.0])|        (15,[7],[1.0])|     (1,[0],[1.0])|    (1,[],[])|(6,[5],[1.0])|    (7,[],[])|(49,[1,3,8,26,34,...|\n",
            "|        0.0|             1456.0|           0.0|    26.0|    82.59|            DFW|               MIA|         False|     True|  1|  5|170.0|               4.0|                  8.0|              0.0|         1.0|   6.0|   5.0|     (15,[4],[1.0])|        (15,[8],[1.0])|     (1,[0],[1.0])|    (1,[],[])|    (6,[],[])|(7,[5],[1.0])|(49,[1,3,8,27,34,...|\n",
            "|        0.0|             1456.0|           0.0|    27.2|    96.78|            DFW|               ATL|         False|    False|  4|  5|534.0|               4.0|                  7.0|              0.0|         0.0|   1.0|   5.0|     (15,[4],[1.0])|        (15,[7],[1.0])|     (1,[0],[1.0])|(1,[0],[1.0])|(6,[1],[1.0])|(7,[5],[1.0])|(49,[1,3,8,26,34,...|\n",
            "+-----------+-------------------+--------------+--------+---------+---------------+------------------+--------------+---------+---+---+-----+------------------+---------------------+-----------------+------------+------+------+-------------------+----------------------+------------------+-------------+-------------+-------------+--------------------+\n",
            "only showing top 20 rows\n",
            "\n"
          ]
        }
      ],
      "source": [
        "# Fit the pipeline to the train set and run it through.\n",
        "cat_feats_si = [f + '_si' for f in cat_feats + ['DOW'] +['MOY']]\n",
        "cat_feats_ohe = [f + '_ohe' for f in cat_feats + ['DOW'] + ['MOY']]\n",
        "num_feats_p = num_feats + ['tD_p']\n",
        "fe_pipeline = Pipeline(stages = [Imputer(strategy = 'median',\n",
        "                                         inputCols = num_feats_p,\n",
        "                                         outputCols = num_feats_p),\n",
        "                                 StringIndexer(inputCols = cat_feats + ['DOW'] + ['MOY'],\n",
        "                                               outputCols = cat_feats_si),\n",
        "                                 OneHotEncoder(inputCols = cat_feats_si,\n",
        "                                               outputCols = cat_feats_ohe),\n",
        "                                 VectorAssembler(inputCols = (num_feats_p + cat_feats_ohe),\n",
        "                                                 outputCol = 'features')]).fit(train_df)\n",
        "\n",
        "train_fe = fe_pipeline.transform(train_df)\n",
        "train_fe.show()"
      ]
    },
    {
      "cell_type": "code",
      "execution_count": 14,
      "metadata": {
        "colab": {
          "base_uri": "https://localhost:8080/"
        },
        "id": "MEUxGhRx8hZF",
        "outputId": "59d258ae-a040-423d-89e7-2d6501d78e41"
      },
      "outputs": [
        {
          "output_type": "stream",
          "name": "stdout",
          "text": [
            "+-----------+-------------------+--------------+--------+---------+---------------+------------------+--------------+---------+---+---+-----+------------------+---------------------+-----------------+------------+------+------+-------------------+----------------------+------------------+-------------+-------------+-------------+--------------------+\n",
            "|elapsedDays|totalTravelDistance|seatsRemaining|baseFare|totalFare|startingAirport|destinationAirport|isBasicEconomy|isNonstop|DOW|MOY| tD_p|startingAirport_si|destinationAirport_si|isBasicEconomy_si|isNonstop_si|DOW_si|MOY_si|startingAirport_ohe|destinationAirport_ohe|isBasicEconomy_ohe|isNonstop_ohe|      DOW_ohe|      MOY_ohe|            features|\n",
            "+-----------+-------------------+--------------+--------+---------+---------------+------------------+--------------+---------+---+---+-----+------------------+---------------------+-----------------+------------+------+------+-------------------+----------------------+------------------+-------------+-------------+-------------+--------------------+\n",
            "|        0.0|             1456.0|           0.0|     5.1|    30.69|            ATL|               EWR|         False|     True|  3|  5|131.0|               7.0|                 13.0|              0.0|         1.0|   0.0|   5.0|     (15,[7],[1.0])|       (15,[13],[1.0])|     (1,[0],[1.0])|    (1,[],[])|(6,[0],[1.0])|(7,[5],[1.0])|(49,[1,3,11,32,34...|\n",
            "|        0.0|             1456.0|           0.0|     5.1|    30.69|            ATL|               EWR|         False|     True|  4|  5|131.0|               7.0|                 13.0|              0.0|         1.0|   1.0|   5.0|     (15,[7],[1.0])|       (15,[13],[1.0])|     (1,[0],[1.0])|    (1,[],[])|(6,[1],[1.0])|(7,[5],[1.0])|(49,[1,3,11,32,34...|\n",
            "|        0.0|             1456.0|           0.0|     5.1|    30.69|            ATL|               EWR|         False|     True|  4|  5|131.0|               7.0|                 13.0|              0.0|         1.0|   1.0|   5.0|     (15,[7],[1.0])|       (15,[13],[1.0])|     (1,[0],[1.0])|    (1,[],[])|(6,[1],[1.0])|(7,[5],[1.0])|(49,[1,3,11,32,34...|\n",
            "|        0.0|             1456.0|           0.0|     5.1|    30.69|            ATL|               EWR|         False|     True|  4|  5|136.0|               7.0|                 13.0|              0.0|         1.0|   1.0|   5.0|     (15,[7],[1.0])|       (15,[13],[1.0])|     (1,[0],[1.0])|    (1,[],[])|(6,[1],[1.0])|(7,[5],[1.0])|(49,[1,3,11,32,34...|\n",
            "|        0.0|             1456.0|           0.0|     5.1|    30.69|            ATL|               MIA|         False|     True|  2|  5|113.0|               7.0|                  8.0|              0.0|         1.0|   3.0|   5.0|     (15,[7],[1.0])|        (15,[8],[1.0])|     (1,[0],[1.0])|    (1,[],[])|(6,[3],[1.0])|(7,[5],[1.0])|(49,[1,3,11,27,34...|\n",
            "|        0.0|             1456.0|           0.0|     5.1|    30.69|            ATL|               MIA|         False|     True|  2|  5|113.0|               7.0|                  8.0|              0.0|         1.0|   3.0|   5.0|     (15,[7],[1.0])|        (15,[8],[1.0])|     (1,[0],[1.0])|    (1,[],[])|(6,[3],[1.0])|(7,[5],[1.0])|(49,[1,3,11,27,34...|\n",
            "|        0.0|             1456.0|           0.0|     5.1|    30.69|            ATL|               MIA|         False|     True|  2|  5|113.0|               7.0|                  8.0|              0.0|         1.0|   3.0|   5.0|     (15,[7],[1.0])|        (15,[8],[1.0])|     (1,[0],[1.0])|    (1,[],[])|(6,[3],[1.0])|(7,[5],[1.0])|(49,[1,3,11,27,34...|\n",
            "|        0.0|             1456.0|           0.0|     5.1|    30.69|            ATL|               MIA|         False|     True|  3|  5|113.0|               7.0|                  8.0|              0.0|         1.0|   0.0|   5.0|     (15,[7],[1.0])|        (15,[8],[1.0])|     (1,[0],[1.0])|    (1,[],[])|(6,[0],[1.0])|(7,[5],[1.0])|(49,[1,3,11,27,34...|\n",
            "|        0.0|             1456.0|           0.0|     5.1|    30.69|            ATL|               MIA|         False|     True|  3|  5|113.0|               7.0|                  8.0|              0.0|         1.0|   0.0|   5.0|     (15,[7],[1.0])|        (15,[8],[1.0])|     (1,[0],[1.0])|    (1,[],[])|(6,[0],[1.0])|(7,[5],[1.0])|(49,[1,3,11,27,34...|\n",
            "|        0.0|             1456.0|           0.0|     5.1|    30.69|            ATL|               MIA|         False|     True|  4|  5|113.0|               7.0|                  8.0|              0.0|         1.0|   1.0|   5.0|     (15,[7],[1.0])|        (15,[8],[1.0])|     (1,[0],[1.0])|    (1,[],[])|(6,[1],[1.0])|(7,[5],[1.0])|(49,[1,3,11,27,34...|\n",
            "|        0.0|             1456.0|           0.0|     5.1|    30.69|            ATL|               MIA|         False|     True|  4|  5|113.0|               7.0|                  8.0|              0.0|         1.0|   1.0|   5.0|     (15,[7],[1.0])|        (15,[8],[1.0])|     (1,[0],[1.0])|    (1,[],[])|(6,[1],[1.0])|(7,[5],[1.0])|(49,[1,3,11,27,34...|\n",
            "|        0.0|             1456.0|           0.0|     5.1|    30.69|            ATL|               MIA|         False|     True|  7|  5|113.0|               7.0|                  8.0|              0.0|         1.0|   5.0|   5.0|     (15,[7],[1.0])|        (15,[8],[1.0])|     (1,[0],[1.0])|    (1,[],[])|(6,[5],[1.0])|(7,[5],[1.0])|(49,[1,3,11,27,34...|\n",
            "|        0.0|             1456.0|           0.0|     5.1|    30.69|            ATL|               PHL|         False|     True|  4|  5|123.0|               7.0|                  9.0|              0.0|         1.0|   1.0|   5.0|     (15,[7],[1.0])|        (15,[9],[1.0])|     (1,[0],[1.0])|    (1,[],[])|(6,[1],[1.0])|(7,[5],[1.0])|(49,[1,3,11,28,34...|\n",
            "|        0.0|             1456.0|           0.0|     5.1|    30.69|            ATL|               PHL|         False|     True|  4|  5|123.0|               7.0|                  9.0|              0.0|         1.0|   1.0|   5.0|     (15,[7],[1.0])|        (15,[9],[1.0])|     (1,[0],[1.0])|    (1,[],[])|(6,[1],[1.0])|(7,[5],[1.0])|(49,[1,3,11,28,34...|\n",
            "|        0.0|             1456.0|           0.0|     5.1|    30.69|            ATL|               PHL|         False|     True|  5|  5|123.0|               7.0|                  9.0|              0.0|         1.0|   2.0|   5.0|     (15,[7],[1.0])|        (15,[9],[1.0])|     (1,[0],[1.0])|    (1,[],[])|(6,[2],[1.0])|(7,[5],[1.0])|(49,[1,3,11,28,34...|\n",
            "|        0.0|             1456.0|           0.0|     5.1|    30.69|            ATL|               PHL|         False|     True|  5|  5|123.0|               7.0|                  9.0|              0.0|         1.0|   2.0|   5.0|     (15,[7],[1.0])|        (15,[9],[1.0])|     (1,[0],[1.0])|    (1,[],[])|(6,[2],[1.0])|(7,[5],[1.0])|(49,[1,3,11,28,34...|\n",
            "|        0.0|             1456.0|           0.0|     5.1|    30.69|            BOS|               MIA|         False|     True|  1|  5|200.0|               1.0|                  8.0|              0.0|         1.0|   6.0|   5.0|     (15,[1],[1.0])|        (15,[8],[1.0])|     (1,[0],[1.0])|    (1,[],[])|    (6,[],[])|(7,[5],[1.0])|(49,[1,3,5,27,34,...|\n",
            "|        0.0|             1456.0|           0.0|     5.1|    30.69|            BOS|               MIA|         False|     True|  1|  5|203.0|               1.0|                  8.0|              0.0|         1.0|   6.0|   5.0|     (15,[1],[1.0])|        (15,[8],[1.0])|     (1,[0],[1.0])|    (1,[],[])|    (6,[],[])|(7,[5],[1.0])|(49,[1,3,5,27,34,...|\n",
            "|        0.0|             1456.0|           0.0|     5.1|    30.69|            BOS|               MIA|         False|     True|  2|  4|200.0|               1.0|                  8.0|              0.0|         1.0|   3.0|   7.0|     (15,[1],[1.0])|        (15,[8],[1.0])|     (1,[0],[1.0])|    (1,[],[])|(6,[3],[1.0])|    (7,[],[])|(49,[1,3,5,27,34,...|\n",
            "|        0.0|             1456.0|           0.0|     5.1|    30.69|            BOS|               MIA|         False|     True|  2|  4|200.0|               1.0|                  8.0|              0.0|         1.0|   3.0|   7.0|     (15,[1],[1.0])|        (15,[8],[1.0])|     (1,[0],[1.0])|    (1,[],[])|(6,[3],[1.0])|    (7,[],[])|(49,[1,3,5,27,34,...|\n",
            "+-----------+-------------------+--------------+--------+---------+---------------+------------------+--------------+---------+---+---+-----+------------------+---------------------+-----------------+------------+------+------+-------------------+----------------------+------------------+-------------+-------------+-------------+--------------------+\n",
            "only showing top 20 rows\n",
            "\n"
          ]
        }
      ],
      "source": [
        "# Run the test set through the pipeline.\n",
        "test_fe = fe_pipeline.transform(test_df)\n",
        "test_fe.show()"
      ]
    },
    {
      "cell_type": "markdown",
      "metadata": {
        "id": "gzjuxRv2PK7k"
      },
      "source": [
        "## Baseline: Optimal Trivial Predictor (Relative to MSE: Mean)\n",
        "## (~1 hr)"
      ]
    },
    {
      "cell_type": "code",
      "execution_count": 15,
      "metadata": {
        "id": "1DweT-pRAI3Q"
      },
      "outputs": [],
      "source": [
        "# Choose target: either 'baseFare' or 'totalFare'.\n",
        "target_choice = 'baseFare'"
      ]
    },
    {
      "cell_type": "code",
      "execution_count": 16,
      "metadata": {
        "colab": {
          "base_uri": "https://localhost:8080/"
        },
        "id": "qqsJME6DPN0f",
        "outputId": "87f52877-36ba-4523-d79e-67cb77949474"
      },
      "outputs": [
        {
          "output_type": "execute_result",
          "data": {
            "text/plain": [
              "Row(avg(SE)=33589.24748531753)"
            ]
          },
          "metadata": {},
          "execution_count": 16
        }
      ],
      "source": [
        "# Baseline train evaluation.\n",
        "train_tm = train_fe.agg({target_choice: 'mean'}).first().asDict()['avg(baseFare)']\n",
        "train_SE_tp = train_fe.select(((train_fe[target_choice] - F.lit(train_tm)) ** 2).alias('SE'))\n",
        "train_MSE_tp = train_SE_tp.agg({'SE': 'mean'}).first()\n",
        "train_MSE_tp"
      ]
    },
    {
      "cell_type": "code",
      "execution_count": 17,
      "metadata": {
        "id": "C0RquIpsdB3l",
        "colab": {
          "base_uri": "https://localhost:8080/"
        },
        "outputId": "dd043f07-821f-4a9e-8679-046026cb84cb"
      },
      "outputs": [
        {
          "output_type": "execute_result",
          "data": {
            "text/plain": [
              "Row(avg(SE)=33557.903815543345)"
            ]
          },
          "metadata": {},
          "execution_count": 17
        }
      ],
      "source": [
        "# Baseline test evaluation.\n",
        "test_SE_tp = test_fe.select(((test_fe[target_choice] - F.lit(train_tm)) ** 2).alias('SE'))\n",
        "test_MSE_tp = test_SE_tp.agg({'SE': 'mean'}).first()\n",
        "test_MSE_tp"
      ]
    },
    {
      "cell_type": "markdown",
      "metadata": {
        "id": "uSp0CZHvd4zG"
      },
      "source": [
        "## Linear Regression (~1 hr 30 min)"
      ]
    },
    {
      "cell_type": "code",
      "execution_count": 18,
      "metadata": {
        "id": "T2iYB8xPbBtG",
        "colab": {
          "base_uri": "https://localhost:8080/"
        },
        "outputId": "20c805fb-c791-4dce-a9e1-ce46bb8999e1"
      },
      "outputs": [
        {
          "output_type": "stream",
          "name": "stdout",
          "text": [
            "+-----------+-------------------+--------------+--------+---------+---------------+------------------+--------------+---------+---+---+-----+------------------+---------------------+-----------------+------------+------+------+-------------------+----------------------+------------------+-------------+-------------+-------------+--------------------+------------------+\n",
            "|elapsedDays|totalTravelDistance|seatsRemaining|baseFare|totalFare|startingAirport|destinationAirport|isBasicEconomy|isNonstop|DOW|MOY| tD_p|startingAirport_si|destinationAirport_si|isBasicEconomy_si|isNonstop_si|DOW_si|MOY_si|startingAirport_ohe|destinationAirport_ohe|isBasicEconomy_ohe|isNonstop_ohe|      DOW_ohe|      MOY_ohe|            features|        prediction|\n",
            "+-----------+-------------------+--------------+--------+---------+---------------+------------------+--------------+---------+---+---+-----+------------------+---------------------+-----------------+------------+------+------+-------------------+----------------------+------------------+-------------+-------------+-------------+--------------------+------------------+\n",
            "|        0.0|             1456.0|           0.0|     5.1|    50.68|            PHL|               MIA|         False|    False|  3|  5|366.0|               9.0|                  8.0|              0.0|         0.0|   0.0|   5.0|     (15,[9],[1.0])|        (15,[8],[1.0])|     (1,[0],[1.0])|(1,[0],[1.0])|(6,[0],[1.0])|(7,[5],[1.0])|(49,[1,3,13,27,34...| 178.4985555033487|\n",
            "|        0.0|             1456.0|           0.0|     5.2|    42.79|            EWR|               ATL|         False|     True|  3|  4|135.0|              13.0|                  7.0|              0.0|         1.0|   0.0|   7.0|    (15,[13],[1.0])|        (15,[7],[1.0])|     (1,[0],[1.0])|    (1,[],[])|(6,[0],[1.0])|    (7,[],[])|(49,[1,3,17,26,34...|152.13255060217773|\n",
            "|        0.0|             1456.0|           0.0|     5.2|    42.79|            ORD|               MIA|         False|     True|  4|  5|189.0|               5.0|                  8.0|              0.0|         1.0|   1.0|   5.0|     (15,[5],[1.0])|        (15,[8],[1.0])|     (1,[0],[1.0])|    (1,[],[])|(6,[1],[1.0])|(7,[5],[1.0])|(49,[1,3,9,27,34,...|131.36355333115642|\n",
            "|        0.0|             1456.0|           0.0|    5.38|   112.96|            DTW|               MIA|         False|    False|  1|  5|542.0|              11.0|                  8.0|              0.0|         0.0|   6.0|   5.0|    (15,[11],[1.0])|        (15,[8],[1.0])|     (1,[0],[1.0])|(1,[0],[1.0])|    (6,[],[])|(7,[5],[1.0])|(49,[1,3,15,27,34...|278.67093353760964|\n",
            "|        0.0|             1456.0|           0.0|   17.38|   124.96|            BOS|               DTW|         False|    False|  3|  5|298.0|               1.0|                 11.0|              0.0|         0.0|   0.0|   5.0|     (15,[1],[1.0])|       (15,[11],[1.0])|     (1,[0],[1.0])|(1,[0],[1.0])|(6,[0],[1.0])|(7,[5],[1.0])|(49,[1,3,5,30,34,...|203.76457629653302|\n",
            "|        0.0|             1456.0|           0.0|   17.38|   124.96|            EWR|               DFW|         False|    False|  4|  5|765.0|              13.0|                  2.0|              0.0|         0.0|   1.0|   5.0|    (15,[13],[1.0])|        (15,[2],[1.0])|     (1,[0],[1.0])|(1,[0],[1.0])|(6,[1],[1.0])|(7,[5],[1.0])|(49,[1,3,17,21,34...|211.34338191835246|\n",
            "|        0.0|             1456.0|           0.0|    20.2|    65.78|            ATL|               LGA|         False|    False|  3|  5|357.0|               7.0|                  1.0|              0.0|         0.0|   0.0|   5.0|     (15,[7],[1.0])|        (15,[1],[1.0])|     (1,[0],[1.0])|(1,[0],[1.0])|(6,[0],[1.0])|(7,[5],[1.0])|(49,[1,3,11,20,34...|185.00534252415702|\n",
            "|        0.0|             1456.0|           0.0|    20.4|    89.98|            BOS|               PHL|         False|    False|  7|  5|689.0|               1.0|                  9.0|              0.0|         0.0|   5.0|   5.0|     (15,[1],[1.0])|        (15,[9],[1.0])|     (1,[0],[1.0])|(1,[0],[1.0])|(6,[5],[1.0])|(7,[5],[1.0])|(49,[1,3,5,28,34,...| 264.0374740506165|\n",
            "|        0.0|             1456.0|           0.0|   20.48|    66.06|            ORD|               LGA|         False|    False|  5|  5|775.0|               5.0|                  1.0|              0.0|         0.0|   2.0|   5.0|     (15,[5],[1.0])|        (15,[1],[1.0])|     (1,[0],[1.0])|(1,[0],[1.0])|(6,[2],[1.0])|(7,[5],[1.0])|(49,[1,3,9,20,34,...| 253.3364142809612|\n",
            "|        0.0|             1456.0|           0.0|   20.58|    90.16|            DEN|               LAX|         False|    False|  3|  4|238.0|              10.0|                  0.0|              0.0|         0.0|   0.0|   7.0|    (15,[10],[1.0])|        (15,[0],[1.0])|     (1,[0],[1.0])|(1,[0],[1.0])|(6,[0],[1.0])|    (7,[],[])|(49,[1,3,14,19,34...| 160.9590644071595|\n",
            "|        0.0|             1456.0|           0.0|   20.58|    90.16|            DTW|               PHL|         False|    False|  3|  5|397.0|              11.0|                  9.0|              0.0|         0.0|   0.0|   5.0|    (15,[11],[1.0])|        (15,[9],[1.0])|     (1,[0],[1.0])|(1,[0],[1.0])|(6,[0],[1.0])|(7,[5],[1.0])|(49,[1,3,15,28,34...| 245.1854234723658|\n",
            "|        0.0|             1456.0|           0.0|   20.58|    90.16|            PHL|               ATL|         False|    False|  4|  5|750.0|               9.0|                  7.0|              0.0|         0.0|   1.0|   5.0|     (15,[9],[1.0])|        (15,[7],[1.0])|     (1,[0],[1.0])|(1,[0],[1.0])|(6,[1],[1.0])|(7,[5],[1.0])|(49,[1,3,13,26,34...|250.37258919722922|\n",
            "|        0.0|             1456.0|           0.0|    21.0|   128.58|            LGA|               ATL|         False|    False|  2|  5|653.0|               2.0|                  7.0|              0.0|         0.0|   3.0|   5.0|     (15,[2],[1.0])|        (15,[7],[1.0])|     (1,[0],[1.0])|(1,[0],[1.0])|(6,[3],[1.0])|(7,[5],[1.0])|(49,[1,3,6,26,34,...|249.60514615786246|\n",
            "|        0.0|             1456.0|           0.0|    22.0|    78.59|            OAK|               LAX|         False|     True|  7|  4| 82.0|              14.0|                  0.0|              0.0|         1.0|   5.0|   7.0|    (15,[14],[1.0])|        (15,[0],[1.0])|     (1,[0],[1.0])|    (1,[],[])|(6,[5],[1.0])|    (7,[],[])|(49,[1,3,18,19,34...|   265.57094933073|\n",
            "|        0.0|             1456.0|           0.0|    23.1|    68.68|            PHL|               ATL|         False|    False|  1|  5|313.0|               9.0|                  7.0|              0.0|         0.0|   6.0|   5.0|     (15,[9],[1.0])|        (15,[7],[1.0])|     (1,[0],[1.0])|(1,[0],[1.0])|    (6,[],[])|(7,[5],[1.0])|(49,[1,3,13,26,34...|304.78270161487876|\n",
            "|        0.0|             1456.0|           0.0|    24.0|   131.58|            DTW|               BOS|         False|    False|  7|  5|284.0|              11.0|                  3.0|              0.0|         0.0|   5.0|   5.0|    (15,[11],[1.0])|        (15,[3],[1.0])|     (1,[0],[1.0])|(1,[0],[1.0])|(6,[5],[1.0])|(7,[5],[1.0])|(49,[1,3,15,22,34...|233.84152218016396|\n",
            "|        0.0|             1456.0|           0.0|    24.0|   131.58|            DTW|               BOS|         False|    False|  7|  5|656.0|              11.0|                  3.0|              0.0|         0.0|   5.0|   5.0|    (15,[11],[1.0])|        (15,[3],[1.0])|     (1,[0],[1.0])|(1,[0],[1.0])|(6,[5],[1.0])|(7,[5],[1.0])|(49,[1,3,15,22,34...|258.87128730188664|\n",
            "|        0.0|             1456.0|           0.0|   24.41|     81.0|            DFW|               ATL|         False|     True|  7|  4|128.0|               4.0|                  7.0|              0.0|         1.0|   5.0|   7.0|     (15,[4],[1.0])|        (15,[7],[1.0])|     (1,[0],[1.0])|    (1,[],[])|(6,[5],[1.0])|    (7,[],[])|(49,[1,3,8,26,34,...|176.02641321569672|\n",
            "|        0.0|             1456.0|           0.0|    26.0|    82.59|            DFW|               MIA|         False|     True|  1|  5|170.0|               4.0|                  8.0|              0.0|         1.0|   6.0|   5.0|     (15,[4],[1.0])|        (15,[8],[1.0])|     (1,[0],[1.0])|    (1,[],[])|    (6,[],[])|(7,[5],[1.0])|(49,[1,3,8,27,34,...|200.45060331530766|\n",
            "|        0.0|             1456.0|           0.0|    27.2|    96.78|            DFW|               ATL|         False|    False|  4|  5|534.0|               4.0|                  7.0|              0.0|         0.0|   1.0|   5.0|     (15,[4],[1.0])|        (15,[7],[1.0])|     (1,[0],[1.0])|(1,[0],[1.0])|(6,[1],[1.0])|(7,[5],[1.0])|(49,[1,3,8,26,34,...|205.10308336009678|\n",
            "+-----------+-------------------+--------------+--------+---------+---------------+------------------+--------------+---------+---+---+-----+------------------+---------------------+-----------------+------------+------+------+-------------------+----------------------+------------------+-------------+-------------+-------------+--------------------+------------------+\n",
            "only showing top 20 rows\n",
            "\n"
          ]
        }
      ],
      "source": [
        "lr = LinearRegression(featuresCol = 'features', labelCol = target_choice).fit(train_fe)\n",
        "train_lr = lr.transform(train_fe)\n",
        "train_lr.show()"
      ]
    },
    {
      "cell_type": "code",
      "execution_count": 19,
      "metadata": {
        "id": "70OHPIkemOGL",
        "colab": {
          "base_uri": "https://localhost:8080/"
        },
        "outputId": "fed9baaf-b308-4e90-d362-5f60df18ed67"
      },
      "outputs": [
        {
          "output_type": "execute_result",
          "data": {
            "text/plain": [
              "Row(avg(SE)=18440.51589817419)"
            ]
          },
          "metadata": {},
          "execution_count": 19
        }
      ],
      "source": [
        "train_SE_lr = train_lr.select(((train_lr[target_choice] - train_lr['prediction']) ** 2).alias('SE'))\n",
        "train_MSE_lr = train_SE_lr.agg({'SE': 'mean'}).first()\n",
        "train_MSE_lr"
      ]
    },
    {
      "cell_type": "code",
      "execution_count": 20,
      "metadata": {
        "id": "Jitknv_-3RX4",
        "colab": {
          "base_uri": "https://localhost:8080/"
        },
        "outputId": "102b85fd-300f-48de-ce44-50f9c6fb72de"
      },
      "outputs": [
        {
          "output_type": "execute_result",
          "data": {
            "text/plain": [
              "Row(avg(SE)=18471.990521863416)"
            ]
          },
          "metadata": {},
          "execution_count": 20
        }
      ],
      "source": [
        "# Evaluate performance on test set.\n",
        "test_lr = lr.transform(test_fe)\n",
        "test_SE_lr = test_lr.select(((test_lr[target_choice] - test_lr['prediction']) ** 2).alias('SE'))\n",
        "test_MSE_lr = test_SE_lr.agg({'SE': 'mean'}).first()\n",
        "test_MSE_lr"
      ]
    },
    {
      "cell_type": "markdown",
      "metadata": {
        "id": "5iR3oE7Hd8Y5"
      },
      "source": [
        "## Random Forest Regressor (~2 hr)"
      ]
    },
    {
      "cell_type": "code",
      "execution_count": 21,
      "metadata": {
        "id": "ajeDPOb3hBb0",
        "colab": {
          "base_uri": "https://localhost:8080/"
        },
        "outputId": "56c67147-e5d0-4316-8eef-d4ac6c4273e9"
      },
      "outputs": [
        {
          "output_type": "stream",
          "name": "stdout",
          "text": [
            "+-----------+-------------------+--------------+--------+---------+---------------+------------------+--------------+---------+---+---+-----+------------------+---------------------+-----------------+------------+------+------+-------------------+----------------------+------------------+-------------+-------------+-------------+--------------------+------------------+\n",
            "|elapsedDays|totalTravelDistance|seatsRemaining|baseFare|totalFare|startingAirport|destinationAirport|isBasicEconomy|isNonstop|DOW|MOY| tD_p|startingAirport_si|destinationAirport_si|isBasicEconomy_si|isNonstop_si|DOW_si|MOY_si|startingAirport_ohe|destinationAirport_ohe|isBasicEconomy_ohe|isNonstop_ohe|      DOW_ohe|      MOY_ohe|            features|        prediction|\n",
            "+-----------+-------------------+--------------+--------+---------+---------------+------------------+--------------+---------+---+---+-----+------------------+---------------------+-----------------+------------+------+------+-------------------+----------------------+------------------+-------------+-------------+-------------+--------------------+------------------+\n",
            "|        0.0|             1456.0|           0.0|     5.1|    50.68|            PHL|               MIA|         False|    False|  3|  5|366.0|               9.0|                  8.0|              0.0|         0.0|   0.0|   5.0|     (15,[9],[1.0])|        (15,[8],[1.0])|     (1,[0],[1.0])|(1,[0],[1.0])|(6,[0],[1.0])|(7,[5],[1.0])|(49,[1,3,13,27,34...|182.03127440119908|\n",
            "|        0.0|             1456.0|           0.0|     5.2|    42.79|            EWR|               ATL|         False|     True|  3|  4|135.0|              13.0|                  7.0|              0.0|         1.0|   0.0|   7.0|    (15,[13],[1.0])|        (15,[7],[1.0])|     (1,[0],[1.0])|    (1,[],[])|(6,[0],[1.0])|    (7,[],[])|(49,[1,3,17,26,34...| 90.39799231412579|\n",
            "|        0.0|             1456.0|           0.0|     5.2|    42.79|            ORD|               MIA|         False|     True|  4|  5|189.0|               5.0|                  8.0|              0.0|         1.0|   1.0|   5.0|     (15,[5],[1.0])|        (15,[8],[1.0])|     (1,[0],[1.0])|    (1,[],[])|(6,[1],[1.0])|(7,[5],[1.0])|(49,[1,3,9,27,34,...| 98.34864780910921|\n",
            "|        0.0|             1456.0|           0.0|    5.38|   112.96|            DTW|               MIA|         False|    False|  1|  5|542.0|              11.0|                  8.0|              0.0|         0.0|   6.0|   5.0|    (15,[11],[1.0])|        (15,[8],[1.0])|     (1,[0],[1.0])|(1,[0],[1.0])|    (6,[],[])|(7,[5],[1.0])|(49,[1,3,15,27,34...| 198.7209325733488|\n",
            "|        0.0|             1456.0|           0.0|   17.38|   124.96|            BOS|               DTW|         False|    False|  3|  5|298.0|               1.0|                 11.0|              0.0|         0.0|   0.0|   5.0|     (15,[1],[1.0])|       (15,[11],[1.0])|     (1,[0],[1.0])|(1,[0],[1.0])|(6,[0],[1.0])|(7,[5],[1.0])|(49,[1,3,5,30,34,...|182.03127440119908|\n",
            "|        0.0|             1456.0|           0.0|   17.38|   124.96|            EWR|               DFW|         False|    False|  4|  5|765.0|              13.0|                  2.0|              0.0|         0.0|   1.0|   5.0|    (15,[13],[1.0])|        (15,[2],[1.0])|     (1,[0],[1.0])|(1,[0],[1.0])|(6,[1],[1.0])|(7,[5],[1.0])|(49,[1,3,17,21,34...|182.29922549216798|\n",
            "|        0.0|             1456.0|           0.0|    20.2|    65.78|            ATL|               LGA|         False|    False|  3|  5|357.0|               7.0|                  1.0|              0.0|         0.0|   0.0|   5.0|     (15,[7],[1.0])|        (15,[1],[1.0])|     (1,[0],[1.0])|(1,[0],[1.0])|(6,[0],[1.0])|(7,[5],[1.0])|(49,[1,3,11,20,34...|182.03127440119908|\n",
            "|        0.0|             1456.0|           0.0|    20.4|    89.98|            BOS|               PHL|         False|    False|  7|  5|689.0|               1.0|                  9.0|              0.0|         0.0|   5.0|   5.0|     (15,[1],[1.0])|        (15,[9],[1.0])|     (1,[0],[1.0])|(1,[0],[1.0])|(6,[5],[1.0])|(7,[5],[1.0])|(49,[1,3,5,28,34,...| 198.7209325733488|\n",
            "|        0.0|             1456.0|           0.0|   20.48|    66.06|            ORD|               LGA|         False|    False|  5|  5|775.0|               5.0|                  1.0|              0.0|         0.0|   2.0|   5.0|     (15,[5],[1.0])|        (15,[1],[1.0])|     (1,[0],[1.0])|(1,[0],[1.0])|(6,[2],[1.0])|(7,[5],[1.0])|(49,[1,3,9,20,34,...|191.21572068646108|\n",
            "|        0.0|             1456.0|           0.0|   20.58|    90.16|            DEN|               LAX|         False|    False|  3|  4|238.0|              10.0|                  0.0|              0.0|         0.0|   0.0|   7.0|    (15,[10],[1.0])|        (15,[0],[1.0])|     (1,[0],[1.0])|(1,[0],[1.0])|(6,[0],[1.0])|    (7,[],[])|(49,[1,3,14,19,34...| 158.5593104688368|\n",
            "|        0.0|             1456.0|           0.0|   20.58|    90.16|            DTW|               PHL|         False|    False|  3|  5|397.0|              11.0|                  9.0|              0.0|         0.0|   0.0|   5.0|    (15,[11],[1.0])|        (15,[9],[1.0])|     (1,[0],[1.0])|(1,[0],[1.0])|(6,[0],[1.0])|(7,[5],[1.0])|(49,[1,3,15,28,34...|183.94319402928943|\n",
            "|        0.0|             1456.0|           0.0|   20.58|    90.16|            PHL|               ATL|         False|    False|  4|  5|750.0|               9.0|                  7.0|              0.0|         0.0|   1.0|   5.0|     (15,[9],[1.0])|        (15,[7],[1.0])|     (1,[0],[1.0])|(1,[0],[1.0])|(6,[1],[1.0])|(7,[5],[1.0])|(49,[1,3,13,26,34...|182.29922549216798|\n",
            "|        0.0|             1456.0|           0.0|    21.0|   128.58|            LGA|               ATL|         False|    False|  2|  5|653.0|               2.0|                  7.0|              0.0|         0.0|   3.0|   5.0|     (15,[2],[1.0])|        (15,[7],[1.0])|     (1,[0],[1.0])|(1,[0],[1.0])|(6,[3],[1.0])|(7,[5],[1.0])|(49,[1,3,6,26,34,...| 198.7209325733488|\n",
            "|        0.0|             1456.0|           0.0|    22.0|    78.59|            OAK|               LAX|         False|     True|  7|  4| 82.0|              14.0|                  0.0|              0.0|         1.0|   5.0|   7.0|    (15,[14],[1.0])|        (15,[0],[1.0])|     (1,[0],[1.0])|    (1,[],[])|(6,[5],[1.0])|    (7,[],[])|(49,[1,3,18,19,34...|  91.9153123247937|\n",
            "|        0.0|             1456.0|           0.0|    23.1|    68.68|            PHL|               ATL|         False|    False|  1|  5|313.0|               9.0|                  7.0|              0.0|         0.0|   6.0|   5.0|     (15,[9],[1.0])|        (15,[7],[1.0])|     (1,[0],[1.0])|(1,[0],[1.0])|    (6,[],[])|(7,[5],[1.0])|(49,[1,3,13,26,34...|184.96699855642416|\n",
            "|        0.0|             1456.0|           0.0|    24.0|   131.58|            DTW|               BOS|         False|    False|  7|  5|284.0|              11.0|                  3.0|              0.0|         0.0|   5.0|   5.0|    (15,[11],[1.0])|        (15,[3],[1.0])|     (1,[0],[1.0])|(1,[0],[1.0])|(6,[5],[1.0])|(7,[5],[1.0])|(49,[1,3,15,22,34...|184.96699855642416|\n",
            "|        0.0|             1456.0|           0.0|    24.0|   131.58|            DTW|               BOS|         False|    False|  7|  5|656.0|              11.0|                  3.0|              0.0|         0.0|   5.0|   5.0|    (15,[11],[1.0])|        (15,[3],[1.0])|     (1,[0],[1.0])|(1,[0],[1.0])|(6,[5],[1.0])|(7,[5],[1.0])|(49,[1,3,15,22,34...| 198.7209325733488|\n",
            "|        0.0|             1456.0|           0.0|   24.41|     81.0|            DFW|               ATL|         False|     True|  7|  4|128.0|               4.0|                  7.0|              0.0|         1.0|   5.0|   7.0|     (15,[4],[1.0])|        (15,[7],[1.0])|     (1,[0],[1.0])|    (1,[],[])|(6,[5],[1.0])|    (7,[],[])|(49,[1,3,8,26,34,...| 92.52893585386207|\n",
            "|        0.0|             1456.0|           0.0|    26.0|    82.59|            DFW|               MIA|         False|     True|  1|  5|170.0|               4.0|                  8.0|              0.0|         1.0|   6.0|   5.0|     (15,[4],[1.0])|        (15,[8],[1.0])|     (1,[0],[1.0])|    (1,[],[])|    (6,[],[])|(7,[5],[1.0])|(49,[1,3,8,27,34,...| 99.75096069716767|\n",
            "|        0.0|             1456.0|           0.0|    27.2|    96.78|            DFW|               ATL|         False|    False|  4|  5|534.0|               4.0|                  7.0|              0.0|         0.0|   1.0|   5.0|     (15,[4],[1.0])|        (15,[7],[1.0])|     (1,[0],[1.0])|(1,[0],[1.0])|(6,[1],[1.0])|(7,[5],[1.0])|(49,[1,3,8,26,34,...|189.80443737905568|\n",
            "+-----------+-------------------+--------------+--------+---------+---------------+------------------+--------------+---------+---+---+-----+------------------+---------------------+-----------------+------------+------+------+-------------------+----------------------+------------------+-------------+-------------+-------------+--------------------+------------------+\n",
            "only showing top 20 rows\n",
            "\n"
          ]
        }
      ],
      "source": [
        "rfr = RandomForestRegressor(featuresCol = 'features', labelCol = target_choice, seed = 42).fit(train_fe)\n",
        "train_rfr = rfr.transform(train_fe)\n",
        "train_rfr.show()"
      ]
    },
    {
      "cell_type": "code",
      "execution_count": 22,
      "metadata": {
        "id": "lcYoZZdT1o5H",
        "colab": {
          "base_uri": "https://localhost:8080/"
        },
        "outputId": "fc13a89e-db83-4950-f4db-9d163cb819e4"
      },
      "outputs": [
        {
          "output_type": "execute_result",
          "data": {
            "text/plain": [
              "Row(avg(SE)=18881.717884972168)"
            ]
          },
          "metadata": {},
          "execution_count": 22
        }
      ],
      "source": [
        "train_SE_rfr = train_rfr.select(((train_rfr[target_choice] - train_rfr['prediction']) ** 2).alias('SE'))\n",
        "MSE_rfr = train_SE_rfr.agg({'SE': 'mean'}).first()\n",
        "MSE_rfr"
      ]
    },
    {
      "cell_type": "code",
      "execution_count": 23,
      "metadata": {
        "id": "aHY0b2a3_9XS",
        "colab": {
          "base_uri": "https://localhost:8080/"
        },
        "outputId": "7c893c06-6e9a-428e-da38-4c10b4a5ce78"
      },
      "outputs": [
        {
          "output_type": "execute_result",
          "data": {
            "text/plain": [
              "Row(avg(SE)=18911.338155585952)"
            ]
          },
          "metadata": {},
          "execution_count": 23
        }
      ],
      "source": [
        "# Evaluate performance on test set.\n",
        "test_rfr = rfr.transform(test_fe)\n",
        "test_SE_rfr = test_rfr.select(((test_rfr[target_choice] - test_rfr['prediction']) ** 2).alias('SE'))\n",
        "test_MSE_rfr = test_SE_rfr.agg({'SE': 'mean'}).first()\n",
        "test_MSE_rfr"
      ]
    },
    {
      "cell_type": "code",
      "execution_count": 23,
      "metadata": {
        "id": "smUuhDVkKNI1"
      },
      "outputs": [],
      "source": []
    }
  ],
  "metadata": {
    "colab": {
      "collapsed_sections": [
        "9yymT4zVRTTU",
        "exmbNRxRdy3S",
        "gzjuxRv2PK7k",
        "uSp0CZHvd4zG"
      ],
      "provenance": []
    },
    "kernelspec": {
      "display_name": "Python 3",
      "name": "python3"
    },
    "language_info": {
      "name": "python"
    }
  },
  "nbformat": 4,
  "nbformat_minor": 0
}
{
  "cells": [
    {
      "cell_type": "markdown",
      "metadata": {
        "id": "9yymT4zVRTTU"
      },
      "source": [
        "## Data Load (~10 min)"
      ]
    },
    {
      "cell_type": "code",
      "execution_count": 1,
      "metadata": {
        "colab": {
          "base_uri": "https://localhost:8080/"
        },
        "id": "uVCPTXrlYgqF",
        "outputId": "ad4d88a1-c840-421c-a485-f3865416bf8b"
      },
      "outputs": [
        {
          "output_type": "stream",
          "name": "stdout",
          "text": [
            "Requirement already satisfied: kaggle in /usr/local/lib/python3.11/dist-packages (1.6.17)\n",
            "Requirement already satisfied: six>=1.10 in /usr/local/lib/python3.11/dist-packages (from kaggle) (1.17.0)\n",
            "Requirement already satisfied: certifi>=2023.7.22 in /usr/local/lib/python3.11/dist-packages (from kaggle) (2025.1.31)\n",
            "Requirement already satisfied: python-dateutil in /usr/local/lib/python3.11/dist-packages (from kaggle) (2.8.2)\n",
            "Requirement already satisfied: requests in /usr/local/lib/python3.11/dist-packages (from kaggle) (2.32.3)\n",
            "Requirement already satisfied: tqdm in /usr/local/lib/python3.11/dist-packages (from kaggle) (4.67.1)\n",
            "Requirement already satisfied: python-slugify in /usr/local/lib/python3.11/dist-packages (from kaggle) (8.0.4)\n",
            "Requirement already satisfied: urllib3 in /usr/local/lib/python3.11/dist-packages (from kaggle) (2.3.0)\n",
            "Requirement already satisfied: bleach in /usr/local/lib/python3.11/dist-packages (from kaggle) (6.2.0)\n",
            "Requirement already satisfied: webencodings in /usr/local/lib/python3.11/dist-packages (from bleach->kaggle) (0.5.1)\n",
            "Requirement already satisfied: text-unidecode>=1.3 in /usr/local/lib/python3.11/dist-packages (from python-slugify->kaggle) (1.3)\n",
            "Requirement already satisfied: charset-normalizer<4,>=2 in /usr/local/lib/python3.11/dist-packages (from requests->kaggle) (3.4.1)\n",
            "Requirement already satisfied: idna<4,>=2.5 in /usr/local/lib/python3.11/dist-packages (from requests->kaggle) (3.10)\n",
            "Dataset URL: https://www.kaggle.com/datasets/dilwong/flightprices\n",
            "License(s): Attribution 4.0 International (CC BY 4.0)\n",
            "flightprices.zip: Skipping, found more recently modified local copy (use --force to force download)\n"
          ]
        }
      ],
      "source": [
        "!pip install kaggle\n",
        "!kaggle datasets download -d dilwong/flightprices"
      ]
    },
    {
      "cell_type": "code",
      "execution_count": 2,
      "metadata": {
        "colab": {
          "base_uri": "https://localhost:8080/"
        },
        "id": "Ww_yO_q2cZyN",
        "outputId": "e9988f65-b2dd-4df7-fa71-f65eea3a3240"
      },
      "outputs": [
        {
          "output_type": "stream",
          "name": "stdout",
          "text": [
            "Archive:  flightprices.zip\n"
          ]
        }
      ],
      "source": [
        "!unzip -n flightprices.zip"
      ]
    },
    {
      "cell_type": "code",
      "execution_count": 3,
      "metadata": {
        "colab": {
          "base_uri": "https://localhost:8080/"
        },
        "id": "ECF7PIMN-aV6",
        "outputId": "a0ceeb01-cd4b-419c-c651-387e708e1a01"
      },
      "outputs": [
        {
          "output_type": "stream",
          "name": "stdout",
          "text": [
            "Requirement already satisfied: pyspark in /usr/local/lib/python3.11/dist-packages (3.5.5)\n",
            "Requirement already satisfied: py4j==0.10.9.7 in /usr/local/lib/python3.11/dist-packages (from pyspark) (0.10.9.7)\n"
          ]
        }
      ],
      "source": [
        "!pip install pyspark"
      ]
    },
    {
      "cell_type": "code",
      "execution_count": 4,
      "metadata": {
        "id": "tAI0dO1O5O_G"
      },
      "outputs": [],
      "source": [
        "import re\n",
        "import numpy as np\n",
        "import pandas as pd\n",
        "import matplotlib.pyplot as plt\n",
        "import seaborn as sns"
      ]
    },
    {
      "cell_type": "code",
      "execution_count": 5,
      "metadata": {
        "colab": {
          "base_uri": "https://localhost:8080/"
        },
        "id": "7i7Hn6G7ihyw",
        "outputId": "9c5c23ad-3799-4faa-e6be-116b3845c47c"
      },
      "outputs": [
        {
          "output_type": "stream",
          "name": "stderr",
          "text": [
            "/usr/local/lib/python3.11/dist-packages/pyspark/sql/context.py:113: FutureWarning: Deprecated in 3.0.0. Use SparkSession.builder.getOrCreate() instead.\n",
            "  warnings.warn(\n"
          ]
        }
      ],
      "source": [
        "from pyspark import SparkContext\n",
        "from pyspark.sql import SparkSession\n",
        "from pyspark.sql import SQLContext\n",
        "import pyspark.sql.functions as F\n",
        "try:\n",
        "  sc.stop()\n",
        "except:\n",
        "  pass\n",
        "sc = SparkContext()\n",
        "sqlContext = SQLContext(sc)"
      ]
    },
    {
      "cell_type": "code",
      "execution_count": 6,
      "metadata": {
        "id": "Zvi4e_DM-bsg"
      },
      "outputs": [],
      "source": [
        "ss = SparkSession.builder.getOrCreate()"
      ]
    },
    {
      "cell_type": "code",
      "execution_count": 7,
      "metadata": {
        "id": "G9iU0NybPOx2"
      },
      "outputs": [],
      "source": [
        "df = sqlContext.read.csv('itineraries.csv', header = True)"
      ]
    },
    {
      "cell_type": "code",
      "execution_count": 8,
      "metadata": {
        "colab": {
          "base_uri": "https://localhost:8080/"
        },
        "id": "-bMIWBCaPeXK",
        "outputId": "fa66717b-dda8-4d86-f5bd-38fab75eaa89"
      },
      "outputs": [
        {
          "output_type": "stream",
          "name": "stdout",
          "text": [
            "+--------------------+----------+----------+---------------+------------------+-------------+--------------+-----------+--------------+------------+---------+--------+---------+--------------+-------------------+---------------------------------+------------------------+-------------------------------+----------------------+--------------------------+----------------------------+--------------------+-------------------+----------------------------+-------------------------+----------------+-----------------+\n",
            "|               legId|searchDate|flightDate|startingAirport|destinationAirport|fareBasisCode|travelDuration|elapsedDays|isBasicEconomy|isRefundable|isNonStop|baseFare|totalFare|seatsRemaining|totalTravelDistance|segmentsDepartureTimeEpochSeconds|segmentsDepartureTimeRaw|segmentsArrivalTimeEpochSeconds|segmentsArrivalTimeRaw|segmentsArrivalAirportCode|segmentsDepartureAirportCode| segmentsAirlineName|segmentsAirlineCode|segmentsEquipmentDescription|segmentsDurationInSeconds|segmentsDistance|segmentsCabinCode|\n",
            "+--------------------+----------+----------+---------------+------------------+-------------+--------------+-----------+--------------+------------+---------+--------+---------+--------------+-------------------+---------------------------------+------------------------+-------------------------------+----------------------+--------------------------+----------------------------+--------------------+-------------------+----------------------------+-------------------------+----------------+-----------------+\n",
            "|9ca0e81111c683bec...|2022-04-16|2022-04-17|            ATL|               BOS|     LA0NX0MC|       PT2H29M|          0|         False|       False|     True|  217.67|   248.60|             9|                947|                       1650214620|    2022-04-17T12:57:...|                     1650223560|  2022-04-17T15:26:...|                       BOS|                         ATL|               Delta|                 DL|                 Airbus A321|                     8940|             947|            coach|\n",
            "|98685953630e772a0...|2022-04-16|2022-04-17|            ATL|               BOS|     LA0NX0MC|       PT2H30M|          0|         False|       False|     True|  217.67|   248.60|             4|                947|                       1650191400|    2022-04-17T06:30:...|                     1650200400|  2022-04-17T09:00:...|                       BOS|                         ATL|               Delta|                 DL|                 Airbus A321|                     9000|             947|            coach|\n",
            "|98d90cbc32bfbb05c...|2022-04-16|2022-04-17|            ATL|               BOS|     LA0NX0MC|       PT2H30M|          0|         False|       False|     True|  217.67|   248.60|             9|                947|                       1650209700|    2022-04-17T11:35:...|                     1650218700|  2022-04-17T14:05:...|                       BOS|                         ATL|               Delta|                 DL|              Boeing 757-200|                     9000|             947|            coach|\n",
            "|969a269d38eae583f...|2022-04-16|2022-04-17|            ATL|               BOS|     LA0NX0MC|       PT2H32M|          0|         False|       False|     True|  217.67|   248.60|             8|                947|                       1650218340|    2022-04-17T13:59:...|                     1650227460|  2022-04-17T16:31:...|                       BOS|                         ATL|               Delta|                 DL|                 Airbus A321|                     9120|             947|            coach|\n",
            "|980370cf27c89b40d...|2022-04-16|2022-04-17|            ATL|               BOS|     LA0NX0MC|       PT2H34M|          0|         False|       False|     True|  217.67|   248.60|             9|                947|                       1650203940|    2022-04-17T09:59:...|                     1650213180|  2022-04-17T12:33:...|                       BOS|                         ATL|               Delta|                 DL|                 Airbus A321|                     9240|             947|            coach|\n",
            "|79eda9f841e226a1e...|2022-04-16|2022-04-17|            ATL|               BOS|     VH0AUEL1|       PT2H38M|          0|         False|       False|     True|  217.67|   248.60|             7|                947|                       1650206700|    2022-04-17T10:45:...|                     1650216180|  2022-04-17T13:23:...|                       BOS|                         ATL|     JetBlue Airways|                 B6|                        NULL|                     9480|             947|            coach|\n",
            "|9335fae376c38bb61...|2022-04-16|2022-04-17|            ATL|               BOS|     V0AJZNN1|       PT4H12M|          0|         False|       False|    False|  213.02|   251.10|             3|                956|             1650198000||16502...|    2022-04-17T08:20:...|           1650203400||16502...|  2022-04-17T09:50:...|                  CLT||BOS|                    ATL||CLT|American Airlines...|             AA||AA|        Airbus A320||Airb...|               5400||7500|        228||728|     coach||coach|\n",
            "|3904bf87f2d1daf33...|2022-04-16|2022-04-17|            ATL|               BOS|     V0AJZNN1|       PT5H18M|          0|         False|       False|    False|  213.02|   251.10|             3|                956|             1650198000||16502...|    2022-04-17T08:20:...|           1650203400||16502...|  2022-04-17T09:50:...|                  CLT||BOS|                    ATL||CLT|American Airlines...|             AA||AA|        Airbus A320||Boei...|               5400||8280|        228||728|     coach||coach|\n",
            "|d93988734c44a3c07...|2022-04-16|2022-04-17|            ATL|               BOS|     V0AJZNN1|       PT5H32M|          0|         False|       False|    False|  213.02|   251.10|             7|                956|             1650193200||16502...|    2022-04-17T07:00:...|           1650198060||16502...|  2022-04-17T08:21:...|                  CLT||BOS|                    ATL||CLT|American Airlines...|             AA||AA|        Airbus A319||Airb...|               4860||7500|        228||728|     coach||coach|\n",
            "|562e7d5dd6ecbf150...|2022-04-16|2022-04-17|            ATL|               BOS|     V0AJZNN1|       PT6H38M|          0|         False|       False|    False|  213.02|   251.10|             7|                956|             1650193200||16502...|    2022-04-17T07:00:...|           1650198060||16502...|  2022-04-17T08:21:...|                  CLT||BOS|                    ATL||CLT|American Airlines...|             AA||AA|        Airbus A319||Boei...|               4860||8280|        228||728|     coach||coach|\n",
            "|c38a6e4b807d15541...|2022-04-16|2022-04-17|            ATL|               BOS|     VAA0AKEN|       PT4H46M|          0|         False|       False|    False|  213.02|   252.60|             1|                947|             1650187800||16501...|    2022-04-17T05:30:...|           1650194280||16502...|  2022-04-17T07:18:...|                  IAD||BOS|                    ATL||IAD|      United||United|             UA||UA|        Airbus A319||Boei...|               6480||5940|        541||406|     coach||coach|\n",
            "|f66d72ba3a5265766...|2022-04-16|2022-04-17|            ATL|               BOS|     V0AJZNN1|       PT5H45M|          0|         False|       False|    False|  213.02|   252.60|             3|               1462|             1650220740||16502...|    2022-04-17T14:39:...|           1650228840||16502...|  2022-04-17T15:54:...|                  ORD||BOS|                    ATL||ORD|American Airlines...|             AA||AA|        Embraer 175||Boei...|               8100||8340|        600||862|     coach||coach|\n",
            "|e7c4054e85cca9bc7...|2022-04-16|2022-04-17|            ATL|               BOS|     V0AJZNN1|       PT5H59M|          0|         False|       False|    False|  213.02|   252.60|             5|               1462|             1650232800||16502...|    2022-04-17T18:00:...|           1650240660||16502...|  2022-04-17T19:11:...|                  ORD||BOS|                    ATL||ORD|American Airlines...|             AA||AA|        Embraer 175||Boei...|               7860||8640|        600||862|     coach||coach|\n",
            "|5fa8c0f8b25eb24bf...|2022-04-16|2022-04-17|            ATL|               BOS|     V0AJZNN1|       PT7H18M|          0|         False|       False|    False|  213.02|   252.60|             3|               1462|             1650220740||16502...|    2022-04-17T14:39:...|           1650228840||16502...|  2022-04-17T15:54:...|                  ORD||BOS|                    ATL||ORD|American Airlines...|             AA||AA|        Embraer 175||Airb...|               8100||7920|        600||862|     coach||coach|\n",
            "|948d26b3e5658762c...|2022-04-16|2022-04-17|            ATL|               BOS|     VAA0AKEN|       PT8H10M|          0|         False|       False|    False|  213.02|   252.60|             2|               1462|             1650190200||16502...|    2022-04-17T06:10:...|           1650198000||16502...|  2022-04-17T07:20:...|                  ORD||BOS|                    ATL||ORD|      United||United|             UA||UA|        Embraer 175 (Enha...|               7800||8640|        600||862|     coach||coach|\n",
            "|cb345693479e84838...|2022-04-16|2022-04-17|            ATL|               BOS|          VNR|       PT5H39M|          0|         False|       False|    False|  183.00|   290.58|             0|               NULL|             1650187560||16501...|    2022-04-17T05:26:...|           1650194400||16502...|  2022-04-17T07:20:...|                  FLL||BOS|                    ATL||FLL|Spirit Airlines||...|             NK||NK|        AIRBUS INDUSTRIE ...|              6840||11100|      None||None|     coach||coach|\n",
            "|e1b95e4e6c997517f...|2022-04-16|2022-04-17|            ATL|               BOS|     KH0AUEY5|       PT2H38M|          0|         False|       False|     True|  265.58|   300.10|             7|                947|                       1650206700|    2022-04-17T10:45:...|                     1650216180|  2022-04-17T13:23:...|                       BOS|                         ATL|   American Airlines|                 AA|                        NULL|                     9480|             947|            coach|\n",
            "|eaf033a044596f0a7...|2022-04-16|2022-04-17|            ATL|               BOS|     L0AJZNN1|       PT4H17M|          0|         False|       False|    False|  260.47|   302.11|             1|                956|             1650233700||16502...|    2022-04-17T18:15:...|           1650238620||16502...|  2022-04-17T19:37:...|                  CLT||BOS|                    ATL||CLT|American Airlines...|             AA||AA|        Canadian Regional...|               4920||7620|        228||728|     coach||coach|\n",
            "|721d9a2f66fe479e7...|2022-04-16|2022-04-17|            ATL|               BOS|     L0AJZNN1|       PT4H36M|          0|         False|       False|    False|  260.47|   302.11|             1|                956|             1650207720||16502...|    2022-04-17T11:02:...|           1650212880||16502...|  2022-04-17T12:28:...|                  CLT||BOS|                    ATL||CLT|American Airlines...|             AA||AA|        Canadair Regional...|               5160||7860|        228||728|     coach||coach|\n",
            "|a9f012defb9227f69...|2022-04-16|2022-04-17|            ATL|               BOS|     L0AJZNN1|       PT4H45M|          0|         False|       False|    False|  260.47|   302.11|             1|                956|             1650226680||16502...|    2022-04-17T16:18:...|           1650230760||16502...|  2022-04-17T17:26:...|                  CLT||BOS|                    ATL||CLT|American Airlines...|             AA||AA|        Airbus A319||Boei...|               4080||7860|        228||728|     coach||coach|\n",
            "+--------------------+----------+----------+---------------+------------------+-------------+--------------+-----------+--------------+------------+---------+--------+---------+--------------+-------------------+---------------------------------+------------------------+-------------------------------+----------------------+--------------------------+----------------------------+--------------------+-------------------+----------------------------+-------------------------+----------------+-----------------+\n",
            "only showing top 20 rows\n",
            "\n"
          ]
        }
      ],
      "source": [
        "df.show()"
      ]
    },
    {
      "cell_type": "markdown",
      "metadata": {
        "id": "exmbNRxRdy3S"
      },
      "source": [
        "## Pipeline (Imputer + OneHotEncoder + VectorAssembler) (~1 hr)"
      ]
    },
    {
      "cell_type": "code",
      "execution_count": 9,
      "metadata": {
        "id": "YbdPs-7lySmn"
      },
      "outputs": [],
      "source": [
        "# Special handling for the travel duration variable:\n",
        "# Guaranteed to contain Python/tab chars (i.e., 'P'/'T').\n",
        "# Optionally contains day/hour/minute chars (i.e., 'D','H','M').\n",
        "\n",
        "def tD_proc(entry):\n",
        "  # Remove all Python/tab chars.\n",
        "  wo_PT = ''.join(re.split('[PT]', entry))\n",
        "\n",
        "  # Split on day/hour/minute:\n",
        "  daysplit = re.split('D', wo_PT)\n",
        "  hoursplit = re.split('H', daysplit[len(daysplit) - 1])\n",
        "  minsplit = re.split('M', hoursplit[len(hoursplit) - 1])\n",
        "\n",
        "  # Get consistent units (minutes).\n",
        "  totalmins = 0\n",
        "  try:\n",
        "    totalmins += 24 * 60 * int(daysplit[0])\n",
        "  except: pass\n",
        "  try:\n",
        "    totalmins += 60 * int(hoursplit[0])\n",
        "  except: pass\n",
        "  try:\n",
        "    totalmins += int(minsplit[0])\n",
        "  except: pass\n",
        "\n",
        "  return totalmins\n",
        "\n",
        "# Register udf.\n",
        "tD_p = F.udf(lambda x: tD_proc(x))"
      ]
    },
    {
      "cell_type": "code",
      "execution_count": 10,
      "metadata": {
        "id": "EEEH_0AOUNTD"
      },
      "outputs": [],
      "source": [
        "import pandas as pd\n",
        "from pyspark.ml.tuning import TrainValidationSplit\n",
        "from pyspark.ml.feature import Imputer, OneHotEncoder, StringIndexer, VectorAssembler\n",
        "from pyspark.ml import Pipeline\n",
        "from pyspark.ml.regression import LinearRegression, RandomForestRegressor"
      ]
    },
    {
      "cell_type": "code",
      "execution_count": 11,
      "metadata": {
        "id": "eQDkZcaFHaIa"
      },
      "outputs": [],
      "source": [
        "# -------- Define Features and Target -----\n",
        "num_feats = ['elapsedDays', 'totalTravelDistance', 'seatsRemaining']\n",
        "cat_feats = ['startingAirport', 'destinationAirport', 'isBasicEconomy',\n",
        "             'isNonstop']\n",
        "targets = ['baseFare', 'totalFare']\n",
        "\n",
        "# Extract flight duration & select date-based features.\n",
        "fNt = df.select([df[f].cast('float') for f in num_feats + targets] + cat_feats +\n",
        " [F.dayofweek(df['flightDate']).alias('DOW')] +\n",
        "  [F.month(df['flightDate']).alias('MOY')] +\n",
        "   [F.datediff(df['flightDate'], df['searchDate']).alias('DTF')] +\n",
        "    [tD_p('travelDuration').alias('tD_p').cast('float')])"
      ]
    },
    {
      "cell_type": "code",
      "execution_count": 12,
      "metadata": {
        "id": "Ul4uqG-0zTuO"
      },
      "outputs": [],
      "source": [
        "# Train-test split\n",
        "train_df, test_df = fNt.randomSplit([0.75, 0.25], 42)"
      ]
    },
    {
      "cell_type": "code",
      "execution_count": 13,
      "metadata": {
        "colab": {
          "base_uri": "https://localhost:8080/"
        },
        "id": "_-kRflUkRGrR",
        "outputId": "71aadc02-3c33-4eab-bd20-a6f2b92dc3bf"
      },
      "outputs": [
        {
          "output_type": "stream",
          "name": "stdout",
          "text": [
            "+-----------+-------------------+--------------+--------+---------+---------------+------------------+--------------+---------+---+---+---+-----+------------------+---------------------+-----------------+------------+------+------+-------------------+----------------------+------------------+-------------+-------------+-------------+--------------------+\n",
            "|elapsedDays|totalTravelDistance|seatsRemaining|baseFare|totalFare|startingAirport|destinationAirport|isBasicEconomy|isNonstop|DOW|MOY|DTF| tD_p|startingAirport_si|destinationAirport_si|isBasicEconomy_si|isNonstop_si|DOW_si|MOY_si|startingAirport_ohe|destinationAirport_ohe|isBasicEconomy_ohe|isNonstop_ohe|      DOW_ohe|      MOY_ohe|            features|\n",
            "+-----------+-------------------+--------------+--------+---------+---------------+------------------+--------------+---------+---+---+---+-----+------------------+---------------------+-----------------+------------+------+------+-------------------+----------------------+------------------+-------------+-------------+-------------+--------------------+\n",
            "|        0.0|             1464.0|           0.0|     5.1|    30.69|            ATL|               EWR|         False|     True|  3|  5| 23|131.0|               7.0|                 13.0|              0.0|         1.0|   0.0|   5.0|     (15,[7],[1.0])|       (15,[13],[1.0])|     (1,[0],[1.0])|    (1,[],[])|(6,[0],[1.0])|(7,[5],[1.0])|(50,[1,3,4,12,33,...|\n",
            "|        0.0|             1464.0|           0.0|     5.1|    30.69|            ATL|               EWR|         False|     True|  4|  5| 17|131.0|               7.0|                 13.0|              0.0|         1.0|   1.0|   5.0|     (15,[7],[1.0])|       (15,[13],[1.0])|     (1,[0],[1.0])|    (1,[],[])|(6,[1],[1.0])|(7,[5],[1.0])|(50,[1,3,4,12,33,...|\n",
            "|        0.0|             1464.0|           0.0|     5.1|    30.69|            ATL|               EWR|         False|     True|  4|  5| 24|136.0|               7.0|                 13.0|              0.0|         1.0|   1.0|   5.0|     (15,[7],[1.0])|       (15,[13],[1.0])|     (1,[0],[1.0])|    (1,[],[])|(6,[1],[1.0])|(7,[5],[1.0])|(50,[1,3,4,12,33,...|\n",
            "|        0.0|             1464.0|           0.0|     5.1|    30.69|            ATL|               MIA|         False|     True|  2|  5| 22|113.0|               7.0|                  8.0|              0.0|         1.0|   3.0|   5.0|     (15,[7],[1.0])|        (15,[8],[1.0])|     (1,[0],[1.0])|    (1,[],[])|(6,[3],[1.0])|(7,[5],[1.0])|(50,[1,3,4,12,28,...|\n",
            "|        0.0|             1464.0|           0.0|     5.1|    30.69|            ATL|               MIA|         False|     True|  2|  5| 22|113.0|               7.0|                  8.0|              0.0|         1.0|   3.0|   5.0|     (15,[7],[1.0])|        (15,[8],[1.0])|     (1,[0],[1.0])|    (1,[],[])|(6,[3],[1.0])|(7,[5],[1.0])|(50,[1,3,4,12,28,...|\n",
            "|        0.0|             1464.0|           0.0|     5.1|    30.69|            ATL|               MIA|         False|     True|  3|  5| 23|113.0|               7.0|                  8.0|              0.0|         1.0|   0.0|   5.0|     (15,[7],[1.0])|        (15,[8],[1.0])|     (1,[0],[1.0])|    (1,[],[])|(6,[0],[1.0])|(7,[5],[1.0])|(50,[1,3,4,12,28,...|\n",
            "|        0.0|             1464.0|           0.0|     5.1|    30.69|            ATL|               MIA|         False|     True|  4|  5| 24|113.0|               7.0|                  8.0|              0.0|         1.0|   1.0|   5.0|     (15,[7],[1.0])|        (15,[8],[1.0])|     (1,[0],[1.0])|    (1,[],[])|(6,[1],[1.0])|(7,[5],[1.0])|(50,[1,3,4,12,28,...|\n",
            "|        0.0|             1464.0|           0.0|     5.1|    30.69|            ATL|               MIA|         False|     True|  7|  5| 27|113.0|               7.0|                  8.0|              0.0|         1.0|   5.0|   5.0|     (15,[7],[1.0])|        (15,[8],[1.0])|     (1,[0],[1.0])|    (1,[],[])|(6,[5],[1.0])|(7,[5],[1.0])|(50,[1,3,4,12,28,...|\n",
            "|        0.0|             1464.0|           0.0|     5.1|    30.69|            ATL|               PHL|         False|     True|  4|  5| 17|123.0|               7.0|                  9.0|              0.0|         1.0|   1.0|   5.0|     (15,[7],[1.0])|        (15,[9],[1.0])|     (1,[0],[1.0])|    (1,[],[])|(6,[1],[1.0])|(7,[5],[1.0])|(50,[1,3,4,12,29,...|\n",
            "|        0.0|             1464.0|           0.0|     5.1|    30.69|            ATL|               PHL|         False|     True|  5|  5| 18|123.0|               7.0|                  9.0|              0.0|         1.0|   2.0|   5.0|     (15,[7],[1.0])|        (15,[9],[1.0])|     (1,[0],[1.0])|    (1,[],[])|(6,[2],[1.0])|(7,[5],[1.0])|(50,[1,3,4,12,29,...|\n",
            "|        0.0|             1464.0|           0.0|     5.1|    30.69|            ATL|               PHL|         False|     True|  5|  5| 25|123.0|               7.0|                  9.0|              0.0|         1.0|   2.0|   5.0|     (15,[7],[1.0])|        (15,[9],[1.0])|     (1,[0],[1.0])|    (1,[],[])|(6,[2],[1.0])|(7,[5],[1.0])|(50,[1,3,4,12,29,...|\n",
            "|        0.0|             1464.0|           0.0|     5.1|    30.69|            BOS|               MIA|         False|     True|  1|  5| 14|200.0|               2.0|                  8.0|              0.0|         1.0|   6.0|   5.0|     (15,[2],[1.0])|        (15,[8],[1.0])|     (1,[0],[1.0])|    (1,[],[])|    (6,[],[])|(7,[5],[1.0])|(50,[1,3,4,7,28,3...|\n",
            "|        0.0|             1464.0|           0.0|     5.1|    30.69|            BOS|               MIA|         False|     True|  1|  5| 21|203.0|               2.0|                  8.0|              0.0|         1.0|   6.0|   5.0|     (15,[2],[1.0])|        (15,[8],[1.0])|     (1,[0],[1.0])|    (1,[],[])|    (6,[],[])|(7,[5],[1.0])|(50,[1,3,4,7,28,3...|\n",
            "|        0.0|             1464.0|           0.0|     5.1|    30.69|            BOS|               MIA|         False|     True|  2|  4|  8|200.0|               2.0|                  8.0|              0.0|         1.0|   3.0|   7.0|     (15,[2],[1.0])|        (15,[8],[1.0])|     (1,[0],[1.0])|    (1,[],[])|(6,[3],[1.0])|    (7,[],[])|(50,[1,3,4,7,28,3...|\n",
            "|        0.0|             1464.0|           0.0|     5.1|    30.69|            BOS|               MIA|         False|     True|  2|  5| 15|200.0|               2.0|                  8.0|              0.0|         1.0|   3.0|   5.0|     (15,[2],[1.0])|        (15,[8],[1.0])|     (1,[0],[1.0])|    (1,[],[])|(6,[3],[1.0])|(7,[5],[1.0])|(50,[1,3,4,7,28,3...|\n",
            "|        0.0|             1464.0|           0.0|     5.1|    30.69|            BOS|               MIA|         False|     True|  2|  5| 22|203.0|               2.0|                  8.0|              0.0|         1.0|   3.0|   5.0|     (15,[2],[1.0])|        (15,[8],[1.0])|     (1,[0],[1.0])|    (1,[],[])|(6,[3],[1.0])|(7,[5],[1.0])|(50,[1,3,4,7,28,3...|\n",
            "|        0.0|             1464.0|           0.0|     5.1|    30.69|            BOS|               MIA|         False|     True|  2|  5| 29|203.0|               2.0|                  8.0|              0.0|         1.0|   3.0|   5.0|     (15,[2],[1.0])|        (15,[8],[1.0])|     (1,[0],[1.0])|    (1,[],[])|(6,[3],[1.0])|(7,[5],[1.0])|(50,[1,3,4,7,28,3...|\n",
            "|        0.0|             1464.0|           0.0|     5.1|    30.69|            BOS|               MIA|         False|     True|  3|  4| 10|200.0|               2.0|                  8.0|              0.0|         1.0|   0.0|   7.0|     (15,[2],[1.0])|        (15,[8],[1.0])|     (1,[0],[1.0])|    (1,[],[])|(6,[0],[1.0])|    (7,[],[])|(50,[1,3,4,7,28,3...|\n",
            "|        0.0|             1464.0|           0.0|     5.1|    30.69|            BOS|               MIA|         False|     True|  3|  5| 16|200.0|               2.0|                  8.0|              0.0|         1.0|   0.0|   5.0|     (15,[2],[1.0])|        (15,[8],[1.0])|     (1,[0],[1.0])|    (1,[],[])|(6,[0],[1.0])|(7,[5],[1.0])|(50,[1,3,4,7,28,3...|\n",
            "|        0.0|             1464.0|           0.0|     5.1|    30.69|            BOS|               MIA|         False|     True|  3|  5| 23|203.0|               2.0|                  8.0|              0.0|         1.0|   0.0|   5.0|     (15,[2],[1.0])|        (15,[8],[1.0])|     (1,[0],[1.0])|    (1,[],[])|(6,[0],[1.0])|(7,[5],[1.0])|(50,[1,3,4,7,28,3...|\n",
            "+-----------+-------------------+--------------+--------+---------+---------------+------------------+--------------+---------+---+---+---+-----+------------------+---------------------+-----------------+------------+------+------+-------------------+----------------------+------------------+-------------+-------------+-------------+--------------------+\n",
            "only showing top 20 rows\n",
            "\n"
          ]
        }
      ],
      "source": [
        "# Fit the pipeline to the train set and run it through.\n",
        "cat_feats_si = [f + '_si' for f in cat_feats + ['DOW'] +['MOY']]\n",
        "cat_feats_ohe = [f + '_ohe' for f in cat_feats + ['DOW'] + ['MOY']]\n",
        "num_feats_p = num_feats + ['DTF'] + ['tD_p']\n",
        "fe_pipeline = Pipeline(stages = [Imputer(strategy = 'median',\n",
        "                                         inputCols = num_feats_p,\n",
        "                                         outputCols = num_feats_p),\n",
        "                                 StringIndexer(inputCols = cat_feats + ['DOW'] + ['MOY'],\n",
        "                                               outputCols = cat_feats_si),\n",
        "                                 OneHotEncoder(inputCols = cat_feats_si,\n",
        "                                               outputCols = cat_feats_ohe),\n",
        "                                 VectorAssembler(inputCols = (num_feats_p + cat_feats_ohe),\n",
        "                                                 outputCol = 'features')]).fit(train_df)\n",
        "\n",
        "train_fe = fe_pipeline.transform(train_df)\n",
        "train_fe.show()"
      ]
    },
    {
      "cell_type": "code",
      "execution_count": 14,
      "metadata": {
        "colab": {
          "base_uri": "https://localhost:8080/"
        },
        "id": "MEUxGhRx8hZF",
        "outputId": "ed5786b1-7024-497b-baad-78bef2b5d755"
      },
      "outputs": [
        {
          "output_type": "stream",
          "name": "stdout",
          "text": [
            "+-----------+-------------------+--------------+--------+---------+---------------+------------------+--------------+---------+---+---+---+-----+------------------+---------------------+-----------------+------------+------+------+-------------------+----------------------+------------------+-------------+-------------+-------------+--------------------+\n",
            "|elapsedDays|totalTravelDistance|seatsRemaining|baseFare|totalFare|startingAirport|destinationAirport|isBasicEconomy|isNonstop|DOW|MOY|DTF| tD_p|startingAirport_si|destinationAirport_si|isBasicEconomy_si|isNonstop_si|DOW_si|MOY_si|startingAirport_ohe|destinationAirport_ohe|isBasicEconomy_ohe|isNonstop_ohe|      DOW_ohe|      MOY_ohe|            features|\n",
            "+-----------+-------------------+--------------+--------+---------+---------------+------------------+--------------+---------+---+---+---+-----+------------------+---------------------+-----------------+------------+------+------+-------------------+----------------------+------------------+-------------+-------------+-------------+--------------------+\n",
            "|        0.0|             1464.0|           0.0|     5.1|    30.69|            ATL|               EWR|         False|     True|  4|  5| 24|131.0|               7.0|                 13.0|              0.0|         1.0|   1.0|   5.0|     (15,[7],[1.0])|       (15,[13],[1.0])|     (1,[0],[1.0])|    (1,[],[])|(6,[1],[1.0])|(7,[5],[1.0])|(50,[1,3,4,12,33,...|\n",
            "|        0.0|             1464.0|           0.0|     5.1|    30.69|            ATL|               MIA|         False|     True|  2|  5| 29|113.0|               7.0|                  8.0|              0.0|         1.0|   3.0|   5.0|     (15,[7],[1.0])|        (15,[8],[1.0])|     (1,[0],[1.0])|    (1,[],[])|(6,[3],[1.0])|(7,[5],[1.0])|(50,[1,3,4,12,28,...|\n",
            "|        0.0|             1464.0|           0.0|     5.1|    30.69|            ATL|               MIA|         False|     True|  3|  5| 30|113.0|               7.0|                  8.0|              0.0|         1.0|   0.0|   5.0|     (15,[7],[1.0])|        (15,[8],[1.0])|     (1,[0],[1.0])|    (1,[],[])|(6,[0],[1.0])|(7,[5],[1.0])|(50,[1,3,4,12,28,...|\n",
            "|        0.0|             1464.0|           0.0|     5.1|    30.69|            ATL|               MIA|         False|     True|  4|  5| 24|113.0|               7.0|                  8.0|              0.0|         1.0|   1.0|   5.0|     (15,[7],[1.0])|        (15,[8],[1.0])|     (1,[0],[1.0])|    (1,[],[])|(6,[1],[1.0])|(7,[5],[1.0])|(50,[1,3,4,12,28,...|\n",
            "|        0.0|             1464.0|           0.0|     5.1|    30.69|            ATL|               PHL|         False|     True|  4|  5| 24|123.0|               7.0|                  9.0|              0.0|         1.0|   1.0|   5.0|     (15,[7],[1.0])|        (15,[9],[1.0])|     (1,[0],[1.0])|    (1,[],[])|(6,[1],[1.0])|(7,[5],[1.0])|(50,[1,3,4,12,29,...|\n",
            "|        0.0|             1464.0|           0.0|     5.1|    30.69|            BOS|               MIA|         False|     True|  2|  4|  9|200.0|               2.0|                  8.0|              0.0|         1.0|   3.0|   7.0|     (15,[2],[1.0])|        (15,[8],[1.0])|     (1,[0],[1.0])|    (1,[],[])|(6,[3],[1.0])|    (7,[],[])|(50,[1,3,4,7,28,3...|\n",
            "|        0.0|             1464.0|           0.0|     5.1|    30.69|            BOS|               MIA|         False|     True|  3|  4|  9|200.0|               2.0|                  8.0|              0.0|         1.0|   0.0|   7.0|     (15,[2],[1.0])|        (15,[8],[1.0])|     (1,[0],[1.0])|    (1,[],[])|(6,[0],[1.0])|    (7,[],[])|(50,[1,3,4,7,28,3...|\n",
            "|        0.0|             1464.0|           0.0|     5.1|    30.69|            BOS|               MIA|         False|     True|  4|  5| 17|200.0|               2.0|                  8.0|              0.0|         1.0|   1.0|   5.0|     (15,[2],[1.0])|        (15,[8],[1.0])|     (1,[0],[1.0])|    (1,[],[])|(6,[1],[1.0])|(7,[5],[1.0])|(50,[1,3,4,7,28,3...|\n",
            "|        0.0|             1464.0|           0.0|     5.1|    30.69|            BOS|               MIA|         False|     True|  4|  5| 24|203.0|               2.0|                  8.0|              0.0|         1.0|   1.0|   5.0|     (15,[2],[1.0])|        (15,[8],[1.0])|     (1,[0],[1.0])|    (1,[],[])|(6,[1],[1.0])|(7,[5],[1.0])|(50,[1,3,4,7,28,3...|\n",
            "|        0.0|             1464.0|           0.0|     5.1|    30.69|            BOS|               MIA|         False|     True|  7|  5| 27|203.0|               2.0|                  8.0|              0.0|         1.0|   5.0|   5.0|     (15,[2],[1.0])|        (15,[8],[1.0])|     (1,[0],[1.0])|    (1,[],[])|(6,[5],[1.0])|(7,[5],[1.0])|(50,[1,3,4,7,28,3...|\n",
            "|        0.0|             1464.0|           0.0|     5.1|    30.69|            EWR|               ATL|         False|     True|  3|  4| 10|133.0|              13.0|                  7.0|              0.0|         1.0|   0.0|   7.0|    (15,[13],[1.0])|        (15,[7],[1.0])|     (1,[0],[1.0])|    (1,[],[])|(6,[0],[1.0])|    (7,[],[])|(50,[1,3,4,18,27,...|\n",
            "|        0.0|             1464.0|           0.0|     5.1|    30.69|            EWR|               ATL|         False|     True|  3|  5| 16|133.0|              13.0|                  7.0|              0.0|         1.0|   0.0|   5.0|    (15,[13],[1.0])|        (15,[7],[1.0])|     (1,[0],[1.0])|    (1,[],[])|(6,[0],[1.0])|(7,[5],[1.0])|(50,[1,3,4,18,27,...|\n",
            "|        0.0|             1464.0|           0.0|     5.1|    30.69|            EWR|               ATL|         False|     True|  7|  5| 20|130.0|              13.0|                  7.0|              0.0|         1.0|   5.0|   5.0|    (15,[13],[1.0])|        (15,[7],[1.0])|     (1,[0],[1.0])|    (1,[],[])|(6,[5],[1.0])|(7,[5],[1.0])|(50,[1,3,4,18,27,...|\n",
            "|        0.0|             1464.0|           0.0|     5.1|    30.69|            EWR|               MIA|         False|     True|  1|  5| 14|183.0|              13.0|                  8.0|              0.0|         1.0|   6.0|   5.0|    (15,[13],[1.0])|        (15,[8],[1.0])|     (1,[0],[1.0])|    (1,[],[])|    (6,[],[])|(7,[5],[1.0])|(50,[1,3,4,18,28,...|\n",
            "|        0.0|             1464.0|           0.0|     5.1|    30.69|            EWR|               MIA|         False|     True|  1|  5| 21|183.0|              13.0|                  8.0|              0.0|         1.0|   6.0|   5.0|    (15,[13],[1.0])|        (15,[8],[1.0])|     (1,[0],[1.0])|    (1,[],[])|    (6,[],[])|(7,[5],[1.0])|(50,[1,3,4,18,28,...|\n",
            "|        0.0|             1464.0|           0.0|     5.1|    30.69|            EWR|               MIA|         False|     True|  1|  5| 28|183.0|              13.0|                  8.0|              0.0|         1.0|   6.0|   5.0|    (15,[13],[1.0])|        (15,[8],[1.0])|     (1,[0],[1.0])|    (1,[],[])|    (6,[],[])|(7,[5],[1.0])|(50,[1,3,4,18,28,...|\n",
            "|        0.0|             1464.0|           0.0|     5.1|    30.69|            EWR|               MIA|         False|     True|  2|  5| 29|183.0|              13.0|                  8.0|              0.0|         1.0|   3.0|   5.0|    (15,[13],[1.0])|        (15,[8],[1.0])|     (1,[0],[1.0])|    (1,[],[])|(6,[3],[1.0])|(7,[5],[1.0])|(50,[1,3,4,18,28,...|\n",
            "|        0.0|             1464.0|           0.0|     5.1|    30.69|            EWR|               MIA|         False|     True|  3|  4| 10|183.0|              13.0|                  8.0|              0.0|         1.0|   0.0|   7.0|    (15,[13],[1.0])|        (15,[8],[1.0])|     (1,[0],[1.0])|    (1,[],[])|(6,[0],[1.0])|    (7,[],[])|(50,[1,3,4,18,28,...|\n",
            "|        0.0|             1464.0|           0.0|     5.1|    30.69|            EWR|               MIA|         False|     True|  4|  4| 10|183.0|              13.0|                  8.0|              0.0|         1.0|   1.0|   7.0|    (15,[13],[1.0])|        (15,[8],[1.0])|     (1,[0],[1.0])|    (1,[],[])|(6,[1],[1.0])|    (7,[],[])|(50,[1,3,4,18,28,...|\n",
            "|        0.0|             1464.0|           0.0|     5.1|    30.69|            LAX|               OAK|         False|     True|  3|  5| 23| 83.0|               0.0|                 14.0|              0.0|         1.0|   0.0|   5.0|     (15,[0],[1.0])|       (15,[14],[1.0])|     (1,[0],[1.0])|    (1,[],[])|(6,[0],[1.0])|(7,[5],[1.0])|(50,[1,3,4,5,34,3...|\n",
            "+-----------+-------------------+--------------+--------+---------+---------------+------------------+--------------+---------+---+---+---+-----+------------------+---------------------+-----------------+------------+------+------+-------------------+----------------------+------------------+-------------+-------------+-------------+--------------------+\n",
            "only showing top 20 rows\n",
            "\n"
          ]
        }
      ],
      "source": [
        "# Run the test set through the pipeline.\n",
        "test_fe = fe_pipeline.transform(test_df)\n",
        "test_fe.show()"
      ]
    },
    {
      "cell_type": "markdown",
      "metadata": {
        "id": "gzjuxRv2PK7k"
      },
      "source": [
        "## Baseline: Mean (Optimal Trivial Predictor Relative to MSE)\n",
        "(Constant result)"
      ]
    },
    {
      "cell_type": "code",
      "execution_count": 15,
      "metadata": {
        "id": "1DweT-pRAI3Q"
      },
      "outputs": [],
      "source": [
        "# Choose target: either 'baseFare' or 'totalFare'.\n",
        "target_choice = 'baseFare'"
      ]
    },
    {
      "cell_type": "code",
      "execution_count": 16,
      "metadata": {
        "colab": {
          "base_uri": "https://localhost:8080/"
        },
        "id": "qqsJME6DPN0f",
        "outputId": "16f3a13f-8e5c-4bf4-ec0e-d7cc150ddc93"
      },
      "outputs": [
        {
          "output_type": "execute_result",
          "data": {
            "text/plain": [
              "Row(avg(SE)=33563.405918473094)"
            ]
          },
          "metadata": {},
          "execution_count": 16
        }
      ],
      "source": [
        "# Baseline train evaluation.\n",
        "train_tm = train_fe.agg({target_choice: 'mean'}).first().asDict()['avg(baseFare)']\n",
        "train_SE_tp = train_fe.select(((train_fe[target_choice] - F.lit(train_tm)) ** 2).alias('SE'))\n",
        "train_MSE_tp = train_SE_tp.agg({'SE': 'mean'}).first()\n",
        "train_MSE_tp"
      ]
    },
    {
      "cell_type": "code",
      "execution_count": 17,
      "metadata": {
        "id": "C0RquIpsdB3l",
        "colab": {
          "base_uri": "https://localhost:8080/"
        },
        "outputId": "4415a154-9e94-4159-bc1f-76e4da50378b"
      },
      "outputs": [
        {
          "output_type": "execute_result",
          "data": {
            "text/plain": [
              "Row(avg(SE)=33542.30131842294)"
            ]
          },
          "metadata": {},
          "execution_count": 17
        }
      ],
      "source": [
        "# Baseline test evaluation.\n",
        "test_SE_tp = test_fe.select(((test_fe[target_choice] - F.lit(train_tm)) ** 2).alias('SE'))\n",
        "test_MSE_tp = test_SE_tp.agg({'SE': 'mean'}).first()\n",
        "test_MSE_tp"
      ]
    },
    {
      "cell_type": "markdown",
      "metadata": {
        "id": "uSp0CZHvd4zG"
      },
      "source": [
        "## Linear Regression (~3 hr)"
      ]
    },
    {
      "cell_type": "code",
      "execution_count": 18,
      "metadata": {
        "id": "T2iYB8xPbBtG",
        "colab": {
          "base_uri": "https://localhost:8080/"
        },
        "outputId": "0cb5402d-4550-42a0-9455-932c6e00d8d5"
      },
      "outputs": [
        {
          "output_type": "stream",
          "name": "stdout",
          "text": [
            "+-----------+-------------------+--------------+--------+---------+---------------+------------------+--------------+---------+---+---+---+-----+------------------+---------------------+-----------------+------------+------+------+-------------------+----------------------+------------------+-------------+-------------+-------------+--------------------+------------------+\n",
            "|elapsedDays|totalTravelDistance|seatsRemaining|baseFare|totalFare|startingAirport|destinationAirport|isBasicEconomy|isNonstop|DOW|MOY|DTF| tD_p|startingAirport_si|destinationAirport_si|isBasicEconomy_si|isNonstop_si|DOW_si|MOY_si|startingAirport_ohe|destinationAirport_ohe|isBasicEconomy_ohe|isNonstop_ohe|      DOW_ohe|      MOY_ohe|            features|        prediction|\n",
            "+-----------+-------------------+--------------+--------+---------+---------------+------------------+--------------+---------+---+---+---+-----+------------------+---------------------+-----------------+------------+------+------+-------------------+----------------------+------------------+-------------+-------------+-------------+--------------------+------------------+\n",
            "|        0.0|             1464.0|           0.0|     5.1|    30.69|            ATL|               EWR|         False|     True|  3|  5| 23|131.0|               7.0|                 13.0|              0.0|         1.0|   0.0|   5.0|     (15,[7],[1.0])|       (15,[13],[1.0])|     (1,[0],[1.0])|    (1,[],[])|(6,[0],[1.0])|(7,[5],[1.0])|(50,[1,3,4,12,33,...| 152.5437894255563|\n",
            "|        0.0|             1464.0|           0.0|     5.1|    30.69|            ATL|               EWR|         False|     True|  4|  5| 17|131.0|               7.0|                 13.0|              0.0|         1.0|   1.0|   5.0|     (15,[7],[1.0])|       (15,[13],[1.0])|     (1,[0],[1.0])|    (1,[],[])|(6,[1],[1.0])|(7,[5],[1.0])|(50,[1,3,4,12,33,...|161.59040838638833|\n",
            "|        0.0|             1464.0|           0.0|     5.1|    30.69|            ATL|               EWR|         False|     True|  4|  5| 24|136.0|               7.0|                 13.0|              0.0|         1.0|   1.0|   5.0|     (15,[7],[1.0])|       (15,[13],[1.0])|     (1,[0],[1.0])|    (1,[],[])|(6,[1],[1.0])|(7,[5],[1.0])|(50,[1,3,4,12,33,...|157.34764512102151|\n",
            "|        0.0|             1464.0|           0.0|     5.1|    30.69|            ATL|               MIA|         False|     True|  2|  5| 22|113.0|               7.0|                  8.0|              0.0|         1.0|   3.0|   5.0|     (15,[7],[1.0])|        (15,[8],[1.0])|     (1,[0],[1.0])|    (1,[],[])|(6,[3],[1.0])|(7,[5],[1.0])|(50,[1,3,4,12,28,...|159.72299506060887|\n",
            "|        0.0|             1464.0|           0.0|     5.1|    30.69|            ATL|               MIA|         False|     True|  2|  5| 22|113.0|               7.0|                  8.0|              0.0|         1.0|   3.0|   5.0|     (15,[7],[1.0])|        (15,[8],[1.0])|     (1,[0],[1.0])|    (1,[],[])|(6,[3],[1.0])|(7,[5],[1.0])|(50,[1,3,4,12,28,...|159.72299506060887|\n",
            "|        0.0|             1464.0|           0.0|     5.1|    30.69|            ATL|               MIA|         False|     True|  3|  5| 23|113.0|               7.0|                  8.0|              0.0|         1.0|   0.0|   5.0|     (15,[7],[1.0])|        (15,[8],[1.0])|     (1,[0],[1.0])|    (1,[],[])|(6,[0],[1.0])|(7,[5],[1.0])|(50,[1,3,4,12,28,...| 114.5027055384719|\n",
            "|        0.0|             1464.0|           0.0|     5.1|    30.69|            ATL|               MIA|         False|     True|  4|  5| 24|113.0|               7.0|                  8.0|              0.0|         1.0|   1.0|   5.0|     (15,[7],[1.0])|        (15,[8],[1.0])|     (1,[0],[1.0])|    (1,[],[])|(6,[1],[1.0])|(7,[5],[1.0])|(50,[1,3,4,12,28,...|118.95010141145383|\n",
            "|        0.0|             1464.0|           0.0|     5.1|    30.69|            ATL|               MIA|         False|     True|  7|  5| 27|113.0|               7.0|                  8.0|              0.0|         1.0|   5.0|   5.0|     (15,[7],[1.0])|        (15,[8],[1.0])|     (1,[0],[1.0])|    (1,[],[])|(6,[5],[1.0])|(7,[5],[1.0])|(50,[1,3,4,12,28,...|142.61372884387688|\n",
            "|        0.0|             1464.0|           0.0|     5.1|    30.69|            ATL|               PHL|         False|     True|  4|  5| 17|123.0|               7.0|                  9.0|              0.0|         1.0|   1.0|   5.0|     (15,[7],[1.0])|        (15,[9],[1.0])|     (1,[0],[1.0])|    (1,[],[])|(6,[1],[1.0])|(7,[5],[1.0])|(50,[1,3,4,12,29,...| 189.5803861356536|\n",
            "|        0.0|             1464.0|           0.0|     5.1|    30.69|            ATL|               PHL|         False|     True|  5|  5| 18|123.0|               7.0|                  9.0|              0.0|         1.0|   2.0|   5.0|     (15,[7],[1.0])|        (15,[9],[1.0])|     (1,[0],[1.0])|    (1,[],[])|(6,[2],[1.0])|(7,[5],[1.0])|(50,[1,3,4,12,29,...|224.42813803185598|\n",
            "|        0.0|             1464.0|           0.0|     5.1|    30.69|            ATL|               PHL|         False|     True|  5|  5| 25|123.0|               7.0|                  9.0|              0.0|         1.0|   2.0|   5.0|     (15,[7],[1.0])|        (15,[9],[1.0])|     (1,[0],[1.0])|    (1,[],[])|(6,[2],[1.0])|(7,[5],[1.0])|(50,[1,3,4,12,29,...|219.82891494400587|\n",
            "|        0.0|             1464.0|           0.0|     5.1|    30.69|            BOS|               MIA|         False|     True|  1|  5| 14|200.0|               2.0|                  8.0|              0.0|         1.0|   6.0|   5.0|     (15,[2],[1.0])|        (15,[8],[1.0])|     (1,[0],[1.0])|    (1,[],[])|    (6,[],[])|(7,[5],[1.0])|(50,[1,3,4,7,28,3...| 199.4658479561533|\n",
            "|        0.0|             1464.0|           0.0|     5.1|    30.69|            BOS|               MIA|         False|     True|  1|  5| 21|203.0|               2.0|                  8.0|              0.0|         1.0|   6.0|   5.0|     (15,[2],[1.0])|        (15,[8],[1.0])|     (1,[0],[1.0])|    (1,[],[])|    (6,[],[])|(7,[5],[1.0])|(50,[1,3,4,7,28,3...|195.08050076179316|\n",
            "|        0.0|             1464.0|           0.0|     5.1|    30.69|            BOS|               MIA|         False|     True|  2|  4|  8|200.0|               2.0|                  8.0|              0.0|         1.0|   3.0|   7.0|     (15,[2],[1.0])|        (15,[8],[1.0])|     (1,[0],[1.0])|    (1,[],[])|(6,[3],[1.0])|    (7,[],[])|(50,[1,3,4,7,28,3...|151.19505619221246|\n",
            "|        0.0|             1464.0|           0.0|     5.1|    30.69|            BOS|               MIA|         False|     True|  2|  5| 15|200.0|               2.0|                  8.0|              0.0|         1.0|   3.0|   5.0|     (15,[2],[1.0])|        (15,[8],[1.0])|     (1,[0],[1.0])|    (1,[],[])|(6,[3],[1.0])|(7,[5],[1.0])|(50,[1,3,4,7,28,3...|154.10847441948874|\n",
            "|        0.0|             1464.0|           0.0|     5.1|    30.69|            BOS|               MIA|         False|     True|  2|  5| 22|203.0|               2.0|                  8.0|              0.0|         1.0|   3.0|   5.0|     (15,[2],[1.0])|        (15,[8],[1.0])|     (1,[0],[1.0])|    (1,[],[])|(6,[3],[1.0])|(7,[5],[1.0])|(50,[1,3,4,7,28,3...| 149.7231272251286|\n",
            "|        0.0|             1464.0|           0.0|     5.1|    30.69|            BOS|               MIA|         False|     True|  2|  5| 29|203.0|               2.0|                  8.0|              0.0|         1.0|   3.0|   5.0|     (15,[2],[1.0])|        (15,[8],[1.0])|     (1,[0],[1.0])|    (1,[],[])|(6,[3],[1.0])|(7,[5],[1.0])|(50,[1,3,4,7,28,3...| 145.1239041372785|\n",
            "|        0.0|             1464.0|           0.0|     5.1|    30.69|            BOS|               MIA|         False|     True|  3|  4| 10|200.0|               2.0|                  8.0|              0.0|         1.0|   0.0|   7.0|     (15,[2],[1.0])|        (15,[8],[1.0])|     (1,[0],[1.0])|    (1,[],[])|(6,[0],[1.0])|    (7,[],[])|(50,[1,3,4,7,28,3...|105.31773480038261|\n",
            "|        0.0|             1464.0|           0.0|     5.1|    30.69|            BOS|               MIA|         False|     True|  3|  5| 16|200.0|               2.0|                  8.0|              0.0|         1.0|   0.0|   5.0|     (15,[2],[1.0])|        (15,[8],[1.0])|     (1,[0],[1.0])|    (1,[],[])|(6,[0],[1.0])|(7,[5],[1.0])|(50,[1,3,4,7,28,3...|108.88818489735175|\n",
            "|        0.0|             1464.0|           0.0|     5.1|    30.69|            BOS|               MIA|         False|     True|  3|  5| 23|203.0|               2.0|                  8.0|              0.0|         1.0|   0.0|   5.0|     (15,[2],[1.0])|        (15,[8],[1.0])|     (1,[0],[1.0])|    (1,[],[])|(6,[0],[1.0])|(7,[5],[1.0])|(50,[1,3,4,7,28,3...|104.50283770299163|\n",
            "+-----------+-------------------+--------------+--------+---------+---------------+------------------+--------------+---------+---+---+---+-----+------------------+---------------------+-----------------+------------+------+------+-------------------+----------------------+------------------+-------------+-------------+-------------+--------------------+------------------+\n",
            "only showing top 20 rows\n",
            "\n"
          ]
        }
      ],
      "source": [
        "lr = LinearRegression(featuresCol = 'features', labelCol = target_choice).fit(train_fe)\n",
        "train_lr = lr.transform(train_fe)\n",
        "train_lr.show()"
      ]
    },
    {
      "cell_type": "code",
      "execution_count": 19,
      "metadata": {
        "id": "70OHPIkemOGL",
        "colab": {
          "base_uri": "https://localhost:8080/"
        },
        "outputId": "867e2eab-ad0c-48ce-8c68-389d1fd23b47"
      },
      "outputs": [
        {
          "output_type": "execute_result",
          "data": {
            "text/plain": [
              "Row(avg(SE)=18380.036029399143)"
            ]
          },
          "metadata": {},
          "execution_count": 19
        }
      ],
      "source": [
        "train_SE_lr = train_lr.select(((train_lr[target_choice] - train_lr['prediction']) ** 2).alias('SE'))\n",
        "train_MSE_lr = train_SE_lr.agg({'SE': 'mean'}).first()\n",
        "train_MSE_lr"
      ]
    },
    {
      "cell_type": "code",
      "execution_count": 20,
      "metadata": {
        "id": "Jitknv_-3RX4",
        "colab": {
          "base_uri": "https://localhost:8080/"
        },
        "outputId": "9c6a8fc2-9206-4a7c-94c2-5fecd5e453c2"
      },
      "outputs": [
        {
          "output_type": "execute_result",
          "data": {
            "text/plain": [
              "Row(avg(SE)=18365.104152107648)"
            ]
          },
          "metadata": {},
          "execution_count": 20
        }
      ],
      "source": [
        "# Evaluate performance on test set.\n",
        "test_lr = lr.transform(test_fe)\n",
        "test_SE_lr = test_lr.select(((test_lr[target_choice] - test_lr['prediction']) ** 2).alias('SE'))\n",
        "test_MSE_lr = test_SE_lr.agg({'SE': 'mean'}).first()\n",
        "test_MSE_lr"
      ]
    },
    {
      "cell_type": "markdown",
      "metadata": {
        "id": "5iR3oE7Hd8Y5"
      },
      "source": [
        "## Random Forest Regressor (~4 hr 30 min)"
      ]
    },
    {
      "cell_type": "code",
      "execution_count": 21,
      "metadata": {
        "id": "ajeDPOb3hBb0",
        "colab": {
          "base_uri": "https://localhost:8080/"
        },
        "outputId": "64a67abe-75ad-44d5-bf7d-98bc7a4d7d1f"
      },
      "outputs": [
        {
          "output_type": "stream",
          "name": "stdout",
          "text": [
            "+-----------+-------------------+--------------+--------+---------+---------------+------------------+--------------+---------+---+---+---+-----+------------------+---------------------+-----------------+------------+------+------+-------------------+----------------------+------------------+-------------+-------------+-------------+--------------------+-----------------+\n",
            "|elapsedDays|totalTravelDistance|seatsRemaining|baseFare|totalFare|startingAirport|destinationAirport|isBasicEconomy|isNonstop|DOW|MOY|DTF| tD_p|startingAirport_si|destinationAirport_si|isBasicEconomy_si|isNonstop_si|DOW_si|MOY_si|startingAirport_ohe|destinationAirport_ohe|isBasicEconomy_ohe|isNonstop_ohe|      DOW_ohe|      MOY_ohe|            features|       prediction|\n",
            "+-----------+-------------------+--------------+--------+---------+---------------+------------------+--------------+---------+---+---+---+-----+------------------+---------------------+-----------------+------------+------+------+-------------------+----------------------+------------------+-------------+-------------+-------------+--------------------+-----------------+\n",
            "|        0.0|             1464.0|           0.0|     5.1|    30.69|            ATL|               EWR|         False|     True|  3|  5| 23|131.0|               7.0|                 13.0|              0.0|         1.0|   0.0|   5.0|     (15,[7],[1.0])|       (15,[13],[1.0])|     (1,[0],[1.0])|    (1,[],[])|(6,[0],[1.0])|(7,[5],[1.0])|(50,[1,3,4,12,33,...|88.93458328918895|\n",
            "|        0.0|             1464.0|           0.0|     5.1|    30.69|            ATL|               EWR|         False|     True|  4|  5| 17|131.0|               7.0|                 13.0|              0.0|         1.0|   1.0|   5.0|     (15,[7],[1.0])|       (15,[13],[1.0])|     (1,[0],[1.0])|    (1,[],[])|(6,[1],[1.0])|(7,[5],[1.0])|(50,[1,3,4,12,33,...|88.93458328918895|\n",
            "|        0.0|             1464.0|           0.0|     5.1|    30.69|            ATL|               EWR|         False|     True|  4|  5| 24|136.0|               7.0|                 13.0|              0.0|         1.0|   1.0|   5.0|     (15,[7],[1.0])|       (15,[13],[1.0])|     (1,[0],[1.0])|    (1,[],[])|(6,[1],[1.0])|(7,[5],[1.0])|(50,[1,3,4,12,33,...|88.93458328918895|\n",
            "|        0.0|             1464.0|           0.0|     5.1|    30.69|            ATL|               MIA|         False|     True|  2|  5| 22|113.0|               7.0|                  8.0|              0.0|         1.0|   3.0|   5.0|     (15,[7],[1.0])|        (15,[8],[1.0])|     (1,[0],[1.0])|    (1,[],[])|(6,[3],[1.0])|(7,[5],[1.0])|(50,[1,3,4,12,28,...|88.93458328918895|\n",
            "|        0.0|             1464.0|           0.0|     5.1|    30.69|            ATL|               MIA|         False|     True|  2|  5| 22|113.0|               7.0|                  8.0|              0.0|         1.0|   3.0|   5.0|     (15,[7],[1.0])|        (15,[8],[1.0])|     (1,[0],[1.0])|    (1,[],[])|(6,[3],[1.0])|(7,[5],[1.0])|(50,[1,3,4,12,28,...|88.93458328918895|\n",
            "|        0.0|             1464.0|           0.0|     5.1|    30.69|            ATL|               MIA|         False|     True|  3|  5| 23|113.0|               7.0|                  8.0|              0.0|         1.0|   0.0|   5.0|     (15,[7],[1.0])|        (15,[8],[1.0])|     (1,[0],[1.0])|    (1,[],[])|(6,[0],[1.0])|(7,[5],[1.0])|(50,[1,3,4,12,28,...|88.93458328918895|\n",
            "|        0.0|             1464.0|           0.0|     5.1|    30.69|            ATL|               MIA|         False|     True|  4|  5| 24|113.0|               7.0|                  8.0|              0.0|         1.0|   1.0|   5.0|     (15,[7],[1.0])|        (15,[8],[1.0])|     (1,[0],[1.0])|    (1,[],[])|(6,[1],[1.0])|(7,[5],[1.0])|(50,[1,3,4,12,28,...|88.93458328918895|\n",
            "|        0.0|             1464.0|           0.0|     5.1|    30.69|            ATL|               MIA|         False|     True|  7|  5| 27|113.0|               7.0|                  8.0|              0.0|         1.0|   5.0|   5.0|     (15,[7],[1.0])|        (15,[8],[1.0])|     (1,[0],[1.0])|    (1,[],[])|(6,[5],[1.0])|(7,[5],[1.0])|(50,[1,3,4,12,28,...|88.93458328918895|\n",
            "|        0.0|             1464.0|           0.0|     5.1|    30.69|            ATL|               PHL|         False|     True|  4|  5| 17|123.0|               7.0|                  9.0|              0.0|         1.0|   1.0|   5.0|     (15,[7],[1.0])|        (15,[9],[1.0])|     (1,[0],[1.0])|    (1,[],[])|(6,[1],[1.0])|(7,[5],[1.0])|(50,[1,3,4,12,29,...|88.93458328918895|\n",
            "|        0.0|             1464.0|           0.0|     5.1|    30.69|            ATL|               PHL|         False|     True|  5|  5| 18|123.0|               7.0|                  9.0|              0.0|         1.0|   2.0|   5.0|     (15,[7],[1.0])|        (15,[9],[1.0])|     (1,[0],[1.0])|    (1,[],[])|(6,[2],[1.0])|(7,[5],[1.0])|(50,[1,3,4,12,29,...|88.93458328918895|\n",
            "|        0.0|             1464.0|           0.0|     5.1|    30.69|            ATL|               PHL|         False|     True|  5|  5| 25|123.0|               7.0|                  9.0|              0.0|         1.0|   2.0|   5.0|     (15,[7],[1.0])|        (15,[9],[1.0])|     (1,[0],[1.0])|    (1,[],[])|(6,[2],[1.0])|(7,[5],[1.0])|(50,[1,3,4,12,29,...|88.93458328918895|\n",
            "|        0.0|             1464.0|           0.0|     5.1|    30.69|            BOS|               MIA|         False|     True|  1|  5| 14|200.0|               2.0|                  8.0|              0.0|         1.0|   6.0|   5.0|     (15,[2],[1.0])|        (15,[8],[1.0])|     (1,[0],[1.0])|    (1,[],[])|    (6,[],[])|(7,[5],[1.0])|(50,[1,3,4,7,28,3...| 89.5827920346659|\n",
            "|        0.0|             1464.0|           0.0|     5.1|    30.69|            BOS|               MIA|         False|     True|  1|  5| 21|203.0|               2.0|                  8.0|              0.0|         1.0|   6.0|   5.0|     (15,[2],[1.0])|        (15,[8],[1.0])|     (1,[0],[1.0])|    (1,[],[])|    (6,[],[])|(7,[5],[1.0])|(50,[1,3,4,7,28,3...|84.06919554908117|\n",
            "|        0.0|             1464.0|           0.0|     5.1|    30.69|            BOS|               MIA|         False|     True|  2|  4|  8|200.0|               2.0|                  8.0|              0.0|         1.0|   3.0|   7.0|     (15,[2],[1.0])|        (15,[8],[1.0])|     (1,[0],[1.0])|    (1,[],[])|(6,[3],[1.0])|    (7,[],[])|(50,[1,3,4,7,28,3...|92.22440714143349|\n",
            "|        0.0|             1464.0|           0.0|     5.1|    30.69|            BOS|               MIA|         False|     True|  2|  5| 15|200.0|               2.0|                  8.0|              0.0|         1.0|   3.0|   5.0|     (15,[2],[1.0])|        (15,[8],[1.0])|     (1,[0],[1.0])|    (1,[],[])|(6,[3],[1.0])|(7,[5],[1.0])|(50,[1,3,4,7,28,3...| 89.5827920346659|\n",
            "|        0.0|             1464.0|           0.0|     5.1|    30.69|            BOS|               MIA|         False|     True|  2|  5| 22|203.0|               2.0|                  8.0|              0.0|         1.0|   3.0|   5.0|     (15,[2],[1.0])|        (15,[8],[1.0])|     (1,[0],[1.0])|    (1,[],[])|(6,[3],[1.0])|(7,[5],[1.0])|(50,[1,3,4,7,28,3...|84.06919554908117|\n",
            "|        0.0|             1464.0|           0.0|     5.1|    30.69|            BOS|               MIA|         False|     True|  2|  5| 29|203.0|               2.0|                  8.0|              0.0|         1.0|   3.0|   5.0|     (15,[2],[1.0])|        (15,[8],[1.0])|     (1,[0],[1.0])|    (1,[],[])|(6,[3],[1.0])|(7,[5],[1.0])|(50,[1,3,4,7,28,3...|84.06919554908117|\n",
            "|        0.0|             1464.0|           0.0|     5.1|    30.69|            BOS|               MIA|         False|     True|  3|  4| 10|200.0|               2.0|                  8.0|              0.0|         1.0|   0.0|   7.0|     (15,[2],[1.0])|        (15,[8],[1.0])|     (1,[0],[1.0])|    (1,[],[])|(6,[0],[1.0])|    (7,[],[])|(50,[1,3,4,7,28,3...|92.22440714143349|\n",
            "|        0.0|             1464.0|           0.0|     5.1|    30.69|            BOS|               MIA|         False|     True|  3|  5| 16|200.0|               2.0|                  8.0|              0.0|         1.0|   0.0|   5.0|     (15,[2],[1.0])|        (15,[8],[1.0])|     (1,[0],[1.0])|    (1,[],[])|(6,[0],[1.0])|(7,[5],[1.0])|(50,[1,3,4,7,28,3...| 89.5827920346659|\n",
            "|        0.0|             1464.0|           0.0|     5.1|    30.69|            BOS|               MIA|         False|     True|  3|  5| 23|203.0|               2.0|                  8.0|              0.0|         1.0|   0.0|   5.0|     (15,[2],[1.0])|        (15,[8],[1.0])|     (1,[0],[1.0])|    (1,[],[])|(6,[0],[1.0])|(7,[5],[1.0])|(50,[1,3,4,7,28,3...|84.06919554908117|\n",
            "+-----------+-------------------+--------------+--------+---------+---------------+------------------+--------------+---------+---+---+---+-----+------------------+---------------------+-----------------+------------+------+------+-------------------+----------------------+------------------+-------------+-------------+-------------+--------------------+-----------------+\n",
            "only showing top 20 rows\n",
            "\n"
          ]
        }
      ],
      "source": [
        "rfr = RandomForestRegressor(featuresCol = 'features', labelCol = target_choice, seed = 42).fit(train_fe)\n",
        "train_rfr = rfr.transform(train_fe)\n",
        "train_rfr.show()"
      ]
    },
    {
      "cell_type": "code",
      "execution_count": 22,
      "metadata": {
        "id": "lcYoZZdT1o5H",
        "colab": {
          "base_uri": "https://localhost:8080/"
        },
        "outputId": "e2cc025d-0d34-4f03-a789-6d32ed24266f"
      },
      "outputs": [
        {
          "output_type": "execute_result",
          "data": {
            "text/plain": [
              "Row(avg(SE)=18900.683195160724)"
            ]
          },
          "metadata": {},
          "execution_count": 22
        }
      ],
      "source": [
        "train_SE_rfr = train_rfr.select(((train_rfr[target_choice] - train_rfr['prediction']) ** 2).alias('SE'))\n",
        "MSE_rfr = train_SE_rfr.agg({'SE': 'mean'}).first()\n",
        "MSE_rfr"
      ]
    },
    {
      "cell_type": "code",
      "execution_count": 23,
      "metadata": {
        "id": "aHY0b2a3_9XS",
        "colab": {
          "base_uri": "https://localhost:8080/"
        },
        "outputId": "e3ff144b-cb1e-4dba-bea2-4071b4e94ee1"
      },
      "outputs": [
        {
          "output_type": "execute_result",
          "data": {
            "text/plain": [
              "Row(avg(SE)=18880.411262491605)"
            ]
          },
          "metadata": {},
          "execution_count": 23
        }
      ],
      "source": [
        "# Evaluate performance on test set.\n",
        "test_rfr = rfr.transform(test_fe)\n",
        "test_SE_rfr = test_rfr.select(((test_rfr[target_choice] - test_rfr['prediction']) ** 2).alias('SE'))\n",
        "test_MSE_rfr = test_SE_rfr.agg({'SE': 'mean'}).first()\n",
        "test_MSE_rfr"
      ]
    },
    {
      "cell_type": "code",
      "execution_count": 23,
      "metadata": {
        "id": "smUuhDVkKNI1"
      },
      "outputs": [],
      "source": []
    }
  ],
  "metadata": {
    "colab": {
      "collapsed_sections": [
        "9yymT4zVRTTU",
        "exmbNRxRdy3S",
        "gzjuxRv2PK7k",
        "uSp0CZHvd4zG"
      ],
      "provenance": []
    },
    "kernelspec": {
      "display_name": "Python 3",
      "name": "python3"
    },
    "language_info": {
      "name": "python"
    }
  },
  "nbformat": 4,
  "nbformat_minor": 0
}